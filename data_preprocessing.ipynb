{
 "metadata": {
  "language_info": {
   "codemirror_mode": {
    "name": "ipython",
    "version": 3
   },
   "file_extension": ".py",
   "mimetype": "text/x-python",
   "name": "python",
   "nbconvert_exporter": "python",
   "pygments_lexer": "ipython3",
   "version": "3.8.3-final"
  },
  "orig_nbformat": 2,
  "kernelspec": {
   "name": "python3",
   "display_name": "Python 3.8.3 64-bit",
   "metadata": {
    "interpreter": {
     "hash": "082e9a3bcad0a290d0001e938aa60b99250c6c2ef33a923c00b70f9826caf4b7"
    }
   }
  }
 },
 "nbformat": 4,
 "nbformat_minor": 2,
 "cells": [
  {
   "cell_type": "code",
   "execution_count": 29,
   "metadata": {},
   "outputs": [],
   "source": [
    "import pandas as pd\n",
    "import numpy as np\n",
    "import matplotlib.pyplot as plt\n",
    "import seaborn as sns"
   ]
  },
  {
   "cell_type": "code",
   "execution_count": 56,
   "metadata": {},
   "outputs": [
    {
     "output_type": "execute_result",
     "data": {
      "text/plain": [
       "       Unnamed: 0                                           MeetTijd  \\\n",
       "0               0                                               ['']   \n",
       "1               1                                               ['']   \n",
       "2               2                                               ['']   \n",
       "3               3                                               ['']   \n",
       "4               4                                               ['']   \n",
       "...           ...                                                ...   \n",
       "45537       45537  ['19:14:19', '19:14:49', '19:15:19', '19:15:49...   \n",
       "45538       45538  ['15:17:54', '15:18:24', '15:18:54', '15:19:00...   \n",
       "45539       45539  ['17:39:54', '17:40:24', '17:40:54', '17:41:24...   \n",
       "45540       45540  ['19:24:26', '19:24:56', '19:25:25', '19:25:56...   \n",
       "45541       45541  ['0', '0', '0', '0', '0', '0', '0', '0', '0', ...   \n",
       "\n",
       "                                                 HR(bpm)  \\\n",
       "0                                                   ['']   \n",
       "1                                                   ['']   \n",
       "2                                                   ['']   \n",
       "3                                                   ['']   \n",
       "4                                                   ['']   \n",
       "...                                                  ...   \n",
       "45537  ['', '80', '81', '76', '83', '84', '79', '88',...   \n",
       "45538  ['67', '', '68', '68', '68', '68', '71', '67',...   \n",
       "45539  ['100', '103', '97', '101', '100', '106', '107...   \n",
       "45540  ['74', '75', '75', '74', '69', '73', '73', '72...   \n",
       "45541  ['', '', '', '', '', '', '', '', '', '', '', '...   \n",
       "\n",
       "                                                 SpO2(%)  \\\n",
       "0                                                   ['']   \n",
       "1                                                   ['']   \n",
       "2                                                   ['']   \n",
       "3                                                   ['']   \n",
       "4                                                   ['']   \n",
       "...                                                  ...   \n",
       "45537  ['100', '100', '100', '100', '100', '100', '10...   \n",
       "45538  ['97', '98', '98', '97', '95', '91', '98', '98...   \n",
       "45539  ['99', '99', '99', '99', '99', '99', '100', '9...   \n",
       "45540  ['98', '98', '96', '96', '97', '98', '98', '98...   \n",
       "45541  ['', '', '', '', '', '', '', '', '', '', '', '...   \n",
       "\n",
       "                                              NIBP(mmHg)  IcNaOk  \n",
       "0                                                   ['']     0.0  \n",
       "1                                                   ['']     0.0  \n",
       "2                                                   ['']     0.0  \n",
       "3                                                   ['']     0.0  \n",
       "4                                                   ['']     0.0  \n",
       "...                                                  ...     ...  \n",
       "45537  ['', '123', '', '', '', '', '', '', '', '', ''...     0.0  \n",
       "45538  ['', '', '', '', '115', '', '', '', '', '113',...     0.0  \n",
       "45539  ['', '', '', '', '', '', '', '', '', '', '', '...     0.0  \n",
       "45540  ['178', '', '', '', '', '', '', '185', '', '',...     1.0  \n",
       "45541  ['', '', '', '', '', '', '', '', '', '', '', '...     NaN  \n",
       "\n",
       "[45542 rows x 6 columns]"
      ],
      "text/html": "<div>\n<style scoped>\n    .dataframe tbody tr th:only-of-type {\n        vertical-align: middle;\n    }\n\n    .dataframe tbody tr th {\n        vertical-align: top;\n    }\n\n    .dataframe thead th {\n        text-align: right;\n    }\n</style>\n<table border=\"1\" class=\"dataframe\">\n  <thead>\n    <tr style=\"text-align: right;\">\n      <th></th>\n      <th>Unnamed: 0</th>\n      <th>MeetTijd</th>\n      <th>HR(bpm)</th>\n      <th>SpO2(%)</th>\n      <th>NIBP(mmHg)</th>\n      <th>IcNaOk</th>\n    </tr>\n  </thead>\n  <tbody>\n    <tr>\n      <th>0</th>\n      <td>0</td>\n      <td>['']</td>\n      <td>['']</td>\n      <td>['']</td>\n      <td>['']</td>\n      <td>0.0</td>\n    </tr>\n    <tr>\n      <th>1</th>\n      <td>1</td>\n      <td>['']</td>\n      <td>['']</td>\n      <td>['']</td>\n      <td>['']</td>\n      <td>0.0</td>\n    </tr>\n    <tr>\n      <th>2</th>\n      <td>2</td>\n      <td>['']</td>\n      <td>['']</td>\n      <td>['']</td>\n      <td>['']</td>\n      <td>0.0</td>\n    </tr>\n    <tr>\n      <th>3</th>\n      <td>3</td>\n      <td>['']</td>\n      <td>['']</td>\n      <td>['']</td>\n      <td>['']</td>\n      <td>0.0</td>\n    </tr>\n    <tr>\n      <th>4</th>\n      <td>4</td>\n      <td>['']</td>\n      <td>['']</td>\n      <td>['']</td>\n      <td>['']</td>\n      <td>0.0</td>\n    </tr>\n    <tr>\n      <th>...</th>\n      <td>...</td>\n      <td>...</td>\n      <td>...</td>\n      <td>...</td>\n      <td>...</td>\n      <td>...</td>\n    </tr>\n    <tr>\n      <th>45537</th>\n      <td>45537</td>\n      <td>['19:14:19', '19:14:49', '19:15:19', '19:15:49...</td>\n      <td>['', '80', '81', '76', '83', '84', '79', '88',...</td>\n      <td>['100', '100', '100', '100', '100', '100', '10...</td>\n      <td>['', '123', '', '', '', '', '', '', '', '', ''...</td>\n      <td>0.0</td>\n    </tr>\n    <tr>\n      <th>45538</th>\n      <td>45538</td>\n      <td>['15:17:54', '15:18:24', '15:18:54', '15:19:00...</td>\n      <td>['67', '', '68', '68', '68', '68', '71', '67',...</td>\n      <td>['97', '98', '98', '97', '95', '91', '98', '98...</td>\n      <td>['', '', '', '', '115', '', '', '', '', '113',...</td>\n      <td>0.0</td>\n    </tr>\n    <tr>\n      <th>45539</th>\n      <td>45539</td>\n      <td>['17:39:54', '17:40:24', '17:40:54', '17:41:24...</td>\n      <td>['100', '103', '97', '101', '100', '106', '107...</td>\n      <td>['99', '99', '99', '99', '99', '99', '100', '9...</td>\n      <td>['', '', '', '', '', '', '', '', '', '', '', '...</td>\n      <td>0.0</td>\n    </tr>\n    <tr>\n      <th>45540</th>\n      <td>45540</td>\n      <td>['19:24:26', '19:24:56', '19:25:25', '19:25:56...</td>\n      <td>['74', '75', '75', '74', '69', '73', '73', '72...</td>\n      <td>['98', '98', '96', '96', '97', '98', '98', '98...</td>\n      <td>['178', '', '', '', '', '', '', '185', '', '',...</td>\n      <td>1.0</td>\n    </tr>\n    <tr>\n      <th>45541</th>\n      <td>45541</td>\n      <td>['0', '0', '0', '0', '0', '0', '0', '0', '0', ...</td>\n      <td>['', '', '', '', '', '', '', '', '', '', '', '...</td>\n      <td>['', '', '', '', '', '', '', '', '', '', '', '...</td>\n      <td>['', '', '', '', '', '', '', '', '', '', '', '...</td>\n      <td>NaN</td>\n    </tr>\n  </tbody>\n</table>\n<p>45542 rows × 6 columns</p>\n</div>"
     },
     "metadata": {},
     "execution_count": 56
    }
   ],
   "source": [
    "data = pd.read_csv('pdmssetw.csv')\n",
    "data"
   ]
  },
  {
   "cell_type": "code",
   "execution_count": 31,
   "metadata": {},
   "outputs": [
    {
     "output_type": "execute_result",
     "data": {
      "text/plain": [
       "  MeetTijd HR(bpm) SpO2(%) NIBP(mmHg)  IcNaOk\n",
       "0     ['']    ['']    ['']       ['']     0.0\n",
       "1     ['']    ['']    ['']       ['']     0.0\n",
       "2     ['']    ['']    ['']       ['']     0.0\n",
       "3     ['']    ['']    ['']       ['']     0.0\n",
       "4     ['']    ['']    ['']       ['']     0.0"
      ],
      "text/html": "<div>\n<style scoped>\n    .dataframe tbody tr th:only-of-type {\n        vertical-align: middle;\n    }\n\n    .dataframe tbody tr th {\n        vertical-align: top;\n    }\n\n    .dataframe thead th {\n        text-align: right;\n    }\n</style>\n<table border=\"1\" class=\"dataframe\">\n  <thead>\n    <tr style=\"text-align: right;\">\n      <th></th>\n      <th>MeetTijd</th>\n      <th>HR(bpm)</th>\n      <th>SpO2(%)</th>\n      <th>NIBP(mmHg)</th>\n      <th>IcNaOk</th>\n    </tr>\n  </thead>\n  <tbody>\n    <tr>\n      <th>0</th>\n      <td>['']</td>\n      <td>['']</td>\n      <td>['']</td>\n      <td>['']</td>\n      <td>0.0</td>\n    </tr>\n    <tr>\n      <th>1</th>\n      <td>['']</td>\n      <td>['']</td>\n      <td>['']</td>\n      <td>['']</td>\n      <td>0.0</td>\n    </tr>\n    <tr>\n      <th>2</th>\n      <td>['']</td>\n      <td>['']</td>\n      <td>['']</td>\n      <td>['']</td>\n      <td>0.0</td>\n    </tr>\n    <tr>\n      <th>3</th>\n      <td>['']</td>\n      <td>['']</td>\n      <td>['']</td>\n      <td>['']</td>\n      <td>0.0</td>\n    </tr>\n    <tr>\n      <th>4</th>\n      <td>['']</td>\n      <td>['']</td>\n      <td>['']</td>\n      <td>['']</td>\n      <td>0.0</td>\n    </tr>\n  </tbody>\n</table>\n</div>"
     },
     "metadata": {},
     "execution_count": 31
    }
   ],
   "source": [
    "data = data.drop(columns=['Unnamed: 0'])\n",
    "data.head()"
   ]
  },
  {
   "cell_type": "code",
   "execution_count": 32,
   "metadata": {},
   "outputs": [
    {
     "output_type": "execute_result",
     "data": {
      "text/plain": [
       "3691.0"
      ]
     },
     "metadata": {},
     "execution_count": 32
    }
   ],
   "source": [
    "data['IcNaOk'].sum()"
   ]
  },
  {
   "cell_type": "code",
   "execution_count": 33,
   "metadata": {},
   "outputs": [],
   "source": [
    "import ast\n",
    "data.MeetTijd = data.MeetTijd.apply(ast.literal_eval)\n",
    "data['HR(bpm)'] = data['HR(bpm)'].apply(ast.literal_eval)"
   ]
  },
  {
   "cell_type": "code",
   "execution_count": 34,
   "metadata": {},
   "outputs": [
    {
     "output_type": "execute_result",
     "data": {
      "text/plain": [
       "  MeetTijd HR(bpm) SpO2(%) NIBP(mmHg)  IcNaOk\n",
       "0       []      []    ['']       ['']     0.0\n",
       "1       []      []    ['']       ['']     0.0\n",
       "2       []      []    ['']       ['']     0.0\n",
       "3       []      []    ['']       ['']     0.0\n",
       "4       []      []    ['']       ['']     0.0\n",
       "5       []      []    ['']       ['']     0.0\n",
       "6       []      []    ['']       ['']     0.0\n",
       "7       []      []    ['']       ['']     0.0\n",
       "8       []      []    ['']       ['']     0.0\n",
       "9       []      []    ['']       ['']     0.0"
      ],
      "text/html": "<div>\n<style scoped>\n    .dataframe tbody tr th:only-of-type {\n        vertical-align: middle;\n    }\n\n    .dataframe tbody tr th {\n        vertical-align: top;\n    }\n\n    .dataframe thead th {\n        text-align: right;\n    }\n</style>\n<table border=\"1\" class=\"dataframe\">\n  <thead>\n    <tr style=\"text-align: right;\">\n      <th></th>\n      <th>MeetTijd</th>\n      <th>HR(bpm)</th>\n      <th>SpO2(%)</th>\n      <th>NIBP(mmHg)</th>\n      <th>IcNaOk</th>\n    </tr>\n  </thead>\n  <tbody>\n    <tr>\n      <th>0</th>\n      <td>[]</td>\n      <td>[]</td>\n      <td>['']</td>\n      <td>['']</td>\n      <td>0.0</td>\n    </tr>\n    <tr>\n      <th>1</th>\n      <td>[]</td>\n      <td>[]</td>\n      <td>['']</td>\n      <td>['']</td>\n      <td>0.0</td>\n    </tr>\n    <tr>\n      <th>2</th>\n      <td>[]</td>\n      <td>[]</td>\n      <td>['']</td>\n      <td>['']</td>\n      <td>0.0</td>\n    </tr>\n    <tr>\n      <th>3</th>\n      <td>[]</td>\n      <td>[]</td>\n      <td>['']</td>\n      <td>['']</td>\n      <td>0.0</td>\n    </tr>\n    <tr>\n      <th>4</th>\n      <td>[]</td>\n      <td>[]</td>\n      <td>['']</td>\n      <td>['']</td>\n      <td>0.0</td>\n    </tr>\n    <tr>\n      <th>5</th>\n      <td>[]</td>\n      <td>[]</td>\n      <td>['']</td>\n      <td>['']</td>\n      <td>0.0</td>\n    </tr>\n    <tr>\n      <th>6</th>\n      <td>[]</td>\n      <td>[]</td>\n      <td>['']</td>\n      <td>['']</td>\n      <td>0.0</td>\n    </tr>\n    <tr>\n      <th>7</th>\n      <td>[]</td>\n      <td>[]</td>\n      <td>['']</td>\n      <td>['']</td>\n      <td>0.0</td>\n    </tr>\n    <tr>\n      <th>8</th>\n      <td>[]</td>\n      <td>[]</td>\n      <td>['']</td>\n      <td>['']</td>\n      <td>0.0</td>\n    </tr>\n    <tr>\n      <th>9</th>\n      <td>[]</td>\n      <td>[]</td>\n      <td>['']</td>\n      <td>['']</td>\n      <td>0.0</td>\n    </tr>\n  </tbody>\n</table>\n</div>"
     },
     "metadata": {},
     "execution_count": 34
    }
   ],
   "source": [
    "data.head(10)"
   ]
  },
  {
   "cell_type": "code",
   "execution_count": 35,
   "metadata": {},
   "outputs": [],
   "source": [
    "data['Length_MeetTijd'] = data['MeetTijd'].apply(lambda x: len(x))"
   ]
  },
  {
   "cell_type": "code",
   "execution_count": 36,
   "metadata": {},
   "outputs": [],
   "source": [
    "data = data[data['Length_MeetTijd'] > 3]\n",
    "data = data.dropna()"
   ]
  },
  {
   "cell_type": "code",
   "execution_count": 37,
   "metadata": {},
   "outputs": [],
   "source": [
    "data_backup = data"
   ]
  },
  {
   "cell_type": "code",
   "execution_count": 38,
   "metadata": {},
   "outputs": [],
   "source": [
    "data = data_backup"
   ]
  },
  {
   "cell_type": "code",
   "execution_count": 39,
   "metadata": {},
   "outputs": [],
   "source": [
    "data = data.reset_index(drop=True)"
   ]
  },
  {
   "cell_type": "code",
   "execution_count": 40,
   "metadata": {},
   "outputs": [
    {
     "output_type": "execute_result",
     "data": {
      "text/plain": [
       "                                                MeetTijd  \\\n",
       "0      [15:03:40, 15:04:40, 15:05:41, 15:06:41, 15:07...   \n",
       "1      [15:32:32, 15:33:32, 15:34:33, 15:35:33, 15:36...   \n",
       "2      [08:45:22, 08:46:23, 08:47:23, 08:48:24, 08:49...   \n",
       "3      [08:40:08, 08:41:08, 08:42:09, 08:43:09, 08:44...   \n",
       "4      [09:09:53, 09:10:53, 09:11:54, 09:12:54, 09:13...   \n",
       "...                                                  ...   \n",
       "12732  [15:19:57, 15:20:27, 15:20:57, 15:21:27, 15:21...   \n",
       "12733  [19:14:19, 19:14:49, 19:15:19, 19:15:49, 19:16...   \n",
       "12734  [15:17:54, 15:18:24, 15:18:54, 15:19:00, 15:20...   \n",
       "12735  [17:39:54, 17:40:24, 17:40:54, 17:41:24, 17:41...   \n",
       "12736  [19:24:26, 19:24:56, 19:25:25, 19:25:56, 19:26...   \n",
       "\n",
       "                                                 HR(bpm)  \\\n",
       "0      [, , , , , , , , , , , , , , , , 78, 81, 78, 8...   \n",
       "1      [51, 49, 57, 49, 55, 50, 56, 49, 50, 49, 54, 4...   \n",
       "2      [79, 75, 71, 88, 88, 84, 66, 66, 76, 78, 79, 8...   \n",
       "3      [102, 99, 99, 101, 96, 101, 99, 79, 75, 80, 76...   \n",
       "4      [56, 57, 56, 58, 58, 57, 57, 63, 59, 55, 59, 5...   \n",
       "...                                                  ...   \n",
       "12732  [, 69, 66, 66, 67, 66, 68, 68, 67, 66, 69, 72,...   \n",
       "12733  [, 80, 81, 76, 83, 84, 79, 88, 82, 81, 80, 79,...   \n",
       "12734  [67, , 68, 68, 68, 68, 71, 67, 67, 66, 66, 66,...   \n",
       "12735  [100, 103, 97, 101, 100, 106, 107, 106, 107, 1...   \n",
       "12736  [74, 75, 75, 74, 69, 73, 73, 72, 73, 79, 75, 7...   \n",
       "\n",
       "                                                 SpO2(%)  \\\n",
       "0      ['', '', '', '', '', '', '', '', '', '', '', '...   \n",
       "1      ['92', '92', '87.5', '93', '93', '93', '92', '...   \n",
       "2      ['98', '98', '98', '', '', '96', '98', '98', '...   \n",
       "3      ['93', '95.58', '96.16', '96.08', '97.83', '96...   \n",
       "4      ['97', '97', '98', '97', '98', '98', '97.5', '...   \n",
       "...                                                  ...   \n",
       "12732  ['100', '100', '100', '100', '100', '98', '99'...   \n",
       "12733  ['100', '100', '100', '100', '100', '100', '10...   \n",
       "12734  ['97', '98', '98', '97', '95', '91', '98', '98...   \n",
       "12735  ['99', '99', '99', '99', '99', '99', '100', '9...   \n",
       "12736  ['98', '98', '96', '96', '97', '98', '98', '98...   \n",
       "\n",
       "                                              NIBP(mmHg)  IcNaOk  \\\n",
       "0      ['143', '143', '143', '143', '143', '143', '14...     0.0   \n",
       "1      ['118', '118', '118', '120', '120', '120', '12...     0.0   \n",
       "2      ['129', '129', '129', '129', '', '', '', '145'...     0.0   \n",
       "3      ['150', '158', '2', '151', '2', '2', '152', '1...     0.0   \n",
       "4      ['136', '131', '131', '131', '131', '131', '14...     0.0   \n",
       "...                                                  ...     ...   \n",
       "12732  ['', '', '203', '', '', '', '', '', '', '', ''...     0.0   \n",
       "12733  ['', '123', '', '', '', '', '', '', '', '', ''...     0.0   \n",
       "12734  ['', '', '', '', '115', '', '', '', '', '113',...     0.0   \n",
       "12735  ['', '', '', '', '', '', '', '', '', '', '', '...     0.0   \n",
       "12736  ['178', '', '', '', '', '', '', '185', '', '',...     1.0   \n",
       "\n",
       "       Length_MeetTijd  \n",
       "0                   89  \n",
       "1                  146  \n",
       "2                  200  \n",
       "3                  178  \n",
       "4                   75  \n",
       "...                ...  \n",
       "12732              158  \n",
       "12733              357  \n",
       "12734              427  \n",
       "12735              243  \n",
       "12736              134  \n",
       "\n",
       "[12737 rows x 6 columns]"
      ],
      "text/html": "<div>\n<style scoped>\n    .dataframe tbody tr th:only-of-type {\n        vertical-align: middle;\n    }\n\n    .dataframe tbody tr th {\n        vertical-align: top;\n    }\n\n    .dataframe thead th {\n        text-align: right;\n    }\n</style>\n<table border=\"1\" class=\"dataframe\">\n  <thead>\n    <tr style=\"text-align: right;\">\n      <th></th>\n      <th>MeetTijd</th>\n      <th>HR(bpm)</th>\n      <th>SpO2(%)</th>\n      <th>NIBP(mmHg)</th>\n      <th>IcNaOk</th>\n      <th>Length_MeetTijd</th>\n    </tr>\n  </thead>\n  <tbody>\n    <tr>\n      <th>0</th>\n      <td>[15:03:40, 15:04:40, 15:05:41, 15:06:41, 15:07...</td>\n      <td>[, , , , , , , , , , , , , , , , 78, 81, 78, 8...</td>\n      <td>['', '', '', '', '', '', '', '', '', '', '', '...</td>\n      <td>['143', '143', '143', '143', '143', '143', '14...</td>\n      <td>0.0</td>\n      <td>89</td>\n    </tr>\n    <tr>\n      <th>1</th>\n      <td>[15:32:32, 15:33:32, 15:34:33, 15:35:33, 15:36...</td>\n      <td>[51, 49, 57, 49, 55, 50, 56, 49, 50, 49, 54, 4...</td>\n      <td>['92', '92', '87.5', '93', '93', '93', '92', '...</td>\n      <td>['118', '118', '118', '120', '120', '120', '12...</td>\n      <td>0.0</td>\n      <td>146</td>\n    </tr>\n    <tr>\n      <th>2</th>\n      <td>[08:45:22, 08:46:23, 08:47:23, 08:48:24, 08:49...</td>\n      <td>[79, 75, 71, 88, 88, 84, 66, 66, 76, 78, 79, 8...</td>\n      <td>['98', '98', '98', '', '', '96', '98', '98', '...</td>\n      <td>['129', '129', '129', '129', '', '', '', '145'...</td>\n      <td>0.0</td>\n      <td>200</td>\n    </tr>\n    <tr>\n      <th>3</th>\n      <td>[08:40:08, 08:41:08, 08:42:09, 08:43:09, 08:44...</td>\n      <td>[102, 99, 99, 101, 96, 101, 99, 79, 75, 80, 76...</td>\n      <td>['93', '95.58', '96.16', '96.08', '97.83', '96...</td>\n      <td>['150', '158', '2', '151', '2', '2', '152', '1...</td>\n      <td>0.0</td>\n      <td>178</td>\n    </tr>\n    <tr>\n      <th>4</th>\n      <td>[09:09:53, 09:10:53, 09:11:54, 09:12:54, 09:13...</td>\n      <td>[56, 57, 56, 58, 58, 57, 57, 63, 59, 55, 59, 5...</td>\n      <td>['97', '97', '98', '97', '98', '98', '97.5', '...</td>\n      <td>['136', '131', '131', '131', '131', '131', '14...</td>\n      <td>0.0</td>\n      <td>75</td>\n    </tr>\n    <tr>\n      <th>...</th>\n      <td>...</td>\n      <td>...</td>\n      <td>...</td>\n      <td>...</td>\n      <td>...</td>\n      <td>...</td>\n    </tr>\n    <tr>\n      <th>12732</th>\n      <td>[15:19:57, 15:20:27, 15:20:57, 15:21:27, 15:21...</td>\n      <td>[, 69, 66, 66, 67, 66, 68, 68, 67, 66, 69, 72,...</td>\n      <td>['100', '100', '100', '100', '100', '98', '99'...</td>\n      <td>['', '', '203', '', '', '', '', '', '', '', ''...</td>\n      <td>0.0</td>\n      <td>158</td>\n    </tr>\n    <tr>\n      <th>12733</th>\n      <td>[19:14:19, 19:14:49, 19:15:19, 19:15:49, 19:16...</td>\n      <td>[, 80, 81, 76, 83, 84, 79, 88, 82, 81, 80, 79,...</td>\n      <td>['100', '100', '100', '100', '100', '100', '10...</td>\n      <td>['', '123', '', '', '', '', '', '', '', '', ''...</td>\n      <td>0.0</td>\n      <td>357</td>\n    </tr>\n    <tr>\n      <th>12734</th>\n      <td>[15:17:54, 15:18:24, 15:18:54, 15:19:00, 15:20...</td>\n      <td>[67, , 68, 68, 68, 68, 71, 67, 67, 66, 66, 66,...</td>\n      <td>['97', '98', '98', '97', '95', '91', '98', '98...</td>\n      <td>['', '', '', '', '115', '', '', '', '', '113',...</td>\n      <td>0.0</td>\n      <td>427</td>\n    </tr>\n    <tr>\n      <th>12735</th>\n      <td>[17:39:54, 17:40:24, 17:40:54, 17:41:24, 17:41...</td>\n      <td>[100, 103, 97, 101, 100, 106, 107, 106, 107, 1...</td>\n      <td>['99', '99', '99', '99', '99', '99', '100', '9...</td>\n      <td>['', '', '', '', '', '', '', '', '', '', '', '...</td>\n      <td>0.0</td>\n      <td>243</td>\n    </tr>\n    <tr>\n      <th>12736</th>\n      <td>[19:24:26, 19:24:56, 19:25:25, 19:25:56, 19:26...</td>\n      <td>[74, 75, 75, 74, 69, 73, 73, 72, 73, 79, 75, 7...</td>\n      <td>['98', '98', '96', '96', '97', '98', '98', '98...</td>\n      <td>['178', '', '', '', '', '', '', '185', '', '',...</td>\n      <td>1.0</td>\n      <td>134</td>\n    </tr>\n  </tbody>\n</table>\n<p>12737 rows × 6 columns</p>\n</div>"
     },
     "metadata": {},
     "execution_count": 40
    }
   ],
   "source": [
    "data"
   ]
  },
  {
   "cell_type": "code",
   "execution_count": 41,
   "metadata": {},
   "outputs": [],
   "source": [
    "\n",
    "ic = data['IcNaOk']\n",
    "mt =data['Length_MeetTijd']"
   ]
  },
  {
   "cell_type": "code",
   "execution_count": 55,
   "metadata": {},
   "outputs": [
    {
     "output_type": "execute_result",
     "data": {
      "text/plain": [
       "9170"
      ]
     },
     "metadata": {},
     "execution_count": 55
    }
   ],
   "source": [
    "mt.idxmax()\n",
    "mt.head()"
   ]
  },
  {
   "cell_type": "code",
   "execution_count": 25,
   "metadata": {},
   "outputs": [
    {
     "output_type": "execute_result",
     "data": {
      "text/plain": [
       "(array([11221.,     0.,     0.,     0.,     0.,     0.,     0.,     0.,\n",
       "            0.,  1516.]),\n",
       " array([0. , 0.1, 0.2, 0.3, 0.4, 0.5, 0.6, 0.7, 0.8, 0.9, 1. ]),\n",
       " <a list of 10 Patch objects>)"
      ]
     },
     "metadata": {},
     "execution_count": 25
    },
    {
     "output_type": "display_data",
     "data": {
      "text/plain": "<Figure size 432x288 with 1 Axes>",
      "image/svg+xml": "<?xml version=\"1.0\" encoding=\"utf-8\" standalone=\"no\"?>\n<!DOCTYPE svg PUBLIC \"-//W3C//DTD SVG 1.1//EN\"\n  \"http://www.w3.org/Graphics/SVG/1.1/DTD/svg11.dtd\">\n<!-- Created with matplotlib (https://matplotlib.org/) -->\n<svg height=\"248.518125pt\" version=\"1.1\" viewBox=\"0 0 388.0125 248.518125\" width=\"388.0125pt\" xmlns=\"http://www.w3.org/2000/svg\" xmlns:xlink=\"http://www.w3.org/1999/xlink\">\n <defs>\n  <style type=\"text/css\">\n*{stroke-linecap:butt;stroke-linejoin:round;}\n  </style>\n </defs>\n <g id=\"figure_1\">\n  <g id=\"patch_1\">\n   <path d=\"M 0 248.518125 \nL 388.0125 248.518125 \nL 388.0125 0 \nL 0 0 \nz\n\" style=\"fill:none;\"/>\n  </g>\n  <g id=\"axes_1\">\n   <g id=\"patch_2\">\n    <path d=\"M 46.0125 224.64 \nL 380.8125 224.64 \nL 380.8125 7.2 \nL 46.0125 7.2 \nz\n\" style=\"fill:#ffffff;\"/>\n   </g>\n   <g id=\"patch_3\">\n    <path clip-path=\"url(#pdfa82d6b0d)\" d=\"M 61.230682 224.64 \nL 91.667045 224.64 \nL 91.667045 17.554286 \nL 61.230682 17.554286 \nz\n\" style=\"fill:#1f77b4;\"/>\n   </g>\n   <g id=\"patch_4\">\n    <path clip-path=\"url(#pdfa82d6b0d)\" d=\"M 91.667045 224.64 \nL 122.103409 224.64 \nL 122.103409 224.64 \nL 91.667045 224.64 \nz\n\" style=\"fill:#1f77b4;\"/>\n   </g>\n   <g id=\"patch_5\">\n    <path clip-path=\"url(#pdfa82d6b0d)\" d=\"M 122.103409 224.64 \nL 152.539773 224.64 \nL 152.539773 224.64 \nL 122.103409 224.64 \nz\n\" style=\"fill:#1f77b4;\"/>\n   </g>\n   <g id=\"patch_6\">\n    <path clip-path=\"url(#pdfa82d6b0d)\" d=\"M 152.539773 224.64 \nL 182.976136 224.64 \nL 182.976136 224.64 \nL 152.539773 224.64 \nz\n\" style=\"fill:#1f77b4;\"/>\n   </g>\n   <g id=\"patch_7\">\n    <path clip-path=\"url(#pdfa82d6b0d)\" d=\"M 182.976136 224.64 \nL 213.4125 224.64 \nL 213.4125 224.64 \nL 182.976136 224.64 \nz\n\" style=\"fill:#1f77b4;\"/>\n   </g>\n   <g id=\"patch_8\">\n    <path clip-path=\"url(#pdfa82d6b0d)\" d=\"M 213.4125 224.64 \nL 243.848864 224.64 \nL 243.848864 224.64 \nL 213.4125 224.64 \nz\n\" style=\"fill:#1f77b4;\"/>\n   </g>\n   <g id=\"patch_9\">\n    <path clip-path=\"url(#pdfa82d6b0d)\" d=\"M 243.848864 224.64 \nL 274.285227 224.64 \nL 274.285227 224.64 \nL 243.848864 224.64 \nz\n\" style=\"fill:#1f77b4;\"/>\n   </g>\n   <g id=\"patch_10\">\n    <path clip-path=\"url(#pdfa82d6b0d)\" d=\"M 274.285227 224.64 \nL 304.721591 224.64 \nL 304.721591 224.64 \nL 274.285227 224.64 \nz\n\" style=\"fill:#1f77b4;\"/>\n   </g>\n   <g id=\"patch_11\">\n    <path clip-path=\"url(#pdfa82d6b0d)\" d=\"M 304.721591 224.64 \nL 335.157955 224.64 \nL 335.157955 224.64 \nL 304.721591 224.64 \nz\n\" style=\"fill:#1f77b4;\"/>\n   </g>\n   <g id=\"patch_12\">\n    <path clip-path=\"url(#pdfa82d6b0d)\" d=\"M 335.157955 224.64 \nL 365.594318 224.64 \nL 365.594318 196.661928 \nL 335.157955 196.661928 \nz\n\" style=\"fill:#1f77b4;\"/>\n   </g>\n   <g id=\"matplotlib.axis_1\">\n    <g id=\"xtick_1\">\n     <g id=\"line2d_1\">\n      <defs>\n       <path d=\"M 0 0 \nL 0 3.5 \n\" id=\"m715baf9338\" style=\"stroke:#000000;stroke-width:0.8;\"/>\n      </defs>\n      <g>\n       <use style=\"stroke:#000000;stroke-width:0.8;\" x=\"61.230682\" xlink:href=\"#m715baf9338\" y=\"224.64\"/>\n      </g>\n     </g>\n     <g id=\"text_1\">\n      <!-- 0.0 -->\n      <defs>\n       <path d=\"M 31.78125 66.40625 \nQ 24.171875 66.40625 20.328125 58.90625 \nQ 16.5 51.421875 16.5 36.375 \nQ 16.5 21.390625 20.328125 13.890625 \nQ 24.171875 6.390625 31.78125 6.390625 \nQ 39.453125 6.390625 43.28125 13.890625 \nQ 47.125 21.390625 47.125 36.375 \nQ 47.125 51.421875 43.28125 58.90625 \nQ 39.453125 66.40625 31.78125 66.40625 \nz\nM 31.78125 74.21875 \nQ 44.046875 74.21875 50.515625 64.515625 \nQ 56.984375 54.828125 56.984375 36.375 \nQ 56.984375 17.96875 50.515625 8.265625 \nQ 44.046875 -1.421875 31.78125 -1.421875 \nQ 19.53125 -1.421875 13.0625 8.265625 \nQ 6.59375 17.96875 6.59375 36.375 \nQ 6.59375 54.828125 13.0625 64.515625 \nQ 19.53125 74.21875 31.78125 74.21875 \nz\n\" id=\"DejaVuSans-48\"/>\n       <path d=\"M 10.6875 12.40625 \nL 21 12.40625 \nL 21 0 \nL 10.6875 0 \nz\n\" id=\"DejaVuSans-46\"/>\n      </defs>\n      <g transform=\"translate(53.279119 239.238437)scale(0.1 -0.1)\">\n       <use xlink:href=\"#DejaVuSans-48\"/>\n       <use x=\"63.623047\" xlink:href=\"#DejaVuSans-46\"/>\n       <use x=\"95.410156\" xlink:href=\"#DejaVuSans-48\"/>\n      </g>\n     </g>\n    </g>\n    <g id=\"xtick_2\">\n     <g id=\"line2d_2\">\n      <g>\n       <use style=\"stroke:#000000;stroke-width:0.8;\" x=\"122.103409\" xlink:href=\"#m715baf9338\" y=\"224.64\"/>\n      </g>\n     </g>\n     <g id=\"text_2\">\n      <!-- 0.2 -->\n      <defs>\n       <path d=\"M 19.1875 8.296875 \nL 53.609375 8.296875 \nL 53.609375 0 \nL 7.328125 0 \nL 7.328125 8.296875 \nQ 12.9375 14.109375 22.625 23.890625 \nQ 32.328125 33.6875 34.8125 36.53125 \nQ 39.546875 41.84375 41.421875 45.53125 \nQ 43.3125 49.21875 43.3125 52.78125 \nQ 43.3125 58.59375 39.234375 62.25 \nQ 35.15625 65.921875 28.609375 65.921875 \nQ 23.96875 65.921875 18.8125 64.3125 \nQ 13.671875 62.703125 7.8125 59.421875 \nL 7.8125 69.390625 \nQ 13.765625 71.78125 18.9375 73 \nQ 24.125 74.21875 28.421875 74.21875 \nQ 39.75 74.21875 46.484375 68.546875 \nQ 53.21875 62.890625 53.21875 53.421875 \nQ 53.21875 48.921875 51.53125 44.890625 \nQ 49.859375 40.875 45.40625 35.40625 \nQ 44.1875 33.984375 37.640625 27.21875 \nQ 31.109375 20.453125 19.1875 8.296875 \nz\n\" id=\"DejaVuSans-50\"/>\n      </defs>\n      <g transform=\"translate(114.151847 239.238437)scale(0.1 -0.1)\">\n       <use xlink:href=\"#DejaVuSans-48\"/>\n       <use x=\"63.623047\" xlink:href=\"#DejaVuSans-46\"/>\n       <use x=\"95.410156\" xlink:href=\"#DejaVuSans-50\"/>\n      </g>\n     </g>\n    </g>\n    <g id=\"xtick_3\">\n     <g id=\"line2d_3\">\n      <g>\n       <use style=\"stroke:#000000;stroke-width:0.8;\" x=\"182.976136\" xlink:href=\"#m715baf9338\" y=\"224.64\"/>\n      </g>\n     </g>\n     <g id=\"text_3\">\n      <!-- 0.4 -->\n      <defs>\n       <path d=\"M 37.796875 64.3125 \nL 12.890625 25.390625 \nL 37.796875 25.390625 \nz\nM 35.203125 72.90625 \nL 47.609375 72.90625 \nL 47.609375 25.390625 \nL 58.015625 25.390625 \nL 58.015625 17.1875 \nL 47.609375 17.1875 \nL 47.609375 0 \nL 37.796875 0 \nL 37.796875 17.1875 \nL 4.890625 17.1875 \nL 4.890625 26.703125 \nz\n\" id=\"DejaVuSans-52\"/>\n      </defs>\n      <g transform=\"translate(175.024574 239.238437)scale(0.1 -0.1)\">\n       <use xlink:href=\"#DejaVuSans-48\"/>\n       <use x=\"63.623047\" xlink:href=\"#DejaVuSans-46\"/>\n       <use x=\"95.410156\" xlink:href=\"#DejaVuSans-52\"/>\n      </g>\n     </g>\n    </g>\n    <g id=\"xtick_4\">\n     <g id=\"line2d_4\">\n      <g>\n       <use style=\"stroke:#000000;stroke-width:0.8;\" x=\"243.848864\" xlink:href=\"#m715baf9338\" y=\"224.64\"/>\n      </g>\n     </g>\n     <g id=\"text_4\">\n      <!-- 0.6 -->\n      <defs>\n       <path d=\"M 33.015625 40.375 \nQ 26.375 40.375 22.484375 35.828125 \nQ 18.609375 31.296875 18.609375 23.390625 \nQ 18.609375 15.53125 22.484375 10.953125 \nQ 26.375 6.390625 33.015625 6.390625 \nQ 39.65625 6.390625 43.53125 10.953125 \nQ 47.40625 15.53125 47.40625 23.390625 \nQ 47.40625 31.296875 43.53125 35.828125 \nQ 39.65625 40.375 33.015625 40.375 \nz\nM 52.59375 71.296875 \nL 52.59375 62.3125 \nQ 48.875 64.0625 45.09375 64.984375 \nQ 41.3125 65.921875 37.59375 65.921875 \nQ 27.828125 65.921875 22.671875 59.328125 \nQ 17.53125 52.734375 16.796875 39.40625 \nQ 19.671875 43.65625 24.015625 45.921875 \nQ 28.375 48.1875 33.59375 48.1875 \nQ 44.578125 48.1875 50.953125 41.515625 \nQ 57.328125 34.859375 57.328125 23.390625 \nQ 57.328125 12.15625 50.6875 5.359375 \nQ 44.046875 -1.421875 33.015625 -1.421875 \nQ 20.359375 -1.421875 13.671875 8.265625 \nQ 6.984375 17.96875 6.984375 36.375 \nQ 6.984375 53.65625 15.1875 63.9375 \nQ 23.390625 74.21875 37.203125 74.21875 \nQ 40.921875 74.21875 44.703125 73.484375 \nQ 48.484375 72.75 52.59375 71.296875 \nz\n\" id=\"DejaVuSans-54\"/>\n      </defs>\n      <g transform=\"translate(235.897301 239.238437)scale(0.1 -0.1)\">\n       <use xlink:href=\"#DejaVuSans-48\"/>\n       <use x=\"63.623047\" xlink:href=\"#DejaVuSans-46\"/>\n       <use x=\"95.410156\" xlink:href=\"#DejaVuSans-54\"/>\n      </g>\n     </g>\n    </g>\n    <g id=\"xtick_5\">\n     <g id=\"line2d_5\">\n      <g>\n       <use style=\"stroke:#000000;stroke-width:0.8;\" x=\"304.721591\" xlink:href=\"#m715baf9338\" y=\"224.64\"/>\n      </g>\n     </g>\n     <g id=\"text_5\">\n      <!-- 0.8 -->\n      <defs>\n       <path d=\"M 31.78125 34.625 \nQ 24.75 34.625 20.71875 30.859375 \nQ 16.703125 27.09375 16.703125 20.515625 \nQ 16.703125 13.921875 20.71875 10.15625 \nQ 24.75 6.390625 31.78125 6.390625 \nQ 38.8125 6.390625 42.859375 10.171875 \nQ 46.921875 13.96875 46.921875 20.515625 \nQ 46.921875 27.09375 42.890625 30.859375 \nQ 38.875 34.625 31.78125 34.625 \nz\nM 21.921875 38.8125 \nQ 15.578125 40.375 12.03125 44.71875 \nQ 8.5 49.078125 8.5 55.328125 \nQ 8.5 64.0625 14.71875 69.140625 \nQ 20.953125 74.21875 31.78125 74.21875 \nQ 42.671875 74.21875 48.875 69.140625 \nQ 55.078125 64.0625 55.078125 55.328125 \nQ 55.078125 49.078125 51.53125 44.71875 \nQ 48 40.375 41.703125 38.8125 \nQ 48.828125 37.15625 52.796875 32.3125 \nQ 56.78125 27.484375 56.78125 20.515625 \nQ 56.78125 9.90625 50.3125 4.234375 \nQ 43.84375 -1.421875 31.78125 -1.421875 \nQ 19.734375 -1.421875 13.25 4.234375 \nQ 6.78125 9.90625 6.78125 20.515625 \nQ 6.78125 27.484375 10.78125 32.3125 \nQ 14.796875 37.15625 21.921875 38.8125 \nz\nM 18.3125 54.390625 \nQ 18.3125 48.734375 21.84375 45.5625 \nQ 25.390625 42.390625 31.78125 42.390625 \nQ 38.140625 42.390625 41.71875 45.5625 \nQ 45.3125 48.734375 45.3125 54.390625 \nQ 45.3125 60.0625 41.71875 63.234375 \nQ 38.140625 66.40625 31.78125 66.40625 \nQ 25.390625 66.40625 21.84375 63.234375 \nQ 18.3125 60.0625 18.3125 54.390625 \nz\n\" id=\"DejaVuSans-56\"/>\n      </defs>\n      <g transform=\"translate(296.770028 239.238437)scale(0.1 -0.1)\">\n       <use xlink:href=\"#DejaVuSans-48\"/>\n       <use x=\"63.623047\" xlink:href=\"#DejaVuSans-46\"/>\n       <use x=\"95.410156\" xlink:href=\"#DejaVuSans-56\"/>\n      </g>\n     </g>\n    </g>\n    <g id=\"xtick_6\">\n     <g id=\"line2d_6\">\n      <g>\n       <use style=\"stroke:#000000;stroke-width:0.8;\" x=\"365.594318\" xlink:href=\"#m715baf9338\" y=\"224.64\"/>\n      </g>\n     </g>\n     <g id=\"text_6\">\n      <!-- 1.0 -->\n      <defs>\n       <path d=\"M 12.40625 8.296875 \nL 28.515625 8.296875 \nL 28.515625 63.921875 \nL 10.984375 60.40625 \nL 10.984375 69.390625 \nL 28.421875 72.90625 \nL 38.28125 72.90625 \nL 38.28125 8.296875 \nL 54.390625 8.296875 \nL 54.390625 0 \nL 12.40625 0 \nz\n\" id=\"DejaVuSans-49\"/>\n      </defs>\n      <g transform=\"translate(357.642756 239.238437)scale(0.1 -0.1)\">\n       <use xlink:href=\"#DejaVuSans-49\"/>\n       <use x=\"63.623047\" xlink:href=\"#DejaVuSans-46\"/>\n       <use x=\"95.410156\" xlink:href=\"#DejaVuSans-48\"/>\n      </g>\n     </g>\n    </g>\n   </g>\n   <g id=\"matplotlib.axis_2\">\n    <g id=\"ytick_1\">\n     <g id=\"line2d_7\">\n      <defs>\n       <path d=\"M 0 0 \nL -3.5 0 \n\" id=\"m8d5dde069b\" style=\"stroke:#000000;stroke-width:0.8;\"/>\n      </defs>\n      <g>\n       <use style=\"stroke:#000000;stroke-width:0.8;\" x=\"46.0125\" xlink:href=\"#m8d5dde069b\" y=\"224.64\"/>\n      </g>\n     </g>\n     <g id=\"text_7\">\n      <!-- 0 -->\n      <g transform=\"translate(32.65 228.439219)scale(0.1 -0.1)\">\n       <use xlink:href=\"#DejaVuSans-48\"/>\n      </g>\n     </g>\n    </g>\n    <g id=\"ytick_2\">\n     <g id=\"line2d_8\">\n      <g>\n       <use style=\"stroke:#000000;stroke-width:0.8;\" x=\"46.0125\" xlink:href=\"#m8d5dde069b\" y=\"187.729615\"/>\n      </g>\n     </g>\n     <g id=\"text_8\">\n      <!-- 2000 -->\n      <g transform=\"translate(13.5625 191.528834)scale(0.1 -0.1)\">\n       <use xlink:href=\"#DejaVuSans-50\"/>\n       <use x=\"63.623047\" xlink:href=\"#DejaVuSans-48\"/>\n       <use x=\"127.246094\" xlink:href=\"#DejaVuSans-48\"/>\n       <use x=\"190.869141\" xlink:href=\"#DejaVuSans-48\"/>\n      </g>\n     </g>\n    </g>\n    <g id=\"ytick_3\">\n     <g id=\"line2d_9\">\n      <g>\n       <use style=\"stroke:#000000;stroke-width:0.8;\" x=\"46.0125\" xlink:href=\"#m8d5dde069b\" y=\"150.81923\"/>\n      </g>\n     </g>\n     <g id=\"text_9\">\n      <!-- 4000 -->\n      <g transform=\"translate(13.5625 154.618449)scale(0.1 -0.1)\">\n       <use xlink:href=\"#DejaVuSans-52\"/>\n       <use x=\"63.623047\" xlink:href=\"#DejaVuSans-48\"/>\n       <use x=\"127.246094\" xlink:href=\"#DejaVuSans-48\"/>\n       <use x=\"190.869141\" xlink:href=\"#DejaVuSans-48\"/>\n      </g>\n     </g>\n    </g>\n    <g id=\"ytick_4\">\n     <g id=\"line2d_10\">\n      <g>\n       <use style=\"stroke:#000000;stroke-width:0.8;\" x=\"46.0125\" xlink:href=\"#m8d5dde069b\" y=\"113.908845\"/>\n      </g>\n     </g>\n     <g id=\"text_10\">\n      <!-- 6000 -->\n      <g transform=\"translate(13.5625 117.708064)scale(0.1 -0.1)\">\n       <use xlink:href=\"#DejaVuSans-54\"/>\n       <use x=\"63.623047\" xlink:href=\"#DejaVuSans-48\"/>\n       <use x=\"127.246094\" xlink:href=\"#DejaVuSans-48\"/>\n       <use x=\"190.869141\" xlink:href=\"#DejaVuSans-48\"/>\n      </g>\n     </g>\n    </g>\n    <g id=\"ytick_5\">\n     <g id=\"line2d_11\">\n      <g>\n       <use style=\"stroke:#000000;stroke-width:0.8;\" x=\"46.0125\" xlink:href=\"#m8d5dde069b\" y=\"76.998461\"/>\n      </g>\n     </g>\n     <g id=\"text_11\">\n      <!-- 8000 -->\n      <g transform=\"translate(13.5625 80.797679)scale(0.1 -0.1)\">\n       <use xlink:href=\"#DejaVuSans-56\"/>\n       <use x=\"63.623047\" xlink:href=\"#DejaVuSans-48\"/>\n       <use x=\"127.246094\" xlink:href=\"#DejaVuSans-48\"/>\n       <use x=\"190.869141\" xlink:href=\"#DejaVuSans-48\"/>\n      </g>\n     </g>\n    </g>\n    <g id=\"ytick_6\">\n     <g id=\"line2d_12\">\n      <g>\n       <use style=\"stroke:#000000;stroke-width:0.8;\" x=\"46.0125\" xlink:href=\"#m8d5dde069b\" y=\"40.088076\"/>\n      </g>\n     </g>\n     <g id=\"text_12\">\n      <!-- 10000 -->\n      <g transform=\"translate(7.2 43.887294)scale(0.1 -0.1)\">\n       <use xlink:href=\"#DejaVuSans-49\"/>\n       <use x=\"63.623047\" xlink:href=\"#DejaVuSans-48\"/>\n       <use x=\"127.246094\" xlink:href=\"#DejaVuSans-48\"/>\n       <use x=\"190.869141\" xlink:href=\"#DejaVuSans-48\"/>\n       <use x=\"254.492188\" xlink:href=\"#DejaVuSans-48\"/>\n      </g>\n     </g>\n    </g>\n   </g>\n   <g id=\"patch_13\">\n    <path d=\"M 46.0125 224.64 \nL 46.0125 7.2 \n\" style=\"fill:none;stroke:#000000;stroke-linecap:square;stroke-linejoin:miter;stroke-width:0.8;\"/>\n   </g>\n   <g id=\"patch_14\">\n    <path d=\"M 380.8125 224.64 \nL 380.8125 7.2 \n\" style=\"fill:none;stroke:#000000;stroke-linecap:square;stroke-linejoin:miter;stroke-width:0.8;\"/>\n   </g>\n   <g id=\"patch_15\">\n    <path d=\"M 46.0125 224.64 \nL 380.8125 224.64 \n\" style=\"fill:none;stroke:#000000;stroke-linecap:square;stroke-linejoin:miter;stroke-width:0.8;\"/>\n   </g>\n   <g id=\"patch_16\">\n    <path d=\"M 46.0125 7.2 \nL 380.8125 7.2 \n\" style=\"fill:none;stroke:#000000;stroke-linecap:square;stroke-linejoin:miter;stroke-width:0.8;\"/>\n   </g>\n  </g>\n </g>\n <defs>\n  <clipPath id=\"pdfa82d6b0d\">\n   <rect height=\"217.44\" width=\"334.8\" x=\"46.0125\" y=\"7.2\"/>\n  </clipPath>\n </defs>\n</svg>\n",
      "image/png": "[encoded data removed]"
     },
     "metadata": {
      "needs_background": "light"
     }
    }
   ],
   "source": [
    "plt.hist(ic)"
   ]
  },
  {
   "cell_type": "code",
   "execution_count": null,
   "metadata": {},
   "outputs": [],
   "source": []
  }
 ]
}