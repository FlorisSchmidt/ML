{
 "cells": [
  {
   "cell_type": "markdown",
   "metadata": {},
   "source": [
    "# Deep Learning Algorithm \n",
    "We will conduct this research for the company Chipsoft. Chipsoft is an Amsterdam based software company which develops software for the healthcare sector. Chipsoft will deliver us a dataset from which we can derive information about patients during a surgery. The umbrella term PDMS will be used to refer to the data. PDMS stands for Patient Data Management System. \n",
    "\n",
    "## The research question will be:\n",
    "##### How does the architecture of the Neural Network influence whether someone will end up at the intensive care unit or will have complications following surgery given their PDMS?\n",
    "\n",
    "## Sub-questions:\n",
    "### Theoretical:\n",
    "    1. What is a patient data management system?\n",
    "    2. How does a deep learning machine algorithm work?\n",
    "\n",
    "### In Practice:\n",
    "    1. Can we find correlations in the data that can give us useful insights?\n",
    "    2. Can we provide the sergeants with insights derived from the data during the surgery\n",
    "\n",
    "\n",
    "\n"
   ]
  },
  {
   "cell_type": "markdown",
   "metadata": {},
   "source": [
    "## Load in the Data\n",
    "Our data is provided by Chipsoft. The data is a csv file which consists of the following columns:\n",
    "    1. MeetTijd \n",
    "    2. HR (bpm) (Heartbeat)\n",
    "    3. SpO2(%) (Oxygenation)\n",
    "    4. NIBP(mmHg)\n",
    "    5. IcNaOk\n"
   ]
  },
  {
   "cell_type": "code",
   "execution_count": 1,
   "metadata": {},
   "outputs": [
    {
     "output_type": "error",
     "ename": "FileNotFoundError",
     "evalue": "[Errno 2] File /Users/jellewas/Documents/MachineLearning/pdmssetw.csv does not exist: '/Users/jellewas/Documents/MachineLearning/pdmssetw.csv'",
     "traceback": [
      "\u001b[0;31m---------------------------------------------------------------------------\u001b[0m",
      "\u001b[0;31mFileNotFoundError\u001b[0m                         Traceback (most recent call last)",
      "\u001b[0;32m<ipython-input-1-dce4b2ba1db0>\u001b[0m in \u001b[0;36m<module>\u001b[0;34m\u001b[0m\n\u001b[1;32m      1\u001b[0m \u001b[0;32mimport\u001b[0m \u001b[0mpandas\u001b[0m \u001b[0;32mas\u001b[0m \u001b[0mpd\u001b[0m\u001b[0;34m\u001b[0m\u001b[0;34m\u001b[0m\u001b[0m\n\u001b[1;32m      2\u001b[0m \u001b[0;34m\u001b[0m\u001b[0m\n\u001b[0;32m----> 3\u001b[0;31m \u001b[0mdf\u001b[0m \u001b[0;34m=\u001b[0m \u001b[0mpd\u001b[0m\u001b[0;34m.\u001b[0m\u001b[0mread_csv\u001b[0m\u001b[0;34m(\u001b[0m\u001b[0;34mr'/Users/jellewas/Documents/MachineLearning/pdmssetw.csv'\u001b[0m\u001b[0;34m)\u001b[0m\u001b[0;34m\u001b[0m\u001b[0;34m\u001b[0m\u001b[0m\n\u001b[0m\u001b[1;32m      4\u001b[0m \u001b[0mdf\u001b[0m\u001b[0;34m\u001b[0m\u001b[0;34m\u001b[0m\u001b[0m\n",
      "\u001b[0;32m/Library/Frameworks/Python.framework/Versions/3.8/lib/python3.8/site-packages/pandas/io/parsers.py\u001b[0m in \u001b[0;36mparser_f\u001b[0;34m(filepath_or_buffer, sep, delimiter, header, names, index_col, usecols, squeeze, prefix, mangle_dupe_cols, dtype, engine, converters, true_values, false_values, skipinitialspace, skiprows, skipfooter, nrows, na_values, keep_default_na, na_filter, verbose, skip_blank_lines, parse_dates, infer_datetime_format, keep_date_col, date_parser, dayfirst, cache_dates, iterator, chunksize, compression, thousands, decimal, lineterminator, quotechar, quoting, doublequote, escapechar, comment, encoding, dialect, error_bad_lines, warn_bad_lines, delim_whitespace, low_memory, memory_map, float_precision)\u001b[0m\n\u001b[1;32m    674\u001b[0m         )\n\u001b[1;32m    675\u001b[0m \u001b[0;34m\u001b[0m\u001b[0m\n\u001b[0;32m--> 676\u001b[0;31m         \u001b[0;32mreturn\u001b[0m \u001b[0m_read\u001b[0m\u001b[0;34m(\u001b[0m\u001b[0mfilepath_or_buffer\u001b[0m\u001b[0;34m,\u001b[0m \u001b[0mkwds\u001b[0m\u001b[0;34m)\u001b[0m\u001b[0;34m\u001b[0m\u001b[0;34m\u001b[0m\u001b[0m\n\u001b[0m\u001b[1;32m    677\u001b[0m \u001b[0;34m\u001b[0m\u001b[0m\n\u001b[1;32m    678\u001b[0m     \u001b[0mparser_f\u001b[0m\u001b[0;34m.\u001b[0m\u001b[0m__name__\u001b[0m \u001b[0;34m=\u001b[0m \u001b[0mname\u001b[0m\u001b[0;34m\u001b[0m\u001b[0;34m\u001b[0m\u001b[0m\n",
      "\u001b[0;32m/Library/Frameworks/Python.framework/Versions/3.8/lib/python3.8/site-packages/pandas/io/parsers.py\u001b[0m in \u001b[0;36m_read\u001b[0;34m(filepath_or_buffer, kwds)\u001b[0m\n\u001b[1;32m    446\u001b[0m \u001b[0;34m\u001b[0m\u001b[0m\n\u001b[1;32m    447\u001b[0m     \u001b[0;31m# Create the parser.\u001b[0m\u001b[0;34m\u001b[0m\u001b[0;34m\u001b[0m\u001b[0;34m\u001b[0m\u001b[0m\n\u001b[0;32m--> 448\u001b[0;31m     \u001b[0mparser\u001b[0m \u001b[0;34m=\u001b[0m \u001b[0mTextFileReader\u001b[0m\u001b[0;34m(\u001b[0m\u001b[0mfp_or_buf\u001b[0m\u001b[0;34m,\u001b[0m \u001b[0;34m**\u001b[0m\u001b[0mkwds\u001b[0m\u001b[0;34m)\u001b[0m\u001b[0;34m\u001b[0m\u001b[0;34m\u001b[0m\u001b[0m\n\u001b[0m\u001b[1;32m    449\u001b[0m \u001b[0;34m\u001b[0m\u001b[0m\n\u001b[1;32m    450\u001b[0m     \u001b[0;32mif\u001b[0m \u001b[0mchunksize\u001b[0m \u001b[0;32mor\u001b[0m \u001b[0miterator\u001b[0m\u001b[0;34m:\u001b[0m\u001b[0;34m\u001b[0m\u001b[0;34m\u001b[0m\u001b[0m\n",
      "\u001b[0;32m/Library/Frameworks/Python.framework/Versions/3.8/lib/python3.8/site-packages/pandas/io/parsers.py\u001b[0m in \u001b[0;36m__init__\u001b[0;34m(self, f, engine, **kwds)\u001b[0m\n\u001b[1;32m    878\u001b[0m             \u001b[0mself\u001b[0m\u001b[0;34m.\u001b[0m\u001b[0moptions\u001b[0m\u001b[0;34m[\u001b[0m\u001b[0;34m\"has_index_names\"\u001b[0m\u001b[0;34m]\u001b[0m \u001b[0;34m=\u001b[0m \u001b[0mkwds\u001b[0m\u001b[0;34m[\u001b[0m\u001b[0;34m\"has_index_names\"\u001b[0m\u001b[0;34m]\u001b[0m\u001b[0;34m\u001b[0m\u001b[0;34m\u001b[0m\u001b[0m\n\u001b[1;32m    879\u001b[0m \u001b[0;34m\u001b[0m\u001b[0m\n\u001b[0;32m--> 880\u001b[0;31m         \u001b[0mself\u001b[0m\u001b[0;34m.\u001b[0m\u001b[0m_make_engine\u001b[0m\u001b[0;34m(\u001b[0m\u001b[0mself\u001b[0m\u001b[0;34m.\u001b[0m\u001b[0mengine\u001b[0m\u001b[0;34m)\u001b[0m\u001b[0;34m\u001b[0m\u001b[0;34m\u001b[0m\u001b[0m\n\u001b[0m\u001b[1;32m    881\u001b[0m \u001b[0;34m\u001b[0m\u001b[0m\n\u001b[1;32m    882\u001b[0m     \u001b[0;32mdef\u001b[0m \u001b[0mclose\u001b[0m\u001b[0;34m(\u001b[0m\u001b[0mself\u001b[0m\u001b[0;34m)\u001b[0m\u001b[0;34m:\u001b[0m\u001b[0;34m\u001b[0m\u001b[0;34m\u001b[0m\u001b[0m\n",
      "\u001b[0;32m/Library/Frameworks/Python.framework/Versions/3.8/lib/python3.8/site-packages/pandas/io/parsers.py\u001b[0m in \u001b[0;36m_make_engine\u001b[0;34m(self, engine)\u001b[0m\n\u001b[1;32m   1112\u001b[0m     \u001b[0;32mdef\u001b[0m \u001b[0m_make_engine\u001b[0m\u001b[0;34m(\u001b[0m\u001b[0mself\u001b[0m\u001b[0;34m,\u001b[0m \u001b[0mengine\u001b[0m\u001b[0;34m=\u001b[0m\u001b[0;34m\"c\"\u001b[0m\u001b[0;34m)\u001b[0m\u001b[0;34m:\u001b[0m\u001b[0;34m\u001b[0m\u001b[0;34m\u001b[0m\u001b[0m\n\u001b[1;32m   1113\u001b[0m         \u001b[0;32mif\u001b[0m \u001b[0mengine\u001b[0m \u001b[0;34m==\u001b[0m \u001b[0;34m\"c\"\u001b[0m\u001b[0;34m:\u001b[0m\u001b[0;34m\u001b[0m\u001b[0;34m\u001b[0m\u001b[0m\n\u001b[0;32m-> 1114\u001b[0;31m             \u001b[0mself\u001b[0m\u001b[0;34m.\u001b[0m\u001b[0m_engine\u001b[0m \u001b[0;34m=\u001b[0m \u001b[0mCParserWrapper\u001b[0m\u001b[0;34m(\u001b[0m\u001b[0mself\u001b[0m\u001b[0;34m.\u001b[0m\u001b[0mf\u001b[0m\u001b[0;34m,\u001b[0m \u001b[0;34m**\u001b[0m\u001b[0mself\u001b[0m\u001b[0;34m.\u001b[0m\u001b[0moptions\u001b[0m\u001b[0;34m)\u001b[0m\u001b[0;34m\u001b[0m\u001b[0;34m\u001b[0m\u001b[0m\n\u001b[0m\u001b[1;32m   1115\u001b[0m         \u001b[0;32melse\u001b[0m\u001b[0;34m:\u001b[0m\u001b[0;34m\u001b[0m\u001b[0;34m\u001b[0m\u001b[0m\n\u001b[1;32m   1116\u001b[0m             \u001b[0;32mif\u001b[0m \u001b[0mengine\u001b[0m \u001b[0;34m==\u001b[0m \u001b[0;34m\"python\"\u001b[0m\u001b[0;34m:\u001b[0m\u001b[0;34m\u001b[0m\u001b[0;34m\u001b[0m\u001b[0m\n",
      "\u001b[0;32m/Library/Frameworks/Python.framework/Versions/3.8/lib/python3.8/site-packages/pandas/io/parsers.py\u001b[0m in \u001b[0;36m__init__\u001b[0;34m(self, src, **kwds)\u001b[0m\n\u001b[1;32m   1889\u001b[0m         \u001b[0mkwds\u001b[0m\u001b[0;34m[\u001b[0m\u001b[0;34m\"usecols\"\u001b[0m\u001b[0;34m]\u001b[0m \u001b[0;34m=\u001b[0m \u001b[0mself\u001b[0m\u001b[0;34m.\u001b[0m\u001b[0musecols\u001b[0m\u001b[0;34m\u001b[0m\u001b[0;34m\u001b[0m\u001b[0m\n\u001b[1;32m   1890\u001b[0m \u001b[0;34m\u001b[0m\u001b[0m\n\u001b[0;32m-> 1891\u001b[0;31m         \u001b[0mself\u001b[0m\u001b[0;34m.\u001b[0m\u001b[0m_reader\u001b[0m \u001b[0;34m=\u001b[0m \u001b[0mparsers\u001b[0m\u001b[0;34m.\u001b[0m\u001b[0mTextReader\u001b[0m\u001b[0;34m(\u001b[0m\u001b[0msrc\u001b[0m\u001b[0;34m,\u001b[0m \u001b[0;34m**\u001b[0m\u001b[0mkwds\u001b[0m\u001b[0;34m)\u001b[0m\u001b[0;34m\u001b[0m\u001b[0;34m\u001b[0m\u001b[0m\n\u001b[0m\u001b[1;32m   1892\u001b[0m         \u001b[0mself\u001b[0m\u001b[0;34m.\u001b[0m\u001b[0munnamed_cols\u001b[0m \u001b[0;34m=\u001b[0m \u001b[0mself\u001b[0m\u001b[0;34m.\u001b[0m\u001b[0m_reader\u001b[0m\u001b[0;34m.\u001b[0m\u001b[0munnamed_cols\u001b[0m\u001b[0;34m\u001b[0m\u001b[0;34m\u001b[0m\u001b[0m\n\u001b[1;32m   1893\u001b[0m \u001b[0;34m\u001b[0m\u001b[0m\n",
      "\u001b[0;32mpandas/_libs/parsers.pyx\u001b[0m in \u001b[0;36mpandas._libs.parsers.TextReader.__cinit__\u001b[0;34m()\u001b[0m\n",
      "\u001b[0;32mpandas/_libs/parsers.pyx\u001b[0m in \u001b[0;36mpandas._libs.parsers.TextReader._setup_parser_source\u001b[0;34m()\u001b[0m\n",
      "\u001b[0;31mFileNotFoundError\u001b[0m: [Errno 2] File /Users/jellewas/Documents/MachineLearning/pdmssetw.csv does not exist: '/Users/jellewas/Documents/MachineLearning/pdmssetw.csv'"
     ]
    }
   ],
   "source": []
  },
  {
   "cell_type": "code",
   "execution_count": 63,
   "metadata": {},
   "outputs": [
    {
     "output_type": "error",
     "ename": "NameError",
     "evalue": "name 'df' is not defined",
     "traceback": [
      "\u001b[0;31m---------------------------------------------------------------------------\u001b[0m",
      "\u001b[0;31mNameError\u001b[0m                                 Traceback (most recent call last)",
      "\u001b[0;32m<ipython-input-63-5cc0934cc03c>\u001b[0m in \u001b[0;36m<module>\u001b[0;34m\u001b[0m\n\u001b[0;32m----> 1\u001b[0;31m \u001b[0mdf\u001b[0m\u001b[0;34m.\u001b[0m\u001b[0mdtypes\u001b[0m\u001b[0;34m\u001b[0m\u001b[0;34m\u001b[0m\u001b[0m\n\u001b[0m",
      "\u001b[0;31mNameError\u001b[0m: name 'df' is not defined"
     ]
    }
   ],
   "source": [
    "df.dtypes"
   ]
  },
  {
   "cell_type": "code",
   "execution_count": 19,
   "metadata": {},
   "outputs": [],
   "source": [
    "#Turn into discrete numerical values\n",
    "\n",
    "#MeetTijd\n",
    "#df['MeetTijd'] = pd.Categorical(df['MeetTijd'])\n",
    "#df['MeetTijd'] = df['MeetTijd'].cat.codes\n",
    "#HR(bpm)\n",
    "#df['HR(bpm)'] = pd.Categorical(df['HR(bpm)'])\n",
    "#df['HR(bpm)'] = df['HR(bpm)'].cat.codes\n",
    "#SpO2(%)\n",
    "#df['SpO2(%)'] = pd.Categorical(df['SpO2(%)'])\n",
    "#df['SpO2(%)'] = df['SpO2(%)'].cat.codes\n",
    "#NIBP(mmHg)\n",
    "#df['NIBP(mmHg)'] = pd.Categorical(df['NIBP(mmHg)'])\n",
    "#df['NIBP(mmHg)'] = df['NIBP(mmHg)'].cat.codes\n",
    "\n"
   ]
  },
  {
   "cell_type": "markdown",
   "metadata": {},
   "source": [
    "## About the Deep Learning Algorithm\n",
    "Tensorflow is a low-level deep learning framework. Keras is a frontend library that makes things a little easier to use. It implements most basic neural network architectures in a simple framework. Deep learning models are trained by gradient descent. These models are often so complex, that we don't want to have to work out the gradient ourselves. Keras and tensorflow allow the gradient to be computed automatically.\n",
    "\n",
    "\n",
    "### Links:\n",
    "1. https://www.tensorflow.org/tutorials/load_data/pandas_dataframe"
   ]
  },
  {
   "cell_type": "code",
   "execution_count": 5,
   "metadata": {},
   "outputs": [
    {
     "name": "stdout",
     "output_type": "stream",
     "text": [
      "Requirement already satisfied: tensorflow in /Library/Frameworks/Python.framework/Versions/3.8/lib/python3.8/site-packages (2.4.1)\n",
      "Collecting numpy~=1.19.2 (from tensorflow)\n",
      "  Using cached https://files.pythonhosted.org/packages/a6/b7/c0594c698c7149bfe738724ab9ab3722dca3a4a43823468fe9481abe4016/numpy-1.19.5-cp38-cp38-macosx_10_9_x86_64.whl\n",
      "Requirement already satisfied: opt-einsum~=3.3.0 in /Library/Frameworks/Python.framework/Versions/3.8/lib/python3.8/site-packages (from tensorflow) (3.3.0)\n",
      "Requirement already satisfied: six~=1.15.0 in /Library/Frameworks/Python.framework/Versions/3.8/lib/python3.8/site-packages (from tensorflow) (1.15.0)\n",
      "Requirement already satisfied: tensorflow-estimator<2.5.0,>=2.4.0 in /Library/Frameworks/Python.framework/Versions/3.8/lib/python3.8/site-packages (from tensorflow) (2.4.0)\n",
      "Requirement already satisfied: grpcio~=1.32.0 in /Library/Frameworks/Python.framework/Versions/3.8/lib/python3.8/site-packages (from tensorflow) (1.32.0)\n",
      "Requirement already satisfied: typing-extensions~=3.7.4 in /Library/Frameworks/Python.framework/Versions/3.8/lib/python3.8/site-packages (from tensorflow) (3.7.4.3)\n",
      "Requirement already satisfied: wrapt~=1.12.1 in /Library/Frameworks/Python.framework/Versions/3.8/lib/python3.8/site-packages (from tensorflow) (1.12.1)\n",
      "Requirement already satisfied: protobuf>=3.9.2 in /Library/Frameworks/Python.framework/Versions/3.8/lib/python3.8/site-packages (from tensorflow) (3.14.0)\n",
      "Requirement already satisfied: keras-preprocessing~=1.1.2 in /Library/Frameworks/Python.framework/Versions/3.8/lib/python3.8/site-packages (from tensorflow) (1.1.2)\n",
      "Requirement already satisfied: termcolor~=1.1.0 in /Library/Frameworks/Python.framework/Versions/3.8/lib/python3.8/site-packages (from tensorflow) (1.1.0)\n",
      "Requirement already satisfied: h5py~=2.10.0 in /Library/Frameworks/Python.framework/Versions/3.8/lib/python3.8/site-packages (from tensorflow) (2.10.0)\n",
      "Requirement already satisfied: google-pasta~=0.2 in /Library/Frameworks/Python.framework/Versions/3.8/lib/python3.8/site-packages (from tensorflow) (0.2.0)\n",
      "Requirement already satisfied: astunparse~=1.6.3 in /Library/Frameworks/Python.framework/Versions/3.8/lib/python3.8/site-packages (from tensorflow) (1.6.3)\n",
      "Requirement already satisfied: flatbuffers~=1.12.0 in /Library/Frameworks/Python.framework/Versions/3.8/lib/python3.8/site-packages (from tensorflow) (1.12)\n",
      "Requirement already satisfied: absl-py~=0.10 in /Library/Frameworks/Python.framework/Versions/3.8/lib/python3.8/site-packages (from tensorflow) (0.11.0)\n",
      "Requirement already satisfied: gast==0.3.3 in /Library/Frameworks/Python.framework/Versions/3.8/lib/python3.8/site-packages (from tensorflow) (0.3.3)\n",
      "Requirement already satisfied: tensorboard~=2.4 in /Library/Frameworks/Python.framework/Versions/3.8/lib/python3.8/site-packages (from tensorflow) (2.4.1)\n",
      "Requirement already satisfied: wheel~=0.35 in /Library/Frameworks/Python.framework/Versions/3.8/lib/python3.8/site-packages (from tensorflow) (0.36.2)\n",
      "Requirement already satisfied: markdown>=2.6.8 in /Library/Frameworks/Python.framework/Versions/3.8/lib/python3.8/site-packages (from tensorboard~=2.4->tensorflow) (3.3.3)\n",
      "Requirement already satisfied: werkzeug>=0.11.15 in /Library/Frameworks/Python.framework/Versions/3.8/lib/python3.8/site-packages (from tensorboard~=2.4->tensorflow) (1.0.1)\n",
      "Requirement already satisfied: google-auth<2,>=1.6.3 in /Library/Frameworks/Python.framework/Versions/3.8/lib/python3.8/site-packages (from tensorboard~=2.4->tensorflow) (1.26.1)\n",
      "Requirement already satisfied: requests<3,>=2.21.0 in /Library/Frameworks/Python.framework/Versions/3.8/lib/python3.8/site-packages (from tensorboard~=2.4->tensorflow) (2.25.1)\n",
      "Requirement already satisfied: tensorboard-plugin-wit>=1.6.0 in /Library/Frameworks/Python.framework/Versions/3.8/lib/python3.8/site-packages (from tensorboard~=2.4->tensorflow) (1.8.0)\n",
      "Requirement already satisfied: google-auth-oauthlib<0.5,>=0.4.1 in /Library/Frameworks/Python.framework/Versions/3.8/lib/python3.8/site-packages (from tensorboard~=2.4->tensorflow) (0.4.2)\n",
      "Requirement already satisfied: setuptools>=41.0.0 in /Library/Frameworks/Python.framework/Versions/3.8/lib/python3.8/site-packages (from tensorboard~=2.4->tensorflow) (41.2.0)\n",
      "Requirement already satisfied: cachetools<5.0,>=2.0.0 in /Library/Frameworks/Python.framework/Versions/3.8/lib/python3.8/site-packages (from google-auth<2,>=1.6.3->tensorboard~=2.4->tensorflow) (4.2.1)\n",
      "Requirement already satisfied: pyasn1-modules>=0.2.1 in /Library/Frameworks/Python.framework/Versions/3.8/lib/python3.8/site-packages (from google-auth<2,>=1.6.3->tensorboard~=2.4->tensorflow) (0.2.8)\n",
      "Requirement already satisfied: rsa<5,>=3.1.4; python_version >= \"3.6\" in /Library/Frameworks/Python.framework/Versions/3.8/lib/python3.8/site-packages (from google-auth<2,>=1.6.3->tensorboard~=2.4->tensorflow) (4.7.1)\n",
      "Requirement already satisfied: idna<3,>=2.5 in /Library/Frameworks/Python.framework/Versions/3.8/lib/python3.8/site-packages (from requests<3,>=2.21.0->tensorboard~=2.4->tensorflow) (2.10)\n",
      "Requirement already satisfied: certifi>=2017.4.17 in /Library/Frameworks/Python.framework/Versions/3.8/lib/python3.8/site-packages (from requests<3,>=2.21.0->tensorboard~=2.4->tensorflow) (2020.12.5)\n",
      "Requirement already satisfied: chardet<5,>=3.0.2 in /Library/Frameworks/Python.framework/Versions/3.8/lib/python3.8/site-packages (from requests<3,>=2.21.0->tensorboard~=2.4->tensorflow) (4.0.0)\n",
      "Requirement already satisfied: urllib3<1.27,>=1.21.1 in /Library/Frameworks/Python.framework/Versions/3.8/lib/python3.8/site-packages (from requests<3,>=2.21.0->tensorboard~=2.4->tensorflow) (1.26.2)\n",
      "Requirement already satisfied: requests-oauthlib>=0.7.0 in /Library/Frameworks/Python.framework/Versions/3.8/lib/python3.8/site-packages (from google-auth-oauthlib<0.5,>=0.4.1->tensorboard~=2.4->tensorflow) (1.3.0)\n",
      "Requirement already satisfied: pyasn1<0.5.0,>=0.4.6 in /Library/Frameworks/Python.framework/Versions/3.8/lib/python3.8/site-packages (from pyasn1-modules>=0.2.1->google-auth<2,>=1.6.3->tensorboard~=2.4->tensorflow) (0.4.8)\n",
      "Requirement already satisfied: oauthlib>=3.0.0 in /Library/Frameworks/Python.framework/Versions/3.8/lib/python3.8/site-packages (from requests-oauthlib>=0.7.0->google-auth-oauthlib<0.5,>=0.4.1->tensorboard~=2.4->tensorflow) (3.1.0)\n",
      "Installing collected packages: numpy\n",
      "  Found existing installation: numpy 1.20.1\n",
      "    Uninstalling numpy-1.20.1:\n",
      "      Successfully uninstalled numpy-1.20.1\n",
      "Successfully installed numpy-1.19.5\n",
      "\u001b[33mWARNING: You are using pip version 19.2.3, however version 21.0.1 is available.\n",
      "You should consider upgrading via the 'pip install --upgrade pip' command.\u001b[0m\n",
      "Note: you may need to restart the kernel to use updated packages.\n"
     ]
    }
   ],
   "source": [
    "pip install tensorflow"
   ]
  },
  {
   "cell_type": "code",
   "execution_count": 6,
   "metadata": {},
   "outputs": [],
   "source": [
    "import tensorflow as tf"
   ]
  },
  {
   "cell_type": "code",
   "execution_count": 20,
   "metadata": {},
   "outputs": [],
   "source": [
    "#dataset = tf.data.Dataset.from_tensor_slices([df['MeetTijd'], df['HR(bpm)'], df['SpO2(%)'], df['NIBP(mmHg)'], df['IcNaOk']])\n",
    "#dataset\n"
   ]
  },
  {
   "cell_type": "code",
   "execution_count": 64,
   "metadata": {},
   "outputs": [
    {
     "output_type": "execute_result",
     "data": {
      "text/plain": [
       "                                                MeetTijd  \\\n",
       "0      [15:03:40, 15:04:40, 15:05:41, 15:06:41, 15:07...   \n",
       "1      [15:32:32, 15:33:32, 15:34:33, 15:35:33, 15:36...   \n",
       "2      [08:45:22, 08:46:23, 08:47:23, 08:48:24, 08:49...   \n",
       "3      [08:40:08, 08:41:08, 08:42:09, 08:43:09, 08:44...   \n",
       "4      [09:09:53, 09:10:53, 09:11:54, 09:12:54, 09:13...   \n",
       "...                                                  ...   \n",
       "12732  [15:19:57, 15:20:27, 15:20:57, 15:21:27, 15:21...   \n",
       "12733  [19:14:19, 19:14:49, 19:15:19, 19:15:49, 19:16...   \n",
       "12734  [15:17:54, 15:18:24, 15:18:54, 15:19:00, 15:20...   \n",
       "12735  [17:39:54, 17:40:24, 17:40:54, 17:41:24, 17:41...   \n",
       "12736  [19:24:26, 19:24:56, 19:25:25, 19:25:56, 19:26...   \n",
       "\n",
       "                                                 HR(bpm)  \\\n",
       "0      [nan, nan, nan, nan, nan, nan, nan, nan, nan, ...   \n",
       "1      [51, 49, 57, 49, 55, 50, 56, 49, 50, 49, 54, 4...   \n",
       "2      [79, 75, 71, 88, 88, 84, 66, 66, 76, 78, 79, 8...   \n",
       "3      [102, 99, 99, 101, 96, 101, 99, 79, 75, 80, 76...   \n",
       "4      [56, 57, 56, 58, 58, 57, 57, 63, 59, 55, 59, 5...   \n",
       "...                                                  ...   \n",
       "12732  [nan, 69, 66, 66, 67, 66, 68, 68, 67, 66, 69, ...   \n",
       "12733  [nan, 80, 81, 76, 83, 84, 79, 88, 82, 81, 80, ...   \n",
       "12734  [67, nan, 68, 68, 68, 68, 71, 67, 67, 66, 66, ...   \n",
       "12735  [100, 103, 97, 101, 100, 106, 107, 106, 107, 1...   \n",
       "12736  [74, 75, 75, 74, 69, 73, 73, 72, 73, 79, 75, 7...   \n",
       "\n",
       "                                                 SpO2(%)  \\\n",
       "0      [nan, nan, nan, nan, nan, nan, nan, nan, nan, ...   \n",
       "1      [92, 92, 87.5, 93, 93, 93, 92, 95, 93, 92, 93,...   \n",
       "2      [98, 98, 98, nan, nan, 96, 98, 98, 97, 97, 96,...   \n",
       "3      [93, 95.58, 96.16, 96.08, 97.83, 96.66, 97.75,...   \n",
       "4      [97, 97, 98, 97, 98, 98, 97.5, 98, 98, 98, 98,...   \n",
       "...                                                  ...   \n",
       "12732  [100, 100, 100, 100, 100, 98, 99, 98, 100, 99,...   \n",
       "12733  [100, 100, 100, 100, 100, 100, 100, 100, 100, ...   \n",
       "12734  [97, 98, 98, 97, 95, 91, 98, 98, 98, 98, 98, 9...   \n",
       "12735  [99, 99, 99, 99, 99, 99, 100, 99, 99, 100, 99,...   \n",
       "12736  [98, 98, 96, 96, 97, 98, 98, 98, 99, 98, 100, ...   \n",
       "\n",
       "                                              NIBP(mmHg)  IcNaOk  \\\n",
       "0      [143, 143, 143, 143, 143, 143, 143, 143, 143, ...     0.0   \n",
       "1      [118, 118, 118, 120, 120, 120, 120, 120, 120, ...     0.0   \n",
       "2      [129, 129, 129, 129, nan, nan, nan, 145, 145, ...     0.0   \n",
       "3      [150, 158, 2, 151, 2, 2, 152, 152, 2, 100, 1, ...     0.0   \n",
       "4      [136, 131, 131, 131, 131, 131, 144, 144, 144, ...     0.0   \n",
       "...                                                  ...     ...   \n",
       "12732  [nan, nan, 203, nan, nan, nan, nan, nan, nan, ...     0.0   \n",
       "12733  [nan, 123, nan, nan, nan, nan, nan, nan, nan, ...     0.0   \n",
       "12734  [nan, nan, nan, nan, 115, nan, nan, nan, nan, ...     0.0   \n",
       "12735  [nan, nan, nan, nan, nan, nan, nan, nan, nan, ...     0.0   \n",
       "12736  [178, nan, nan, nan, nan, nan, nan, 185, nan, ...     1.0   \n",
       "\n",
       "       Length_MeetTijd  Percentage HR nan  Percentage SpO2 nan  \\\n",
       "0                   89           0.179775             0.179775   \n",
       "1                  146           0.000000             0.006849   \n",
       "2                  200           0.010000             0.020000   \n",
       "3                  178           0.005618             0.039326   \n",
       "4                   75           0.000000             0.013333   \n",
       "...                ...                ...                  ...   \n",
       "12732              158           0.018987             0.037975   \n",
       "12733              357           0.008403             0.019608   \n",
       "12734              427           0.014052             0.103044   \n",
       "12735              243           0.012346             0.037037   \n",
       "12736              134           0.007463             0.007463   \n",
       "\n",
       "       Percentage NIBP nan  Mean hearthrate  Std hearthrate  Max hearthrate  \\\n",
       "0                 0.067416        75.958904        3.616698            88.0   \n",
       "1                 0.020548        57.500000       24.779369           174.0   \n",
       "2                 0.015000        63.792929        7.155739            88.0   \n",
       "3                 0.005618        92.000000       12.914320           111.0   \n",
       "4                 0.066667        62.293333        6.050396            85.0   \n",
       "...                    ...              ...             ...             ...   \n",
       "12732             0.867089        65.477419        8.139379            93.0   \n",
       "12733             0.837535        71.338983        8.675461           107.0   \n",
       "12734             0.857143        60.959620        2.785402            71.0   \n",
       "12735             0.872428        84.345833        8.717391           112.0   \n",
       "12736             0.850746        71.233083        5.231322            83.0   \n",
       "\n",
       "       Min hearthrate  \n",
       "0                68.0  \n",
       "1                40.0  \n",
       "2                53.0  \n",
       "3                64.0  \n",
       "4                55.0  \n",
       "...               ...  \n",
       "12732            52.0  \n",
       "12733            56.0  \n",
       "12734            54.0  \n",
       "12735            69.0  \n",
       "12736            62.0  \n",
       "\n",
       "[12735 rows x 13 columns]"
      ],
      "text/html": "<div>\n<style scoped>\n    .dataframe tbody tr th:only-of-type {\n        vertical-align: middle;\n    }\n\n    .dataframe tbody tr th {\n        vertical-align: top;\n    }\n\n    .dataframe thead th {\n        text-align: right;\n    }\n</style>\n<table border=\"1\" class=\"dataframe\">\n  <thead>\n    <tr style=\"text-align: right;\">\n      <th></th>\n      <th>MeetTijd</th>\n      <th>HR(bpm)</th>\n      <th>SpO2(%)</th>\n      <th>NIBP(mmHg)</th>\n      <th>IcNaOk</th>\n      <th>Length_MeetTijd</th>\n      <th>Percentage HR nan</th>\n      <th>Percentage SpO2 nan</th>\n      <th>Percentage NIBP nan</th>\n      <th>Mean hearthrate</th>\n      <th>Std hearthrate</th>\n      <th>Max hearthrate</th>\n      <th>Min hearthrate</th>\n    </tr>\n  </thead>\n  <tbody>\n    <tr>\n      <th>0</th>\n      <td>[15:03:40, 15:04:40, 15:05:41, 15:06:41, 15:07...</td>\n      <td>[nan, nan, nan, nan, nan, nan, nan, nan, nan, ...</td>\n      <td>[nan, nan, nan, nan, nan, nan, nan, nan, nan, ...</td>\n      <td>[143, 143, 143, 143, 143, 143, 143, 143, 143, ...</td>\n      <td>0.0</td>\n      <td>89</td>\n      <td>0.179775</td>\n      <td>0.179775</td>\n      <td>0.067416</td>\n      <td>75.958904</td>\n      <td>3.616698</td>\n      <td>88.0</td>\n      <td>68.0</td>\n    </tr>\n    <tr>\n      <th>1</th>\n      <td>[15:32:32, 15:33:32, 15:34:33, 15:35:33, 15:36...</td>\n      <td>[51, 49, 57, 49, 55, 50, 56, 49, 50, 49, 54, 4...</td>\n      <td>[92, 92, 87.5, 93, 93, 93, 92, 95, 93, 92, 93,...</td>\n      <td>[118, 118, 118, 120, 120, 120, 120, 120, 120, ...</td>\n      <td>0.0</td>\n      <td>146</td>\n      <td>0.000000</td>\n      <td>0.006849</td>\n      <td>0.020548</td>\n      <td>57.500000</td>\n      <td>24.779369</td>\n      <td>174.0</td>\n      <td>40.0</td>\n    </tr>\n    <tr>\n      <th>2</th>\n      <td>[08:45:22, 08:46:23, 08:47:23, 08:48:24, 08:49...</td>\n      <td>[79, 75, 71, 88, 88, 84, 66, 66, 76, 78, 79, 8...</td>\n      <td>[98, 98, 98, nan, nan, 96, 98, 98, 97, 97, 96,...</td>\n      <td>[129, 129, 129, 129, nan, nan, nan, 145, 145, ...</td>\n      <td>0.0</td>\n      <td>200</td>\n      <td>0.010000</td>\n      <td>0.020000</td>\n      <td>0.015000</td>\n      <td>63.792929</td>\n      <td>7.155739</td>\n      <td>88.0</td>\n      <td>53.0</td>\n    </tr>\n    <tr>\n      <th>3</th>\n      <td>[08:40:08, 08:41:08, 08:42:09, 08:43:09, 08:44...</td>\n      <td>[102, 99, 99, 101, 96, 101, 99, 79, 75, 80, 76...</td>\n      <td>[93, 95.58, 96.16, 96.08, 97.83, 96.66, 97.75,...</td>\n      <td>[150, 158, 2, 151, 2, 2, 152, 152, 2, 100, 1, ...</td>\n      <td>0.0</td>\n      <td>178</td>\n      <td>0.005618</td>\n      <td>0.039326</td>\n      <td>0.005618</td>\n      <td>92.000000</td>\n      <td>12.914320</td>\n      <td>111.0</td>\n      <td>64.0</td>\n    </tr>\n    <tr>\n      <th>4</th>\n      <td>[09:09:53, 09:10:53, 09:11:54, 09:12:54, 09:13...</td>\n      <td>[56, 57, 56, 58, 58, 57, 57, 63, 59, 55, 59, 5...</td>\n      <td>[97, 97, 98, 97, 98, 98, 97.5, 98, 98, 98, 98,...</td>\n      <td>[136, 131, 131, 131, 131, 131, 144, 144, 144, ...</td>\n      <td>0.0</td>\n      <td>75</td>\n      <td>0.000000</td>\n      <td>0.013333</td>\n      <td>0.066667</td>\n      <td>62.293333</td>\n      <td>6.050396</td>\n      <td>85.0</td>\n      <td>55.0</td>\n    </tr>\n    <tr>\n      <th>...</th>\n      <td>...</td>\n      <td>...</td>\n      <td>...</td>\n      <td>...</td>\n      <td>...</td>\n      <td>...</td>\n      <td>...</td>\n      <td>...</td>\n      <td>...</td>\n      <td>...</td>\n      <td>...</td>\n      <td>...</td>\n      <td>...</td>\n    </tr>\n    <tr>\n      <th>12732</th>\n      <td>[15:19:57, 15:20:27, 15:20:57, 15:21:27, 15:21...</td>\n      <td>[nan, 69, 66, 66, 67, 66, 68, 68, 67, 66, 69, ...</td>\n      <td>[100, 100, 100, 100, 100, 98, 99, 98, 100, 99,...</td>\n      <td>[nan, nan, 203, nan, nan, nan, nan, nan, nan, ...</td>\n      <td>0.0</td>\n      <td>158</td>\n      <td>0.018987</td>\n      <td>0.037975</td>\n      <td>0.867089</td>\n      <td>65.477419</td>\n      <td>8.139379</td>\n      <td>93.0</td>\n      <td>52.0</td>\n    </tr>\n    <tr>\n      <th>12733</th>\n      <td>[19:14:19, 19:14:49, 19:15:19, 19:15:49, 19:16...</td>\n      <td>[nan, 80, 81, 76, 83, 84, 79, 88, 82, 81, 80, ...</td>\n      <td>[100, 100, 100, 100, 100, 100, 100, 100, 100, ...</td>\n      <td>[nan, 123, nan, nan, nan, nan, nan, nan, nan, ...</td>\n      <td>0.0</td>\n      <td>357</td>\n      <td>0.008403</td>\n      <td>0.019608</td>\n      <td>0.837535</td>\n      <td>71.338983</td>\n      <td>8.675461</td>\n      <td>107.0</td>\n      <td>56.0</td>\n    </tr>\n    <tr>\n      <th>12734</th>\n      <td>[15:17:54, 15:18:24, 15:18:54, 15:19:00, 15:20...</td>\n      <td>[67, nan, 68, 68, 68, 68, 71, 67, 67, 66, 66, ...</td>\n      <td>[97, 98, 98, 97, 95, 91, 98, 98, 98, 98, 98, 9...</td>\n      <td>[nan, nan, nan, nan, 115, nan, nan, nan, nan, ...</td>\n      <td>0.0</td>\n      <td>427</td>\n      <td>0.014052</td>\n      <td>0.103044</td>\n      <td>0.857143</td>\n      <td>60.959620</td>\n      <td>2.785402</td>\n      <td>71.0</td>\n      <td>54.0</td>\n    </tr>\n    <tr>\n      <th>12735</th>\n      <td>[17:39:54, 17:40:24, 17:40:54, 17:41:24, 17:41...</td>\n      <td>[100, 103, 97, 101, 100, 106, 107, 106, 107, 1...</td>\n      <td>[99, 99, 99, 99, 99, 99, 100, 99, 99, 100, 99,...</td>\n      <td>[nan, nan, nan, nan, nan, nan, nan, nan, nan, ...</td>\n      <td>0.0</td>\n      <td>243</td>\n      <td>0.012346</td>\n      <td>0.037037</td>\n      <td>0.872428</td>\n      <td>84.345833</td>\n      <td>8.717391</td>\n      <td>112.0</td>\n      <td>69.0</td>\n    </tr>\n    <tr>\n      <th>12736</th>\n      <td>[19:24:26, 19:24:56, 19:25:25, 19:25:56, 19:26...</td>\n      <td>[74, 75, 75, 74, 69, 73, 73, 72, 73, 79, 75, 7...</td>\n      <td>[98, 98, 96, 96, 97, 98, 98, 98, 99, 98, 100, ...</td>\n      <td>[178, nan, nan, nan, nan, nan, nan, 185, nan, ...</td>\n      <td>1.0</td>\n      <td>134</td>\n      <td>0.007463</td>\n      <td>0.007463</td>\n      <td>0.850746</td>\n      <td>71.233083</td>\n      <td>5.231322</td>\n      <td>83.0</td>\n      <td>62.0</td>\n    </tr>\n  </tbody>\n</table>\n<p>12735 rows × 13 columns</p>\n</div>"
     },
     "metadata": {},
     "execution_count": 64
    }
   ],
   "source": [
    "import pickle\n",
    "import pandas as pd\n",
    "objects = []\n",
    "with (open(\"clean_data.pk\", \"rb\")) as openfile:\n",
    "    while True:\n",
    "        try:\n",
    "            objects.append(pickle.load(openfile))\n",
    "        except EOFError:\n",
    "            break\n",
    "\n",
    "\n",
    "\n",
    "unpickled_df = pd.read_pickle(\"work_data.pk\")\n",
    "unpickled_df"
   ]
  },
  {
   "cell_type": "code",
   "execution_count": 65,
   "metadata": {},
   "outputs": [
    {
     "output_type": "stream",
     "name": "stdout",
     "text": [
      "Requirement already satisfied: sklearn in /Library/Frameworks/Python.framework/Versions/3.8/lib/python3.8/site-packages (0.0)\n",
      "Requirement already satisfied: scikit-learn in /Library/Frameworks/Python.framework/Versions/3.8/lib/python3.8/site-packages (from sklearn) (0.24.1)\n",
      "Requirement already satisfied: scipy>=0.19.1 in /Library/Frameworks/Python.framework/Versions/3.8/lib/python3.8/site-packages (from scikit-learn->sklearn) (1.6.1)\n",
      "Requirement already satisfied: numpy>=1.13.3 in /Library/Frameworks/Python.framework/Versions/3.8/lib/python3.8/site-packages (from scikit-learn->sklearn) (1.19.5)\n",
      "Requirement already satisfied: threadpoolctl>=2.0.0 in /Users/jellewas/Library/Python/3.8/lib/python/site-packages (from scikit-learn->sklearn) (2.1.0)\n",
      "Requirement already satisfied: joblib>=0.11 in /Library/Frameworks/Python.framework/Versions/3.8/lib/python3.8/site-packages (from scikit-learn->sklearn) (0.15.1)\n",
      "\u001b[33mWARNING: You are using pip version 19.2.3, however version 21.0.1 is available.\n",
      "You should consider upgrading via the 'pip install --upgrade pip' command.\u001b[0m\n",
      "Note: you may need to restart the kernel to use updated packages.\n"
     ]
    }
   ],
   "source": [
    "pip install sklearn"
   ]
  },
  {
   "cell_type": "code",
   "execution_count": 66,
   "metadata": {},
   "outputs": [],
   "source": [
    "import pandas as pd\n",
    "import numpy as np\n",
    "from sklearn import preprocessing\n",
    "import matplotlib.pyplot as plt \n",
    "plt.rc(\"font\", size=14)\n",
    "from sklearn.linear_model import LogisticRegression\n",
    "from sklearn.model_selection import train_test_split\n",
    "import seaborn as sns\n",
    "sns.set(style=\"white\")\n",
    "sns.set(style=\"whitegrid\", color_codes=True)"
   ]
  },
  {
   "source": [
    "# Input Variables\n",
    "1. Length Meettijd\n",
    "2. Percentage HR nan\n",
    "3. Percentage SP02 nan\n",
    "4. Percentage NBIP nan\n",
    "5. Mean Hearth Rate\n",
    "6. Standard Deviation Hearth Rate \n",
    "7. Max Hearth Rate\n",
    "8. Min Hearth Rate\n",
    "\n",
    "# Predict Variable\n",
    "1. Will the Patient end up at the Intensive Care"
   ],
   "cell_type": "markdown",
   "metadata": {}
  },
  {
   "cell_type": "code",
   "execution_count": 67,
   "metadata": {},
   "outputs": [
    {
     "output_type": "execute_result",
     "data": {
      "text/plain": [
       "0.0    11221\n",
       "1.0     1514\n",
       "Name: IcNaOk, dtype: int64"
      ]
     },
     "metadata": {},
     "execution_count": 67
    }
   ],
   "source": [
    "unpickled_df['IcNaOk'].value_counts()"
   ]
  },
  {
   "cell_type": "code",
   "execution_count": 68,
   "metadata": {},
   "outputs": [
    {
     "output_type": "display_data",
     "data": {
      "text/plain": "<Figure size 432x288 with 1 Axes>",
      "image/svg+xml": "<?xml version=\"1.0\" encoding=\"utf-8\" standalone=\"no\"?>\n<!DOCTYPE svg PUBLIC \"-//W3C//DTD SVG 1.1//EN\"\n  \"http://www.w3.org/Graphics/SVG/1.1/DTD/svg11.dtd\">\n<!-- Created with matplotlib (https://matplotlib.org/) -->\n<svg height=\"266.374219pt\" version=\"1.1\" viewBox=\"0 0 404.259531 266.374219\" width=\"404.259531pt\" xmlns=\"http://www.w3.org/2000/svg\" xmlns:xlink=\"http://www.w3.org/1999/xlink\">\n <defs>\n  <style type=\"text/css\">\n*{stroke-linecap:butt;stroke-linejoin:round;}\n  </style>\n </defs>\n <g id=\"figure_1\">\n  <g id=\"patch_1\">\n   <path d=\"M 0 266.374219 \nL 404.259531 266.374219 \nL 404.259531 0 \nL 0 0 \nz\n\" style=\"fill:#ffffff;\"/>\n  </g>\n  <g id=\"axes_1\">\n   <g id=\"patch_2\">\n    <path d=\"M 62.259531 224.64 \nL 397.059531 224.64 \nL 397.059531 7.2 \nL 62.259531 7.2 \nz\n\" style=\"fill:#ffffff;\"/>\n   </g>\n   <g id=\"matplotlib.axis_1\">\n    <g id=\"xtick_1\">\n     <g id=\"text_1\">\n      <!-- 0.0 -->\n      <defs>\n       <path d=\"M 4.15625 35.296875 \nQ 4.15625 48 6.765625 55.734375 \nQ 9.375 63.484375 14.515625 67.671875 \nQ 19.671875 71.875 27.484375 71.875 \nQ 33.25 71.875 37.59375 69.546875 \nQ 41.9375 67.234375 44.765625 62.859375 \nQ 47.609375 58.5 49.21875 52.21875 \nQ 50.828125 45.953125 50.828125 35.296875 \nQ 50.828125 22.703125 48.234375 14.96875 \nQ 45.65625 7.234375 40.5 3 \nQ 35.359375 -1.21875 27.484375 -1.21875 \nQ 17.140625 -1.21875 11.234375 6.203125 \nQ 4.15625 15.140625 4.15625 35.296875 \nz\nM 13.1875 35.296875 \nQ 13.1875 17.671875 17.3125 11.828125 \nQ 21.4375 6 27.484375 6 \nQ 33.546875 6 37.671875 11.859375 \nQ 41.796875 17.71875 41.796875 35.296875 \nQ 41.796875 52.984375 37.671875 58.78125 \nQ 33.546875 64.59375 27.390625 64.59375 \nQ 21.34375 64.59375 17.71875 59.46875 \nQ 13.1875 52.9375 13.1875 35.296875 \nz\n\" id=\"ArialMT-48\"/>\n       <path d=\"M 9.078125 0 \nL 9.078125 10.015625 \nL 19.09375 10.015625 \nL 19.09375 0 \nz\n\" id=\"ArialMT-46\"/>\n      </defs>\n      <g style=\"fill:#262626;\" transform=\"translate(138.314531 242.013594)scale(0.11 -0.11)\">\n       <use xlink:href=\"#ArialMT-48\"/>\n       <use x=\"55.615234\" xlink:href=\"#ArialMT-46\"/>\n       <use x=\"83.398438\" xlink:href=\"#ArialMT-48\"/>\n      </g>\n     </g>\n    </g>\n    <g id=\"xtick_2\">\n     <g id=\"text_2\">\n      <!-- 1.0 -->\n      <defs>\n       <path d=\"M 37.25 0 \nL 28.46875 0 \nL 28.46875 56 \nQ 25.296875 52.984375 20.140625 49.953125 \nQ 14.984375 46.921875 10.890625 45.40625 \nL 10.890625 53.90625 \nQ 18.265625 57.375 23.78125 62.296875 \nQ 29.296875 67.234375 31.59375 71.875 \nL 37.25 71.875 \nz\n\" id=\"ArialMT-49\"/>\n      </defs>\n      <g style=\"fill:#262626;\" transform=\"translate(305.714531 242.013594)scale(0.11 -0.11)\">\n       <use xlink:href=\"#ArialMT-49\"/>\n       <use x=\"55.615234\" xlink:href=\"#ArialMT-46\"/>\n       <use x=\"83.398438\" xlink:href=\"#ArialMT-48\"/>\n      </g>\n     </g>\n    </g>\n    <g id=\"text_3\">\n     <!-- IcNaOk -->\n     <defs>\n      <path d=\"M 9.328125 0 \nL 9.328125 71.578125 \nL 18.796875 71.578125 \nL 18.796875 0 \nz\n\" id=\"ArialMT-73\"/>\n      <path d=\"M 40.4375 19 \nL 49.078125 17.875 \nQ 47.65625 8.9375 41.8125 3.875 \nQ 35.984375 -1.171875 27.484375 -1.171875 \nQ 16.84375 -1.171875 10.375 5.78125 \nQ 3.90625 12.75 3.90625 25.734375 \nQ 3.90625 34.125 6.6875 40.421875 \nQ 9.46875 46.734375 15.15625 49.875 \nQ 20.84375 53.03125 27.546875 53.03125 \nQ 35.984375 53.03125 41.359375 48.75 \nQ 46.734375 44.484375 48.25 36.625 \nL 39.703125 35.296875 \nQ 38.484375 40.53125 35.375 43.15625 \nQ 32.28125 45.796875 27.875 45.796875 \nQ 21.234375 45.796875 17.078125 41.03125 \nQ 12.9375 36.28125 12.9375 25.984375 \nQ 12.9375 15.53125 16.9375 10.796875 \nQ 20.953125 6.0625 27.390625 6.0625 \nQ 32.5625 6.0625 36.03125 9.234375 \nQ 39.5 12.40625 40.4375 19 \nz\n\" id=\"ArialMT-99\"/>\n      <path d=\"M 7.625 0 \nL 7.625 71.578125 \nL 17.328125 71.578125 \nL 54.9375 15.375 \nL 54.9375 71.578125 \nL 64.015625 71.578125 \nL 64.015625 0 \nL 54.296875 0 \nL 16.703125 56.25 \nL 16.703125 0 \nz\n\" id=\"ArialMT-78\"/>\n      <path d=\"M 40.4375 6.390625 \nQ 35.546875 2.25 31.03125 0.53125 \nQ 26.515625 -1.171875 21.34375 -1.171875 \nQ 12.796875 -1.171875 8.203125 3 \nQ 3.609375 7.171875 3.609375 13.671875 \nQ 3.609375 17.484375 5.34375 20.625 \nQ 7.078125 23.78125 9.890625 25.6875 \nQ 12.703125 27.59375 16.21875 28.5625 \nQ 18.796875 29.25 24.03125 29.890625 \nQ 34.671875 31.15625 39.703125 32.90625 \nQ 39.75 34.71875 39.75 35.203125 \nQ 39.75 40.578125 37.25 42.78125 \nQ 33.890625 45.75 27.25 45.75 \nQ 21.046875 45.75 18.09375 43.578125 \nQ 15.140625 41.40625 13.71875 35.890625 \nL 5.125 37.0625 \nQ 6.296875 42.578125 8.984375 45.96875 \nQ 11.671875 49.359375 16.75 51.1875 \nQ 21.828125 53.03125 28.515625 53.03125 \nQ 35.15625 53.03125 39.296875 51.46875 \nQ 43.453125 49.90625 45.40625 47.53125 \nQ 47.359375 45.171875 48.140625 41.546875 \nQ 48.578125 39.3125 48.578125 33.453125 \nL 48.578125 21.734375 \nQ 48.578125 9.46875 49.140625 6.21875 \nQ 49.703125 2.984375 51.375 0 \nL 42.1875 0 \nQ 40.828125 2.734375 40.4375 6.390625 \nz\nM 39.703125 26.03125 \nQ 34.90625 24.078125 25.34375 22.703125 \nQ 19.921875 21.921875 17.671875 20.9375 \nQ 15.4375 19.96875 14.203125 18.09375 \nQ 12.984375 16.21875 12.984375 13.921875 \nQ 12.984375 10.40625 15.640625 8.0625 \nQ 18.3125 5.71875 23.4375 5.71875 \nQ 28.515625 5.71875 32.46875 7.9375 \nQ 36.421875 10.15625 38.28125 14.015625 \nQ 39.703125 17 39.703125 22.796875 \nz\n\" id=\"ArialMT-97\"/>\n      <path d=\"M 4.828125 34.859375 \nQ 4.828125 52.6875 14.390625 62.765625 \nQ 23.96875 72.859375 39.109375 72.859375 \nQ 49.03125 72.859375 56.984375 68.109375 \nQ 64.9375 63.375 69.109375 54.90625 \nQ 73.296875 46.4375 73.296875 35.6875 \nQ 73.296875 24.8125 68.890625 16.21875 \nQ 64.5 7.625 56.4375 3.203125 \nQ 48.390625 -1.21875 39.0625 -1.21875 \nQ 28.953125 -1.21875 20.984375 3.65625 \nQ 13.03125 8.546875 8.921875 16.984375 \nQ 4.828125 25.4375 4.828125 34.859375 \nz\nM 14.59375 34.71875 \nQ 14.59375 21.78125 21.546875 14.328125 \nQ 28.515625 6.890625 39.015625 6.890625 \nQ 49.703125 6.890625 56.609375 14.40625 \nQ 63.53125 21.921875 63.53125 35.75 \nQ 63.53125 44.484375 60.578125 51 \nQ 57.625 57.515625 51.921875 61.109375 \nQ 46.234375 64.703125 39.15625 64.703125 \nQ 29.109375 64.703125 21.84375 57.78125 \nQ 14.59375 50.875 14.59375 34.71875 \nz\n\" id=\"ArialMT-79\"/>\n      <path d=\"M 6.640625 0 \nL 6.640625 71.578125 \nL 15.4375 71.578125 \nL 15.4375 30.765625 \nL 36.234375 51.859375 \nL 47.609375 51.859375 \nL 27.78125 32.625 \nL 49.609375 0 \nL 38.765625 0 \nL 21.625 26.515625 \nL 15.4375 20.5625 \nL 15.4375 0 \nz\n\" id=\"ArialMT-107\"/>\n     </defs>\n     <g style=\"fill:#262626;\" transform=\"translate(209.656094 256.789219)scale(0.12 -0.12)\">\n      <use xlink:href=\"#ArialMT-73\"/>\n      <use x=\"27.783203\" xlink:href=\"#ArialMT-99\"/>\n      <use x=\"77.783203\" xlink:href=\"#ArialMT-78\"/>\n      <use x=\"150\" xlink:href=\"#ArialMT-97\"/>\n      <use x=\"205.615234\" xlink:href=\"#ArialMT-79\"/>\n      <use x=\"283.398438\" xlink:href=\"#ArialMT-107\"/>\n     </g>\n    </g>\n   </g>\n   <g id=\"matplotlib.axis_2\">\n    <g id=\"ytick_1\">\n     <g id=\"line2d_1\">\n      <path clip-path=\"url(#pf43d5a6e12)\" d=\"M 62.259531 224.64 \nL 397.059531 224.64 \n\" style=\"fill:none;stroke:#cccccc;stroke-linecap:round;\"/>\n     </g>\n     <g id=\"text_4\">\n      <!-- 0 -->\n      <g style=\"fill:#262626;\" transform=\"translate(46.6425 228.576797)scale(0.11 -0.11)\">\n       <use xlink:href=\"#ArialMT-48\"/>\n      </g>\n     </g>\n    </g>\n    <g id=\"ytick_2\">\n     <g id=\"line2d_2\">\n      <path clip-path=\"url(#pf43d5a6e12)\" d=\"M 62.259531 187.729615 \nL 397.059531 187.729615 \n\" style=\"fill:none;stroke:#cccccc;stroke-linecap:round;\"/>\n     </g>\n     <g id=\"text_5\">\n      <!-- 2000 -->\n      <defs>\n       <path d=\"M 50.34375 8.453125 \nL 50.34375 0 \nL 3.03125 0 \nQ 2.9375 3.171875 4.046875 6.109375 \nQ 5.859375 10.9375 9.828125 15.625 \nQ 13.8125 20.3125 21.34375 26.46875 \nQ 33.015625 36.03125 37.109375 41.625 \nQ 41.21875 47.21875 41.21875 52.203125 \nQ 41.21875 57.421875 37.46875 61 \nQ 33.734375 64.59375 27.734375 64.59375 \nQ 21.390625 64.59375 17.578125 60.78125 \nQ 13.765625 56.984375 13.71875 50.25 \nL 4.6875 51.171875 \nQ 5.609375 61.28125 11.65625 66.578125 \nQ 17.71875 71.875 27.9375 71.875 \nQ 38.234375 71.875 44.234375 66.15625 \nQ 50.25 60.453125 50.25 52 \nQ 50.25 47.703125 48.484375 43.546875 \nQ 46.734375 39.40625 42.65625 34.8125 \nQ 38.578125 30.21875 29.109375 22.21875 \nQ 21.1875 15.578125 18.9375 13.203125 \nQ 16.703125 10.84375 15.234375 8.453125 \nz\n\" id=\"ArialMT-50\"/>\n      </defs>\n      <g style=\"fill:#262626;\" transform=\"translate(28.291406 191.666412)scale(0.11 -0.11)\">\n       <use xlink:href=\"#ArialMT-50\"/>\n       <use x=\"55.615234\" xlink:href=\"#ArialMT-48\"/>\n       <use x=\"111.230469\" xlink:href=\"#ArialMT-48\"/>\n       <use x=\"166.845703\" xlink:href=\"#ArialMT-48\"/>\n      </g>\n     </g>\n    </g>\n    <g id=\"ytick_3\">\n     <g id=\"line2d_3\">\n      <path clip-path=\"url(#pf43d5a6e12)\" d=\"M 62.259531 150.81923 \nL 397.059531 150.81923 \n\" style=\"fill:none;stroke:#cccccc;stroke-linecap:round;\"/>\n     </g>\n     <g id=\"text_6\">\n      <!-- 4000 -->\n      <defs>\n       <path d=\"M 32.328125 0 \nL 32.328125 17.140625 \nL 1.265625 17.140625 \nL 1.265625 25.203125 \nL 33.9375 71.578125 \nL 41.109375 71.578125 \nL 41.109375 25.203125 \nL 50.78125 25.203125 \nL 50.78125 17.140625 \nL 41.109375 17.140625 \nL 41.109375 0 \nz\nM 32.328125 25.203125 \nL 32.328125 57.46875 \nL 9.90625 25.203125 \nz\n\" id=\"ArialMT-52\"/>\n      </defs>\n      <g style=\"fill:#262626;\" transform=\"translate(28.291406 154.756027)scale(0.11 -0.11)\">\n       <use xlink:href=\"#ArialMT-52\"/>\n       <use x=\"55.615234\" xlink:href=\"#ArialMT-48\"/>\n       <use x=\"111.230469\" xlink:href=\"#ArialMT-48\"/>\n       <use x=\"166.845703\" xlink:href=\"#ArialMT-48\"/>\n      </g>\n     </g>\n    </g>\n    <g id=\"ytick_4\">\n     <g id=\"line2d_4\">\n      <path clip-path=\"url(#pf43d5a6e12)\" d=\"M 62.259531 113.908845 \nL 397.059531 113.908845 \n\" style=\"fill:none;stroke:#cccccc;stroke-linecap:round;\"/>\n     </g>\n     <g id=\"text_7\">\n      <!-- 6000 -->\n      <defs>\n       <path d=\"M 49.75 54.046875 \nL 41.015625 53.375 \nQ 39.84375 58.546875 37.703125 60.890625 \nQ 34.125 64.65625 28.90625 64.65625 \nQ 24.703125 64.65625 21.53125 62.3125 \nQ 17.390625 59.28125 14.984375 53.46875 \nQ 12.59375 47.65625 12.5 36.921875 \nQ 15.671875 41.75 20.265625 44.09375 \nQ 24.859375 46.4375 29.890625 46.4375 \nQ 38.671875 46.4375 44.84375 39.96875 \nQ 51.03125 33.5 51.03125 23.25 \nQ 51.03125 16.5 48.125 10.71875 \nQ 45.21875 4.9375 40.140625 1.859375 \nQ 35.0625 -1.21875 28.609375 -1.21875 \nQ 17.625 -1.21875 10.6875 6.859375 \nQ 3.765625 14.9375 3.765625 33.5 \nQ 3.765625 54.25 11.421875 63.671875 \nQ 18.109375 71.875 29.4375 71.875 \nQ 37.890625 71.875 43.28125 67.140625 \nQ 48.6875 62.40625 49.75 54.046875 \nz\nM 13.875 23.1875 \nQ 13.875 18.65625 15.796875 14.5 \nQ 17.71875 10.359375 21.1875 8.171875 \nQ 24.65625 6 28.46875 6 \nQ 34.03125 6 38.03125 10.484375 \nQ 42.046875 14.984375 42.046875 22.703125 \nQ 42.046875 30.125 38.078125 34.390625 \nQ 34.125 38.671875 28.125 38.671875 \nQ 22.171875 38.671875 18.015625 34.390625 \nQ 13.875 30.125 13.875 23.1875 \nz\n\" id=\"ArialMT-54\"/>\n      </defs>\n      <g style=\"fill:#262626;\" transform=\"translate(28.291406 117.845642)scale(0.11 -0.11)\">\n       <use xlink:href=\"#ArialMT-54\"/>\n       <use x=\"55.615234\" xlink:href=\"#ArialMT-48\"/>\n       <use x=\"111.230469\" xlink:href=\"#ArialMT-48\"/>\n       <use x=\"166.845703\" xlink:href=\"#ArialMT-48\"/>\n      </g>\n     </g>\n    </g>\n    <g id=\"ytick_5\">\n     <g id=\"line2d_5\">\n      <path clip-path=\"url(#pf43d5a6e12)\" d=\"M 62.259531 76.998461 \nL 397.059531 76.998461 \n\" style=\"fill:none;stroke:#cccccc;stroke-linecap:round;\"/>\n     </g>\n     <g id=\"text_8\">\n      <!-- 8000 -->\n      <defs>\n       <path d=\"M 17.671875 38.8125 \nQ 12.203125 40.828125 9.5625 44.53125 \nQ 6.9375 48.25 6.9375 53.421875 \nQ 6.9375 61.234375 12.546875 66.546875 \nQ 18.171875 71.875 27.484375 71.875 \nQ 36.859375 71.875 42.578125 66.421875 \nQ 48.296875 60.984375 48.296875 53.171875 \nQ 48.296875 48.1875 45.671875 44.5 \nQ 43.0625 40.828125 37.75 38.8125 \nQ 44.34375 36.671875 47.78125 31.875 \nQ 51.21875 27.09375 51.21875 20.453125 \nQ 51.21875 11.28125 44.71875 5.03125 \nQ 38.234375 -1.21875 27.640625 -1.21875 \nQ 17.046875 -1.21875 10.546875 5.046875 \nQ 4.046875 11.328125 4.046875 20.703125 \nQ 4.046875 27.6875 7.59375 32.390625 \nQ 11.140625 37.109375 17.671875 38.8125 \nz\nM 15.921875 53.71875 \nQ 15.921875 48.640625 19.1875 45.40625 \nQ 22.46875 42.1875 27.6875 42.1875 \nQ 32.765625 42.1875 36.015625 45.375 \nQ 39.265625 48.578125 39.265625 53.21875 \nQ 39.265625 58.0625 35.90625 61.359375 \nQ 32.5625 64.65625 27.59375 64.65625 \nQ 22.5625 64.65625 19.234375 61.421875 \nQ 15.921875 58.203125 15.921875 53.71875 \nz\nM 13.09375 20.65625 \nQ 13.09375 16.890625 14.875 13.375 \nQ 16.65625 9.859375 20.171875 7.921875 \nQ 23.6875 6 27.734375 6 \nQ 34.03125 6 38.125 10.046875 \nQ 42.234375 14.109375 42.234375 20.359375 \nQ 42.234375 26.703125 38.015625 30.859375 \nQ 33.796875 35.015625 27.4375 35.015625 \nQ 21.234375 35.015625 17.15625 30.90625 \nQ 13.09375 26.8125 13.09375 20.65625 \nz\n\" id=\"ArialMT-56\"/>\n      </defs>\n      <g style=\"fill:#262626;\" transform=\"translate(28.291406 80.935257)scale(0.11 -0.11)\">\n       <use xlink:href=\"#ArialMT-56\"/>\n       <use x=\"55.615234\" xlink:href=\"#ArialMT-48\"/>\n       <use x=\"111.230469\" xlink:href=\"#ArialMT-48\"/>\n       <use x=\"166.845703\" xlink:href=\"#ArialMT-48\"/>\n      </g>\n     </g>\n    </g>\n    <g id=\"ytick_6\">\n     <g id=\"line2d_6\">\n      <path clip-path=\"url(#pf43d5a6e12)\" d=\"M 62.259531 40.088076 \nL 397.059531 40.088076 \n\" style=\"fill:none;stroke:#cccccc;stroke-linecap:round;\"/>\n     </g>\n     <g id=\"text_9\">\n      <!-- 10000 -->\n      <g style=\"fill:#262626;\" transform=\"translate(22.174375 44.024873)scale(0.11 -0.11)\">\n       <use xlink:href=\"#ArialMT-49\"/>\n       <use x=\"55.615234\" xlink:href=\"#ArialMT-48\"/>\n       <use x=\"111.230469\" xlink:href=\"#ArialMT-48\"/>\n       <use x=\"166.845703\" xlink:href=\"#ArialMT-48\"/>\n       <use x=\"222.460938\" xlink:href=\"#ArialMT-48\"/>\n      </g>\n     </g>\n    </g>\n    <g id=\"text_10\">\n     <!-- count -->\n     <defs>\n      <path d=\"M 3.328125 25.921875 \nQ 3.328125 40.328125 11.328125 47.265625 \nQ 18.015625 53.03125 27.640625 53.03125 \nQ 38.328125 53.03125 45.109375 46.015625 \nQ 51.90625 39.015625 51.90625 26.65625 \nQ 51.90625 16.65625 48.90625 10.90625 \nQ 45.90625 5.171875 40.15625 2 \nQ 34.421875 -1.171875 27.640625 -1.171875 \nQ 16.75 -1.171875 10.03125 5.8125 \nQ 3.328125 12.796875 3.328125 25.921875 \nz\nM 12.359375 25.921875 \nQ 12.359375 15.96875 16.703125 11.015625 \nQ 21.046875 6.0625 27.640625 6.0625 \nQ 34.1875 6.0625 38.53125 11.03125 \nQ 42.875 16.015625 42.875 26.21875 \nQ 42.875 35.84375 38.5 40.796875 \nQ 34.125 45.75 27.640625 45.75 \nQ 21.046875 45.75 16.703125 40.8125 \nQ 12.359375 35.890625 12.359375 25.921875 \nz\n\" id=\"ArialMT-111\"/>\n      <path d=\"M 40.578125 0 \nL 40.578125 7.625 \nQ 34.515625 -1.171875 24.125 -1.171875 \nQ 19.53125 -1.171875 15.546875 0.578125 \nQ 11.578125 2.34375 9.640625 5 \nQ 7.71875 7.671875 6.9375 11.53125 \nQ 6.390625 14.109375 6.390625 19.734375 \nL 6.390625 51.859375 \nL 15.1875 51.859375 \nL 15.1875 23.09375 \nQ 15.1875 16.21875 15.71875 13.8125 \nQ 16.546875 10.359375 19.234375 8.375 \nQ 21.921875 6.390625 25.875 6.390625 \nQ 29.828125 6.390625 33.296875 8.421875 \nQ 36.765625 10.453125 38.203125 13.9375 \nQ 39.65625 17.4375 39.65625 24.078125 \nL 39.65625 51.859375 \nL 48.4375 51.859375 \nL 48.4375 0 \nz\n\" id=\"ArialMT-117\"/>\n      <path d=\"M 6.59375 0 \nL 6.59375 51.859375 \nL 14.5 51.859375 \nL 14.5 44.484375 \nQ 20.21875 53.03125 31 53.03125 \nQ 35.6875 53.03125 39.625 51.34375 \nQ 43.5625 49.65625 45.515625 46.921875 \nQ 47.46875 44.1875 48.25 40.4375 \nQ 48.734375 37.984375 48.734375 31.890625 \nL 48.734375 0 \nL 39.9375 0 \nL 39.9375 31.546875 \nQ 39.9375 36.921875 38.90625 39.578125 \nQ 37.890625 42.234375 35.28125 43.8125 \nQ 32.671875 45.40625 29.15625 45.40625 \nQ 23.53125 45.40625 19.453125 41.84375 \nQ 15.375 38.28125 15.375 28.328125 \nL 15.375 0 \nz\n\" id=\"ArialMT-110\"/>\n      <path d=\"M 25.78125 7.859375 \nL 27.046875 0.09375 \nQ 23.34375 -0.6875 20.40625 -0.6875 \nQ 15.625 -0.6875 12.984375 0.828125 \nQ 10.359375 2.34375 9.28125 4.8125 \nQ 8.203125 7.28125 8.203125 15.1875 \nL 8.203125 45.015625 \nL 1.765625 45.015625 \nL 1.765625 51.859375 \nL 8.203125 51.859375 \nL 8.203125 64.703125 \nL 16.9375 69.96875 \nL 16.9375 51.859375 \nL 25.78125 51.859375 \nL 25.78125 45.015625 \nL 16.9375 45.015625 \nL 16.9375 14.703125 \nQ 16.9375 10.9375 17.40625 9.859375 \nQ 17.875 8.796875 18.921875 8.15625 \nQ 19.96875 7.515625 21.921875 7.515625 \nQ 23.390625 7.515625 25.78125 7.859375 \nz\n\" id=\"ArialMT-116\"/>\n     </defs>\n     <g style=\"fill:#262626;\" transform=\"translate(15.789375 130.596562)rotate(-90)scale(0.12 -0.12)\">\n      <use xlink:href=\"#ArialMT-99\"/>\n      <use x=\"50\" xlink:href=\"#ArialMT-111\"/>\n      <use x=\"105.615234\" xlink:href=\"#ArialMT-117\"/>\n      <use x=\"161.230469\" xlink:href=\"#ArialMT-110\"/>\n      <use x=\"216.845703\" xlink:href=\"#ArialMT-116\"/>\n     </g>\n    </g>\n   </g>\n   <g id=\"patch_3\">\n    <path clip-path=\"url(#pf43d5a6e12)\" d=\"M 78.999531 224.64 \nL 212.919531 224.64 \nL 212.919531 17.554286 \nL 78.999531 17.554286 \nz\n\" style=\"fill:#cb6d67;stroke:#ffffff;stroke-linejoin:miter;\"/>\n   </g>\n   <g id=\"patch_4\">\n    <path clip-path=\"url(#pf43d5a6e12)\" d=\"M 246.399531 224.64 \nL 380.319531 224.64 \nL 380.319531 196.698839 \nL 246.399531 196.698839 \nz\n\" style=\"fill:#67c5cb;stroke:#ffffff;stroke-linejoin:miter;\"/>\n   </g>\n   <g id=\"patch_5\">\n    <path d=\"M 62.259531 224.64 \nL 62.259531 7.2 \n\" style=\"fill:none;stroke:#cccccc;stroke-linecap:square;stroke-linejoin:miter;stroke-width:1.25;\"/>\n   </g>\n   <g id=\"patch_6\">\n    <path d=\"M 397.059531 224.64 \nL 397.059531 7.2 \n\" style=\"fill:none;stroke:#cccccc;stroke-linecap:square;stroke-linejoin:miter;stroke-width:1.25;\"/>\n   </g>\n   <g id=\"patch_7\">\n    <path d=\"M 62.259531 224.64 \nL 397.059531 224.64 \n\" style=\"fill:none;stroke:#cccccc;stroke-linecap:square;stroke-linejoin:miter;stroke-width:1.25;\"/>\n   </g>\n   <g id=\"patch_8\">\n    <path d=\"M 62.259531 7.2 \nL 397.059531 7.2 \n\" style=\"fill:none;stroke:#cccccc;stroke-linecap:square;stroke-linejoin:miter;stroke-width:1.25;\"/>\n   </g>\n  </g>\n </g>\n <defs>\n  <clipPath id=\"pf43d5a6e12\">\n   <rect height=\"217.44\" width=\"334.8\" x=\"62.259531\" y=\"7.2\"/>\n  </clipPath>\n </defs>\n</svg>\n",
      "image/png": "[encoded data removed]"
     },
     "metadata": {}
    }
   ],
   "source": [
    "sns.countplot(x = 'IcNaOk', data = unpickled_df, palette= 'hls')\n",
    "plt.show()"
   ]
  },
  {
   "cell_type": "code",
   "execution_count": 69,
   "metadata": {},
   "outputs": [
    {
     "output_type": "execute_result",
     "data": {
      "text/plain": [
       "        Length_MeetTijd  Percentage HR nan  Percentage SpO2 nan  \\\n",
       "IcNaOk                                                            \n",
       "0.0          237.010962           0.019742             0.035165   \n",
       "1.0          181.610304           0.021340             0.047808   \n",
       "\n",
       "        Percentage NIBP nan  Mean hearthrate  Std hearthrate  Max hearthrate  \\\n",
       "IcNaOk                                                                         \n",
       "0.0                0.379450        71.656917        9.690080      112.524852   \n",
       "1.0                0.349053        81.998654       10.636616      120.736598   \n",
       "\n",
       "        Min hearthrate  \n",
       "IcNaOk                  \n",
       "0.0          54.222153  \n",
       "1.0          62.640635  "
      ],
      "text/html": "<div>\n<style scoped>\n    .dataframe tbody tr th:only-of-type {\n        vertical-align: middle;\n    }\n\n    .dataframe tbody tr th {\n        vertical-align: top;\n    }\n\n    .dataframe thead th {\n        text-align: right;\n    }\n</style>\n<table border=\"1\" class=\"dataframe\">\n  <thead>\n    <tr style=\"text-align: right;\">\n      <th></th>\n      <th>Length_MeetTijd</th>\n      <th>Percentage HR nan</th>\n      <th>Percentage SpO2 nan</th>\n      <th>Percentage NIBP nan</th>\n      <th>Mean hearthrate</th>\n      <th>Std hearthrate</th>\n      <th>Max hearthrate</th>\n      <th>Min hearthrate</th>\n    </tr>\n    <tr>\n      <th>IcNaOk</th>\n      <th></th>\n      <th></th>\n      <th></th>\n      <th></th>\n      <th></th>\n      <th></th>\n      <th></th>\n      <th></th>\n    </tr>\n  </thead>\n  <tbody>\n    <tr>\n      <th>0.0</th>\n      <td>237.010962</td>\n      <td>0.019742</td>\n      <td>0.035165</td>\n      <td>0.379450</td>\n      <td>71.656917</td>\n      <td>9.690080</td>\n      <td>112.524852</td>\n      <td>54.222153</td>\n    </tr>\n    <tr>\n      <th>1.0</th>\n      <td>181.610304</td>\n      <td>0.021340</td>\n      <td>0.047808</td>\n      <td>0.349053</td>\n      <td>81.998654</td>\n      <td>10.636616</td>\n      <td>120.736598</td>\n      <td>62.640635</td>\n    </tr>\n  </tbody>\n</table>\n</div>"
     },
     "metadata": {},
     "execution_count": 69
    }
   ],
   "source": [
    "unpickled_df.groupby('IcNaOk').mean()"
   ]
  },
  {
   "cell_type": "code",
   "execution_count": 86,
   "metadata": {},
   "outputs": [
    {
     "output_type": "execute_result",
     "data": {
      "text/plain": [
       "Length_MeetTijd        0\n",
       "Percentage HR nan      0\n",
       "Percentage SpO2 nan    0\n",
       "Percentage NIBP nan    0\n",
       "Mean hearthrate        0\n",
       "Std hearthrate         0\n",
       "Max hearthrate         0\n",
       "Min hearthrate         0\n",
       "IcNaOk                 0\n",
       "dtype: int64"
      ]
     },
     "metadata": {},
     "execution_count": 86
    }
   ],
   "source": [
    "data_final = unpickled_df[['Length_MeetTijd', 'Percentage HR nan', 'Percentage SpO2 nan', 'Percentage NIBP nan', 'Mean hearthrate','Std hearthrate', 'Max hearthrate', 'Min hearthrate', 'IcNaOk']]\n",
    "data_final = data_final.dropna()\n",
    "data_final.isna().sum()"
   ]
  },
  {
   "source": [],
   "cell_type": "markdown",
   "metadata": {}
  },
  {
   "cell_type": "code",
   "execution_count": 30,
   "metadata": {},
   "outputs": [
    {
     "output_type": "stream",
     "name": "stdout",
     "text": [
      "Collecting sklearn.neighbors\n",
      "\u001b[31m  ERROR: Could not find a version that satisfies the requirement sklearn.neighbors (from versions: none)\u001b[0m\n",
      "\u001b[31mERROR: No matching distribution found for sklearn.neighbors\u001b[0m\n",
      "\u001b[33mWARNING: You are using pip version 19.2.3, however version 21.0.1 is available.\n",
      "You should consider upgrading via the 'pip install --upgrade pip' command.\u001b[0m\n",
      "Note: you may need to restart the kernel to use updated packages.\n"
     ]
    }
   ],
   "source": [
    "pip install sklearn.neighbors\n"
   ]
  },
  {
   "cell_type": "code",
   "execution_count": 96,
   "metadata": {},
   "outputs": [
    {
     "output_type": "stream",
     "name": "stdout",
     "text": [
      "Number transactions X_train dataset:  (8887, 8)\nNumber transactions y_train dataset:  (8887,)\nNumber transactions X_test dataset:  (3810, 8)\nNumber transactions y_test dataset:  (3810,)\n"
     ]
    }
   ],
   "source": [
    "from sklearn.model_selection import train_test_split\n",
    "\n",
    "X, y = data_final[['Length_MeetTijd', 'Percentage HR nan', 'Percentage SpO2 nan', 'Percentage NIBP nan', 'Mean hearthrate','Std hearthrate', 'Max hearthrate', 'Min hearthrate']], data_final['IcNaOk']\n",
    "X_train, X_test, y_train, y_test = train_test_split(X, y, test_size = 0.3, random_state = None)\n",
    "\n",
    "print(\"Number transactions X_train dataset: \", X_train.shape) \n",
    "print(\"Number transactions y_train dataset: \", y_train.shape) \n",
    "print(\"Number transactions X_test dataset: \", X_test.shape) \n",
    "print(\"Number transactions y_test dataset: \", y_test.shape) "
   ]
  },
  {
   "cell_type": "code",
   "execution_count": 97,
   "metadata": {},
   "outputs": [
    {
     "output_type": "stream",
     "name": "stdout",
     "text": [
      "              precision    recall  f1-score   support\n\n         0.0       0.88      0.99      0.94      3356\n         1.0       0.47      0.04      0.07       454\n\n    accuracy                           0.88      3810\n   macro avg       0.68      0.52      0.50      3810\nweighted avg       0.84      0.88      0.83      3810\n\n"
     ]
    }
   ],
   "source": [
    "# logistic regression object \n",
    "lr = LogisticRegression() \n",
    "  \n",
    "# train the model on train set \n",
    "lr.fit(X_train, y_train.ravel()) \n",
    "  \n",
    "predictions = lr.predict(X_test) \n",
    "  \n",
    "# print classification report \n",
    "from sklearn.metrics import classification_report\n",
    "print(classification_report(y_test, predictions)) "
   ]
  },
  {
   "cell_type": "code",
   "execution_count": 89,
   "metadata": {},
   "outputs": [
    {
     "output_type": "stream",
     "name": "stdout",
     "text": [
      "Requirement already satisfied: imblearn in /Library/Frameworks/Python.framework/Versions/3.8/lib/python3.8/site-packages (0.0)\n",
      "Requirement already satisfied: imbalanced-learn in /Library/Frameworks/Python.framework/Versions/3.8/lib/python3.8/site-packages (from imblearn) (0.8.0)\n",
      "Requirement already satisfied: numpy>=1.13.3 in /Library/Frameworks/Python.framework/Versions/3.8/lib/python3.8/site-packages (from imbalanced-learn->imblearn) (1.19.5)\n",
      "Requirement already satisfied: joblib>=0.11 in /Library/Frameworks/Python.framework/Versions/3.8/lib/python3.8/site-packages (from imbalanced-learn->imblearn) (0.15.1)\n",
      "Requirement already satisfied: scikit-learn>=0.24 in /Library/Frameworks/Python.framework/Versions/3.8/lib/python3.8/site-packages (from imbalanced-learn->imblearn) (0.24.1)\n",
      "Requirement already satisfied: scipy>=0.19.1 in /Library/Frameworks/Python.framework/Versions/3.8/lib/python3.8/site-packages (from imbalanced-learn->imblearn) (1.6.1)\n",
      "Requirement already satisfied: threadpoolctl>=2.0.0 in /Users/jellewas/Library/Python/3.8/lib/python/site-packages (from scikit-learn>=0.24->imbalanced-learn->imblearn) (2.1.0)\n",
      "\u001b[33mWARNING: You are using pip version 19.2.3, however version 21.0.1 is available.\n",
      "You should consider upgrading via the 'pip install --upgrade pip' command.\u001b[0m\n",
      "Note: you may need to restart the kernel to use updated packages.\n"
     ]
    }
   ],
   "source": [
    "pip install imblearn"
   ]
  },
  {
   "cell_type": "code",
   "execution_count": 90,
   "metadata": {},
   "outputs": [
    {
     "output_type": "stream",
     "name": "stdout",
     "text": [
      "Requirement already up-to-date: scipy in /Library/Frameworks/Python.framework/Versions/3.8/lib/python3.8/site-packages (1.6.1)\n",
      "Requirement already satisfied, skipping upgrade: numpy>=1.16.5 in /Library/Frameworks/Python.framework/Versions/3.8/lib/python3.8/site-packages (from scipy) (1.19.5)\n",
      "\u001b[33mWARNING: You are using pip version 19.2.3, however version 21.0.1 is available.\n",
      "You should consider upgrading via the 'pip install --upgrade pip' command.\u001b[0m\n",
      "Note: you may need to restart the kernel to use updated packages.\n"
     ]
    }
   ],
   "source": [
    "pip install scipy --upgrade"
   ]
  },
  {
   "source": [
    "# SMOTE\n",
    "After SMOTE algorithm to oversample the data"
   ],
   "cell_type": "markdown",
   "metadata": {}
  },
  {
   "cell_type": "code",
   "execution_count": 98,
   "metadata": {},
   "outputs": [
    {
     "output_type": "stream",
     "name": "stdout",
     "text": [
      "Before OverSampling, counts of label '1': 1057\nBefore OverSampling, counts of label '0': 7830 \n\nAfter OverSampling, the shape of train_X: (15660, 8)\nAfter OverSampling, the shape of train_y: (15660,) \n\nAfter OverSampling, counts of label '1': 7830\nAfter OverSampling, counts of label '0': 7830\n"
     ]
    }
   ],
   "source": [
    "print(\"Before OverSampling, counts of label '1': {}\".format(sum(y_train == 1))) \n",
    "print(\"Before OverSampling, counts of label '0': {} \\n\".format(sum(y_train == 0))) \n",
    "  \n",
    "# import SMOTE module from imblearn library \n",
    "# pip install imblearn (if you don't have imblearn in your system) \n",
    "from imblearn.over_sampling import SMOTE\n",
    "sm = SMOTE(random_state = 2) \n",
    "X_train_res, y_train_res = sm.fit_resample(X_train, y_train.ravel()) \n",
    "  \n",
    "print('After OverSampling, the shape of train_X: {}'.format(X_train_res.shape)) \n",
    "print('After OverSampling, the shape of train_y: {} \\n'.format(y_train_res.shape)) \n",
    "  \n",
    "print(\"After OverSampling, counts of label '1': {}\".format(sum(y_train_res == 1))) \n",
    "print(\"After OverSampling, counts of label '0': {}\".format(sum(y_train_res == 0)))"
   ]
  },
  {
   "cell_type": "code",
   "execution_count": 99,
   "metadata": {},
   "outputs": [
    {
     "output_type": "stream",
     "name": "stdout",
     "text": [
      "              precision    recall  f1-score   support\n\n         0.0       0.94      0.70      0.80      3356\n         1.0       0.23      0.65      0.34       454\n\n    accuracy                           0.69      3810\n   macro avg       0.58      0.68      0.57      3810\nweighted avg       0.85      0.69      0.75      3810\n\n"
     ]
    }
   ],
   "source": [
    "lr1 = LogisticRegression() \n",
    "lr1.fit(X_train_res, y_train_res.ravel()) \n",
    "predictions = lr1.predict(X_test) \n",
    "  \n",
    "# print classification report \n",
    "print(classification_report(y_test, predictions)) "
   ]
  },
  {
   "cell_type": "code",
   "execution_count": 93,
   "metadata": {},
   "outputs": [
    {
     "output_type": "stream",
     "name": "stdout",
     "text": [
      "[ True  True  True  True  True  True  True  True  True]\n[1 1 1 1 1 1 1 1 1]\n"
     ]
    }
   ],
   "source": [
    "from sklearn.feature_selection import RFE\n",
    "from sklearn.linear_model import LogisticRegression\n",
    "rfe = RFE(lr1, 20)\n",
    "rfe = rfe.fit(X_train_res, y_train_res.ravel())\n",
    "print(rfe.support_)\n",
    "print(rfe.ranking_)"
   ]
  },
  {
   "cell_type": "code",
   "execution_count": 100,
   "metadata": {},
   "outputs": [
    {
     "output_type": "stream",
     "name": "stdout",
     "text": [
      "Optimization terminated successfully.\n         Current function value: 0.655731\n         Iterations 5\n                           Results: Logit\n====================================================================\nModel:                Logit            Pseudo R-squared: 0.054      \nDependent Variable:   y                AIC:              20553.5071 \nDate:                 2021-03-09 09:51 BIC:              20614.7780 \nNo. Observations:     15660            Log-Likelihood:   -10269.    \nDf Model:             7                LL-Null:          -10855.    \nDf Residuals:         15652            LLR p-value:      8.5735e-249\nConverged:            1.0000           Scale:            1.0000     \nNo. Iterations:       5.0000                                        \n--------------------------------------------------------------------\n                     Coef.  Std.Err.    z     P>|z|   [0.025  0.975]\n--------------------------------------------------------------------\nLength_MeetTijd     -0.0018   0.0001 -17.2916 0.0000 -0.0020 -0.0016\nPercentage HR nan   -2.3129   0.5675  -4.0755 0.0000 -3.4252 -1.2006\nPercentage SpO2 nan  0.7734   0.2733   2.8301 0.0047  0.2378  1.3091\nPercentage NIBP nan -0.4055   0.0502  -8.0766 0.0000 -0.5039 -0.3071\nMean hearthrate      0.0221   0.0018  11.9430 0.0000  0.0184  0.0257\nStd hearthrate       0.0684   0.0062  11.0037 0.0000  0.0562  0.0806\nMax hearthrate      -0.0180   0.0010 -17.8654 0.0000 -0.0200 -0.0160\nMin hearthrate       0.0055   0.0018   3.1132 0.0019  0.0020  0.0090\n====================================================================\n\n"
     ]
    }
   ],
   "source": [
    "import statsmodels.api as sm\n",
    "logit_model=sm.Logit(y_train_res,X_train_res)\n",
    "result=logit_model.fit()\n",
    "print(result.summary2())"
   ]
  },
  {
   "source": [
    "# Near-Miss Algorithm\n",
    "Udersample minority class"
   ],
   "cell_type": "markdown",
   "metadata": {}
  },
  {
   "cell_type": "code",
   "execution_count": 101,
   "metadata": {},
   "outputs": [
    {
     "output_type": "stream",
     "name": "stdout",
     "text": [
      "Before Undersampling, counts of label '1': 1057\nBefore Undersampling, counts of label '0': 7830 \n\nAfter Undersampling, the shape of train_X: (2114, 8)\nAfter Undersampling, the shape of train_y: (2114,) \n\nAfter Undersampling, counts of label '1': 1057\nAfter Undersampling, counts of label '0': 1057\n"
     ]
    }
   ],
   "source": [
    "print(\"Before Undersampling, counts of label '1': {}\".format(sum(y_train == 1))) \n",
    "print(\"Before Undersampling, counts of label '0': {} \\n\".format(sum(y_train == 0))) \n",
    "  \n",
    "# apply near miss \n",
    "from imblearn.under_sampling import NearMiss \n",
    "nr = NearMiss() \n",
    "  \n",
    "X_train_miss, y_train_miss = nr.fit_resample(X_train, y_train.ravel()) \n",
    "  \n",
    "print('After Undersampling, the shape of train_X: {}'.format(X_train_miss.shape)) \n",
    "print('After Undersampling, the shape of train_y: {} \\n'.format(y_train_miss.shape)) \n",
    "  \n",
    "print(\"After Undersampling, counts of label '1': {}\".format(sum(y_train_miss == 1))) \n",
    "print(\"After Undersampling, counts of label '0': {}\".format(sum(y_train_miss == 0)))"
   ]
  },
  {
   "cell_type": "code",
   "execution_count": 102,
   "metadata": {},
   "outputs": [
    {
     "output_type": "stream",
     "name": "stdout",
     "text": [
      "              precision    recall  f1-score   support\n\n         0.0       0.90      0.41      0.57      3356\n         1.0       0.13      0.67      0.22       454\n\n    accuracy                           0.45      3810\n   macro avg       0.52      0.54      0.40      3810\nweighted avg       0.81      0.45      0.53      3810\n\n"
     ]
    }
   ],
   "source": [
    "# train the model on train set \n",
    "lr2 = LogisticRegression() \n",
    "lr2.fit(X_train_miss, y_train_miss.ravel()) \n",
    "predictions = lr2.predict(X_test) \n",
    "  \n",
    "# print classification report \n",
    "print(classification_report(y_test, predictions)) "
   ]
  },
  {
   "source": [
    "# RFE"
   ],
   "cell_type": "markdown",
   "metadata": {}
  },
  {
   "cell_type": "code",
   "execution_count": 103,
   "metadata": {},
   "outputs": [
    {
     "output_type": "stream",
     "name": "stdout",
     "text": [
      "[ True  True  True  True  True  True  True  True]\n[1 1 1 1 1 1 1 1]\n"
     ]
    }
   ],
   "source": [
    "from sklearn.feature_selection import RFE\n",
    "from sklearn.linear_model import LogisticRegression\n",
    "logreg = LogisticRegression()\n",
    "rfe = RFE(logreg, 20)\n",
    "rfe = rfe.fit(X, y.values.ravel())\n",
    "print(rfe.support_)\n",
    "print(rfe.ranking_)"
   ]
  },
  {
   "cell_type": "code",
   "execution_count": 31,
   "metadata": {},
   "outputs": [
    {
     "output_type": "stream",
     "name": "stdout",
     "text": [
      "[ True  True  True  True]\n[1 1 1 1]\n"
     ]
    }
   ],
   "source": []
  },
  {
   "cell_type": "code",
   "execution_count": 104,
   "metadata": {},
   "outputs": [
    {
     "output_type": "stream",
     "name": "stdout",
     "text": [
      "Optimization terminated successfully.\n         Current function value: 0.368585\n         Iterations 7\n                           Results: Logit\n====================================================================\nModel:                Logit             Pseudo R-squared:  -0.010   \nDependent Variable:   IcNaOk            AIC:               9375.8373\nDate:                 2021-03-09 09:51  BIC:               9435.4302\nNo. Observations:     12697             Log-Likelihood:    -4679.9  \nDf Model:             7                 LL-Null:           -4633.6  \nDf Residuals:         12689             LLR p-value:       1.0000   \nConverged:            1.0000            Scale:             1.0000   \nNo. Iterations:       7.0000                                        \n--------------------------------------------------------------------\n                     Coef.  Std.Err.    z     P>|z|   [0.025  0.975]\n--------------------------------------------------------------------\nLength_MeetTijd     -0.0044   0.0002 -17.6919 0.0000 -0.0049 -0.0039\nPercentage HR nan   -1.0291   0.8237  -1.2494 0.2115 -2.6436  0.5853\nPercentage SpO2 nan  0.6746   0.3667   1.8395 0.0658 -0.0442  1.3934\nPercentage NIBP nan -0.2380   0.0765  -3.1109 0.0019 -0.3880 -0.0881\nMean hearthrate      0.0136   0.0030   4.5845 0.0000  0.0078  0.0194\nStd hearthrate       0.0465   0.0101   4.6114 0.0000  0.0267  0.0662\nMax hearthrate      -0.0198   0.0017 -11.4578 0.0000 -0.0232 -0.0164\nMin hearthrate      -0.0033   0.0029  -1.1327 0.2573 -0.0090  0.0024\n====================================================================\n\n"
     ]
    }
   ],
   "source": [
    "import statsmodels.api as sm\n",
    "logit_model=sm.Logit(y,X)\n",
    "result=logit_model.fit()\n",
    "print(result.summary2())"
   ]
  },
  {
   "cell_type": "code",
   "execution_count": 121,
   "metadata": {},
   "outputs": [
    {
     "output_type": "execute_result",
     "data": {
      "text/plain": [
       "       Length_MeetTijd  Percentage NIBP nan  Mean hearthrate  Std hearthrate  \\\n",
       "0                   89             0.067416        75.958904        3.616698   \n",
       "1                  146             0.020548        57.500000       24.779369   \n",
       "2                  200             0.015000        63.792929        7.155739   \n",
       "3                  178             0.005618        92.000000       12.914320   \n",
       "4                   75             0.066667        62.293333        6.050396   \n",
       "...                ...                  ...              ...             ...   \n",
       "12732              158             0.867089        65.477419        8.139379   \n",
       "12733              357             0.837535        71.338983        8.675461   \n",
       "12734              427             0.857143        60.959620        2.785402   \n",
       "12735              243             0.872428        84.345833        8.717391   \n",
       "12736              134             0.850746        71.233083        5.231322   \n",
       "\n",
       "       Max hearthrate  \n",
       "0                88.0  \n",
       "1               174.0  \n",
       "2                88.0  \n",
       "3               111.0  \n",
       "4                85.0  \n",
       "...               ...  \n",
       "12732            93.0  \n",
       "12733           107.0  \n",
       "12734            71.0  \n",
       "12735           112.0  \n",
       "12736            83.0  \n",
       "\n",
       "[12697 rows x 5 columns]"
      ],
      "text/html": "<div>\n<style scoped>\n    .dataframe tbody tr th:only-of-type {\n        vertical-align: middle;\n    }\n\n    .dataframe tbody tr th {\n        vertical-align: top;\n    }\n\n    .dataframe thead th {\n        text-align: right;\n    }\n</style>\n<table border=\"1\" class=\"dataframe\">\n  <thead>\n    <tr style=\"text-align: right;\">\n      <th></th>\n      <th>Length_MeetTijd</th>\n      <th>Percentage NIBP nan</th>\n      <th>Mean hearthrate</th>\n      <th>Std hearthrate</th>\n      <th>Max hearthrate</th>\n    </tr>\n  </thead>\n  <tbody>\n    <tr>\n      <th>0</th>\n      <td>89</td>\n      <td>0.067416</td>\n      <td>75.958904</td>\n      <td>3.616698</td>\n      <td>88.0</td>\n    </tr>\n    <tr>\n      <th>1</th>\n      <td>146</td>\n      <td>0.020548</td>\n      <td>57.500000</td>\n      <td>24.779369</td>\n      <td>174.0</td>\n    </tr>\n    <tr>\n      <th>2</th>\n      <td>200</td>\n      <td>0.015000</td>\n      <td>63.792929</td>\n      <td>7.155739</td>\n      <td>88.0</td>\n    </tr>\n    <tr>\n      <th>3</th>\n      <td>178</td>\n      <td>0.005618</td>\n      <td>92.000000</td>\n      <td>12.914320</td>\n      <td>111.0</td>\n    </tr>\n    <tr>\n      <th>4</th>\n      <td>75</td>\n      <td>0.066667</td>\n      <td>62.293333</td>\n      <td>6.050396</td>\n      <td>85.0</td>\n    </tr>\n    <tr>\n      <th>...</th>\n      <td>...</td>\n      <td>...</td>\n      <td>...</td>\n      <td>...</td>\n      <td>...</td>\n    </tr>\n    <tr>\n      <th>12732</th>\n      <td>158</td>\n      <td>0.867089</td>\n      <td>65.477419</td>\n      <td>8.139379</td>\n      <td>93.0</td>\n    </tr>\n    <tr>\n      <th>12733</th>\n      <td>357</td>\n      <td>0.837535</td>\n      <td>71.338983</td>\n      <td>8.675461</td>\n      <td>107.0</td>\n    </tr>\n    <tr>\n      <th>12734</th>\n      <td>427</td>\n      <td>0.857143</td>\n      <td>60.959620</td>\n      <td>2.785402</td>\n      <td>71.0</td>\n    </tr>\n    <tr>\n      <th>12735</th>\n      <td>243</td>\n      <td>0.872428</td>\n      <td>84.345833</td>\n      <td>8.717391</td>\n      <td>112.0</td>\n    </tr>\n    <tr>\n      <th>12736</th>\n      <td>134</td>\n      <td>0.850746</td>\n      <td>71.233083</td>\n      <td>5.231322</td>\n      <td>83.0</td>\n    </tr>\n  </tbody>\n</table>\n<p>12697 rows × 5 columns</p>\n</div>"
     },
     "metadata": {},
     "execution_count": 121
    }
   ],
   "source": [
    "new_X = data_final[['Length_MeetTijd', 'Percentage NIBP nan', 'Mean hearthrate', 'Std hearthrate', 'Max hearthrate']]\n",
    "new_X"
   ]
  },
  {
   "cell_type": "code",
   "execution_count": 122,
   "metadata": {},
   "outputs": [
    {
     "output_type": "stream",
     "name": "stdout",
     "text": [
      "Optimization terminated successfully.\n         Current function value: 0.368819\n         Iterations 7\n                           Results: Logit\n====================================================================\nModel:                Logit             Pseudo R-squared:  -0.011   \nDependent Variable:   IcNaOk            AIC:               9375.7803\nDate:                 2021-03-09 10:05  BIC:               9413.0259\nNo. Observations:     12697             Log-Likelihood:    -4682.9  \nDf Model:             4                 LL-Null:           -4633.6  \nDf Residuals:         12692             LLR p-value:       1.0000   \nConverged:            1.0000            Scale:             1.0000   \nNo. Iterations:       7.0000                                        \n--------------------------------------------------------------------\n                     Coef.  Std.Err.    z     P>|z|   [0.025  0.975]\n--------------------------------------------------------------------\nLength_MeetTijd     -0.0044   0.0002 -17.9136 0.0000 -0.0049 -0.0039\nPercentage NIBP nan -0.2509   0.0755  -3.3215 0.0009 -0.3989 -0.1028\nMean hearthrate      0.0111   0.0019   5.8661 0.0000  0.0074  0.0148\nStd hearthrate       0.0524   0.0087   5.9929 0.0000  0.0352  0.0695\nMax hearthrate      -0.0202   0.0017 -12.0553 0.0000 -0.0235 -0.0169\n====================================================================\n\n"
     ]
    }
   ],
   "source": [
    "logit_model2=sm.Logit(y,new_X)\n",
    "result2=logit_model2.fit()\n",
    "print(result2.summary2())"
   ]
  },
  {
   "cell_type": "code",
   "execution_count": 108,
   "metadata": {},
   "outputs": [
    {
     "output_type": "stream",
     "name": "stdout",
     "text": [
      "Optimization terminated successfully.\n         Current function value: 0.369257\n         Iterations 7\n                         Results: Logit\n================================================================\nModel:              Logit            Pseudo R-squared: -0.012   \nDependent Variable: IcNaOk           AIC:              9384.9120\nDate:               2021-03-09 09:55 BIC:              9414.7085\nNo. Observations:   12697            Log-Likelihood:   -4688.5  \nDf Model:           3                LL-Null:          -4633.6  \nDf Residuals:       12693            LLR p-value:      1.0000   \nConverged:          1.0000           Scale:            1.0000   \nNo. Iterations:     7.0000                                      \n----------------------------------------------------------------\n                 Coef.  Std.Err.    z     P>|z|   [0.025  0.975]\n----------------------------------------------------------------\nLength_MeetTijd -0.0047   0.0002 -20.0196 0.0000 -0.0051 -0.0042\nMean hearthrate  0.0090   0.0018   5.0419 0.0000  0.0055  0.0125\nStd hearthrate   0.0504   0.0087   5.7748 0.0000  0.0333  0.0675\nMax hearthrate  -0.0189   0.0016 -11.6047 0.0000 -0.0221 -0.0157\n================================================================\n\n"
     ]
    }
   ],
   "source": [
    "newest_model = new_X[['Length_MeetTijd', 'Mean hearthrate', 'Std hearthrate', 'Max hearthrate']]\n",
    "logit_model2=sm.Logit(y,newest_model)\n",
    "result2=logit_model2.fit()\n",
    "print(result2.summary2())"
   ]
  },
  {
   "cell_type": "code",
   "execution_count": 123,
   "metadata": {},
   "outputs": [
    {
     "output_type": "execute_result",
     "data": {
      "text/plain": [
       "LogisticRegression()"
      ]
     },
     "metadata": {},
     "execution_count": 123
    }
   ],
   "source": [
    "from sklearn.linear_model import LogisticRegression\n",
    "from sklearn import metrics\n",
    "X_train, X_test, y_train, y_test = train_test_split(new_X, y, test_size=0.3, random_state=0)\n",
    "logreg = LogisticRegression()\n",
    "logreg.fit(X_train, y_train)"
   ]
  },
  {
   "cell_type": "code",
   "execution_count": 124,
   "metadata": {},
   "outputs": [
    {
     "output_type": "stream",
     "name": "stdout",
     "text": [
      "Accuracy of logistic regression classifier on test set: 0.88\n"
     ]
    }
   ],
   "source": [
    "y_pred = logreg.predict(X_test)\n",
    "print('Accuracy of logistic regression classifier on test set: {:.2f}'.format(logreg.score(X_test, y_test)))"
   ]
  },
  {
   "cell_type": "code",
   "execution_count": 125,
   "metadata": {},
   "outputs": [
    {
     "output_type": "stream",
     "name": "stdout",
     "text": [
      "[[3343   19]\n [ 436   12]]\n"
     ]
    }
   ],
   "source": [
    "from sklearn.metrics import confusion_matrix\n",
    "confusion_matrix = confusion_matrix(y_test, y_pred)\n",
    "print(confusion_matrix)"
   ]
  },
  {
   "cell_type": "code",
   "execution_count": 126,
   "metadata": {},
   "outputs": [
    {
     "output_type": "stream",
     "name": "stdout",
     "text": [
      "              precision    recall  f1-score   support\n\n         0.0       0.88      0.99      0.94      3362\n         1.0       0.39      0.03      0.05       448\n\n    accuracy                           0.88      3810\n   macro avg       0.64      0.51      0.49      3810\nweighted avg       0.83      0.88      0.83      3810\n\n"
     ]
    }
   ],
   "source": [
    "from sklearn.metrics import classification_report\n",
    "print(classification_report(y_test, y_pred))"
   ]
  },
  {
   "cell_type": "code",
   "execution_count": 130,
   "metadata": {},
   "outputs": [
    {
     "output_type": "display_data",
     "data": {
      "text/plain": "<Figure size 432x288 with 1 Axes>",
      "image/svg+xml": "<?xml version=\"1.0\" encoding=\"utf-8\" standalone=\"no\"?>\n<!DOCTYPE svg PUBLIC \"-//W3C//DTD SVG 1.1//EN\"\n  \"http://www.w3.org/Graphics/SVG/1.1/DTD/svg11.dtd\">\n<!-- Created with matplotlib (https://matplotlib.org/) -->\n<svg height=\"280.963594pt\" version=\"1.1\" viewBox=\"0 0 396.609375 280.963594\" width=\"396.609375pt\" xmlns=\"http://www.w3.org/2000/svg\" xmlns:xlink=\"http://www.w3.org/1999/xlink\">\n <defs>\n  <style type=\"text/css\">\n*{stroke-linecap:butt;stroke-linejoin:round;}\n  </style>\n </defs>\n <g id=\"figure_1\">\n  <g id=\"patch_1\">\n   <path d=\"M -0 280.963594 \nL 396.609375 280.963594 \nL 396.609375 0 \nL -0 0 \nz\n\" style=\"fill:#ffffff;\"/>\n  </g>\n  <g id=\"axes_1\">\n   <g id=\"patch_2\">\n    <path d=\"M 46.964375 239.229375 \nL 381.764375 239.229375 \nL 381.764375 21.789375 \nL 46.964375 21.789375 \nz\n\" style=\"fill:#ffffff;\"/>\n   </g>\n   <g id=\"matplotlib.axis_1\">\n    <g id=\"xtick_1\">\n     <g id=\"line2d_1\">\n      <path clip-path=\"url(#pb488820fe1)\" d=\"M 46.964375 239.229375 \nL 46.964375 21.789375 \n\" style=\"fill:none;stroke:#cccccc;stroke-linecap:round;\"/>\n     </g>\n     <g id=\"text_1\">\n      <!-- 0.0 -->\n      <defs>\n       <path d=\"M 4.15625 35.296875 \nQ 4.15625 48 6.765625 55.734375 \nQ 9.375 63.484375 14.515625 67.671875 \nQ 19.671875 71.875 27.484375 71.875 \nQ 33.25 71.875 37.59375 69.546875 \nQ 41.9375 67.234375 44.765625 62.859375 \nQ 47.609375 58.5 49.21875 52.21875 \nQ 50.828125 45.953125 50.828125 35.296875 \nQ 50.828125 22.703125 48.234375 14.96875 \nQ 45.65625 7.234375 40.5 3 \nQ 35.359375 -1.21875 27.484375 -1.21875 \nQ 17.140625 -1.21875 11.234375 6.203125 \nQ 4.15625 15.140625 4.15625 35.296875 \nz\nM 13.1875 35.296875 \nQ 13.1875 17.671875 17.3125 11.828125 \nQ 21.4375 6 27.484375 6 \nQ 33.546875 6 37.671875 11.859375 \nQ 41.796875 17.71875 41.796875 35.296875 \nQ 41.796875 52.984375 37.671875 58.78125 \nQ 33.546875 64.59375 27.390625 64.59375 \nQ 21.34375 64.59375 17.71875 59.46875 \nQ 13.1875 52.9375 13.1875 35.296875 \nz\n\" id=\"ArialMT-48\"/>\n       <path d=\"M 9.078125 0 \nL 9.078125 10.015625 \nL 19.09375 10.015625 \nL 19.09375 0 \nz\n\" id=\"ArialMT-46\"/>\n      </defs>\n      <g style=\"fill:#262626;\" transform=\"translate(39.319375 256.602969)scale(0.11 -0.11)\">\n       <use xlink:href=\"#ArialMT-48\"/>\n       <use x=\"55.615234\" xlink:href=\"#ArialMT-46\"/>\n       <use x=\"83.398438\" xlink:href=\"#ArialMT-48\"/>\n      </g>\n     </g>\n    </g>\n    <g id=\"xtick_2\">\n     <g id=\"line2d_2\">\n      <path clip-path=\"url(#pb488820fe1)\" d=\"M 113.924375 239.229375 \nL 113.924375 21.789375 \n\" style=\"fill:none;stroke:#cccccc;stroke-linecap:round;\"/>\n     </g>\n     <g id=\"text_2\">\n      <!-- 0.2 -->\n      <defs>\n       <path d=\"M 50.34375 8.453125 \nL 50.34375 0 \nL 3.03125 0 \nQ 2.9375 3.171875 4.046875 6.109375 \nQ 5.859375 10.9375 9.828125 15.625 \nQ 13.8125 20.3125 21.34375 26.46875 \nQ 33.015625 36.03125 37.109375 41.625 \nQ 41.21875 47.21875 41.21875 52.203125 \nQ 41.21875 57.421875 37.46875 61 \nQ 33.734375 64.59375 27.734375 64.59375 \nQ 21.390625 64.59375 17.578125 60.78125 \nQ 13.765625 56.984375 13.71875 50.25 \nL 4.6875 51.171875 \nQ 5.609375 61.28125 11.65625 66.578125 \nQ 17.71875 71.875 27.9375 71.875 \nQ 38.234375 71.875 44.234375 66.15625 \nQ 50.25 60.453125 50.25 52 \nQ 50.25 47.703125 48.484375 43.546875 \nQ 46.734375 39.40625 42.65625 34.8125 \nQ 38.578125 30.21875 29.109375 22.21875 \nQ 21.1875 15.578125 18.9375 13.203125 \nQ 16.703125 10.84375 15.234375 8.453125 \nz\n\" id=\"ArialMT-50\"/>\n      </defs>\n      <g style=\"fill:#262626;\" transform=\"translate(106.279375 256.602969)scale(0.11 -0.11)\">\n       <use xlink:href=\"#ArialMT-48\"/>\n       <use x=\"55.615234\" xlink:href=\"#ArialMT-46\"/>\n       <use x=\"83.398438\" xlink:href=\"#ArialMT-50\"/>\n      </g>\n     </g>\n    </g>\n    <g id=\"xtick_3\">\n     <g id=\"line2d_3\">\n      <path clip-path=\"url(#pb488820fe1)\" d=\"M 180.884375 239.229375 \nL 180.884375 21.789375 \n\" style=\"fill:none;stroke:#cccccc;stroke-linecap:round;\"/>\n     </g>\n     <g id=\"text_3\">\n      <!-- 0.4 -->\n      <defs>\n       <path d=\"M 32.328125 0 \nL 32.328125 17.140625 \nL 1.265625 17.140625 \nL 1.265625 25.203125 \nL 33.9375 71.578125 \nL 41.109375 71.578125 \nL 41.109375 25.203125 \nL 50.78125 25.203125 \nL 50.78125 17.140625 \nL 41.109375 17.140625 \nL 41.109375 0 \nz\nM 32.328125 25.203125 \nL 32.328125 57.46875 \nL 9.90625 25.203125 \nz\n\" id=\"ArialMT-52\"/>\n      </defs>\n      <g style=\"fill:#262626;\" transform=\"translate(173.239375 256.602969)scale(0.11 -0.11)\">\n       <use xlink:href=\"#ArialMT-48\"/>\n       <use x=\"55.615234\" xlink:href=\"#ArialMT-46\"/>\n       <use x=\"83.398438\" xlink:href=\"#ArialMT-52\"/>\n      </g>\n     </g>\n    </g>\n    <g id=\"xtick_4\">\n     <g id=\"line2d_4\">\n      <path clip-path=\"url(#pb488820fe1)\" d=\"M 247.844375 239.229375 \nL 247.844375 21.789375 \n\" style=\"fill:none;stroke:#cccccc;stroke-linecap:round;\"/>\n     </g>\n     <g id=\"text_4\">\n      <!-- 0.6 -->\n      <defs>\n       <path d=\"M 49.75 54.046875 \nL 41.015625 53.375 \nQ 39.84375 58.546875 37.703125 60.890625 \nQ 34.125 64.65625 28.90625 64.65625 \nQ 24.703125 64.65625 21.53125 62.3125 \nQ 17.390625 59.28125 14.984375 53.46875 \nQ 12.59375 47.65625 12.5 36.921875 \nQ 15.671875 41.75 20.265625 44.09375 \nQ 24.859375 46.4375 29.890625 46.4375 \nQ 38.671875 46.4375 44.84375 39.96875 \nQ 51.03125 33.5 51.03125 23.25 \nQ 51.03125 16.5 48.125 10.71875 \nQ 45.21875 4.9375 40.140625 1.859375 \nQ 35.0625 -1.21875 28.609375 -1.21875 \nQ 17.625 -1.21875 10.6875 6.859375 \nQ 3.765625 14.9375 3.765625 33.5 \nQ 3.765625 54.25 11.421875 63.671875 \nQ 18.109375 71.875 29.4375 71.875 \nQ 37.890625 71.875 43.28125 67.140625 \nQ 48.6875 62.40625 49.75 54.046875 \nz\nM 13.875 23.1875 \nQ 13.875 18.65625 15.796875 14.5 \nQ 17.71875 10.359375 21.1875 8.171875 \nQ 24.65625 6 28.46875 6 \nQ 34.03125 6 38.03125 10.484375 \nQ 42.046875 14.984375 42.046875 22.703125 \nQ 42.046875 30.125 38.078125 34.390625 \nQ 34.125 38.671875 28.125 38.671875 \nQ 22.171875 38.671875 18.015625 34.390625 \nQ 13.875 30.125 13.875 23.1875 \nz\n\" id=\"ArialMT-54\"/>\n      </defs>\n      <g style=\"fill:#262626;\" transform=\"translate(240.199375 256.602969)scale(0.11 -0.11)\">\n       <use xlink:href=\"#ArialMT-48\"/>\n       <use x=\"55.615234\" xlink:href=\"#ArialMT-46\"/>\n       <use x=\"83.398438\" xlink:href=\"#ArialMT-54\"/>\n      </g>\n     </g>\n    </g>\n    <g id=\"xtick_5\">\n     <g id=\"line2d_5\">\n      <path clip-path=\"url(#pb488820fe1)\" d=\"M 314.804375 239.229375 \nL 314.804375 21.789375 \n\" style=\"fill:none;stroke:#cccccc;stroke-linecap:round;\"/>\n     </g>\n     <g id=\"text_5\">\n      <!-- 0.8 -->\n      <defs>\n       <path d=\"M 17.671875 38.8125 \nQ 12.203125 40.828125 9.5625 44.53125 \nQ 6.9375 48.25 6.9375 53.421875 \nQ 6.9375 61.234375 12.546875 66.546875 \nQ 18.171875 71.875 27.484375 71.875 \nQ 36.859375 71.875 42.578125 66.421875 \nQ 48.296875 60.984375 48.296875 53.171875 \nQ 48.296875 48.1875 45.671875 44.5 \nQ 43.0625 40.828125 37.75 38.8125 \nQ 44.34375 36.671875 47.78125 31.875 \nQ 51.21875 27.09375 51.21875 20.453125 \nQ 51.21875 11.28125 44.71875 5.03125 \nQ 38.234375 -1.21875 27.640625 -1.21875 \nQ 17.046875 -1.21875 10.546875 5.046875 \nQ 4.046875 11.328125 4.046875 20.703125 \nQ 4.046875 27.6875 7.59375 32.390625 \nQ 11.140625 37.109375 17.671875 38.8125 \nz\nM 15.921875 53.71875 \nQ 15.921875 48.640625 19.1875 45.40625 \nQ 22.46875 42.1875 27.6875 42.1875 \nQ 32.765625 42.1875 36.015625 45.375 \nQ 39.265625 48.578125 39.265625 53.21875 \nQ 39.265625 58.0625 35.90625 61.359375 \nQ 32.5625 64.65625 27.59375 64.65625 \nQ 22.5625 64.65625 19.234375 61.421875 \nQ 15.921875 58.203125 15.921875 53.71875 \nz\nM 13.09375 20.65625 \nQ 13.09375 16.890625 14.875 13.375 \nQ 16.65625 9.859375 20.171875 7.921875 \nQ 23.6875 6 27.734375 6 \nQ 34.03125 6 38.125 10.046875 \nQ 42.234375 14.109375 42.234375 20.359375 \nQ 42.234375 26.703125 38.015625 30.859375 \nQ 33.796875 35.015625 27.4375 35.015625 \nQ 21.234375 35.015625 17.15625 30.90625 \nQ 13.09375 26.8125 13.09375 20.65625 \nz\n\" id=\"ArialMT-56\"/>\n      </defs>\n      <g style=\"fill:#262626;\" transform=\"translate(307.159375 256.602969)scale(0.11 -0.11)\">\n       <use xlink:href=\"#ArialMT-48\"/>\n       <use x=\"55.615234\" xlink:href=\"#ArialMT-46\"/>\n       <use x=\"83.398438\" xlink:href=\"#ArialMT-56\"/>\n      </g>\n     </g>\n    </g>\n    <g id=\"xtick_6\">\n     <g id=\"line2d_6\">\n      <path clip-path=\"url(#pb488820fe1)\" d=\"M 381.764375 239.229375 \nL 381.764375 21.789375 \n\" style=\"fill:none;stroke:#cccccc;stroke-linecap:round;\"/>\n     </g>\n     <g id=\"text_6\">\n      <!-- 1.0 -->\n      <defs>\n       <path d=\"M 37.25 0 \nL 28.46875 0 \nL 28.46875 56 \nQ 25.296875 52.984375 20.140625 49.953125 \nQ 14.984375 46.921875 10.890625 45.40625 \nL 10.890625 53.90625 \nQ 18.265625 57.375 23.78125 62.296875 \nQ 29.296875 67.234375 31.59375 71.875 \nL 37.25 71.875 \nz\n\" id=\"ArialMT-49\"/>\n      </defs>\n      <g style=\"fill:#262626;\" transform=\"translate(374.119375 256.602969)scale(0.11 -0.11)\">\n       <use xlink:href=\"#ArialMT-49\"/>\n       <use x=\"55.615234\" xlink:href=\"#ArialMT-46\"/>\n       <use x=\"83.398438\" xlink:href=\"#ArialMT-48\"/>\n      </g>\n     </g>\n    </g>\n    <g id=\"text_7\">\n     <!-- False Positive Rate -->\n     <defs>\n      <path d=\"M 8.203125 0 \nL 8.203125 71.578125 \nL 56.5 71.578125 \nL 56.5 63.140625 \nL 17.671875 63.140625 \nL 17.671875 40.96875 \nL 51.265625 40.96875 \nL 51.265625 32.515625 \nL 17.671875 32.515625 \nL 17.671875 0 \nz\n\" id=\"ArialMT-70\"/>\n      <path d=\"M 40.4375 6.390625 \nQ 35.546875 2.25 31.03125 0.53125 \nQ 26.515625 -1.171875 21.34375 -1.171875 \nQ 12.796875 -1.171875 8.203125 3 \nQ 3.609375 7.171875 3.609375 13.671875 \nQ 3.609375 17.484375 5.34375 20.625 \nQ 7.078125 23.78125 9.890625 25.6875 \nQ 12.703125 27.59375 16.21875 28.5625 \nQ 18.796875 29.25 24.03125 29.890625 \nQ 34.671875 31.15625 39.703125 32.90625 \nQ 39.75 34.71875 39.75 35.203125 \nQ 39.75 40.578125 37.25 42.78125 \nQ 33.890625 45.75 27.25 45.75 \nQ 21.046875 45.75 18.09375 43.578125 \nQ 15.140625 41.40625 13.71875 35.890625 \nL 5.125 37.0625 \nQ 6.296875 42.578125 8.984375 45.96875 \nQ 11.671875 49.359375 16.75 51.1875 \nQ 21.828125 53.03125 28.515625 53.03125 \nQ 35.15625 53.03125 39.296875 51.46875 \nQ 43.453125 49.90625 45.40625 47.53125 \nQ 47.359375 45.171875 48.140625 41.546875 \nQ 48.578125 39.3125 48.578125 33.453125 \nL 48.578125 21.734375 \nQ 48.578125 9.46875 49.140625 6.21875 \nQ 49.703125 2.984375 51.375 0 \nL 42.1875 0 \nQ 40.828125 2.734375 40.4375 6.390625 \nz\nM 39.703125 26.03125 \nQ 34.90625 24.078125 25.34375 22.703125 \nQ 19.921875 21.921875 17.671875 20.9375 \nQ 15.4375 19.96875 14.203125 18.09375 \nQ 12.984375 16.21875 12.984375 13.921875 \nQ 12.984375 10.40625 15.640625 8.0625 \nQ 18.3125 5.71875 23.4375 5.71875 \nQ 28.515625 5.71875 32.46875 7.9375 \nQ 36.421875 10.15625 38.28125 14.015625 \nQ 39.703125 17 39.703125 22.796875 \nz\n\" id=\"ArialMT-97\"/>\n      <path d=\"M 6.390625 0 \nL 6.390625 71.578125 \nL 15.1875 71.578125 \nL 15.1875 0 \nz\n\" id=\"ArialMT-108\"/>\n      <path d=\"M 3.078125 15.484375 \nL 11.765625 16.84375 \nQ 12.5 11.625 15.84375 8.84375 \nQ 19.1875 6.0625 25.203125 6.0625 \nQ 31.25 6.0625 34.171875 8.515625 \nQ 37.109375 10.984375 37.109375 14.3125 \nQ 37.109375 17.28125 34.515625 19 \nQ 32.71875 20.171875 25.53125 21.96875 \nQ 15.875 24.421875 12.140625 26.203125 \nQ 8.40625 27.984375 6.46875 31.125 \nQ 4.546875 34.28125 4.546875 38.09375 \nQ 4.546875 41.546875 6.125 44.5 \nQ 7.71875 47.46875 10.453125 49.421875 \nQ 12.5 50.921875 16.03125 51.96875 \nQ 19.578125 53.03125 23.640625 53.03125 \nQ 29.734375 53.03125 34.34375 51.265625 \nQ 38.96875 49.515625 41.15625 46.5 \nQ 43.359375 43.5 44.1875 38.484375 \nL 35.59375 37.3125 \nQ 35.015625 41.3125 32.203125 43.546875 \nQ 29.390625 45.796875 24.265625 45.796875 \nQ 18.21875 45.796875 15.625 43.796875 \nQ 13.03125 41.796875 13.03125 39.109375 \nQ 13.03125 37.40625 14.109375 36.03125 \nQ 15.1875 34.625 17.484375 33.6875 \nQ 18.796875 33.203125 25.25 31.453125 \nQ 34.578125 28.953125 38.25 27.359375 \nQ 41.9375 25.78125 44.03125 22.75 \nQ 46.140625 19.734375 46.140625 15.234375 \nQ 46.140625 10.84375 43.578125 6.953125 \nQ 41.015625 3.078125 36.171875 0.953125 \nQ 31.34375 -1.171875 25.25 -1.171875 \nQ 15.140625 -1.171875 9.84375 3.03125 \nQ 4.546875 7.234375 3.078125 15.484375 \nz\n\" id=\"ArialMT-115\"/>\n      <path d=\"M 42.09375 16.703125 \nL 51.171875 15.578125 \nQ 49.03125 7.625 43.21875 3.21875 \nQ 37.40625 -1.171875 28.375 -1.171875 \nQ 17 -1.171875 10.328125 5.828125 \nQ 3.65625 12.84375 3.65625 25.484375 \nQ 3.65625 38.578125 10.390625 45.796875 \nQ 17.140625 53.03125 27.875 53.03125 \nQ 38.28125 53.03125 44.875 45.953125 \nQ 51.46875 38.875 51.46875 26.03125 \nQ 51.46875 25.25 51.421875 23.6875 \nL 12.75 23.6875 \nQ 13.234375 15.140625 17.578125 10.59375 \nQ 21.921875 6.0625 28.421875 6.0625 \nQ 33.25 6.0625 36.671875 8.59375 \nQ 40.09375 11.140625 42.09375 16.703125 \nz\nM 13.234375 30.90625 \nL 42.1875 30.90625 \nQ 41.609375 37.453125 38.875 40.71875 \nQ 34.671875 45.796875 27.984375 45.796875 \nQ 21.921875 45.796875 17.796875 41.75 \nQ 13.671875 37.703125 13.234375 30.90625 \nz\n\" id=\"ArialMT-101\"/>\n      <path id=\"ArialMT-32\"/>\n      <path d=\"M 7.71875 0 \nL 7.71875 71.578125 \nL 34.71875 71.578125 \nQ 41.84375 71.578125 45.609375 70.90625 \nQ 50.875 70.015625 54.4375 67.546875 \nQ 58.015625 65.09375 60.1875 60.640625 \nQ 62.359375 56.203125 62.359375 50.875 \nQ 62.359375 41.75 56.546875 35.421875 \nQ 50.734375 29.109375 35.546875 29.109375 \nL 17.1875 29.109375 \nL 17.1875 0 \nz\nM 17.1875 37.546875 \nL 35.6875 37.546875 \nQ 44.875 37.546875 48.734375 40.96875 \nQ 52.59375 44.390625 52.59375 50.59375 \nQ 52.59375 55.078125 50.3125 58.265625 \nQ 48.046875 61.46875 44.34375 62.5 \nQ 41.9375 63.140625 35.5 63.140625 \nL 17.1875 63.140625 \nz\n\" id=\"ArialMT-80\"/>\n      <path d=\"M 3.328125 25.921875 \nQ 3.328125 40.328125 11.328125 47.265625 \nQ 18.015625 53.03125 27.640625 53.03125 \nQ 38.328125 53.03125 45.109375 46.015625 \nQ 51.90625 39.015625 51.90625 26.65625 \nQ 51.90625 16.65625 48.90625 10.90625 \nQ 45.90625 5.171875 40.15625 2 \nQ 34.421875 -1.171875 27.640625 -1.171875 \nQ 16.75 -1.171875 10.03125 5.8125 \nQ 3.328125 12.796875 3.328125 25.921875 \nz\nM 12.359375 25.921875 \nQ 12.359375 15.96875 16.703125 11.015625 \nQ 21.046875 6.0625 27.640625 6.0625 \nQ 34.1875 6.0625 38.53125 11.03125 \nQ 42.875 16.015625 42.875 26.21875 \nQ 42.875 35.84375 38.5 40.796875 \nQ 34.125 45.75 27.640625 45.75 \nQ 21.046875 45.75 16.703125 40.8125 \nQ 12.359375 35.890625 12.359375 25.921875 \nz\n\" id=\"ArialMT-111\"/>\n      <path d=\"M 6.640625 61.46875 \nL 6.640625 71.578125 \nL 15.4375 71.578125 \nL 15.4375 61.46875 \nz\nM 6.640625 0 \nL 6.640625 51.859375 \nL 15.4375 51.859375 \nL 15.4375 0 \nz\n\" id=\"ArialMT-105\"/>\n      <path d=\"M 25.78125 7.859375 \nL 27.046875 0.09375 \nQ 23.34375 -0.6875 20.40625 -0.6875 \nQ 15.625 -0.6875 12.984375 0.828125 \nQ 10.359375 2.34375 9.28125 4.8125 \nQ 8.203125 7.28125 8.203125 15.1875 \nL 8.203125 45.015625 \nL 1.765625 45.015625 \nL 1.765625 51.859375 \nL 8.203125 51.859375 \nL 8.203125 64.703125 \nL 16.9375 69.96875 \nL 16.9375 51.859375 \nL 25.78125 51.859375 \nL 25.78125 45.015625 \nL 16.9375 45.015625 \nL 16.9375 14.703125 \nQ 16.9375 10.9375 17.40625 9.859375 \nQ 17.875 8.796875 18.921875 8.15625 \nQ 19.96875 7.515625 21.921875 7.515625 \nQ 23.390625 7.515625 25.78125 7.859375 \nz\n\" id=\"ArialMT-116\"/>\n      <path d=\"M 21 0 \nL 1.265625 51.859375 \nL 10.546875 51.859375 \nL 21.6875 20.796875 \nQ 23.484375 15.765625 25 10.359375 \nQ 26.171875 14.453125 28.265625 20.21875 \nL 39.796875 51.859375 \nL 48.828125 51.859375 \nL 29.203125 0 \nz\n\" id=\"ArialMT-118\"/>\n      <path d=\"M 7.859375 0 \nL 7.859375 71.578125 \nL 39.59375 71.578125 \nQ 49.171875 71.578125 54.140625 69.640625 \nQ 59.125 67.71875 62.109375 62.828125 \nQ 65.09375 57.953125 65.09375 52.046875 \nQ 65.09375 44.4375 60.15625 39.203125 \nQ 55.21875 33.984375 44.921875 32.5625 \nQ 48.6875 30.765625 50.640625 29 \nQ 54.78125 25.203125 58.5 19.484375 \nL 70.953125 0 \nL 59.03125 0 \nL 49.5625 14.890625 \nQ 45.40625 21.34375 42.71875 24.75 \nQ 40.046875 28.171875 37.921875 29.53125 \nQ 35.796875 30.90625 33.59375 31.453125 \nQ 31.984375 31.78125 28.328125 31.78125 \nL 17.328125 31.78125 \nL 17.328125 0 \nz\nM 17.328125 39.984375 \nL 37.703125 39.984375 \nQ 44.1875 39.984375 47.84375 41.328125 \nQ 51.515625 42.671875 53.421875 45.625 \nQ 55.328125 48.578125 55.328125 52.046875 \nQ 55.328125 57.125 51.640625 60.390625 \nQ 47.953125 63.671875 39.984375 63.671875 \nL 17.328125 63.671875 \nz\n\" id=\"ArialMT-82\"/>\n     </defs>\n     <g style=\"fill:#262626;\" transform=\"translate(162.678125 271.378594)scale(0.12 -0.12)\">\n      <use xlink:href=\"#ArialMT-70\"/>\n      <use x=\"61.083984\" xlink:href=\"#ArialMT-97\"/>\n      <use x=\"116.699219\" xlink:href=\"#ArialMT-108\"/>\n      <use x=\"138.916016\" xlink:href=\"#ArialMT-115\"/>\n      <use x=\"188.916016\" xlink:href=\"#ArialMT-101\"/>\n      <use x=\"244.53125\" xlink:href=\"#ArialMT-32\"/>\n      <use x=\"272.314453\" xlink:href=\"#ArialMT-80\"/>\n      <use x=\"339.013672\" xlink:href=\"#ArialMT-111\"/>\n      <use x=\"394.628906\" xlink:href=\"#ArialMT-115\"/>\n      <use x=\"444.628906\" xlink:href=\"#ArialMT-105\"/>\n      <use x=\"466.845703\" xlink:href=\"#ArialMT-116\"/>\n      <use x=\"494.628906\" xlink:href=\"#ArialMT-105\"/>\n      <use x=\"516.845703\" xlink:href=\"#ArialMT-118\"/>\n      <use x=\"566.845703\" xlink:href=\"#ArialMT-101\"/>\n      <use x=\"622.460938\" xlink:href=\"#ArialMT-32\"/>\n      <use x=\"650.244141\" xlink:href=\"#ArialMT-82\"/>\n      <use x=\"722.460938\" xlink:href=\"#ArialMT-97\"/>\n      <use x=\"778.076172\" xlink:href=\"#ArialMT-116\"/>\n      <use x=\"805.859375\" xlink:href=\"#ArialMT-101\"/>\n     </g>\n    </g>\n   </g>\n   <g id=\"matplotlib.axis_2\">\n    <g id=\"ytick_1\">\n     <g id=\"line2d_7\">\n      <path clip-path=\"url(#pb488820fe1)\" d=\"M 46.964375 239.229375 \nL 381.764375 239.229375 \n\" style=\"fill:none;stroke:#cccccc;stroke-linecap:round;\"/>\n     </g>\n     <g id=\"text_8\">\n      <!-- 0.0 -->\n      <g style=\"fill:#262626;\" transform=\"translate(22.174375 243.166172)scale(0.11 -0.11)\">\n       <use xlink:href=\"#ArialMT-48\"/>\n       <use x=\"55.615234\" xlink:href=\"#ArialMT-46\"/>\n       <use x=\"83.398438\" xlink:href=\"#ArialMT-48\"/>\n      </g>\n     </g>\n    </g>\n    <g id=\"ytick_2\">\n     <g id=\"line2d_8\">\n      <path clip-path=\"url(#pb488820fe1)\" d=\"M 46.964375 197.812232 \nL 381.764375 197.812232 \n\" style=\"fill:none;stroke:#cccccc;stroke-linecap:round;\"/>\n     </g>\n     <g id=\"text_9\">\n      <!-- 0.2 -->\n      <g style=\"fill:#262626;\" transform=\"translate(22.174375 201.749029)scale(0.11 -0.11)\">\n       <use xlink:href=\"#ArialMT-48\"/>\n       <use x=\"55.615234\" xlink:href=\"#ArialMT-46\"/>\n       <use x=\"83.398438\" xlink:href=\"#ArialMT-50\"/>\n      </g>\n     </g>\n    </g>\n    <g id=\"ytick_3\">\n     <g id=\"line2d_9\">\n      <path clip-path=\"url(#pb488820fe1)\" d=\"M 46.964375 156.395089 \nL 381.764375 156.395089 \n\" style=\"fill:none;stroke:#cccccc;stroke-linecap:round;\"/>\n     </g>\n     <g id=\"text_10\">\n      <!-- 0.4 -->\n      <g style=\"fill:#262626;\" transform=\"translate(22.174375 160.331886)scale(0.11 -0.11)\">\n       <use xlink:href=\"#ArialMT-48\"/>\n       <use x=\"55.615234\" xlink:href=\"#ArialMT-46\"/>\n       <use x=\"83.398438\" xlink:href=\"#ArialMT-52\"/>\n      </g>\n     </g>\n    </g>\n    <g id=\"ytick_4\">\n     <g id=\"line2d_10\">\n      <path clip-path=\"url(#pb488820fe1)\" d=\"M 46.964375 114.977946 \nL 381.764375 114.977946 \n\" style=\"fill:none;stroke:#cccccc;stroke-linecap:round;\"/>\n     </g>\n     <g id=\"text_11\">\n      <!-- 0.6 -->\n      <g style=\"fill:#262626;\" transform=\"translate(22.174375 118.914743)scale(0.11 -0.11)\">\n       <use xlink:href=\"#ArialMT-48\"/>\n       <use x=\"55.615234\" xlink:href=\"#ArialMT-46\"/>\n       <use x=\"83.398438\" xlink:href=\"#ArialMT-54\"/>\n      </g>\n     </g>\n    </g>\n    <g id=\"ytick_5\">\n     <g id=\"line2d_11\">\n      <path clip-path=\"url(#pb488820fe1)\" d=\"M 46.964375 73.560804 \nL 381.764375 73.560804 \n\" style=\"fill:none;stroke:#cccccc;stroke-linecap:round;\"/>\n     </g>\n     <g id=\"text_12\">\n      <!-- 0.8 -->\n      <g style=\"fill:#262626;\" transform=\"translate(22.174375 77.4976)scale(0.11 -0.11)\">\n       <use xlink:href=\"#ArialMT-48\"/>\n       <use x=\"55.615234\" xlink:href=\"#ArialMT-46\"/>\n       <use x=\"83.398438\" xlink:href=\"#ArialMT-56\"/>\n      </g>\n     </g>\n    </g>\n    <g id=\"ytick_6\">\n     <g id=\"line2d_12\">\n      <path clip-path=\"url(#pb488820fe1)\" d=\"M 46.964375 32.143661 \nL 381.764375 32.143661 \n\" style=\"fill:none;stroke:#cccccc;stroke-linecap:round;\"/>\n     </g>\n     <g id=\"text_13\">\n      <!-- 1.0 -->\n      <g style=\"fill:#262626;\" transform=\"translate(22.174375 36.080458)scale(0.11 -0.11)\">\n       <use xlink:href=\"#ArialMT-49\"/>\n       <use x=\"55.615234\" xlink:href=\"#ArialMT-46\"/>\n       <use x=\"83.398438\" xlink:href=\"#ArialMT-48\"/>\n      </g>\n     </g>\n    </g>\n    <g id=\"text_14\">\n     <!-- True Positive Rate -->\n     <defs>\n      <path d=\"M 25.921875 0 \nL 25.921875 63.140625 \nL 2.34375 63.140625 \nL 2.34375 71.578125 \nL 59.078125 71.578125 \nL 59.078125 63.140625 \nL 35.40625 63.140625 \nL 35.40625 0 \nz\n\" id=\"ArialMT-84\"/>\n      <path d=\"M 6.5 0 \nL 6.5 51.859375 \nL 14.40625 51.859375 \nL 14.40625 44 \nQ 17.4375 49.515625 20 51.265625 \nQ 22.5625 53.03125 25.640625 53.03125 \nQ 30.078125 53.03125 34.671875 50.203125 \nL 31.640625 42.046875 \nQ 28.421875 43.953125 25.203125 43.953125 \nQ 22.3125 43.953125 20.015625 42.21875 \nQ 17.71875 40.484375 16.75 37.40625 \nQ 15.28125 32.71875 15.28125 27.15625 \nL 15.28125 0 \nz\n\" id=\"ArialMT-114\"/>\n      <path d=\"M 40.578125 0 \nL 40.578125 7.625 \nQ 34.515625 -1.171875 24.125 -1.171875 \nQ 19.53125 -1.171875 15.546875 0.578125 \nQ 11.578125 2.34375 9.640625 5 \nQ 7.71875 7.671875 6.9375 11.53125 \nQ 6.390625 14.109375 6.390625 19.734375 \nL 6.390625 51.859375 \nL 15.1875 51.859375 \nL 15.1875 23.09375 \nQ 15.1875 16.21875 15.71875 13.8125 \nQ 16.546875 10.359375 19.234375 8.375 \nQ 21.921875 6.390625 25.875 6.390625 \nQ 29.828125 6.390625 33.296875 8.421875 \nQ 36.765625 10.453125 38.203125 13.9375 \nQ 39.65625 17.4375 39.65625 24.078125 \nL 39.65625 51.859375 \nL 48.4375 51.859375 \nL 48.4375 0 \nz\n\" id=\"ArialMT-117\"/>\n     </defs>\n     <g style=\"fill:#262626;\" transform=\"translate(15.789375 179.635313)rotate(-90)scale(0.12 -0.12)\">\n      <use xlink:href=\"#ArialMT-84\"/>\n      <use x=\"57.333984\" xlink:href=\"#ArialMT-114\"/>\n      <use x=\"90.634766\" xlink:href=\"#ArialMT-117\"/>\n      <use x=\"146.25\" xlink:href=\"#ArialMT-101\"/>\n      <use x=\"201.865234\" xlink:href=\"#ArialMT-32\"/>\n      <use x=\"229.648438\" xlink:href=\"#ArialMT-80\"/>\n      <use x=\"296.347656\" xlink:href=\"#ArialMT-111\"/>\n      <use x=\"351.962891\" xlink:href=\"#ArialMT-115\"/>\n      <use x=\"401.962891\" xlink:href=\"#ArialMT-105\"/>\n      <use x=\"424.179688\" xlink:href=\"#ArialMT-116\"/>\n      <use x=\"451.962891\" xlink:href=\"#ArialMT-105\"/>\n      <use x=\"474.179688\" xlink:href=\"#ArialMT-118\"/>\n      <use x=\"524.179688\" xlink:href=\"#ArialMT-101\"/>\n      <use x=\"579.794922\" xlink:href=\"#ArialMT-32\"/>\n      <use x=\"607.578125\" xlink:href=\"#ArialMT-82\"/>\n      <use x=\"679.794922\" xlink:href=\"#ArialMT-97\"/>\n      <use x=\"735.410156\" xlink:href=\"#ArialMT-116\"/>\n      <use x=\"763.193359\" xlink:href=\"#ArialMT-101\"/>\n     </g>\n    </g>\n   </g>\n   <g id=\"line2d_13\">\n    <path clip-path=\"url(#pb488820fe1)\" d=\"M 46.964375 239.229375 \nL 47.163542 239.229375 \nL 47.263126 237.380395 \nL 47.462293 237.380395 \nL 47.561876 235.069171 \nL 47.761044 235.069171 \nL 47.761044 234.144681 \nL 48.756879 234.144681 \nL 48.756879 233.682436 \nL 49.05563 233.682436 \nL 49.05563 232.757946 \nL 49.354381 232.757946 \nL 49.453965 229.522232 \nL 49.553548 229.522232 \nL 49.553548 228.597742 \nL 49.852299 228.597742 \nL 49.951882 227.211008 \nL 50.051466 227.211008 \nL 50.051466 226.748763 \nL 50.250633 226.748763 \nL 50.350217 224.437538 \nL 50.648968 224.437538 \nL 50.648968 223.513048 \nL 50.848135 223.513048 \nL 50.848135 222.588559 \nL 51.047302 222.588559 \nL 51.047302 219.815089 \nL 51.346053 219.815089 \nL 51.346053 218.890599 \nL 51.943554 218.890599 \nL 51.943554 217.96611 \nL 52.541056 217.96611 \nL 52.541056 217.503865 \nL 52.93939 217.503865 \nL 52.93939 217.04162 \nL 53.636475 217.04162 \nL 53.636475 216.579375 \nL 53.835642 216.579375 \nL 53.835642 216.11713 \nL 54.233976 216.11713 \nL 54.233976 215.654885 \nL 54.632311 215.654885 \nL 54.632311 214.730395 \nL 54.831478 214.730395 \nL 54.831478 214.268151 \nL 55.130229 214.268151 \nL 55.130229 213.805906 \nL 55.528563 213.805906 \nL 55.528563 212.881416 \nL 55.926897 212.881416 \nL 55.926897 212.419171 \nL 56.424815 212.419171 \nL 56.524399 208.721212 \nL 56.723566 208.721212 \nL 56.82315 207.334477 \nL 56.922733 207.334477 \nL 56.922733 206.872232 \nL 57.520235 206.872232 \nL 57.520235 205.947742 \nL 57.818985 205.947742 \nL 57.818985 205.485497 \nL 58.715238 205.485497 \nL 58.715238 204.561008 \nL 59.013988 204.561008 \nL 59.013988 204.098763 \nL 59.312739 204.098763 \nL 59.412323 202.249783 \nL 59.511906 202.249783 \nL 59.511906 201.325293 \nL 59.711073 201.325293 \nL 59.810657 200.400804 \nL 59.910241 200.400804 \nL 59.910241 199.938559 \nL 60.408158 199.938559 \nL 60.408158 199.476314 \nL 60.706909 199.476314 \nL 60.806493 197.627334 \nL 61.204827 197.627334 \nL 61.204827 197.165089 \nL 61.403994 197.165089 \nL 61.403994 196.240599 \nL 61.702745 196.240599 \nL 61.702745 195.778355 \nL 62.698581 195.778355 \nL 62.798164 194.853865 \nL 62.997332 194.853865 \nL 62.997332 194.39162 \nL 63.196499 194.39162 \nL 63.196499 193.929375 \nL 63.794 193.929375 \nL 63.794 193.46713 \nL 64.092751 193.46713 \nL 64.192335 192.54264 \nL 64.989003 192.54264 \nL 65.088587 191.155906 \nL 65.287754 191.155906 \nL 65.387338 189.769171 \nL 65.486921 189.769171 \nL 65.586505 188.844681 \nL 65.686088 188.844681 \nL 65.686088 188.382436 \nL 65.885255 188.382436 \nL 65.885255 187.920191 \nL 66.184006 187.920191 \nL 66.28359 186.995702 \nL 66.781508 186.995702 \nL 66.781508 185.608967 \nL 67.179842 185.608967 \nL 67.179842 184.684477 \nL 67.976511 184.684477 \nL 67.976511 183.759987 \nL 68.175678 183.759987 \nL 68.175678 183.297742 \nL 68.574012 183.297742 \nL 68.673596 182.373253 \nL 68.872763 182.373253 \nL 68.872763 181.448763 \nL 69.171514 181.448763 \nL 69.171514 180.986518 \nL 69.470264 180.986518 \nL 69.470264 180.524273 \nL 70.067766 180.524273 \nL 70.067766 178.675293 \nL 71.163185 178.675293 \nL 71.163185 177.750804 \nL 71.661103 177.750804 \nL 71.661103 176.826314 \nL 71.959854 176.826314 \nL 71.959854 176.364069 \nL 72.159021 176.364069 \nL 72.159021 175.901824 \nL 72.756523 175.901824 \nL 72.856106 174.977334 \nL 72.95569 174.977334 \nL 73.055273 174.052844 \nL 73.25444 174.052844 \nL 73.25444 172.203865 \nL 73.553191 172.203865 \nL 73.652775 170.81713 \nL 73.851942 170.81713 \nL 73.851942 169.89264 \nL 74.449443 169.89264 \nL 74.449443 169.430395 \nL 74.748194 169.430395 \nL 74.847778 168.043661 \nL 74.947361 168.043661 \nL 75.046945 167.119171 \nL 75.146528 167.119171 \nL 75.146528 166.656926 \nL 75.644446 166.656926 \nL 75.644446 166.194681 \nL 75.943197 166.194681 \nL 75.943197 165.732436 \nL 76.341531 165.732436 \nL 76.341531 164.807946 \nL 76.739866 164.807946 \nL 76.739866 162.958967 \nL 77.038617 162.958967 \nL 77.038617 162.496722 \nL 78.134036 162.496722 \nL 78.134036 161.109987 \nL 78.831121 161.109987 \nL 78.831121 160.647742 \nL 79.129872 160.647742 \nL 79.129872 160.185497 \nL 79.428622 160.185497 \nL 79.528206 159.261008 \nL 79.727373 159.261008 \nL 79.727373 158.798763 \nL 81.221127 158.798763 \nL 81.221127 158.336518 \nL 81.818628 158.336518 \nL 81.818628 157.874273 \nL 82.216963 157.874273 \nL 82.216963 156.949783 \nL 82.41613 156.949783 \nL 82.41613 156.487538 \nL 82.615297 156.487538 \nL 82.615297 156.025293 \nL 82.914048 156.025293 \nL 82.914048 155.563048 \nL 83.212799 155.563048 \nL 83.212799 154.638559 \nL 83.8103 154.638559 \nL 83.8103 154.176314 \nL 84.109051 154.176314 \nL 84.208634 153.251824 \nL 84.806136 153.251824 \nL 84.806136 152.789579 \nL 85.403637 152.789579 \nL 85.403637 152.327334 \nL 85.602805 152.327334 \nL 85.602805 151.865089 \nL 85.801972 151.865089 \nL 85.901555 150.940599 \nL 86.001139 150.940599 \nL 86.100722 149.553865 \nL 86.29989 149.553865 \nL 86.29989 149.09162 \nL 86.59864 149.09162 \nL 86.59864 148.629375 \nL 87.196142 148.629375 \nL 87.196142 148.16713 \nL 87.893227 148.16713 \nL 87.893227 147.704885 \nL 88.092394 147.704885 \nL 88.092394 147.24264 \nL 88.391145 147.24264 \nL 88.391145 146.780395 \nL 88.590312 146.780395 \nL 88.590312 145.855906 \nL 89.08823 145.855906 \nL 89.08823 145.393661 \nL 89.287397 145.393661 \nL 89.287397 144.931416 \nL 90.084066 144.931416 \nL 90.183649 144.006926 \nL 90.283233 144.006926 \nL 90.283233 143.544681 \nL 90.681567 143.544681 \nL 90.681567 143.082436 \nL 92.374488 143.082436 \nL 92.374488 142.157946 \nL 93.469907 142.157946 \nL 93.469907 141.695702 \nL 96.059081 141.695702 \nL 96.059081 141.233457 \nL 96.955333 141.233457 \nL 97.054916 139.384477 \nL 97.752001 139.384477 \nL 97.752001 138.922232 \nL 98.150336 138.922232 \nL 98.249919 137.535497 \nL 98.349503 137.535497 \nL 98.349503 137.073253 \nL 98.947004 137.073253 \nL 98.947004 136.611008 \nL 99.146172 136.611008 \nL 99.146172 135.686518 \nL 99.444922 135.686518 \nL 99.444922 135.224273 \nL 99.94284 135.224273 \nL 99.94284 134.762028 \nL 100.540342 134.762028 \nL 100.540342 134.299783 \nL 101.536177 134.299783 \nL 101.536177 133.837538 \nL 103.627433 133.837538 \nL 103.627433 133.375293 \nL 103.926183 133.375293 \nL 103.926183 132.913048 \nL 104.125351 132.913048 \nL 104.224934 131.988559 \nL 105.320354 131.988559 \nL 105.320354 131.526314 \nL 105.718688 131.526314 \nL 105.718688 131.064069 \nL 106.017439 131.064069 \nL 106.017439 130.139579 \nL 106.316189 130.139579 \nL 106.415773 128.752844 \nL 107.112858 128.752844 \nL 107.112858 128.290599 \nL 107.411609 128.290599 \nL 107.411609 127.828355 \nL 110.996618 127.828355 \nL 110.996618 127.36611 \nL 111.693703 127.36611 \nL 111.693703 126.903865 \nL 113.386624 126.903865 \nL 113.486207 125.979375 \nL 114.382459 125.979375 \nL 114.382459 125.51713 \nL 115.477879 125.51713 \nL 115.477879 125.054885 \nL 116.374131 125.054885 \nL 116.374131 124.59264 \nL 116.672882 124.59264 \nL 116.672882 123.668151 \nL 118.365803 123.668151 \nL 118.465386 122.743661 \nL 119.162471 122.743661 \nL 119.162471 121.819171 \nL 119.95914 121.819171 \nL 119.95914 121.356926 \nL 120.357474 121.356926 \nL 120.357474 120.894681 \nL 120.954976 120.894681 \nL 120.954976 120.432436 \nL 121.552477 120.432436 \nL 121.552477 119.970191 \nL 122.946647 119.970191 \nL 122.946647 119.507946 \nL 123.245398 119.507946 \nL 123.245398 119.045702 \nL 124.838735 119.045702 \nL 124.938319 117.658967 \nL 125.635404 117.658967 \nL 125.734988 116.734477 \nL 126.332489 116.734477 \nL 126.332489 115.809987 \nL 127.427909 115.809987 \nL 127.427909 115.347742 \nL 128.124994 115.347742 \nL 128.124994 114.885497 \nL 129.817915 114.885497 \nL 129.817915 113.961008 \nL 130.017082 113.961008 \nL 130.116665 112.574273 \nL 131.012918 112.574273 \nL 131.012918 112.112028 \nL 131.212085 112.112028 \nL 131.311668 111.187538 \nL 131.411252 111.187538 \nL 131.411252 110.725293 \nL 131.610419 110.725293 \nL 131.710003 109.800804 \nL 132.407088 109.800804 \nL 132.407088 109.338559 \nL 133.104173 109.338559 \nL 133.104173 108.876314 \nL 134.199592 108.876314 \nL 134.199592 108.414069 \nL 134.996261 108.414069 \nL 134.996261 107.951824 \nL 136.589598 107.951824 \nL 136.589598 107.489579 \nL 137.386267 107.489579 \nL 137.386267 107.027334 \nL 137.585434 107.027334 \nL 137.585434 106.565089 \nL 138.780437 106.565089 \nL 138.780437 106.102844 \nL 139.477522 106.102844 \nL 139.477522 105.640599 \nL 142.066695 105.640599 \nL 142.066695 105.178355 \nL 142.664197 105.178355 \nL 142.664197 104.71611 \nL 142.863364 104.71611 \nL 142.863364 104.253865 \nL 143.759616 104.253865 \nL 143.759616 103.79162 \nL 144.855035 103.79162 \nL 144.855035 103.329375 \nL 145.850871 103.329375 \nL 145.850871 102.86713 \nL 146.547956 102.86713 \nL 146.547956 102.404885 \nL 147.245041 102.404885 \nL 147.245041 101.94264 \nL 148.240877 101.94264 \nL 148.240877 101.480395 \nL 149.834214 101.480395 \nL 149.834214 101.018151 \nL 151.029217 101.018151 \nL 151.029217 100.555906 \nL 152.323804 100.555906 \nL 152.323804 100.093661 \nL 152.821722 100.093661 \nL 152.921305 99.169171 \nL 154.813393 99.169171 \nL 154.813393 98.706926 \nL 156.10798 98.706926 \nL 156.10798 98.244681 \nL 156.805065 98.244681 \nL 156.805065 97.782436 \nL 159.294655 97.782436 \nL 159.294655 97.320191 \nL 160.788408 97.320191 \nL 160.788408 96.395702 \nL 161.485493 96.395702 \nL 161.485493 95.933457 \nL 161.883828 95.933457 \nL 161.883828 95.471212 \nL 162.481329 95.471212 \nL 162.481329 95.008967 \nL 163.576749 95.008967 \nL 163.576749 94.546722 \nL 163.875499 94.546722 \nL 163.875499 94.084477 \nL 168.35676 94.084477 \nL 168.35676 93.622232 \nL 169.352596 93.622232 \nL 169.352596 93.159987 \nL 169.750931 93.159987 \nL 169.850514 91.773253 \nL 170.746766 91.773253 \nL 170.84635 90.848763 \nL 172.041353 90.848763 \nL 172.041353 90.386518 \nL 174.033025 90.386518 \nL 174.033025 89.924273 \nL 175.128444 89.924273 \nL 175.128444 89.462028 \nL 176.920948 89.462028 \nL 176.920948 88.537538 \nL 177.916784 88.537538 \nL 177.916784 88.075293 \nL 179.310954 88.075293 \nL 179.310954 87.613048 \nL 179.808872 87.613048 \nL 179.908456 86.688559 \nL 181.70096 86.688559 \nL 181.70096 86.226314 \nL 182.995547 86.226314 \nL 182.995547 85.764069 \nL 185.186386 85.764069 \nL 185.186386 85.301824 \nL 185.684304 85.301824 \nL 185.684304 84.377334 \nL 186.680139 84.377334 \nL 186.680139 83.915089 \nL 187.875142 83.915089 \nL 187.875142 82.990599 \nL 188.870978 82.990599 \nL 188.870978 82.528355 \nL 189.667647 82.528355 \nL 189.667647 82.06611 \nL 189.966398 82.06611 \nL 189.966398 81.603865 \nL 190.763066 81.603865 \nL 190.763066 81.14162 \nL 190.962233 81.14162 \nL 190.962233 80.21713 \nL 191.260984 80.21713 \nL 191.260984 79.754885 \nL 192.057653 79.754885 \nL 192.057653 79.29264 \nL 192.655154 79.29264 \nL 192.754738 78.368151 \nL 195.742245 78.368151 \nL 195.742245 77.905906 \nL 196.14058 77.905906 \nL 196.14058 77.443661 \nL 196.538914 77.443661 \nL 196.538914 76.981416 \nL 197.733917 76.981416 \nL 197.733917 76.519171 \nL 197.933084 76.519171 \nL 198.032668 75.132436 \nL 199.327254 75.132436 \nL 199.327254 74.670191 \nL 200.024339 74.670191 \nL 200.024339 74.207946 \nL 203.310597 74.207946 \nL 203.310597 73.745702 \nL 205.302269 73.745702 \nL 205.302269 73.283457 \nL 205.800187 73.283457 \nL 205.800187 72.821212 \nL 211.078117 72.821212 \nL 211.078117 72.358967 \nL 211.675618 72.358967 \nL 211.675618 71.896722 \nL 214.364375 71.896722 \nL 214.364375 71.434477 \nL 214.563542 71.434477 \nL 214.563542 70.972232 \nL 215.858129 70.972232 \nL 215.957712 70.047742 \nL 218.347718 70.047742 \nL 218.347718 69.585497 \nL 219.841472 69.585497 \nL 219.841472 69.123253 \nL 220.040639 69.123253 \nL 220.040639 68.661008 \nL 223.12773 68.661008 \nL 223.12773 68.198763 \nL 224.422317 68.198763 \nL 224.422317 67.736518 \nL 225.119402 67.736518 \nL 225.119402 67.274273 \nL 225.418153 67.274273 \nL 225.418153 66.812028 \nL 225.716903 66.812028 \nL 225.716903 65.887538 \nL 229.401496 65.887538 \nL 229.401496 65.425293 \nL 231.393167 65.425293 \nL 231.393167 64.963048 \nL 235.476094 64.963048 \nL 235.476094 64.500804 \nL 237.069432 64.500804 \nL 237.069432 64.038559 \nL 237.965684 64.038559 \nL 237.965684 63.576314 \nL 238.563185 63.576314 \nL 238.563185 63.114069 \nL 239.26027 63.114069 \nL 239.26027 62.651824 \nL 243.044446 62.651824 \nL 243.044446 62.189579 \nL 243.841115 62.189579 \nL 243.841115 61.727334 \nL 245.733203 61.727334 \nL 245.733203 61.265089 \nL 246.729039 61.265089 \nL 246.729039 60.802844 \nL 249.716546 60.802844 \nL 249.716546 60.340599 \nL 252.405303 60.340599 \nL 252.405303 59.878355 \nL 253.301555 59.878355 \nL 253.301555 59.41611 \nL 253.799473 59.41611 \nL 253.799473 58.953865 \nL 258.878236 58.953865 \nL 258.878236 58.49162 \nL 264.255749 58.49162 \nL 264.255749 58.029375 \nL 268.338676 58.029375 \nL 268.338676 57.56713 \nL 268.936177 57.56713 \nL 268.936177 57.104885 \nL 269.434095 57.104885 \nL 269.434095 56.64264 \nL 276.80328 56.64264 \nL 276.80328 56.180395 \nL 279.989955 56.180395 \nL 279.989955 55.718151 \nL 281.184958 55.718151 \nL 281.184958 55.255906 \nL 282.877879 55.255906 \nL 282.877879 54.793661 \nL 288.354976 54.793661 \nL 288.354976 54.331416 \nL 288.852894 54.331416 \nL 288.852894 53.869171 \nL 292.338319 53.869171 \nL 292.338319 53.406926 \nL 293.234571 53.406926 \nL 293.234571 52.944681 \nL 293.632906 52.944681 \nL 293.632906 52.482436 \nL 294.230407 52.482436 \nL 294.230407 52.020191 \nL 295.027076 52.020191 \nL 295.027076 51.557946 \nL 298.014583 51.557946 \nL 298.014583 51.095702 \nL 303.989598 51.095702 \nL 303.989598 50.633457 \nL 311.2592 50.633457 \nL 311.2592 50.171212 \nL 313.350455 50.171212 \nL 313.350455 49.708967 \nL 314.147123 49.708967 \nL 314.147123 49.246722 \nL 317.333798 49.246722 \nL 317.333798 48.784477 \nL 318.628385 48.784477 \nL 318.628385 48.322232 \nL 320.022555 48.322232 \nL 320.022555 47.859987 \nL 323.906314 47.859987 \nL 323.906314 47.397742 \nL 324.603399 47.397742 \nL 324.603399 46.935497 \nL 329.582578 46.935497 \nL 329.582578 46.473253 \nL 331.873001 46.473253 \nL 331.873001 46.011008 \nL 332.370919 46.011008 \nL 332.370919 45.548763 \nL 333.964256 45.548763 \nL 333.964256 45.086518 \nL 337.250514 45.086518 \nL 337.250514 44.624273 \nL 339.441353 44.624273 \nL 339.441353 44.162028 \nL 342.42886 44.162028 \nL 342.42886 43.699783 \nL 344.320948 43.699783 \nL 344.320948 43.237538 \nL 346.013869 43.237538 \nL 346.013869 42.775293 \nL 347.408039 42.775293 \nL 347.408039 42.313048 \nL 350.793881 42.313048 \nL 350.793881 41.850804 \nL 352.586386 41.850804 \nL 352.586386 41.388559 \nL 353.183887 41.388559 \nL 353.283471 40.464069 \nL 353.781389 40.464069 \nL 353.781389 40.001824 \nL 354.080139 40.001824 \nL 354.080139 39.539579 \nL 357.864316 39.539579 \nL 357.864316 39.077334 \nL 359.059318 39.077334 \nL 359.059318 38.615089 \nL 360.752239 38.615089 \nL 360.851823 37.690599 \nL 369.316427 37.690599 \nL 369.316427 37.228355 \nL 369.714762 37.228355 \nL 369.714762 36.76611 \nL 370.113096 36.76611 \nL 370.113096 36.303865 \nL 371.308099 36.303865 \nL 371.308099 35.84162 \nL 372.204351 35.84162 \nL 372.204351 34.91713 \nL 374.39519 34.91713 \nL 374.39519 34.454885 \nL 378.976035 34.454885 \nL 378.976035 33.99264 \nL 380.071454 33.99264 \nL 380.071454 33.530395 \nL 380.868123 33.530395 \nL 380.868123 33.068151 \nL 381.166874 33.068151 \nL 381.166874 32.605906 \nL 381.366041 32.605906 \nL 381.366041 32.143661 \nL 381.764375 32.143661 \nL 381.764375 32.143661 \n\" style=\"fill:none;stroke:#4c72b0;stroke-linecap:round;stroke-width:1.5;\"/>\n   </g>\n   <g id=\"line2d_14\">\n    <path clip-path=\"url(#pb488820fe1)\" d=\"M 46.964375 239.229375 \nL 381.764375 32.143661 \n\" style=\"fill:none;stroke:#c44e52;stroke-dasharray:5.55,2.4;stroke-dashoffset:0;stroke-width:1.5;\"/>\n   </g>\n   <g id=\"patch_3\">\n    <path d=\"M 46.964375 239.229375 \nL 46.964375 21.789375 \n\" style=\"fill:none;stroke:#cccccc;stroke-linecap:square;stroke-linejoin:miter;stroke-width:1.25;\"/>\n   </g>\n   <g id=\"patch_4\">\n    <path d=\"M 381.764375 239.229375 \nL 381.764375 21.789375 \n\" style=\"fill:none;stroke:#cccccc;stroke-linecap:square;stroke-linejoin:miter;stroke-width:1.25;\"/>\n   </g>\n   <g id=\"patch_5\">\n    <path d=\"M 46.964375 239.229375 \nL 381.764375 239.229375 \n\" style=\"fill:none;stroke:#cccccc;stroke-linecap:square;stroke-linejoin:miter;stroke-width:1.25;\"/>\n   </g>\n   <g id=\"patch_6\">\n    <path d=\"M 46.964375 21.789375 \nL 381.764375 21.789375 \n\" style=\"fill:none;stroke:#cccccc;stroke-linecap:square;stroke-linejoin:miter;stroke-width:1.25;\"/>\n   </g>\n   <g id=\"text_15\">\n    <!-- Receiver operating characteristic -->\n    <defs>\n     <path d=\"M 40.4375 19 \nL 49.078125 17.875 \nQ 47.65625 8.9375 41.8125 3.875 \nQ 35.984375 -1.171875 27.484375 -1.171875 \nQ 16.84375 -1.171875 10.375 5.78125 \nQ 3.90625 12.75 3.90625 25.734375 \nQ 3.90625 34.125 6.6875 40.421875 \nQ 9.46875 46.734375 15.15625 49.875 \nQ 20.84375 53.03125 27.546875 53.03125 \nQ 35.984375 53.03125 41.359375 48.75 \nQ 46.734375 44.484375 48.25 36.625 \nL 39.703125 35.296875 \nQ 38.484375 40.53125 35.375 43.15625 \nQ 32.28125 45.796875 27.875 45.796875 \nQ 21.234375 45.796875 17.078125 41.03125 \nQ 12.9375 36.28125 12.9375 25.984375 \nQ 12.9375 15.53125 16.9375 10.796875 \nQ 20.953125 6.0625 27.390625 6.0625 \nQ 32.5625 6.0625 36.03125 9.234375 \nQ 39.5 12.40625 40.4375 19 \nz\n\" id=\"ArialMT-99\"/>\n     <path d=\"M 6.59375 -19.875 \nL 6.59375 51.859375 \nL 14.59375 51.859375 \nL 14.59375 45.125 \nQ 17.4375 49.078125 21 51.046875 \nQ 24.5625 53.03125 29.640625 53.03125 \nQ 36.28125 53.03125 41.359375 49.609375 \nQ 46.4375 46.1875 49.015625 39.953125 \nQ 51.609375 33.734375 51.609375 26.3125 \nQ 51.609375 18.359375 48.75 11.984375 \nQ 45.90625 5.609375 40.453125 2.21875 \nQ 35.015625 -1.171875 29 -1.171875 \nQ 24.609375 -1.171875 21.109375 0.6875 \nQ 17.625 2.546875 15.375 5.375 \nL 15.375 -19.875 \nz\nM 14.546875 25.640625 \nQ 14.546875 15.625 18.59375 10.84375 \nQ 22.65625 6.0625 28.421875 6.0625 \nQ 34.28125 6.0625 38.453125 11.015625 \nQ 42.625 15.96875 42.625 26.375 \nQ 42.625 36.28125 38.546875 41.203125 \nQ 34.46875 46.140625 28.8125 46.140625 \nQ 23.1875 46.140625 18.859375 40.890625 \nQ 14.546875 35.640625 14.546875 25.640625 \nz\n\" id=\"ArialMT-112\"/>\n     <path d=\"M 6.59375 0 \nL 6.59375 51.859375 \nL 14.5 51.859375 \nL 14.5 44.484375 \nQ 20.21875 53.03125 31 53.03125 \nQ 35.6875 53.03125 39.625 51.34375 \nQ 43.5625 49.65625 45.515625 46.921875 \nQ 47.46875 44.1875 48.25 40.4375 \nQ 48.734375 37.984375 48.734375 31.890625 \nL 48.734375 0 \nL 39.9375 0 \nL 39.9375 31.546875 \nQ 39.9375 36.921875 38.90625 39.578125 \nQ 37.890625 42.234375 35.28125 43.8125 \nQ 32.671875 45.40625 29.15625 45.40625 \nQ 23.53125 45.40625 19.453125 41.84375 \nQ 15.375 38.28125 15.375 28.328125 \nL 15.375 0 \nz\n\" id=\"ArialMT-110\"/>\n     <path d=\"M 4.984375 -4.296875 \nL 13.53125 -5.5625 \nQ 14.0625 -9.515625 16.5 -11.328125 \nQ 19.78125 -13.765625 25.4375 -13.765625 \nQ 31.546875 -13.765625 34.859375 -11.328125 \nQ 38.1875 -8.890625 39.359375 -4.5 \nQ 40.046875 -1.8125 39.984375 6.78125 \nQ 34.234375 0 25.640625 0 \nQ 14.9375 0 9.078125 7.71875 \nQ 3.21875 15.4375 3.21875 26.21875 \nQ 3.21875 33.640625 5.90625 39.90625 \nQ 8.59375 46.1875 13.6875 49.609375 \nQ 18.796875 53.03125 25.6875 53.03125 \nQ 34.859375 53.03125 40.828125 45.609375 \nL 40.828125 51.859375 \nL 48.921875 51.859375 \nL 48.921875 7.03125 \nQ 48.921875 -5.078125 46.453125 -10.125 \nQ 44 -15.1875 38.640625 -18.109375 \nQ 33.296875 -21.046875 25.484375 -21.046875 \nQ 16.21875 -21.046875 10.5 -16.875 \nQ 4.78125 -12.703125 4.984375 -4.296875 \nz\nM 12.25 26.859375 \nQ 12.25 16.65625 16.296875 11.96875 \nQ 20.359375 7.28125 26.46875 7.28125 \nQ 32.515625 7.28125 36.609375 11.9375 \nQ 40.71875 16.609375 40.71875 26.5625 \nQ 40.71875 36.078125 36.5 40.90625 \nQ 32.28125 45.75 26.3125 45.75 \nQ 20.453125 45.75 16.34375 40.984375 \nQ 12.25 36.234375 12.25 26.859375 \nz\n\" id=\"ArialMT-103\"/>\n     <path d=\"M 6.59375 0 \nL 6.59375 71.578125 \nL 15.375 71.578125 \nL 15.375 45.90625 \nQ 21.53125 53.03125 30.90625 53.03125 \nQ 36.671875 53.03125 40.921875 50.75 \nQ 45.171875 48.484375 47 44.484375 \nQ 48.828125 40.484375 48.828125 32.859375 \nL 48.828125 0 \nL 40.046875 0 \nL 40.046875 32.859375 \nQ 40.046875 39.453125 37.1875 42.453125 \nQ 34.328125 45.453125 29.109375 45.453125 \nQ 25.203125 45.453125 21.75 43.421875 \nQ 18.3125 41.40625 16.84375 37.9375 \nQ 15.375 34.46875 15.375 28.375 \nL 15.375 0 \nz\n\" id=\"ArialMT-104\"/>\n    </defs>\n    <g style=\"fill:#262626;\" transform=\"translate(126.997812 15.789375)scale(0.12 -0.12)\">\n     <use xlink:href=\"#ArialMT-82\"/>\n     <use x=\"72.216797\" xlink:href=\"#ArialMT-101\"/>\n     <use x=\"127.832031\" xlink:href=\"#ArialMT-99\"/>\n     <use x=\"177.832031\" xlink:href=\"#ArialMT-101\"/>\n     <use x=\"233.447266\" xlink:href=\"#ArialMT-105\"/>\n     <use x=\"255.664062\" xlink:href=\"#ArialMT-118\"/>\n     <use x=\"305.664062\" xlink:href=\"#ArialMT-101\"/>\n     <use x=\"361.279297\" xlink:href=\"#ArialMT-114\"/>\n     <use x=\"394.580078\" xlink:href=\"#ArialMT-32\"/>\n     <use x=\"422.363281\" xlink:href=\"#ArialMT-111\"/>\n     <use x=\"477.978516\" xlink:href=\"#ArialMT-112\"/>\n     <use x=\"533.59375\" xlink:href=\"#ArialMT-101\"/>\n     <use x=\"589.208984\" xlink:href=\"#ArialMT-114\"/>\n     <use x=\"622.509766\" xlink:href=\"#ArialMT-97\"/>\n     <use x=\"678.125\" xlink:href=\"#ArialMT-116\"/>\n     <use x=\"705.908203\" xlink:href=\"#ArialMT-105\"/>\n     <use x=\"728.125\" xlink:href=\"#ArialMT-110\"/>\n     <use x=\"783.740234\" xlink:href=\"#ArialMT-103\"/>\n     <use x=\"839.355469\" xlink:href=\"#ArialMT-32\"/>\n     <use x=\"867.138672\" xlink:href=\"#ArialMT-99\"/>\n     <use x=\"917.138672\" xlink:href=\"#ArialMT-104\"/>\n     <use x=\"972.753906\" xlink:href=\"#ArialMT-97\"/>\n     <use x=\"1028.369141\" xlink:href=\"#ArialMT-114\"/>\n     <use x=\"1061.669922\" xlink:href=\"#ArialMT-97\"/>\n     <use x=\"1117.285156\" xlink:href=\"#ArialMT-99\"/>\n     <use x=\"1167.285156\" xlink:href=\"#ArialMT-116\"/>\n     <use x=\"1195.068359\" xlink:href=\"#ArialMT-101\"/>\n     <use x=\"1250.683594\" xlink:href=\"#ArialMT-114\"/>\n     <use x=\"1283.984375\" xlink:href=\"#ArialMT-105\"/>\n     <use x=\"1306.201172\" xlink:href=\"#ArialMT-115\"/>\n     <use x=\"1356.201172\" xlink:href=\"#ArialMT-116\"/>\n     <use x=\"1383.984375\" xlink:href=\"#ArialMT-105\"/>\n     <use x=\"1406.201172\" xlink:href=\"#ArialMT-99\"/>\n    </g>\n   </g>\n   <g id=\"legend_1\">\n    <g id=\"patch_7\">\n     <path d=\"M 176.53875 233.729375 \nL 374.064375 233.729375 \nQ 376.264375 233.729375 376.264375 231.529375 \nL 376.264375 216.806563 \nQ 376.264375 214.606563 374.064375 214.606563 \nL 176.53875 214.606563 \nQ 174.33875 214.606563 174.33875 216.806563 \nL 174.33875 231.529375 \nQ 174.33875 233.729375 176.53875 233.729375 \nz\n\" style=\"fill:#ffffff;opacity:0.8;stroke:#cccccc;stroke-linejoin:miter;\"/>\n    </g>\n    <g id=\"line2d_15\">\n     <path d=\"M 178.73875 223.164219 \nL 200.73875 223.164219 \n\" style=\"fill:none;stroke:#4c72b0;stroke-linecap:round;stroke-width:1.5;\"/>\n    </g>\n    <g id=\"line2d_16\"/>\n    <g id=\"text_16\">\n     <!-- Logistic Regression (area = 0.51) -->\n     <defs>\n      <path d=\"M 7.328125 0 \nL 7.328125 71.578125 \nL 16.796875 71.578125 \nL 16.796875 8.453125 \nL 52.046875 8.453125 \nL 52.046875 0 \nz\n\" id=\"ArialMT-76\"/>\n      <path d=\"M 23.390625 -21.046875 \nQ 16.109375 -11.859375 11.078125 0.4375 \nQ 6.0625 12.75 6.0625 25.921875 \nQ 6.0625 37.546875 9.8125 48.1875 \nQ 14.203125 60.546875 23.390625 72.796875 \nL 29.6875 72.796875 \nQ 23.78125 62.640625 21.875 58.296875 \nQ 18.890625 51.5625 17.1875 44.234375 \nQ 15.09375 35.109375 15.09375 25.875 \nQ 15.09375 2.390625 29.6875 -21.046875 \nz\n\" id=\"ArialMT-40\"/>\n      <path d=\"M 52.828125 42.09375 \nL 5.5625 42.09375 \nL 5.5625 50.296875 \nL 52.828125 50.296875 \nz\nM 52.828125 20.359375 \nL 5.5625 20.359375 \nL 5.5625 28.5625 \nL 52.828125 28.5625 \nz\n\" id=\"ArialMT-61\"/>\n      <path d=\"M 4.15625 18.75 \nL 13.375 19.53125 \nQ 14.40625 12.796875 18.140625 9.390625 \nQ 21.875 6 27.15625 6 \nQ 33.5 6 37.890625 10.78125 \nQ 42.28125 15.578125 42.28125 23.484375 \nQ 42.28125 31 38.0625 35.34375 \nQ 33.84375 39.703125 27 39.703125 \nQ 22.75 39.703125 19.328125 37.765625 \nQ 15.921875 35.84375 13.96875 32.765625 \nL 5.71875 33.84375 \nL 12.640625 70.609375 \nL 48.25 70.609375 \nL 48.25 62.203125 \nL 19.671875 62.203125 \nL 15.828125 42.96875 \nQ 22.265625 47.46875 29.34375 47.46875 \nQ 38.71875 47.46875 45.15625 40.96875 \nQ 51.609375 34.46875 51.609375 24.265625 \nQ 51.609375 14.546875 45.953125 7.46875 \nQ 39.0625 -1.21875 27.15625 -1.21875 \nQ 17.390625 -1.21875 11.203125 4.25 \nQ 5.03125 9.71875 4.15625 18.75 \nz\n\" id=\"ArialMT-53\"/>\n      <path d=\"M 12.359375 -21.046875 \nL 6.0625 -21.046875 \nQ 20.65625 2.390625 20.65625 25.875 \nQ 20.65625 35.0625 18.5625 44.09375 \nQ 16.890625 51.421875 13.921875 58.15625 \nQ 12.015625 62.546875 6.0625 72.796875 \nL 12.359375 72.796875 \nQ 21.53125 60.546875 25.921875 48.1875 \nQ 29.6875 37.546875 29.6875 25.921875 \nQ 29.6875 12.75 24.625 0.4375 \nQ 19.578125 -11.859375 12.359375 -21.046875 \nz\n\" id=\"ArialMT-41\"/>\n     </defs>\n     <g style=\"fill:#262626;\" transform=\"translate(209.53875 227.014219)scale(0.11 -0.11)\">\n      <use xlink:href=\"#ArialMT-76\"/>\n      <use x=\"55.615234\" xlink:href=\"#ArialMT-111\"/>\n      <use x=\"111.230469\" xlink:href=\"#ArialMT-103\"/>\n      <use x=\"166.845703\" xlink:href=\"#ArialMT-105\"/>\n      <use x=\"189.0625\" xlink:href=\"#ArialMT-115\"/>\n      <use x=\"239.0625\" xlink:href=\"#ArialMT-116\"/>\n      <use x=\"266.845703\" xlink:href=\"#ArialMT-105\"/>\n      <use x=\"289.0625\" xlink:href=\"#ArialMT-99\"/>\n      <use x=\"339.0625\" xlink:href=\"#ArialMT-32\"/>\n      <use x=\"366.845703\" xlink:href=\"#ArialMT-82\"/>\n      <use x=\"439.0625\" xlink:href=\"#ArialMT-101\"/>\n      <use x=\"494.677734\" xlink:href=\"#ArialMT-103\"/>\n      <use x=\"550.292969\" xlink:href=\"#ArialMT-114\"/>\n      <use x=\"583.59375\" xlink:href=\"#ArialMT-101\"/>\n      <use x=\"639.208984\" xlink:href=\"#ArialMT-115\"/>\n      <use x=\"689.208984\" xlink:href=\"#ArialMT-115\"/>\n      <use x=\"739.208984\" xlink:href=\"#ArialMT-105\"/>\n      <use x=\"761.425781\" xlink:href=\"#ArialMT-111\"/>\n      <use x=\"817.041016\" xlink:href=\"#ArialMT-110\"/>\n      <use x=\"872.65625\" xlink:href=\"#ArialMT-32\"/>\n      <use x=\"900.439453\" xlink:href=\"#ArialMT-40\"/>\n      <use x=\"933.740234\" xlink:href=\"#ArialMT-97\"/>\n      <use x=\"989.355469\" xlink:href=\"#ArialMT-114\"/>\n      <use x=\"1022.65625\" xlink:href=\"#ArialMT-101\"/>\n      <use x=\"1078.271484\" xlink:href=\"#ArialMT-97\"/>\n      <use x=\"1133.886719\" xlink:href=\"#ArialMT-32\"/>\n      <use x=\"1161.669922\" xlink:href=\"#ArialMT-61\"/>\n      <use x=\"1220.068359\" xlink:href=\"#ArialMT-32\"/>\n      <use x=\"1247.851562\" xlink:href=\"#ArialMT-48\"/>\n      <use x=\"1303.466797\" xlink:href=\"#ArialMT-46\"/>\n      <use x=\"1331.25\" xlink:href=\"#ArialMT-53\"/>\n      <use x=\"1386.865234\" xlink:href=\"#ArialMT-49\"/>\n      <use x=\"1442.480469\" xlink:href=\"#ArialMT-41\"/>\n     </g>\n    </g>\n   </g>\n  </g>\n </g>\n <defs>\n  <clipPath id=\"pb488820fe1\">\n   <rect height=\"217.44\" width=\"334.8\" x=\"46.964375\" y=\"21.789375\"/>\n  </clipPath>\n </defs>\n</svg>\n",
      "image/png": "[encoded data removed]"
     },
     "metadata": {}
    }
   ],
   "source": [
    "from sklearn.metrics import roc_auc_score\n",
    "from sklearn.metrics import roc_curve\n",
    "logit_roc_auc = roc_auc_score(y_test, logreg.predict(X_test))\n",
    "fpr, tpr, thresholds = roc_curve(y_test, logreg.predict_proba(X_test)[:,1])\n",
    "plt.figure()\n",
    "plt.plot(fpr, tpr, label='Logistic Regression (area = %0.2f)' % logit_roc_auc)\n",
    "plt.plot([0, 1], [0, 1],'r--')\n",
    "plt.xlim([0.0, 1.0])\n",
    "plt.ylim([0.0, 1.05])\n",
    "plt.xlabel('False Positive Rate')\n",
    "plt.ylabel('True Positive Rate')\n",
    "plt.title('Receiver operating characteristic')\n",
    "plt.legend(loc=\"lower right\")\n",
    "plt.savefig('/Users/jellewas/Downloads/Newest_Log_ROC')\n",
    "plt.show()"
   ]
  },
  {
   "source": [
    "# SMOTE new Data"
   ],
   "cell_type": "markdown",
   "metadata": {}
  },
  {
   "cell_type": "code",
   "execution_count": null,
   "metadata": {},
   "outputs": [],
   "source": [
    "\n"
   ]
  },
  {
   "source": [
    "# Near Miss new Data"
   ],
   "cell_type": "markdown",
   "metadata": {}
  },
  {
   "cell_type": "code",
   "execution_count": null,
   "metadata": {},
   "outputs": [],
   "source": []
  }
 ],
 "metadata": {
  "kernelspec": {
   "display_name": "Python 3",
   "language": "python",
   "name": "python3"
  },
  "language_info": {
   "codemirror_mode": {
    "name": "ipython",
    "version": 3
   },
   "file_extension": ".py",
   "mimetype": "text/x-python",
   "name": "python",
   "nbconvert_exporter": "python",
   "pygments_lexer": "ipython3",
   "version": "3.8.3-final"
  }
 },
 "nbformat": 4,
 "nbformat_minor": 4
}