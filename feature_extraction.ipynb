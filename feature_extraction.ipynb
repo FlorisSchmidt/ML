{
 "metadata": {
  "language_info": {
   "codemirror_mode": {
    "name": "ipython",
    "version": 3
   },
   "file_extension": ".py",
   "mimetype": "text/x-python",
   "name": "python",
   "nbconvert_exporter": "python",
   "pygments_lexer": "ipython3",
   "version": "3.8.3-final"
  },
  "orig_nbformat": 2,
  "kernelspec": {
   "name": "python3",
   "display_name": "Python 3",
   "language": "python"
  }
 },
 "nbformat": 4,
 "nbformat_minor": 2,
 "cells": [
  {
   "source": [
    "Note: first run preprocessing.ipynb to add required file to "
   ],
   "cell_type": "markdown",
   "metadata": {}
  },
  {
   "cell_type": "code",
   "execution_count": 1,
   "metadata": {},
   "outputs": [],
   "source": [
    "import pandas as pd\n",
    "import numpy as np\n",
    "import pickle\n",
    "from scipy import stats"
   ]
  },
  {
   "cell_type": "code",
   "execution_count": 2,
   "metadata": {},
   "outputs": [],
   "source": [
    "vitals = ['HR(bpm)','SpO2(%)','NIBP(mmHg)','HR*Sp','HR*NIBP','Sp*NIBP','HR*Sp*NIBP']"
   ]
  },
  {
   "cell_type": "code",
   "execution_count": 15,
   "metadata": {},
   "outputs": [],
   "source": [
    "def extract_fe(data,quantiles):\n",
    "    for vital in vitals:\n",
    "        data['Mean {}'.format(vital)] = data['{}'.format(vital)].apply(lambda x: np.mean(x.astype(float)))\n",
    "        data['Std {}'.format(vital)] = data['{}'.format(vital)].apply(lambda x: np.std(x.astype(float)))\n",
    "        data['Max {}'.format(vital)] = data['{}'.format(vital)].apply(lambda x: np.max(x.astype(float)))\n",
    "        data['Min {}'.format(vital)] = data['{}'.format(vital)].apply(lambda x: np.min(x.astype(float)))\n",
    "        data['Mode {}'.format(vital)] = data['{}'.format(vital)].apply(lambda x: stats.mode(x.astype(float))[0][0])\n",
    "        data['Median {}'.format(vital)] = data['{}'.format(vital)].apply(lambda x: np.median(x.astype(float)))\n",
    "        if(quantiles):\n",
    "            for i in range(1,100):\n",
    "                data['Quantile {} {}'.format(i,vital)] = data['{}'.format(vital)].apply(lambda x: np.quantile(x.astype(float),i/100))\n",
    "            "
   ]
  },
  {
   "cell_type": "code",
   "execution_count": 16,
   "metadata": {},
   "outputs": [],
   "source": [
    "with open('interpolated.pk', 'rb') as handle:\n",
    "    no_quantiles = pickle.load(handle)"
   ]
  },
  {
   "cell_type": "code",
   "execution_count": 17,
   "metadata": {},
   "outputs": [],
   "source": [
    "no_quantiles['HR*Sp'] = no_quantiles['HR(bpm)']*no_quantiles['SpO2(%)']\n",
    "no_quantiles['HR*NIBP'] = no_quantiles['HR(bpm)']*no_quantiles['NIBP(mmHg)']\n",
    "no_quantiles['Sp*NIBP'] = no_quantiles['SpO2(%)']*no_quantiles['NIBP(mmHg)']\n",
    "no_quantiles['HR*Sp*NIBP'] = no_quantiles['SpO2(%)']*no_quantiles['NIBP(mmHg)']*no_quantiles['HR(bpm)']"
   ]
  },
  {
   "cell_type": "code",
   "execution_count": 24,
   "metadata": {},
   "outputs": [],
   "source": [
    "no_quantiles['startTime'] = no_quantiles['MeetTijd'].apply(lambda x: x[0])\n",
    "no_quantiles['endTime'] = no_quantiles['MeetTijd'].apply(lambda x: x[-1])"
   ]
  },
  {
   "cell_type": "code",
   "execution_count": 25,
   "metadata": {},
   "outputs": [],
   "source": [
    "extract_fe(no_quantiles,False)"
   ]
  },
  {
   "cell_type": "code",
   "execution_count": 26,
   "metadata": {},
   "outputs": [
    {
     "output_type": "execute_result",
     "data": {
      "text/plain": [
       "                                               MeetTijd  IcNaOk  \\\n",
       "1     [15:32:32, 15:33:32, 15:34:33, 15:35:33, 15:36...     0.0   \n",
       "2     [08:45:22, 08:46:23, 08:47:23, 08:48:24, 08:49...     0.0   \n",
       "3     [08:40:08, 08:41:08, 08:42:09, 08:43:09, 08:44...     0.0   \n",
       "4     [09:09:53, 09:10:53, 09:11:54, 09:12:54, 09:13...     0.0   \n",
       "5     [13:45:16, 13:46:17, 13:47:17, 13:48:18, 13:49...     0.0   \n",
       "...                                                 ...     ...   \n",
       "8327  [13:56:40, 13:57:10, 13:57:40, 13:58:11, 13:58...     1.0   \n",
       "8329  [17:26:10, 17:26:40, 17:27:11, 17:27:41, 17:28...     1.0   \n",
       "8331  [22:36:56, 22:37:27, 22:37:57, 22:38:27, 22:38...     1.0   \n",
       "8333  [19:53:44, 19:54:15, 19:54:45, 19:55:16, 19:55...     1.0   \n",
       "8350  [15:22:23, 15:22:54, 15:23:24, 15:23:55, 15:24...     0.0   \n",
       "\n",
       "      Length_MeetTijd  Mean HR(bpm)  Std HR(bpm)  Max HR(bpm)  Min HR(bpm)  \\\n",
       "1                 146     57.500000    24.779369        174.0         40.0   \n",
       "2                 200     63.892500     7.198242         88.0         53.0   \n",
       "3                 178     91.977528    12.881463        111.0         64.0   \n",
       "4                  75     62.293333     6.050396         85.0         55.0   \n",
       "5                 164     81.326220     8.733799        159.0         67.0   \n",
       "...               ...           ...          ...          ...          ...   \n",
       "8327              126     66.238095     6.738221         86.0         54.0   \n",
       "8329              190     81.768421    12.354908        122.0         65.0   \n",
       "8331              177     71.553672     8.028107        101.0         57.0   \n",
       "8333              176    109.176136    11.665689        146.0         91.0   \n",
       "8350              237     68.677215     5.036808         84.0         60.0   \n",
       "\n",
       "      Mode HR(bpm)  Median HR(bpm)  Mean SpO2(%)  ...  Mode Sp*NIBP  \\\n",
       "1             42.0            49.0     97.725342  ...       10791.0   \n",
       "2             60.0            62.0     98.263300  ...       12870.0   \n",
       "3            101.0            96.5     96.926966  ...         189.6   \n",
       "4             58.0            61.0     97.746533  ...       14210.0   \n",
       "5             79.0            80.0     96.242744  ...          97.0   \n",
       "...            ...             ...           ...  ...           ...   \n",
       "8327          62.0            65.0     99.968254  ...        8200.0   \n",
       "8329          79.0            79.0     98.655263  ...        9009.0   \n",
       "8331          72.0            71.0    100.000000  ...       15300.0   \n",
       "8333         104.0           105.5     99.636364  ...        8800.0   \n",
       "8350          67.0            67.0     98.814346  ...       12936.0   \n",
       "\n",
       "      Median Sp*NIBP  Mean HR*Sp*NIBP  Std HR*Sp*NIBP  Max HR*Sp*NIBP  \\\n",
       "1            11524.0     6.789329e+05   342024.534142    2.711016e+06   \n",
       "2            12642.0     8.019443e+05   142301.070715    1.131387e+06   \n",
       "3            10539.0     9.306489e+05   459618.748634    1.528065e+06   \n",
       "4            13266.0     7.934117e+05   204817.738412    1.170875e+06   \n",
       "5            12625.5     9.928339e+05   413845.971067    2.990790e+06   \n",
       "...              ...              ...             ...             ...   \n",
       "8327          9600.0     6.582175e+05   150988.591756    1.076400e+06   \n",
       "8329          9300.0     8.200066e+05   227118.813510    1.520700e+06   \n",
       "8331         13300.0     9.442232e+05   273738.823264    1.706900e+06   \n",
       "8333          9000.0     1.032183e+06   232209.369087    1.790700e+06   \n",
       "8350         12936.0     8.809028e+05   134548.800100    1.164400e+06   \n",
       "\n",
       "      Min HR*Sp*NIBP  Mode HR*Sp*NIBP  Median HR*Sp*NIBP  startTime   endTime  \n",
       "1            4837.50         442431.0           579868.0   15:32:32  15:31:31  \n",
       "2            5591.26         716184.0           785070.0   08:45:22  08:44:22  \n",
       "3            7029.00          19149.6           872486.0   08:40:08  08:39:08  \n",
       "4            5432.00         795760.0           822492.0   09:09:53  09:08:53  \n",
       "5            6499.00           6790.0           991025.5   13:45:16  15:40:04  \n",
       "...              ...              ...                ...        ...       ...  \n",
       "8327       459200.00         607600.0           607600.0   13:56:40  15:00:07  \n",
       "8329       543816.00         594594.0           737946.0   17:26:10  17:25:39  \n",
       "8331       456000.00        1706900.0           931300.0   22:36:56  00:06:15  \n",
       "8333       755300.00         936000.0           950400.0   19:53:44  20:02:42  \n",
       "8350       524600.00         935550.0           874000.0   15:22:23  16:11:34  \n",
       "\n",
       "[6127 rows x 47 columns]"
      ],
      "text/html": "<div>\n<style scoped>\n    .dataframe tbody tr th:only-of-type {\n        vertical-align: middle;\n    }\n\n    .dataframe tbody tr th {\n        vertical-align: top;\n    }\n\n    .dataframe thead th {\n        text-align: right;\n    }\n</style>\n<table border=\"1\" class=\"dataframe\">\n  <thead>\n    <tr style=\"text-align: right;\">\n      <th></th>\n      <th>MeetTijd</th>\n      <th>IcNaOk</th>\n      <th>Length_MeetTijd</th>\n      <th>Mean HR(bpm)</th>\n      <th>Std HR(bpm)</th>\n      <th>Max HR(bpm)</th>\n      <th>Min HR(bpm)</th>\n      <th>Mode HR(bpm)</th>\n      <th>Median HR(bpm)</th>\n      <th>Mean SpO2(%)</th>\n      <th>...</th>\n      <th>Mode Sp*NIBP</th>\n      <th>Median Sp*NIBP</th>\n      <th>Mean HR*Sp*NIBP</th>\n      <th>Std HR*Sp*NIBP</th>\n      <th>Max HR*Sp*NIBP</th>\n      <th>Min HR*Sp*NIBP</th>\n      <th>Mode HR*Sp*NIBP</th>\n      <th>Median HR*Sp*NIBP</th>\n      <th>startTime</th>\n      <th>endTime</th>\n    </tr>\n  </thead>\n  <tbody>\n    <tr>\n      <th>1</th>\n      <td>[15:32:32, 15:33:32, 15:34:33, 15:35:33, 15:36...</td>\n      <td>0.0</td>\n      <td>146</td>\n      <td>57.500000</td>\n      <td>24.779369</td>\n      <td>174.0</td>\n      <td>40.0</td>\n      <td>42.0</td>\n      <td>49.0</td>\n      <td>97.725342</td>\n      <td>...</td>\n      <td>10791.0</td>\n      <td>11524.0</td>\n      <td>6.789329e+05</td>\n      <td>342024.534142</td>\n      <td>2.711016e+06</td>\n      <td>4837.50</td>\n      <td>442431.0</td>\n      <td>579868.0</td>\n      <td>15:32:32</td>\n      <td>15:31:31</td>\n    </tr>\n    <tr>\n      <th>2</th>\n      <td>[08:45:22, 08:46:23, 08:47:23, 08:48:24, 08:49...</td>\n      <td>0.0</td>\n      <td>200</td>\n      <td>63.892500</td>\n      <td>7.198242</td>\n      <td>88.0</td>\n      <td>53.0</td>\n      <td>60.0</td>\n      <td>62.0</td>\n      <td>98.263300</td>\n      <td>...</td>\n      <td>12870.0</td>\n      <td>12642.0</td>\n      <td>8.019443e+05</td>\n      <td>142301.070715</td>\n      <td>1.131387e+06</td>\n      <td>5591.26</td>\n      <td>716184.0</td>\n      <td>785070.0</td>\n      <td>08:45:22</td>\n      <td>08:44:22</td>\n    </tr>\n    <tr>\n      <th>3</th>\n      <td>[08:40:08, 08:41:08, 08:42:09, 08:43:09, 08:44...</td>\n      <td>0.0</td>\n      <td>178</td>\n      <td>91.977528</td>\n      <td>12.881463</td>\n      <td>111.0</td>\n      <td>64.0</td>\n      <td>101.0</td>\n      <td>96.5</td>\n      <td>96.926966</td>\n      <td>...</td>\n      <td>189.6</td>\n      <td>10539.0</td>\n      <td>9.306489e+05</td>\n      <td>459618.748634</td>\n      <td>1.528065e+06</td>\n      <td>7029.00</td>\n      <td>19149.6</td>\n      <td>872486.0</td>\n      <td>08:40:08</td>\n      <td>08:39:08</td>\n    </tr>\n    <tr>\n      <th>4</th>\n      <td>[09:09:53, 09:10:53, 09:11:54, 09:12:54, 09:13...</td>\n      <td>0.0</td>\n      <td>75</td>\n      <td>62.293333</td>\n      <td>6.050396</td>\n      <td>85.0</td>\n      <td>55.0</td>\n      <td>58.0</td>\n      <td>61.0</td>\n      <td>97.746533</td>\n      <td>...</td>\n      <td>14210.0</td>\n      <td>13266.0</td>\n      <td>7.934117e+05</td>\n      <td>204817.738412</td>\n      <td>1.170875e+06</td>\n      <td>5432.00</td>\n      <td>795760.0</td>\n      <td>822492.0</td>\n      <td>09:09:53</td>\n      <td>09:08:53</td>\n    </tr>\n    <tr>\n      <th>5</th>\n      <td>[13:45:16, 13:46:17, 13:47:17, 13:48:18, 13:49...</td>\n      <td>0.0</td>\n      <td>164</td>\n      <td>81.326220</td>\n      <td>8.733799</td>\n      <td>159.0</td>\n      <td>67.0</td>\n      <td>79.0</td>\n      <td>80.0</td>\n      <td>96.242744</td>\n      <td>...</td>\n      <td>97.0</td>\n      <td>12625.5</td>\n      <td>9.928339e+05</td>\n      <td>413845.971067</td>\n      <td>2.990790e+06</td>\n      <td>6499.00</td>\n      <td>6790.0</td>\n      <td>991025.5</td>\n      <td>13:45:16</td>\n      <td>15:40:04</td>\n    </tr>\n    <tr>\n      <th>...</th>\n      <td>...</td>\n      <td>...</td>\n      <td>...</td>\n      <td>...</td>\n      <td>...</td>\n      <td>...</td>\n      <td>...</td>\n      <td>...</td>\n      <td>...</td>\n      <td>...</td>\n      <td>...</td>\n      <td>...</td>\n      <td>...</td>\n      <td>...</td>\n      <td>...</td>\n      <td>...</td>\n      <td>...</td>\n      <td>...</td>\n      <td>...</td>\n      <td>...</td>\n      <td>...</td>\n    </tr>\n    <tr>\n      <th>8327</th>\n      <td>[13:56:40, 13:57:10, 13:57:40, 13:58:11, 13:58...</td>\n      <td>1.0</td>\n      <td>126</td>\n      <td>66.238095</td>\n      <td>6.738221</td>\n      <td>86.0</td>\n      <td>54.0</td>\n      <td>62.0</td>\n      <td>65.0</td>\n      <td>99.968254</td>\n      <td>...</td>\n      <td>8200.0</td>\n      <td>9600.0</td>\n      <td>6.582175e+05</td>\n      <td>150988.591756</td>\n      <td>1.076400e+06</td>\n      <td>459200.00</td>\n      <td>607600.0</td>\n      <td>607600.0</td>\n      <td>13:56:40</td>\n      <td>15:00:07</td>\n    </tr>\n    <tr>\n      <th>8329</th>\n      <td>[17:26:10, 17:26:40, 17:27:11, 17:27:41, 17:28...</td>\n      <td>1.0</td>\n      <td>190</td>\n      <td>81.768421</td>\n      <td>12.354908</td>\n      <td>122.0</td>\n      <td>65.0</td>\n      <td>79.0</td>\n      <td>79.0</td>\n      <td>98.655263</td>\n      <td>...</td>\n      <td>9009.0</td>\n      <td>9300.0</td>\n      <td>8.200066e+05</td>\n      <td>227118.813510</td>\n      <td>1.520700e+06</td>\n      <td>543816.00</td>\n      <td>594594.0</td>\n      <td>737946.0</td>\n      <td>17:26:10</td>\n      <td>17:25:39</td>\n    </tr>\n    <tr>\n      <th>8331</th>\n      <td>[22:36:56, 22:37:27, 22:37:57, 22:38:27, 22:38...</td>\n      <td>1.0</td>\n      <td>177</td>\n      <td>71.553672</td>\n      <td>8.028107</td>\n      <td>101.0</td>\n      <td>57.0</td>\n      <td>72.0</td>\n      <td>71.0</td>\n      <td>100.000000</td>\n      <td>...</td>\n      <td>15300.0</td>\n      <td>13300.0</td>\n      <td>9.442232e+05</td>\n      <td>273738.823264</td>\n      <td>1.706900e+06</td>\n      <td>456000.00</td>\n      <td>1706900.0</td>\n      <td>931300.0</td>\n      <td>22:36:56</td>\n      <td>00:06:15</td>\n    </tr>\n    <tr>\n      <th>8333</th>\n      <td>[19:53:44, 19:54:15, 19:54:45, 19:55:16, 19:55...</td>\n      <td>1.0</td>\n      <td>176</td>\n      <td>109.176136</td>\n      <td>11.665689</td>\n      <td>146.0</td>\n      <td>91.0</td>\n      <td>104.0</td>\n      <td>105.5</td>\n      <td>99.636364</td>\n      <td>...</td>\n      <td>8800.0</td>\n      <td>9000.0</td>\n      <td>1.032183e+06</td>\n      <td>232209.369087</td>\n      <td>1.790700e+06</td>\n      <td>755300.00</td>\n      <td>936000.0</td>\n      <td>950400.0</td>\n      <td>19:53:44</td>\n      <td>20:02:42</td>\n    </tr>\n    <tr>\n      <th>8350</th>\n      <td>[15:22:23, 15:22:54, 15:23:24, 15:23:55, 15:24...</td>\n      <td>0.0</td>\n      <td>237</td>\n      <td>68.677215</td>\n      <td>5.036808</td>\n      <td>84.0</td>\n      <td>60.0</td>\n      <td>67.0</td>\n      <td>67.0</td>\n      <td>98.814346</td>\n      <td>...</td>\n      <td>12936.0</td>\n      <td>12936.0</td>\n      <td>8.809028e+05</td>\n      <td>134548.800100</td>\n      <td>1.164400e+06</td>\n      <td>524600.00</td>\n      <td>935550.0</td>\n      <td>874000.0</td>\n      <td>15:22:23</td>\n      <td>16:11:34</td>\n    </tr>\n  </tbody>\n</table>\n<p>6127 rows × 47 columns</p>\n</div>"
     },
     "metadata": {},
     "execution_count": 26
    }
   ],
   "source": [
    "no_quantiles.drop(columns=vitals)"
   ]
  },
  {
   "cell_type": "code",
   "execution_count": 27,
   "metadata": {},
   "outputs": [],
   "source": [
    "pickle.dump(no_quantiles, open(\"Features.pk\", \"wb\"))"
   ]
  },
  {
   "cell_type": "code",
   "execution_count": 12,
   "metadata": {},
   "outputs": [],
   "source": [
    "#from tsfresh import extract_features\n",
    "#from tsfresh.feature_extraction import extract_features, EfficientFCParameters, MinimalFCParameters\n",
    "\n",
    "#test = interpol_data['HR(bpm)'].iloc[0:10]\n",
    "#test = pd.DataFrame(test.iloc[0])\n",
    "#test['index']=0\n",
    "#test"
   ]
  },
  {
   "cell_type": "code",
   "execution_count": 13,
   "metadata": {},
   "outputs": [],
   "source": [
    "#a = iter(range(0,len(test)))"
   ]
  },
  {
   "cell_type": "code",
   "execution_count": 14,
   "metadata": {},
   "outputs": [],
   "source": [
    "#test = test.apply(lambda x: pd.DataFrame(data={'value':x,'index':next(a)}))"
   ]
  },
  {
   "cell_type": "code",
   "execution_count": 15,
   "metadata": {},
   "outputs": [],
   "source": [
    "#test.iloc[0]"
   ]
  },
  {
   "cell_type": "code",
   "execution_count": 16,
   "metadata": {},
   "outputs": [],
   "source": [
    "#test = interpol_data['HR(bpm)'].iloc[0:10]\n",
    "#a = iter(range(0,len(test)))\n",
    "#test = test.apply(lambda x: pd.DataFrame(data={'value':x,'index':next(a)}))\n",
    "#results = test.apply(lambda x: extract_features(x,column_id='index',default_fc_parameters=MinimalFCParameters()))"
   ]
  },
  {
   "cell_type": "code",
   "execution_count": 17,
   "metadata": {},
   "outputs": [],
   "source": [
    "#results = test.apply(lambda x: extract_features(x,column_id='index',default_fc_parameters=MinimalFCParameters()))"
   ]
  },
  {
   "cell_type": "code",
   "execution_count": 18,
   "metadata": {},
   "outputs": [],
   "source": [
    "#X2 = extract_relevant_features(a, column_id='index',y=)"
   ]
  }
 ]
}