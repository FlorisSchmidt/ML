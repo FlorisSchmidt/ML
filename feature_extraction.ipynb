{
 "metadata": {
  "language_info": {
   "codemirror_mode": {
    "name": "ipython",
    "version": 3
   },
   "file_extension": ".py",
   "mimetype": "text/x-python",
   "name": "python",
   "nbconvert_exporter": "python",
   "pygments_lexer": "ipython3",
   "version": "3.9.2-final"
  },
  "orig_nbformat": 2,
  "kernelspec": {
   "name": "python3",
   "display_name": "Python 3.9.2 64-bit",
   "metadata": {
    "interpreter": {
     "hash": "9a9f2e8c25ada81fcd2a0c009587f3c2a316a07879a174614aa85fbc74856c69"
    }
   }
  }
 },
 "nbformat": 4,
 "nbformat_minor": 2,
 "cells": [
  {
   "source": [
    "Note: first run preprocessing.ipynb to add required file to "
   ],
   "cell_type": "markdown",
   "metadata": {}
  },
  {
   "cell_type": "code",
   "execution_count": 1,
   "metadata": {},
   "outputs": [],
   "source": [
    "import pandas as pd\n",
    "import numpy as np\n",
    "import pickle\n",
    "from scipy import stats"
   ]
  },
  {
   "cell_type": "code",
   "execution_count": 2,
   "metadata": {},
   "outputs": [],
   "source": [
    "vitals = ['HR(bpm)','SpO2(%)','NIBP(mmHg)']"
   ]
  },
  {
   "cell_type": "code",
   "execution_count": 3,
   "metadata": {},
   "outputs": [],
   "source": [
    "def extract_fe(data):\n",
    "    for vital in vitals:\n",
    "        data['Mean {}'.format(vital)] = data['{}'.format(vital)].apply(lambda x: np.mean(x.astype(float)))\n",
    "        data['Std {}'.format(vital)] = data['{}'.format(vital)].apply(lambda x: np.std(x.astype(float)))\n",
    "        data['Max {}'.format(vital)] = data['{}'.format(vital)].apply(lambda x: np.max(x.astype(float)))\n",
    "        data['Min {}'.format(vital)] = data['{}'.format(vital)].apply(lambda x: np.min(x.astype(float)))\n",
    "        data['Mode {}'.format(vital)] = data['{}'.format(vital)].apply(lambda x: stats.mode(x.astype(float)))\n",
    "        data['Median {}'.format(vital)] = data['{}'.format(vital)].apply(lambda x: np.median(x.astype(float)))\n",
    "        for i in range(1,100):\n",
    "            data['Quantile {} {}'.format(i,vital)] = data['{}'.format(vital)].apply(lambda x: np.quantile(x.astype(float),i/100))\n",
    "        "
   ]
  },
  {
   "cell_type": "code",
   "execution_count": 4,
   "metadata": {},
   "outputs": [],
   "source": [
    "with open('interpolated.pk', 'rb') as handle:\n",
    "    interpol_data = pickle.load(handle)"
   ]
  },
  {
   "cell_type": "code",
   "execution_count": 5,
   "metadata": {},
   "outputs": [],
   "source": [
    "extract_fe(interpol_data)"
   ]
  },
  {
   "cell_type": "code",
   "execution_count": 6,
   "metadata": {},
   "outputs": [
    {
     "output_type": "execute_result",
     "data": {
      "text/plain": [
       "                                               MeetTijd  \\\n",
       "1     [15:32:32, 15:33:32, 15:34:33, 15:35:33, 15:36...   \n",
       "2     [08:45:22, 08:46:23, 08:47:23, 08:48:24, 08:49...   \n",
       "3     [08:40:08, 08:41:08, 08:42:09, 08:43:09, 08:44...   \n",
       "4     [09:09:53, 09:10:53, 09:11:54, 09:12:54, 09:13...   \n",
       "5     [13:45:16, 13:46:17, 13:47:17, 13:48:18, 13:49...   \n",
       "...                                                 ...   \n",
       "8327  [13:56:40, 13:57:10, 13:57:40, 13:58:11, 13:58...   \n",
       "8329  [17:26:10, 17:26:40, 17:27:11, 17:27:41, 17:28...   \n",
       "8331  [22:36:56, 22:37:27, 22:37:57, 22:38:27, 22:38...   \n",
       "8333  [19:53:44, 19:54:15, 19:54:45, 19:55:16, 19:55...   \n",
       "8350  [15:22:23, 15:22:54, 15:23:24, 15:23:55, 15:24...   \n",
       "\n",
       "                                                HR(bpm)  \\\n",
       "1     [51.0, 49.0, 57.0, 49.0, 55.0, 50.0, 56.0, 49....   \n",
       "2     [79.0, 75.0, 71.0, 88.0, 88.0, 84.0, 66.0, 66....   \n",
       "3     [102.0, 99.0, 99.0, 101.0, 96.0, 101.0, 99.0, ...   \n",
       "4     [56.0, 57.0, 56.0, 58.0, 58.0, 57.0, 57.0, 63....   \n",
       "5     [79.0, 84.0, 78.0, 78.0, 79.0, 79.0, 81.0, 79....   \n",
       "...                                                 ...   \n",
       "8327  [71.0, 71.0, 71.0, 71.0, 71.0, 71.0, 78.0, 75....   \n",
       "8329  [80.0, 80.0, 80.0, 78.0, 82.0, 79.0, 77.0, 78....   \n",
       "8331  [72.0, 71.0, 70.0, 70.0, 68.0, 68.0, 67.0, 66....   \n",
       "8333  [125.0, 131.0, 128.0, 125.0, 126.0, 123.0, 128...   \n",
       "8350  [73.0, 73.0, 74.0, 73.0, 73.0, 74.0, 75.0, 76....   \n",
       "\n",
       "                                                SpO2(%)  \\\n",
       "1     [92.0, 92.0, 87.5, 93.0, 93.0, 93.0, 92.0, 95....   \n",
       "2     [98.0, 98.0, 98.0, 97.33333333333333, 96.66666...   \n",
       "3     [93.0, 95.58, 96.16, 96.08, 97.83, 96.66, 97.7...   \n",
       "4     [97.0, 97.0, 98.0, 97.0, 98.0, 98.0, 97.5, 98....   \n",
       "5     [97.0, 97.0, 97.0, 97.0, 97.0, 97.0, 97.0, 97....   \n",
       "...                                                 ...   \n",
       "8327  [100.0, 100.0, 99.0, 100.0, 100.0, 100.0, 100....   \n",
       "8329  [99.0, 100.0, 99.0, 99.0, 99.0, 99.0, 99.0, 99...   \n",
       "8331  [100.0, 100.0, 100.0, 100.0, 100.0, 100.0, 100...   \n",
       "8333  [97.0, 97.0, 98.0, 98.0, 98.0, 97.0, 97.0, 98....   \n",
       "8350  [99.0, 99.0, 99.0, 99.0, 99.0, 99.0, 99.0, 99....   \n",
       "\n",
       "                                             NIBP(mmHg)  IcNaOk  \\\n",
       "1     [118.0, 118.0, 118.0, 120.0, 120.0, 120.0, 120...     0.0   \n",
       "2     [129.0, 129.0, 129.0, 129.0, 133.0, 137.0, 141...     0.0   \n",
       "3     [150.0, 158.0, 2.0, 151.0, 2.0, 2.0, 152.0, 15...     0.0   \n",
       "4     [136.0, 131.0, 131.0, 131.0, 131.0, 131.0, 144...     0.0   \n",
       "5     [115.0, 113.0, 113.0, 113.0, 108.0, 108.0, 108...     0.0   \n",
       "...                                                 ...     ...   \n",
       "8327  [138.0, 138.0, 138.0, 138.0, 138.0, 138.0, 138...     1.0   \n",
       "8329  [90.0, 90.0, 94.0, 94.0, 94.0, 94.0, 94.0, 94....     1.0   \n",
       "8331  [160.0, 124.0, 124.0, 124.0, 124.0, 124.0, 124...     1.0   \n",
       "8333  [119.0, 119.0, 119.0, 119.0, 119.0, 119.0, 119...     1.0   \n",
       "8350  [138.0, 138.0, 138.0, 138.0, 138.0, 138.0, 115...     0.0   \n",
       "\n",
       "      Length_MeetTijd  Mean HR(bpm)  Std HR(bpm)  Max HR(bpm)  Min HR(bpm)  \\\n",
       "1                 146     57.500000    24.779369        174.0         40.0   \n",
       "2                 200     63.892500     7.198242         88.0         53.0   \n",
       "3                 178     91.977528    12.881463        111.0         64.0   \n",
       "4                  75     62.293333     6.050396         85.0         55.0   \n",
       "5                 164     81.326220     8.733799        159.0         67.0   \n",
       "...               ...           ...          ...          ...          ...   \n",
       "8327              126     66.238095     6.738221         86.0         54.0   \n",
       "8329              190     81.768421    12.354908        122.0         65.0   \n",
       "8331              177     71.553672     8.028107        101.0         57.0   \n",
       "8333              176    109.176136    11.665689        146.0         91.0   \n",
       "8350              237     68.677215     5.036808         84.0         60.0   \n",
       "\n",
       "      ... Quantile 90 NIBP(mmHg)  Quantile 91 NIBP(mmHg)  \\\n",
       "1     ...                  134.0                  135.00   \n",
       "2     ...                  137.0                  140.00   \n",
       "3     ...                  148.0                  148.00   \n",
       "4     ...                  145.0                  145.00   \n",
       "5     ...                  169.0                  169.33   \n",
       "...   ...                    ...                     ...   \n",
       "8327  ...                  138.0                  138.00   \n",
       "8329  ...                  119.0                  119.00   \n",
       "8331  ...                  161.0                  162.28   \n",
       "8333  ...                  120.0                  121.00   \n",
       "8350  ...                  150.0                  150.00   \n",
       "\n",
       "      Quantile 92 NIBP(mmHg)  Quantile 93 NIBP(mmHg)  Quantile 94 NIBP(mmHg)  \\\n",
       "1                     135.40                  136.00                  137.20   \n",
       "2                     140.00                  140.00                  140.00   \n",
       "3                     148.00                  148.00                  148.76   \n",
       "4                     145.00                  145.00                  145.56   \n",
       "5                     170.00                  170.00                  170.66   \n",
       "...                      ...                     ...                     ...   \n",
       "8327                  138.00                  138.00                  138.00   \n",
       "8329                  121.64                  127.31                  132.98   \n",
       "8331                  169.00                  169.00                  169.00   \n",
       "8333                  121.00                  121.00                  121.00   \n",
       "8350                  150.24                  152.00                  152.00   \n",
       "\n",
       "      Quantile 95 NIBP(mmHg)  Quantile 96 NIBP(mmHg)  Quantile 97 NIBP(mmHg)  \\\n",
       "1                     140.00                  140.00                  140.00   \n",
       "2                     140.05                  141.00                  141.03   \n",
       "3                     150.15                  151.92                  152.69   \n",
       "4                     146.00                  146.00                  146.00   \n",
       "5                     173.00                  173.00                  173.33   \n",
       "...                      ...                     ...                     ...   \n",
       "8327                  138.00                  139.00                  139.00   \n",
       "8329                  135.00                  135.00                  135.00   \n",
       "8331                  169.00                  169.00                  179.08   \n",
       "8333                  121.00                  121.00                  127.00   \n",
       "8350                  160.00                  160.00                  160.00   \n",
       "\n",
       "      Quantile 98 NIBP(mmHg)  Quantile 99 NIBP(mmHg)  \n",
       "1                     146.40                  168.00  \n",
       "2                     142.00                  145.00  \n",
       "3                     153.00                  153.00  \n",
       "4                     147.04                  148.00  \n",
       "5                     176.00                  184.14  \n",
       "...                      ...                     ...  \n",
       "8327                  139.00                  139.00  \n",
       "8329                  137.00                  137.00  \n",
       "8331                  183.00                  183.00  \n",
       "8333                  127.00                  127.00  \n",
       "8350                  168.00                  168.00  \n",
       "\n",
       "[6127 rows x 321 columns]"
      ],
      "text/html": "<div>\n<style scoped>\n    .dataframe tbody tr th:only-of-type {\n        vertical-align: middle;\n    }\n\n    .dataframe tbody tr th {\n        vertical-align: top;\n    }\n\n    .dataframe thead th {\n        text-align: right;\n    }\n</style>\n<table border=\"1\" class=\"dataframe\">\n  <thead>\n    <tr style=\"text-align: right;\">\n      <th></th>\n      <th>MeetTijd</th>\n      <th>HR(bpm)</th>\n      <th>SpO2(%)</th>\n      <th>NIBP(mmHg)</th>\n      <th>IcNaOk</th>\n      <th>Length_MeetTijd</th>\n      <th>Mean HR(bpm)</th>\n      <th>Std HR(bpm)</th>\n      <th>Max HR(bpm)</th>\n      <th>Min HR(bpm)</th>\n      <th>...</th>\n      <th>Quantile 90 NIBP(mmHg)</th>\n      <th>Quantile 91 NIBP(mmHg)</th>\n      <th>Quantile 92 NIBP(mmHg)</th>\n      <th>Quantile 93 NIBP(mmHg)</th>\n      <th>Quantile 94 NIBP(mmHg)</th>\n      <th>Quantile 95 NIBP(mmHg)</th>\n      <th>Quantile 96 NIBP(mmHg)</th>\n      <th>Quantile 97 NIBP(mmHg)</th>\n      <th>Quantile 98 NIBP(mmHg)</th>\n      <th>Quantile 99 NIBP(mmHg)</th>\n    </tr>\n  </thead>\n  <tbody>\n    <tr>\n      <th>1</th>\n      <td>[15:32:32, 15:33:32, 15:34:33, 15:35:33, 15:36...</td>\n      <td>[51.0, 49.0, 57.0, 49.0, 55.0, 50.0, 56.0, 49....</td>\n      <td>[92.0, 92.0, 87.5, 93.0, 93.0, 93.0, 92.0, 95....</td>\n      <td>[118.0, 118.0, 118.0, 120.0, 120.0, 120.0, 120...</td>\n      <td>0.0</td>\n      <td>146</td>\n      <td>57.500000</td>\n      <td>24.779369</td>\n      <td>174.0</td>\n      <td>40.0</td>\n      <td>...</td>\n      <td>134.0</td>\n      <td>135.00</td>\n      <td>135.40</td>\n      <td>136.00</td>\n      <td>137.20</td>\n      <td>140.00</td>\n      <td>140.00</td>\n      <td>140.00</td>\n      <td>146.40</td>\n      <td>168.00</td>\n    </tr>\n    <tr>\n      <th>2</th>\n      <td>[08:45:22, 08:46:23, 08:47:23, 08:48:24, 08:49...</td>\n      <td>[79.0, 75.0, 71.0, 88.0, 88.0, 84.0, 66.0, 66....</td>\n      <td>[98.0, 98.0, 98.0, 97.33333333333333, 96.66666...</td>\n      <td>[129.0, 129.0, 129.0, 129.0, 133.0, 137.0, 141...</td>\n      <td>0.0</td>\n      <td>200</td>\n      <td>63.892500</td>\n      <td>7.198242</td>\n      <td>88.0</td>\n      <td>53.0</td>\n      <td>...</td>\n      <td>137.0</td>\n      <td>140.00</td>\n      <td>140.00</td>\n      <td>140.00</td>\n      <td>140.00</td>\n      <td>140.05</td>\n      <td>141.00</td>\n      <td>141.03</td>\n      <td>142.00</td>\n      <td>145.00</td>\n    </tr>\n    <tr>\n      <th>3</th>\n      <td>[08:40:08, 08:41:08, 08:42:09, 08:43:09, 08:44...</td>\n      <td>[102.0, 99.0, 99.0, 101.0, 96.0, 101.0, 99.0, ...</td>\n      <td>[93.0, 95.58, 96.16, 96.08, 97.83, 96.66, 97.7...</td>\n      <td>[150.0, 158.0, 2.0, 151.0, 2.0, 2.0, 152.0, 15...</td>\n      <td>0.0</td>\n      <td>178</td>\n      <td>91.977528</td>\n      <td>12.881463</td>\n      <td>111.0</td>\n      <td>64.0</td>\n      <td>...</td>\n      <td>148.0</td>\n      <td>148.00</td>\n      <td>148.00</td>\n      <td>148.00</td>\n      <td>148.76</td>\n      <td>150.15</td>\n      <td>151.92</td>\n      <td>152.69</td>\n      <td>153.00</td>\n      <td>153.00</td>\n    </tr>\n    <tr>\n      <th>4</th>\n      <td>[09:09:53, 09:10:53, 09:11:54, 09:12:54, 09:13...</td>\n      <td>[56.0, 57.0, 56.0, 58.0, 58.0, 57.0, 57.0, 63....</td>\n      <td>[97.0, 97.0, 98.0, 97.0, 98.0, 98.0, 97.5, 98....</td>\n      <td>[136.0, 131.0, 131.0, 131.0, 131.0, 131.0, 144...</td>\n      <td>0.0</td>\n      <td>75</td>\n      <td>62.293333</td>\n      <td>6.050396</td>\n      <td>85.0</td>\n      <td>55.0</td>\n      <td>...</td>\n      <td>145.0</td>\n      <td>145.00</td>\n      <td>145.00</td>\n      <td>145.00</td>\n      <td>145.56</td>\n      <td>146.00</td>\n      <td>146.00</td>\n      <td>146.00</td>\n      <td>147.04</td>\n      <td>148.00</td>\n    </tr>\n    <tr>\n      <th>5</th>\n      <td>[13:45:16, 13:46:17, 13:47:17, 13:48:18, 13:49...</td>\n      <td>[79.0, 84.0, 78.0, 78.0, 79.0, 79.0, 81.0, 79....</td>\n      <td>[97.0, 97.0, 97.0, 97.0, 97.0, 97.0, 97.0, 97....</td>\n      <td>[115.0, 113.0, 113.0, 113.0, 108.0, 108.0, 108...</td>\n      <td>0.0</td>\n      <td>164</td>\n      <td>81.326220</td>\n      <td>8.733799</td>\n      <td>159.0</td>\n      <td>67.0</td>\n      <td>...</td>\n      <td>169.0</td>\n      <td>169.33</td>\n      <td>170.00</td>\n      <td>170.00</td>\n      <td>170.66</td>\n      <td>173.00</td>\n      <td>173.00</td>\n      <td>173.33</td>\n      <td>176.00</td>\n      <td>184.14</td>\n    </tr>\n    <tr>\n      <th>...</th>\n      <td>...</td>\n      <td>...</td>\n      <td>...</td>\n      <td>...</td>\n      <td>...</td>\n      <td>...</td>\n      <td>...</td>\n      <td>...</td>\n      <td>...</td>\n      <td>...</td>\n      <td>...</td>\n      <td>...</td>\n      <td>...</td>\n      <td>...</td>\n      <td>...</td>\n      <td>...</td>\n      <td>...</td>\n      <td>...</td>\n      <td>...</td>\n      <td>...</td>\n      <td>...</td>\n    </tr>\n    <tr>\n      <th>8327</th>\n      <td>[13:56:40, 13:57:10, 13:57:40, 13:58:11, 13:58...</td>\n      <td>[71.0, 71.0, 71.0, 71.0, 71.0, 71.0, 78.0, 75....</td>\n      <td>[100.0, 100.0, 99.0, 100.0, 100.0, 100.0, 100....</td>\n      <td>[138.0, 138.0, 138.0, 138.0, 138.0, 138.0, 138...</td>\n      <td>1.0</td>\n      <td>126</td>\n      <td>66.238095</td>\n      <td>6.738221</td>\n      <td>86.0</td>\n      <td>54.0</td>\n      <td>...</td>\n      <td>138.0</td>\n      <td>138.00</td>\n      <td>138.00</td>\n      <td>138.00</td>\n      <td>138.00</td>\n      <td>138.00</td>\n      <td>139.00</td>\n      <td>139.00</td>\n      <td>139.00</td>\n      <td>139.00</td>\n    </tr>\n    <tr>\n      <th>8329</th>\n      <td>[17:26:10, 17:26:40, 17:27:11, 17:27:41, 17:28...</td>\n      <td>[80.0, 80.0, 80.0, 78.0, 82.0, 79.0, 77.0, 78....</td>\n      <td>[99.0, 100.0, 99.0, 99.0, 99.0, 99.0, 99.0, 99...</td>\n      <td>[90.0, 90.0, 94.0, 94.0, 94.0, 94.0, 94.0, 94....</td>\n      <td>1.0</td>\n      <td>190</td>\n      <td>81.768421</td>\n      <td>12.354908</td>\n      <td>122.0</td>\n      <td>65.0</td>\n      <td>...</td>\n      <td>119.0</td>\n      <td>119.00</td>\n      <td>121.64</td>\n      <td>127.31</td>\n      <td>132.98</td>\n      <td>135.00</td>\n      <td>135.00</td>\n      <td>135.00</td>\n      <td>137.00</td>\n      <td>137.00</td>\n    </tr>\n    <tr>\n      <th>8331</th>\n      <td>[22:36:56, 22:37:27, 22:37:57, 22:38:27, 22:38...</td>\n      <td>[72.0, 71.0, 70.0, 70.0, 68.0, 68.0, 67.0, 66....</td>\n      <td>[100.0, 100.0, 100.0, 100.0, 100.0, 100.0, 100...</td>\n      <td>[160.0, 124.0, 124.0, 124.0, 124.0, 124.0, 124...</td>\n      <td>1.0</td>\n      <td>177</td>\n      <td>71.553672</td>\n      <td>8.028107</td>\n      <td>101.0</td>\n      <td>57.0</td>\n      <td>...</td>\n      <td>161.0</td>\n      <td>162.28</td>\n      <td>169.00</td>\n      <td>169.00</td>\n      <td>169.00</td>\n      <td>169.00</td>\n      <td>169.00</td>\n      <td>179.08</td>\n      <td>183.00</td>\n      <td>183.00</td>\n    </tr>\n    <tr>\n      <th>8333</th>\n      <td>[19:53:44, 19:54:15, 19:54:45, 19:55:16, 19:55...</td>\n      <td>[125.0, 131.0, 128.0, 125.0, 126.0, 123.0, 128...</td>\n      <td>[97.0, 97.0, 98.0, 98.0, 98.0, 97.0, 97.0, 98....</td>\n      <td>[119.0, 119.0, 119.0, 119.0, 119.0, 119.0, 119...</td>\n      <td>1.0</td>\n      <td>176</td>\n      <td>109.176136</td>\n      <td>11.665689</td>\n      <td>146.0</td>\n      <td>91.0</td>\n      <td>...</td>\n      <td>120.0</td>\n      <td>121.00</td>\n      <td>121.00</td>\n      <td>121.00</td>\n      <td>121.00</td>\n      <td>121.00</td>\n      <td>121.00</td>\n      <td>127.00</td>\n      <td>127.00</td>\n      <td>127.00</td>\n    </tr>\n    <tr>\n      <th>8350</th>\n      <td>[15:22:23, 15:22:54, 15:23:24, 15:23:55, 15:24...</td>\n      <td>[73.0, 73.0, 74.0, 73.0, 73.0, 74.0, 75.0, 76....</td>\n      <td>[99.0, 99.0, 99.0, 99.0, 99.0, 99.0, 99.0, 99....</td>\n      <td>[138.0, 138.0, 138.0, 138.0, 138.0, 138.0, 115...</td>\n      <td>0.0</td>\n      <td>237</td>\n      <td>68.677215</td>\n      <td>5.036808</td>\n      <td>84.0</td>\n      <td>60.0</td>\n      <td>...</td>\n      <td>150.0</td>\n      <td>150.00</td>\n      <td>150.24</td>\n      <td>152.00</td>\n      <td>152.00</td>\n      <td>160.00</td>\n      <td>160.00</td>\n      <td>160.00</td>\n      <td>168.00</td>\n      <td>168.00</td>\n    </tr>\n  </tbody>\n</table>\n<p>6127 rows × 321 columns</p>\n</div>"
     },
     "metadata": {},
     "execution_count": 6
    }
   ],
   "source": [
    "interpol_data"
   ]
  },
  {
   "cell_type": "code",
   "execution_count": 15,
   "metadata": {},
   "outputs": [],
   "source": [
    "pickle.dump(interpol_data, open(\"features.pk\", \"wb\"))"
   ]
  },
  {
   "cell_type": "code",
   "execution_count": 7,
   "metadata": {},
   "outputs": [],
   "source": [
    "#from tsfresh import extract_features\n",
    "#from tsfresh.feature_extraction import extract_features, EfficientFCParameters, MinimalFCParameters\n",
    "\n",
    "#test = interpol_data['HR(bpm)'].iloc[0:10]\n",
    "#test = pd.DataFrame(test.iloc[0])\n",
    "#test['index']=0\n",
    "#test"
   ]
  },
  {
   "cell_type": "code",
   "execution_count": 8,
   "metadata": {},
   "outputs": [],
   "source": [
    "#a = iter(range(0,len(test)))"
   ]
  },
  {
   "cell_type": "code",
   "execution_count": 9,
   "metadata": {},
   "outputs": [],
   "source": [
    "#test = test.apply(lambda x: pd.DataFrame(data={'value':x,'index':next(a)}))"
   ]
  },
  {
   "cell_type": "code",
   "execution_count": 10,
   "metadata": {},
   "outputs": [],
   "source": [
    "#test.iloc[0]"
   ]
  },
  {
   "cell_type": "code",
   "execution_count": 11,
   "metadata": {},
   "outputs": [],
   "source": [
    "#test = interpol_data['HR(bpm)'].iloc[0:10]\n",
    "#a = iter(range(0,len(test)))\n",
    "#test = test.apply(lambda x: pd.DataFrame(data={'value':x,'index':next(a)}))\n",
    "#results = test.apply(lambda x: extract_features(x,column_id='index',default_fc_parameters=MinimalFCParameters()))"
   ]
  },
  {
   "cell_type": "code",
   "execution_count": 12,
   "metadata": {},
   "outputs": [],
   "source": [
    "#results = test.apply(lambda x: extract_features(x,column_id='index',default_fc_parameters=MinimalFCParameters()))"
   ]
  },
  {
   "cell_type": "code",
   "execution_count": 13,
   "metadata": {},
   "outputs": [],
   "source": [
    "#X2 = extract_relevant_features(a, column_id='index',y=)"
   ]
  }
 ]
}