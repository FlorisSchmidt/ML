{
 "metadata": {
  "language_info": {
   "codemirror_mode": {
    "name": "ipython",
    "version": 3
   },
   "file_extension": ".py",
   "mimetype": "text/x-python",
   "name": "python",
   "nbconvert_exporter": "python",
   "pygments_lexer": "ipython3",
   "version": "3.8.3-final"
  },
  "orig_nbformat": 2,
  "kernelspec": {
   "name": "python3",
   "display_name": "Python 3",
   "language": "python"
  }
 },
 "nbformat": 4,
 "nbformat_minor": 2,
 "cells": [
  {
   "source": [
    "Note: first run preprocessing.ipynb to add required file to "
   ],
   "cell_type": "markdown",
   "metadata": {}
  },
  {
   "cell_type": "code",
   "execution_count": 1,
   "metadata": {},
   "outputs": [],
   "source": [
    "import pandas as pd\n",
    "import numpy as np\n",
    "import pickle\n",
    "from scipy import stats\n",
    "from datetime import datetime"
   ]
  },
  {
   "cell_type": "code",
   "execution_count": 2,
   "metadata": {},
   "outputs": [],
   "source": [
    "vitals = ['HR(bpm)','SpO2(%)','NIBP(mmHg)','HR*Sp','HR*NIBP','Sp*NIBP','HR*Sp*NIBP']"
   ]
  },
  {
   "cell_type": "code",
   "execution_count": 3,
   "metadata": {},
   "outputs": [],
   "source": [
    "def extract_fe(data,quantiles):\n",
    "    for vital in vitals:\n",
    "        data['Mean {}'.format(vital)] = data['{}'.format(vital)].apply(lambda x: np.mean(x.astype(float)))\n",
    "        data['Std {}'.format(vital)] = data['{}'.format(vital)].apply(lambda x: np.std(x.astype(float)))\n",
    "        data['Max {}'.format(vital)] = data['{}'.format(vital)].apply(lambda x: np.max(x.astype(float)))\n",
    "        data['Min {}'.format(vital)] = data['{}'.format(vital)].apply(lambda x: np.min(x.astype(float)))\n",
    "        data['Mode {}'.format(vital)] = data['{}'.format(vital)].apply(lambda x: stats.mode(x.astype(float))[0][0])\n",
    "        data['Median {}'.format(vital)] = data['{}'.format(vital)].apply(lambda x: np.median(x.astype(float)))\n",
    "        if(quantiles):\n",
    "            for i in range(1,100):\n",
    "                data['Quantile {} {}'.format(i,vital)] = data['{}'.format(vital)].apply(lambda x: np.quantile(x.astype(float),i/100))\n",
    "            "
   ]
  },
  {
   "cell_type": "code",
   "execution_count": 4,
   "metadata": {},
   "outputs": [],
   "source": [
    "with open('interpolated.pk', 'rb') as handle:\n",
    "    no_quantiles = pickle.load(handle)"
   ]
  },
  {
   "cell_type": "code",
   "execution_count": 5,
   "metadata": {},
   "outputs": [],
   "source": [
    "no_quantiles['HR*Sp'] = no_quantiles['HR(bpm)']*no_quantiles['SpO2(%)']\n",
    "no_quantiles['HR*NIBP'] = no_quantiles['HR(bpm)']*no_quantiles['NIBP(mmHg)']\n",
    "no_quantiles['Sp*NIBP'] = no_quantiles['SpO2(%)']*no_quantiles['NIBP(mmHg)']\n",
    "no_quantiles['HR*Sp*NIBP'] = no_quantiles['SpO2(%)']*no_quantiles['NIBP(mmHg)']*no_quantiles['HR(bpm)']"
   ]
  },
  {
   "cell_type": "code",
   "execution_count": 6,
   "metadata": {},
   "outputs": [
    {
     "output_type": "execute_result",
     "data": {
      "text/plain": [
       "                                               MeetTijd  \\\n",
       "1     [15:32:32, 15:33:32, 15:34:33, 15:35:33, 15:36...   \n",
       "2     [08:45:22, 08:46:23, 08:47:23, 08:48:24, 08:49...   \n",
       "3     [08:40:08, 08:41:08, 08:42:09, 08:43:09, 08:44...   \n",
       "4     [09:09:53, 09:10:53, 09:11:54, 09:12:54, 09:13...   \n",
       "5     [13:45:16, 13:46:17, 13:47:17, 13:48:18, 13:49...   \n",
       "...                                                 ...   \n",
       "8327  [13:56:40, 13:57:10, 13:57:40, 13:58:11, 13:58...   \n",
       "8329  [17:26:10, 17:26:40, 17:27:11, 17:27:41, 17:28...   \n",
       "8331  [22:36:56, 22:37:27, 22:37:57, 22:38:27, 22:38...   \n",
       "8333  [19:53:44, 19:54:15, 19:54:45, 19:55:16, 19:55...   \n",
       "8350  [15:22:23, 15:22:54, 15:23:24, 15:23:55, 15:24...   \n",
       "\n",
       "                                                HR(bpm)  \\\n",
       "1     [51.0, 49.0, 57.0, 49.0, 55.0, 50.0, 56.0, 49....   \n",
       "2     [79.0, 75.0, 71.0, 88.0, 88.0, 84.0, 66.0, 66....   \n",
       "3     [102.0, 99.0, 99.0, 101.0, 96.0, 101.0, 99.0, ...   \n",
       "4     [56.0, 57.0, 56.0, 58.0, 58.0, 57.0, 57.0, 63....   \n",
       "5     [79.0, 84.0, 78.0, 78.0, 79.0, 79.0, 81.0, 79....   \n",
       "...                                                 ...   \n",
       "8327  [71.0, 71.0, 71.0, 71.0, 71.0, 71.0, 78.0, 75....   \n",
       "8329  [80.0, 80.0, 80.0, 78.0, 82.0, 79.0, 77.0, 78....   \n",
       "8331  [72.0, 71.0, 70.0, 70.0, 68.0, 68.0, 67.0, 66....   \n",
       "8333  [125.0, 131.0, 128.0, 125.0, 126.0, 123.0, 128...   \n",
       "8350  [73.0, 73.0, 74.0, 73.0, 73.0, 74.0, 75.0, 76....   \n",
       "\n",
       "                                                SpO2(%)  \\\n",
       "1     [92.0, 92.0, 87.5, 93.0, 93.0, 93.0, 92.0, 95....   \n",
       "2     [98.0, 98.0, 98.0, 97.33333333333333, 96.66666...   \n",
       "3     [93.0, 95.58, 96.16, 96.08, 97.83, 96.66, 97.7...   \n",
       "4     [97.0, 97.0, 98.0, 97.0, 98.0, 98.0, 97.5, 98....   \n",
       "5     [97.0, 97.0, 97.0, 97.0, 97.0, 97.0, 97.0, 97....   \n",
       "...                                                 ...   \n",
       "8327  [100.0, 100.0, 99.0, 100.0, 100.0, 100.0, 100....   \n",
       "8329  [99.0, 100.0, 99.0, 99.0, 99.0, 99.0, 99.0, 99...   \n",
       "8331  [100.0, 100.0, 100.0, 100.0, 100.0, 100.0, 100...   \n",
       "8333  [97.0, 97.0, 98.0, 98.0, 98.0, 97.0, 97.0, 98....   \n",
       "8350  [99.0, 99.0, 99.0, 99.0, 99.0, 99.0, 99.0, 99....   \n",
       "\n",
       "                                             NIBP(mmHg)  IcNaOk  \\\n",
       "1     [118.0, 118.0, 118.0, 120.0, 120.0, 120.0, 120...     0.0   \n",
       "2     [129.0, 129.0, 129.0, 129.0, 133.0, 137.0, 141...     0.0   \n",
       "3     [150.0, 158.0, 2.0, 151.0, 2.0, 2.0, 152.0, 15...     0.0   \n",
       "4     [136.0, 131.0, 131.0, 131.0, 131.0, 131.0, 144...     0.0   \n",
       "5     [115.0, 113.0, 113.0, 113.0, 108.0, 108.0, 108...     0.0   \n",
       "...                                                 ...     ...   \n",
       "8327  [138.0, 138.0, 138.0, 138.0, 138.0, 138.0, 138...     1.0   \n",
       "8329  [90.0, 90.0, 94.0, 94.0, 94.0, 94.0, 94.0, 94....     1.0   \n",
       "8331  [160.0, 124.0, 124.0, 124.0, 124.0, 124.0, 124...     1.0   \n",
       "8333  [119.0, 119.0, 119.0, 119.0, 119.0, 119.0, 119...     1.0   \n",
       "8350  [138.0, 138.0, 138.0, 138.0, 138.0, 138.0, 115...     0.0   \n",
       "\n",
       "      Length_MeetTijd                                              HR*Sp  \\\n",
       "1                 146  [4692.0, 4508.0, 4987.5, 4557.0, 5115.0, 4650....   \n",
       "2                 200  [7742.0, 7350.0, 6958.0, 8565.333333333332, 85...   \n",
       "3                 178  [9486.0, 9462.42, 9519.84, 9704.08, 9391.68, 9...   \n",
       "4                  75  [5432.0, 5529.0, 5488.0, 5626.0, 5684.0, 5586....   \n",
       "5                 164  [7663.0, 8148.0, 7566.0, 7566.0, 7663.0, 7663....   \n",
       "...               ...                                                ...   \n",
       "8327              126  [7100.0, 7100.0, 7029.0, 7100.0, 7100.0, 7100....   \n",
       "8329              190  [7920.0, 8000.0, 7920.0, 7722.0, 8118.0, 7821....   \n",
       "8331              177  [7200.0, 7100.0, 7000.0, 7000.0, 6800.0, 6800....   \n",
       "8333              176  [12125.0, 12707.0, 12544.0, 12250.0, 12348.0, ...   \n",
       "8350              237  [7227.0, 7227.0, 7326.0, 7227.0, 7227.0, 7326....   \n",
       "\n",
       "                                                HR*NIBP  \\\n",
       "1     [6018.0, 5782.0, 6726.0, 5880.0, 6600.0, 6000....   \n",
       "2     [10191.0, 9675.0, 9159.0, 11352.0, 11704.0, 11...   \n",
       "3     [15300.0, 15642.0, 198.0, 15251.0, 192.0, 202....   \n",
       "4     [7616.0, 7467.0, 7336.0, 7598.0, 7598.0, 7467....   \n",
       "5     [9085.0, 9492.0, 8814.0, 8814.0, 8532.0, 8532....   \n",
       "...                                                 ...   \n",
       "8327  [9798.0, 9798.0, 9798.0, 9798.0, 9798.0, 9798....   \n",
       "8329  [7200.0, 7200.0, 7520.0, 7332.0, 7708.0, 7426....   \n",
       "8331  [11520.0, 8804.0, 8680.0, 8680.0, 8432.0, 8432...   \n",
       "8333  [14875.0, 15589.0, 15232.0, 14875.0, 14994.0, ...   \n",
       "8350  [10074.0, 10074.0, 10212.0, 10074.0, 10074.0, ...   \n",
       "\n",
       "                                                Sp*NIBP  \\\n",
       "1     [10856.0, 10856.0, 10325.0, 11160.0, 11160.0, ...   \n",
       "2     [12642.0, 12642.0, 12642.0, 12556.0, 12856.666...   \n",
       "3     [13950.0, 15101.64, 192.32, 14508.08, 195.66, ...   \n",
       "4     [13192.0, 12707.0, 12838.0, 12707.0, 12838.0, ...   \n",
       "5     [11155.0, 10961.0, 10961.0, 10961.0, 10476.0, ...   \n",
       "...                                                 ...   \n",
       "8327  [13800.0, 13800.0, 13662.0, 13800.0, 13800.0, ...   \n",
       "8329  [8910.0, 9000.0, 9306.0, 9306.0, 9306.0, 9306....   \n",
       "8331  [16000.0, 12400.0, 12400.0, 12400.0, 12400.0, ...   \n",
       "8333  [11543.0, 11543.0, 11662.0, 11662.0, 11662.0, ...   \n",
       "8350  [13662.0, 13662.0, 13662.0, 13662.0, 13662.0, ...   \n",
       "\n",
       "                                             HR*Sp*NIBP  \n",
       "1     [553656.0, 531944.0, 588525.0, 546840.0, 61380...  \n",
       "2     [998718.0, 948150.0, 897582.0, 1104928.0, 1131...  \n",
       "3     [1422900.0, 1495062.3599999999, 19039.68, 1465...  \n",
       "4     [738752.0, 724299.0, 718928.0, 737006.0, 74460...  \n",
       "5     [881245.0, 920724.0, 854958.0, 854958.0, 82760...  \n",
       "...                                                 ...  \n",
       "8327  [979800.0, 979800.0, 970002.0, 979800.0, 97980...  \n",
       "8329  [712800.0, 720000.0, 744480.0, 725868.0, 76309...  \n",
       "8331  [1152000.0, 880400.0, 868000.0, 868000.0, 8432...  \n",
       "8333  [1442875.0, 1512133.0, 1492736.0, 1457750.0, 1...  \n",
       "8350  [997326.0, 997326.0, 1010988.0, 997326.0, 9973...  \n",
       "\n",
       "[6127 rows x 10 columns]"
      ],
      "text/html": "<div>\n<style scoped>\n    .dataframe tbody tr th:only-of-type {\n        vertical-align: middle;\n    }\n\n    .dataframe tbody tr th {\n        vertical-align: top;\n    }\n\n    .dataframe thead th {\n        text-align: right;\n    }\n</style>\n<table border=\"1\" class=\"dataframe\">\n  <thead>\n    <tr style=\"text-align: right;\">\n      <th></th>\n      <th>MeetTijd</th>\n      <th>HR(bpm)</th>\n      <th>SpO2(%)</th>\n      <th>NIBP(mmHg)</th>\n      <th>IcNaOk</th>\n      <th>Length_MeetTijd</th>\n      <th>HR*Sp</th>\n      <th>HR*NIBP</th>\n      <th>Sp*NIBP</th>\n      <th>HR*Sp*NIBP</th>\n    </tr>\n  </thead>\n  <tbody>\n    <tr>\n      <th>1</th>\n      <td>[15:32:32, 15:33:32, 15:34:33, 15:35:33, 15:36...</td>\n      <td>[51.0, 49.0, 57.0, 49.0, 55.0, 50.0, 56.0, 49....</td>\n      <td>[92.0, 92.0, 87.5, 93.0, 93.0, 93.0, 92.0, 95....</td>\n      <td>[118.0, 118.0, 118.0, 120.0, 120.0, 120.0, 120...</td>\n      <td>0.0</td>\n      <td>146</td>\n      <td>[4692.0, 4508.0, 4987.5, 4557.0, 5115.0, 4650....</td>\n      <td>[6018.0, 5782.0, 6726.0, 5880.0, 6600.0, 6000....</td>\n      <td>[10856.0, 10856.0, 10325.0, 11160.0, 11160.0, ...</td>\n      <td>[553656.0, 531944.0, 588525.0, 546840.0, 61380...</td>\n    </tr>\n    <tr>\n      <th>2</th>\n      <td>[08:45:22, 08:46:23, 08:47:23, 08:48:24, 08:49...</td>\n      <td>[79.0, 75.0, 71.0, 88.0, 88.0, 84.0, 66.0, 66....</td>\n      <td>[98.0, 98.0, 98.0, 97.33333333333333, 96.66666...</td>\n      <td>[129.0, 129.0, 129.0, 129.0, 133.0, 137.0, 141...</td>\n      <td>0.0</td>\n      <td>200</td>\n      <td>[7742.0, 7350.0, 6958.0, 8565.333333333332, 85...</td>\n      <td>[10191.0, 9675.0, 9159.0, 11352.0, 11704.0, 11...</td>\n      <td>[12642.0, 12642.0, 12642.0, 12556.0, 12856.666...</td>\n      <td>[998718.0, 948150.0, 897582.0, 1104928.0, 1131...</td>\n    </tr>\n    <tr>\n      <th>3</th>\n      <td>[08:40:08, 08:41:08, 08:42:09, 08:43:09, 08:44...</td>\n      <td>[102.0, 99.0, 99.0, 101.0, 96.0, 101.0, 99.0, ...</td>\n      <td>[93.0, 95.58, 96.16, 96.08, 97.83, 96.66, 97.7...</td>\n      <td>[150.0, 158.0, 2.0, 151.0, 2.0, 2.0, 152.0, 15...</td>\n      <td>0.0</td>\n      <td>178</td>\n      <td>[9486.0, 9462.42, 9519.84, 9704.08, 9391.68, 9...</td>\n      <td>[15300.0, 15642.0, 198.0, 15251.0, 192.0, 202....</td>\n      <td>[13950.0, 15101.64, 192.32, 14508.08, 195.66, ...</td>\n      <td>[1422900.0, 1495062.3599999999, 19039.68, 1465...</td>\n    </tr>\n    <tr>\n      <th>4</th>\n      <td>[09:09:53, 09:10:53, 09:11:54, 09:12:54, 09:13...</td>\n      <td>[56.0, 57.0, 56.0, 58.0, 58.0, 57.0, 57.0, 63....</td>\n      <td>[97.0, 97.0, 98.0, 97.0, 98.0, 98.0, 97.5, 98....</td>\n      <td>[136.0, 131.0, 131.0, 131.0, 131.0, 131.0, 144...</td>\n      <td>0.0</td>\n      <td>75</td>\n      <td>[5432.0, 5529.0, 5488.0, 5626.0, 5684.0, 5586....</td>\n      <td>[7616.0, 7467.0, 7336.0, 7598.0, 7598.0, 7467....</td>\n      <td>[13192.0, 12707.0, 12838.0, 12707.0, 12838.0, ...</td>\n      <td>[738752.0, 724299.0, 718928.0, 737006.0, 74460...</td>\n    </tr>\n    <tr>\n      <th>5</th>\n      <td>[13:45:16, 13:46:17, 13:47:17, 13:48:18, 13:49...</td>\n      <td>[79.0, 84.0, 78.0, 78.0, 79.0, 79.0, 81.0, 79....</td>\n      <td>[97.0, 97.0, 97.0, 97.0, 97.0, 97.0, 97.0, 97....</td>\n      <td>[115.0, 113.0, 113.0, 113.0, 108.0, 108.0, 108...</td>\n      <td>0.0</td>\n      <td>164</td>\n      <td>[7663.0, 8148.0, 7566.0, 7566.0, 7663.0, 7663....</td>\n      <td>[9085.0, 9492.0, 8814.0, 8814.0, 8532.0, 8532....</td>\n      <td>[11155.0, 10961.0, 10961.0, 10961.0, 10476.0, ...</td>\n      <td>[881245.0, 920724.0, 854958.0, 854958.0, 82760...</td>\n    </tr>\n    <tr>\n      <th>...</th>\n      <td>...</td>\n      <td>...</td>\n      <td>...</td>\n      <td>...</td>\n      <td>...</td>\n      <td>...</td>\n      <td>...</td>\n      <td>...</td>\n      <td>...</td>\n      <td>...</td>\n    </tr>\n    <tr>\n      <th>8327</th>\n      <td>[13:56:40, 13:57:10, 13:57:40, 13:58:11, 13:58...</td>\n      <td>[71.0, 71.0, 71.0, 71.0, 71.0, 71.0, 78.0, 75....</td>\n      <td>[100.0, 100.0, 99.0, 100.0, 100.0, 100.0, 100....</td>\n      <td>[138.0, 138.0, 138.0, 138.0, 138.0, 138.0, 138...</td>\n      <td>1.0</td>\n      <td>126</td>\n      <td>[7100.0, 7100.0, 7029.0, 7100.0, 7100.0, 7100....</td>\n      <td>[9798.0, 9798.0, 9798.0, 9798.0, 9798.0, 9798....</td>\n      <td>[13800.0, 13800.0, 13662.0, 13800.0, 13800.0, ...</td>\n      <td>[979800.0, 979800.0, 970002.0, 979800.0, 97980...</td>\n    </tr>\n    <tr>\n      <th>8329</th>\n      <td>[17:26:10, 17:26:40, 17:27:11, 17:27:41, 17:28...</td>\n      <td>[80.0, 80.0, 80.0, 78.0, 82.0, 79.0, 77.0, 78....</td>\n      <td>[99.0, 100.0, 99.0, 99.0, 99.0, 99.0, 99.0, 99...</td>\n      <td>[90.0, 90.0, 94.0, 94.0, 94.0, 94.0, 94.0, 94....</td>\n      <td>1.0</td>\n      <td>190</td>\n      <td>[7920.0, 8000.0, 7920.0, 7722.0, 8118.0, 7821....</td>\n      <td>[7200.0, 7200.0, 7520.0, 7332.0, 7708.0, 7426....</td>\n      <td>[8910.0, 9000.0, 9306.0, 9306.0, 9306.0, 9306....</td>\n      <td>[712800.0, 720000.0, 744480.0, 725868.0, 76309...</td>\n    </tr>\n    <tr>\n      <th>8331</th>\n      <td>[22:36:56, 22:37:27, 22:37:57, 22:38:27, 22:38...</td>\n      <td>[72.0, 71.0, 70.0, 70.0, 68.0, 68.0, 67.0, 66....</td>\n      <td>[100.0, 100.0, 100.0, 100.0, 100.0, 100.0, 100...</td>\n      <td>[160.0, 124.0, 124.0, 124.0, 124.0, 124.0, 124...</td>\n      <td>1.0</td>\n      <td>177</td>\n      <td>[7200.0, 7100.0, 7000.0, 7000.0, 6800.0, 6800....</td>\n      <td>[11520.0, 8804.0, 8680.0, 8680.0, 8432.0, 8432...</td>\n      <td>[16000.0, 12400.0, 12400.0, 12400.0, 12400.0, ...</td>\n      <td>[1152000.0, 880400.0, 868000.0, 868000.0, 8432...</td>\n    </tr>\n    <tr>\n      <th>8333</th>\n      <td>[19:53:44, 19:54:15, 19:54:45, 19:55:16, 19:55...</td>\n      <td>[125.0, 131.0, 128.0, 125.0, 126.0, 123.0, 128...</td>\n      <td>[97.0, 97.0, 98.0, 98.0, 98.0, 97.0, 97.0, 98....</td>\n      <td>[119.0, 119.0, 119.0, 119.0, 119.0, 119.0, 119...</td>\n      <td>1.0</td>\n      <td>176</td>\n      <td>[12125.0, 12707.0, 12544.0, 12250.0, 12348.0, ...</td>\n      <td>[14875.0, 15589.0, 15232.0, 14875.0, 14994.0, ...</td>\n      <td>[11543.0, 11543.0, 11662.0, 11662.0, 11662.0, ...</td>\n      <td>[1442875.0, 1512133.0, 1492736.0, 1457750.0, 1...</td>\n    </tr>\n    <tr>\n      <th>8350</th>\n      <td>[15:22:23, 15:22:54, 15:23:24, 15:23:55, 15:24...</td>\n      <td>[73.0, 73.0, 74.0, 73.0, 73.0, 74.0, 75.0, 76....</td>\n      <td>[99.0, 99.0, 99.0, 99.0, 99.0, 99.0, 99.0, 99....</td>\n      <td>[138.0, 138.0, 138.0, 138.0, 138.0, 138.0, 115...</td>\n      <td>0.0</td>\n      <td>237</td>\n      <td>[7227.0, 7227.0, 7326.0, 7227.0, 7227.0, 7326....</td>\n      <td>[10074.0, 10074.0, 10212.0, 10074.0, 10074.0, ...</td>\n      <td>[13662.0, 13662.0, 13662.0, 13662.0, 13662.0, ...</td>\n      <td>[997326.0, 997326.0, 1010988.0, 997326.0, 9973...</td>\n    </tr>\n  </tbody>\n</table>\n<p>6127 rows × 10 columns</p>\n</div>"
     },
     "metadata": {},
     "execution_count": 6
    }
   ],
   "source": [
    "no_quantiles"
   ]
  },
  {
   "cell_type": "code",
   "execution_count": null,
   "metadata": {},
   "outputs": [],
   "source": []
  },
  {
   "cell_type": "code",
   "execution_count": 7,
   "metadata": {},
   "outputs": [],
   "source": [
    "extract_fe(no_quantiles,False)"
   ]
  },
  {
   "cell_type": "code",
   "execution_count": 21,
   "metadata": {},
   "outputs": [
    {
     "output_type": "error",
     "ename": "KeyError",
     "evalue": "\"['HR(bpm)' 'SpO2(%)' 'NIBP(mmHg)' 'HR*Sp' 'HR*NIBP' 'Sp*NIBP' 'HR*Sp*NIBP'] not found in axis\"",
     "traceback": [
      "\u001b[0;31m---------------------------------------------------------------------------\u001b[0m",
      "\u001b[0;31mKeyError\u001b[0m                                  Traceback (most recent call last)",
      "\u001b[0;32m<ipython-input-21-55f183f3f691>\u001b[0m in \u001b[0;36m<module>\u001b[0;34m\u001b[0m\n\u001b[0;32m----> 1\u001b[0;31m \u001b[0mno_quantiles\u001b[0m \u001b[0;34m=\u001b[0m \u001b[0mno_quantiles\u001b[0m\u001b[0;34m.\u001b[0m\u001b[0mdrop\u001b[0m\u001b[0;34m(\u001b[0m\u001b[0mcolumns\u001b[0m\u001b[0;34m=\u001b[0m\u001b[0mvitals\u001b[0m\u001b[0;34m)\u001b[0m\u001b[0;34m\u001b[0m\u001b[0;34m\u001b[0m\u001b[0m\n\u001b[0m",
      "\u001b[0;32m/Library/Frameworks/Python.framework/Versions/3.8/lib/python3.8/site-packages/pandas/core/frame.py\u001b[0m in \u001b[0;36mdrop\u001b[0;34m(self, labels, axis, index, columns, level, inplace, errors)\u001b[0m\n\u001b[1;32m   4303\u001b[0m                 \u001b[0mweight\u001b[0m  \u001b[0;36m1.0\u001b[0m     \u001b[0;36m0.8\u001b[0m\u001b[0;34m\u001b[0m\u001b[0;34m\u001b[0m\u001b[0m\n\u001b[1;32m   4304\u001b[0m         \"\"\"\n\u001b[0;32m-> 4305\u001b[0;31m         return super().drop(\n\u001b[0m\u001b[1;32m   4306\u001b[0m             \u001b[0mlabels\u001b[0m\u001b[0;34m=\u001b[0m\u001b[0mlabels\u001b[0m\u001b[0;34m,\u001b[0m\u001b[0;34m\u001b[0m\u001b[0;34m\u001b[0m\u001b[0m\n\u001b[1;32m   4307\u001b[0m             \u001b[0maxis\u001b[0m\u001b[0;34m=\u001b[0m\u001b[0maxis\u001b[0m\u001b[0;34m,\u001b[0m\u001b[0;34m\u001b[0m\u001b[0;34m\u001b[0m\u001b[0m\n",
      "\u001b[0;32m/Library/Frameworks/Python.framework/Versions/3.8/lib/python3.8/site-packages/pandas/core/generic.py\u001b[0m in \u001b[0;36mdrop\u001b[0;34m(self, labels, axis, index, columns, level, inplace, errors)\u001b[0m\n\u001b[1;32m   4150\u001b[0m         \u001b[0;32mfor\u001b[0m \u001b[0maxis\u001b[0m\u001b[0;34m,\u001b[0m \u001b[0mlabels\u001b[0m \u001b[0;32min\u001b[0m \u001b[0maxes\u001b[0m\u001b[0;34m.\u001b[0m\u001b[0mitems\u001b[0m\u001b[0;34m(\u001b[0m\u001b[0;34m)\u001b[0m\u001b[0;34m:\u001b[0m\u001b[0;34m\u001b[0m\u001b[0;34m\u001b[0m\u001b[0m\n\u001b[1;32m   4151\u001b[0m             \u001b[0;32mif\u001b[0m \u001b[0mlabels\u001b[0m \u001b[0;32mis\u001b[0m \u001b[0;32mnot\u001b[0m \u001b[0;32mNone\u001b[0m\u001b[0;34m:\u001b[0m\u001b[0;34m\u001b[0m\u001b[0;34m\u001b[0m\u001b[0m\n\u001b[0;32m-> 4152\u001b[0;31m                 \u001b[0mobj\u001b[0m \u001b[0;34m=\u001b[0m \u001b[0mobj\u001b[0m\u001b[0;34m.\u001b[0m\u001b[0m_drop_axis\u001b[0m\u001b[0;34m(\u001b[0m\u001b[0mlabels\u001b[0m\u001b[0;34m,\u001b[0m \u001b[0maxis\u001b[0m\u001b[0;34m,\u001b[0m \u001b[0mlevel\u001b[0m\u001b[0;34m=\u001b[0m\u001b[0mlevel\u001b[0m\u001b[0;34m,\u001b[0m \u001b[0merrors\u001b[0m\u001b[0;34m=\u001b[0m\u001b[0merrors\u001b[0m\u001b[0;34m)\u001b[0m\u001b[0;34m\u001b[0m\u001b[0;34m\u001b[0m\u001b[0m\n\u001b[0m\u001b[1;32m   4153\u001b[0m \u001b[0;34m\u001b[0m\u001b[0m\n\u001b[1;32m   4154\u001b[0m         \u001b[0;32mif\u001b[0m \u001b[0minplace\u001b[0m\u001b[0;34m:\u001b[0m\u001b[0;34m\u001b[0m\u001b[0;34m\u001b[0m\u001b[0m\n",
      "\u001b[0;32m/Library/Frameworks/Python.framework/Versions/3.8/lib/python3.8/site-packages/pandas/core/generic.py\u001b[0m in \u001b[0;36m_drop_axis\u001b[0;34m(self, labels, axis, level, errors)\u001b[0m\n\u001b[1;32m   4185\u001b[0m                 \u001b[0mnew_axis\u001b[0m \u001b[0;34m=\u001b[0m \u001b[0maxis\u001b[0m\u001b[0;34m.\u001b[0m\u001b[0mdrop\u001b[0m\u001b[0;34m(\u001b[0m\u001b[0mlabels\u001b[0m\u001b[0;34m,\u001b[0m \u001b[0mlevel\u001b[0m\u001b[0;34m=\u001b[0m\u001b[0mlevel\u001b[0m\u001b[0;34m,\u001b[0m \u001b[0merrors\u001b[0m\u001b[0;34m=\u001b[0m\u001b[0merrors\u001b[0m\u001b[0;34m)\u001b[0m\u001b[0;34m\u001b[0m\u001b[0;34m\u001b[0m\u001b[0m\n\u001b[1;32m   4186\u001b[0m             \u001b[0;32melse\u001b[0m\u001b[0;34m:\u001b[0m\u001b[0;34m\u001b[0m\u001b[0;34m\u001b[0m\u001b[0m\n\u001b[0;32m-> 4187\u001b[0;31m                 \u001b[0mnew_axis\u001b[0m \u001b[0;34m=\u001b[0m \u001b[0maxis\u001b[0m\u001b[0;34m.\u001b[0m\u001b[0mdrop\u001b[0m\u001b[0;34m(\u001b[0m\u001b[0mlabels\u001b[0m\u001b[0;34m,\u001b[0m \u001b[0merrors\u001b[0m\u001b[0;34m=\u001b[0m\u001b[0merrors\u001b[0m\u001b[0;34m)\u001b[0m\u001b[0;34m\u001b[0m\u001b[0;34m\u001b[0m\u001b[0m\n\u001b[0m\u001b[1;32m   4188\u001b[0m             \u001b[0mresult\u001b[0m \u001b[0;34m=\u001b[0m \u001b[0mself\u001b[0m\u001b[0;34m.\u001b[0m\u001b[0mreindex\u001b[0m\u001b[0;34m(\u001b[0m\u001b[0;34m**\u001b[0m\u001b[0;34m{\u001b[0m\u001b[0maxis_name\u001b[0m\u001b[0;34m:\u001b[0m \u001b[0mnew_axis\u001b[0m\u001b[0;34m}\u001b[0m\u001b[0;34m)\u001b[0m\u001b[0;34m\u001b[0m\u001b[0;34m\u001b[0m\u001b[0m\n\u001b[1;32m   4189\u001b[0m \u001b[0;34m\u001b[0m\u001b[0m\n",
      "\u001b[0;32m/Library/Frameworks/Python.framework/Versions/3.8/lib/python3.8/site-packages/pandas/core/indexes/base.py\u001b[0m in \u001b[0;36mdrop\u001b[0;34m(self, labels, errors)\u001b[0m\n\u001b[1;32m   5589\u001b[0m         \u001b[0;32mif\u001b[0m \u001b[0mmask\u001b[0m\u001b[0;34m.\u001b[0m\u001b[0many\u001b[0m\u001b[0;34m(\u001b[0m\u001b[0;34m)\u001b[0m\u001b[0;34m:\u001b[0m\u001b[0;34m\u001b[0m\u001b[0;34m\u001b[0m\u001b[0m\n\u001b[1;32m   5590\u001b[0m             \u001b[0;32mif\u001b[0m \u001b[0merrors\u001b[0m \u001b[0;34m!=\u001b[0m \u001b[0;34m\"ignore\"\u001b[0m\u001b[0;34m:\u001b[0m\u001b[0;34m\u001b[0m\u001b[0;34m\u001b[0m\u001b[0m\n\u001b[0;32m-> 5591\u001b[0;31m                 \u001b[0;32mraise\u001b[0m \u001b[0mKeyError\u001b[0m\u001b[0;34m(\u001b[0m\u001b[0;34mf\"{labels[mask]} not found in axis\"\u001b[0m\u001b[0;34m)\u001b[0m\u001b[0;34m\u001b[0m\u001b[0;34m\u001b[0m\u001b[0m\n\u001b[0m\u001b[1;32m   5592\u001b[0m             \u001b[0mindexer\u001b[0m \u001b[0;34m=\u001b[0m \u001b[0mindexer\u001b[0m\u001b[0;34m[\u001b[0m\u001b[0;34m~\u001b[0m\u001b[0mmask\u001b[0m\u001b[0;34m]\u001b[0m\u001b[0;34m\u001b[0m\u001b[0;34m\u001b[0m\u001b[0m\n\u001b[1;32m   5593\u001b[0m         \u001b[0;32mreturn\u001b[0m \u001b[0mself\u001b[0m\u001b[0;34m.\u001b[0m\u001b[0mdelete\u001b[0m\u001b[0;34m(\u001b[0m\u001b[0mindexer\u001b[0m\u001b[0;34m)\u001b[0m\u001b[0;34m\u001b[0m\u001b[0;34m\u001b[0m\u001b[0m\n",
      "\u001b[0;31mKeyError\u001b[0m: \"['HR(bpm)' 'SpO2(%)' 'NIBP(mmHg)' 'HR*Sp' 'HR*NIBP' 'Sp*NIBP' 'HR*Sp*NIBP'] not found in axis\""
     ]
    }
   ],
   "source": [
    "no_quantiles = no_quantiles.drop(columns=vitals)"
   ]
  },
  {
   "cell_type": "code",
   "execution_count": 25,
   "metadata": {},
   "outputs": [],
   "source": [
    "no_quantiles = no_quantiles.drop(['MeetTijd'], axis = 1)"
   ]
  },
  {
   "cell_type": "code",
   "execution_count": 26,
   "metadata": {},
   "outputs": [
    {
     "output_type": "execute_result",
     "data": {
      "text/plain": [
       "      IcNaOk  Length_MeetTijd  Mean HR(bpm)  Std HR(bpm)  Max HR(bpm)  \\\n",
       "1        0.0              146     57.500000    24.779369        174.0   \n",
       "2        0.0              200     63.892500     7.198242         88.0   \n",
       "3        0.0              178     91.977528    12.881463        111.0   \n",
       "4        0.0               75     62.293333     6.050396         85.0   \n",
       "5        0.0              164     81.326220     8.733799        159.0   \n",
       "...      ...              ...           ...          ...          ...   \n",
       "8327     1.0              126     66.238095     6.738221         86.0   \n",
       "8329     1.0              190     81.768421    12.354908        122.0   \n",
       "8331     1.0              177     71.553672     8.028107        101.0   \n",
       "8333     1.0              176    109.176136    11.665689        146.0   \n",
       "8350     0.0              237     68.677215     5.036808         84.0   \n",
       "\n",
       "      Min HR(bpm)  Mode HR(bpm)  Median HR(bpm)  Mean SpO2(%)  Std SpO2(%)  \\\n",
       "1            40.0          42.0            49.0     97.725342     1.971794   \n",
       "2            53.0          60.0            62.0     98.263300     1.040258   \n",
       "3            64.0         101.0            96.5     96.926966     1.891091   \n",
       "4            55.0          58.0            61.0     97.746533     0.846885   \n",
       "5            67.0          79.0            80.0     96.242744     1.966169   \n",
       "...           ...           ...             ...           ...          ...   \n",
       "8327         54.0          62.0            65.0     99.968254     0.175323   \n",
       "8329         65.0          79.0            79.0     98.655263     2.078929   \n",
       "8331         57.0          72.0            71.0    100.000000     0.000000   \n",
       "8333         91.0         104.0           105.5     99.636364     0.937621   \n",
       "8350         60.0          67.0            67.0     98.814346     1.001752   \n",
       "\n",
       "      ...  Max Sp*NIBP  Min Sp*NIBP  Mode Sp*NIBP  Median Sp*NIBP  \\\n",
       "1     ...     16632.00        96.75       10791.0         11524.0   \n",
       "2     ...     14210.00        91.66       12870.0         12642.0   \n",
       "3     ...     15101.64        98.08         189.6         10539.0   \n",
       "4     ...     14308.00        97.00       14210.0         13266.0   \n",
       "5     ...     19602.00        96.83          97.0         12625.5   \n",
       "...   ...          ...          ...           ...             ...   \n",
       "8327  ...     13900.00      7700.00        8200.0          9600.0   \n",
       "8329  ...     13700.00      7553.00        9009.0          9300.0   \n",
       "8331  ...     18300.00      8000.00       15300.0         13300.0   \n",
       "8333  ...     12700.00      7200.00        8800.0          9000.0   \n",
       "8350  ...     16800.00      8600.00       12936.0         12936.0   \n",
       "\n",
       "      Mean HR*Sp*NIBP  Std HR*Sp*NIBP  Max HR*Sp*NIBP  Min HR*Sp*NIBP  \\\n",
       "1        6.789329e+05   342024.534142    2.711016e+06         4837.50   \n",
       "2        8.019443e+05   142301.070715    1.131387e+06         5591.26   \n",
       "3        9.306489e+05   459618.748634    1.528065e+06         7029.00   \n",
       "4        7.934117e+05   204817.738412    1.170875e+06         5432.00   \n",
       "5        9.928339e+05   413845.971067    2.990790e+06         6499.00   \n",
       "...               ...             ...             ...             ...   \n",
       "8327     6.582175e+05   150988.591756    1.076400e+06       459200.00   \n",
       "8329     8.200066e+05   227118.813510    1.520700e+06       543816.00   \n",
       "8331     9.442232e+05   273738.823264    1.706900e+06       456000.00   \n",
       "8333     1.032183e+06   232209.369087    1.790700e+06       755300.00   \n",
       "8350     8.809028e+05   134548.800100    1.164400e+06       524600.00   \n",
       "\n",
       "      Mode HR*Sp*NIBP  Median HR*Sp*NIBP  \n",
       "1            442431.0           579868.0  \n",
       "2            716184.0           785070.0  \n",
       "3             19149.6           872486.0  \n",
       "4            795760.0           822492.0  \n",
       "5              6790.0           991025.5  \n",
       "...               ...                ...  \n",
       "8327         607600.0           607600.0  \n",
       "8329         594594.0           737946.0  \n",
       "8331        1706900.0           931300.0  \n",
       "8333         936000.0           950400.0  \n",
       "8350         935550.0           874000.0  \n",
       "\n",
       "[6127 rows x 44 columns]"
      ],
      "text/html": "<div>\n<style scoped>\n    .dataframe tbody tr th:only-of-type {\n        vertical-align: middle;\n    }\n\n    .dataframe tbody tr th {\n        vertical-align: top;\n    }\n\n    .dataframe thead th {\n        text-align: right;\n    }\n</style>\n<table border=\"1\" class=\"dataframe\">\n  <thead>\n    <tr style=\"text-align: right;\">\n      <th></th>\n      <th>IcNaOk</th>\n      <th>Length_MeetTijd</th>\n      <th>Mean HR(bpm)</th>\n      <th>Std HR(bpm)</th>\n      <th>Max HR(bpm)</th>\n      <th>Min HR(bpm)</th>\n      <th>Mode HR(bpm)</th>\n      <th>Median HR(bpm)</th>\n      <th>Mean SpO2(%)</th>\n      <th>Std SpO2(%)</th>\n      <th>...</th>\n      <th>Max Sp*NIBP</th>\n      <th>Min Sp*NIBP</th>\n      <th>Mode Sp*NIBP</th>\n      <th>Median Sp*NIBP</th>\n      <th>Mean HR*Sp*NIBP</th>\n      <th>Std HR*Sp*NIBP</th>\n      <th>Max HR*Sp*NIBP</th>\n      <th>Min HR*Sp*NIBP</th>\n      <th>Mode HR*Sp*NIBP</th>\n      <th>Median HR*Sp*NIBP</th>\n    </tr>\n  </thead>\n  <tbody>\n    <tr>\n      <th>1</th>\n      <td>0.0</td>\n      <td>146</td>\n      <td>57.500000</td>\n      <td>24.779369</td>\n      <td>174.0</td>\n      <td>40.0</td>\n      <td>42.0</td>\n      <td>49.0</td>\n      <td>97.725342</td>\n      <td>1.971794</td>\n      <td>...</td>\n      <td>16632.00</td>\n      <td>96.75</td>\n      <td>10791.0</td>\n      <td>11524.0</td>\n      <td>6.789329e+05</td>\n      <td>342024.534142</td>\n      <td>2.711016e+06</td>\n      <td>4837.50</td>\n      <td>442431.0</td>\n      <td>579868.0</td>\n    </tr>\n    <tr>\n      <th>2</th>\n      <td>0.0</td>\n      <td>200</td>\n      <td>63.892500</td>\n      <td>7.198242</td>\n      <td>88.0</td>\n      <td>53.0</td>\n      <td>60.0</td>\n      <td>62.0</td>\n      <td>98.263300</td>\n      <td>1.040258</td>\n      <td>...</td>\n      <td>14210.00</td>\n      <td>91.66</td>\n      <td>12870.0</td>\n      <td>12642.0</td>\n      <td>8.019443e+05</td>\n      <td>142301.070715</td>\n      <td>1.131387e+06</td>\n      <td>5591.26</td>\n      <td>716184.0</td>\n      <td>785070.0</td>\n    </tr>\n    <tr>\n      <th>3</th>\n      <td>0.0</td>\n      <td>178</td>\n      <td>91.977528</td>\n      <td>12.881463</td>\n      <td>111.0</td>\n      <td>64.0</td>\n      <td>101.0</td>\n      <td>96.5</td>\n      <td>96.926966</td>\n      <td>1.891091</td>\n      <td>...</td>\n      <td>15101.64</td>\n      <td>98.08</td>\n      <td>189.6</td>\n      <td>10539.0</td>\n      <td>9.306489e+05</td>\n      <td>459618.748634</td>\n      <td>1.528065e+06</td>\n      <td>7029.00</td>\n      <td>19149.6</td>\n      <td>872486.0</td>\n    </tr>\n    <tr>\n      <th>4</th>\n      <td>0.0</td>\n      <td>75</td>\n      <td>62.293333</td>\n      <td>6.050396</td>\n      <td>85.0</td>\n      <td>55.0</td>\n      <td>58.0</td>\n      <td>61.0</td>\n      <td>97.746533</td>\n      <td>0.846885</td>\n      <td>...</td>\n      <td>14308.00</td>\n      <td>97.00</td>\n      <td>14210.0</td>\n      <td>13266.0</td>\n      <td>7.934117e+05</td>\n      <td>204817.738412</td>\n      <td>1.170875e+06</td>\n      <td>5432.00</td>\n      <td>795760.0</td>\n      <td>822492.0</td>\n    </tr>\n    <tr>\n      <th>5</th>\n      <td>0.0</td>\n      <td>164</td>\n      <td>81.326220</td>\n      <td>8.733799</td>\n      <td>159.0</td>\n      <td>67.0</td>\n      <td>79.0</td>\n      <td>80.0</td>\n      <td>96.242744</td>\n      <td>1.966169</td>\n      <td>...</td>\n      <td>19602.00</td>\n      <td>96.83</td>\n      <td>97.0</td>\n      <td>12625.5</td>\n      <td>9.928339e+05</td>\n      <td>413845.971067</td>\n      <td>2.990790e+06</td>\n      <td>6499.00</td>\n      <td>6790.0</td>\n      <td>991025.5</td>\n    </tr>\n    <tr>\n      <th>...</th>\n      <td>...</td>\n      <td>...</td>\n      <td>...</td>\n      <td>...</td>\n      <td>...</td>\n      <td>...</td>\n      <td>...</td>\n      <td>...</td>\n      <td>...</td>\n      <td>...</td>\n      <td>...</td>\n      <td>...</td>\n      <td>...</td>\n      <td>...</td>\n      <td>...</td>\n      <td>...</td>\n      <td>...</td>\n      <td>...</td>\n      <td>...</td>\n      <td>...</td>\n      <td>...</td>\n    </tr>\n    <tr>\n      <th>8327</th>\n      <td>1.0</td>\n      <td>126</td>\n      <td>66.238095</td>\n      <td>6.738221</td>\n      <td>86.0</td>\n      <td>54.0</td>\n      <td>62.0</td>\n      <td>65.0</td>\n      <td>99.968254</td>\n      <td>0.175323</td>\n      <td>...</td>\n      <td>13900.00</td>\n      <td>7700.00</td>\n      <td>8200.0</td>\n      <td>9600.0</td>\n      <td>6.582175e+05</td>\n      <td>150988.591756</td>\n      <td>1.076400e+06</td>\n      <td>459200.00</td>\n      <td>607600.0</td>\n      <td>607600.0</td>\n    </tr>\n    <tr>\n      <th>8329</th>\n      <td>1.0</td>\n      <td>190</td>\n      <td>81.768421</td>\n      <td>12.354908</td>\n      <td>122.0</td>\n      <td>65.0</td>\n      <td>79.0</td>\n      <td>79.0</td>\n      <td>98.655263</td>\n      <td>2.078929</td>\n      <td>...</td>\n      <td>13700.00</td>\n      <td>7553.00</td>\n      <td>9009.0</td>\n      <td>9300.0</td>\n      <td>8.200066e+05</td>\n      <td>227118.813510</td>\n      <td>1.520700e+06</td>\n      <td>543816.00</td>\n      <td>594594.0</td>\n      <td>737946.0</td>\n    </tr>\n    <tr>\n      <th>8331</th>\n      <td>1.0</td>\n      <td>177</td>\n      <td>71.553672</td>\n      <td>8.028107</td>\n      <td>101.0</td>\n      <td>57.0</td>\n      <td>72.0</td>\n      <td>71.0</td>\n      <td>100.000000</td>\n      <td>0.000000</td>\n      <td>...</td>\n      <td>18300.00</td>\n      <td>8000.00</td>\n      <td>15300.0</td>\n      <td>13300.0</td>\n      <td>9.442232e+05</td>\n      <td>273738.823264</td>\n      <td>1.706900e+06</td>\n      <td>456000.00</td>\n      <td>1706900.0</td>\n      <td>931300.0</td>\n    </tr>\n    <tr>\n      <th>8333</th>\n      <td>1.0</td>\n      <td>176</td>\n      <td>109.176136</td>\n      <td>11.665689</td>\n      <td>146.0</td>\n      <td>91.0</td>\n      <td>104.0</td>\n      <td>105.5</td>\n      <td>99.636364</td>\n      <td>0.937621</td>\n      <td>...</td>\n      <td>12700.00</td>\n      <td>7200.00</td>\n      <td>8800.0</td>\n      <td>9000.0</td>\n      <td>1.032183e+06</td>\n      <td>232209.369087</td>\n      <td>1.790700e+06</td>\n      <td>755300.00</td>\n      <td>936000.0</td>\n      <td>950400.0</td>\n    </tr>\n    <tr>\n      <th>8350</th>\n      <td>0.0</td>\n      <td>237</td>\n      <td>68.677215</td>\n      <td>5.036808</td>\n      <td>84.0</td>\n      <td>60.0</td>\n      <td>67.0</td>\n      <td>67.0</td>\n      <td>98.814346</td>\n      <td>1.001752</td>\n      <td>...</td>\n      <td>16800.00</td>\n      <td>8600.00</td>\n      <td>12936.0</td>\n      <td>12936.0</td>\n      <td>8.809028e+05</td>\n      <td>134548.800100</td>\n      <td>1.164400e+06</td>\n      <td>524600.00</td>\n      <td>935550.0</td>\n      <td>874000.0</td>\n    </tr>\n  </tbody>\n</table>\n<p>6127 rows × 44 columns</p>\n</div>"
     },
     "metadata": {},
     "execution_count": 26
    }
   ],
   "source": [
    "no_quantiles"
   ]
  },
  {
   "cell_type": "code",
   "execution_count": 27,
   "metadata": {},
   "outputs": [],
   "source": [
    "pickle.dump(no_quantiles, open(\"Features.pk\", \"wb\"))"
   ]
  },
  {
   "cell_type": "code",
   "execution_count": 11,
   "metadata": {},
   "outputs": [],
   "source": [
    "#from tsfresh import extract_features\n",
    "#from tsfresh.feature_extraction import extract_features, EfficientFCParameters, MinimalFCParameters\n",
    "\n",
    "#test = interpol_data['HR(bpm)'].iloc[0:10]\n",
    "#test = pd.DataFrame(test.iloc[0])\n",
    "#test['index']=0\n",
    "#test"
   ]
  },
  {
   "cell_type": "code",
   "execution_count": 12,
   "metadata": {},
   "outputs": [],
   "source": [
    "#a = iter(range(0,len(test)))"
   ]
  },
  {
   "cell_type": "code",
   "execution_count": 13,
   "metadata": {},
   "outputs": [],
   "source": [
    "#test = test.apply(lambda x: pd.DataFrame(data={'value':x,'index':next(a)}))"
   ]
  },
  {
   "cell_type": "code",
   "execution_count": 14,
   "metadata": {},
   "outputs": [],
   "source": [
    "#test.iloc[0]"
   ]
  },
  {
   "cell_type": "code",
   "execution_count": 15,
   "metadata": {},
   "outputs": [],
   "source": [
    "#test = interpol_data['HR(bpm)'].iloc[0:10]\n",
    "#a = iter(range(0,len(test)))\n",
    "#test = test.apply(lambda x: pd.DataFrame(data={'value':x,'index':next(a)}))\n",
    "#results = test.apply(lambda x: extract_features(x,column_id='index',default_fc_parameters=MinimalFCParameters()))"
   ]
  },
  {
   "cell_type": "code",
   "execution_count": 16,
   "metadata": {},
   "outputs": [],
   "source": [
    "#results = test.apply(lambda x: extract_features(x,column_id='index',default_fc_parameters=MinimalFCParameters()))"
   ]
  },
  {
   "cell_type": "code",
   "execution_count": 17,
   "metadata": {},
   "outputs": [],
   "source": [
    "#X2 = extract_relevant_features(a, column_id='index',y=)"
   ]
  }
 ]
}