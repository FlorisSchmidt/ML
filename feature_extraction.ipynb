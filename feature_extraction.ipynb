{
 "metadata": {
  "language_info": {
   "codemirror_mode": {
    "name": "ipython",
    "version": 3
   },
   "file_extension": ".py",
   "mimetype": "text/x-python",
   "name": "python",
   "nbconvert_exporter": "python",
   "pygments_lexer": "ipython3",
   "version": "3.8.3-final"
  },
  "orig_nbformat": 2,
  "kernelspec": {
   "name": "python3",
   "display_name": "Python 3.8.3 64-bit",
   "metadata": {
    "interpreter": {
     "hash": "082e9a3bcad0a290d0001e938aa60b99250c6c2ef33a923c00b70f9826caf4b7"
    }
   }
  }
 },
 "nbformat": 4,
 "nbformat_minor": 2,
 "cells": [
  {
   "cell_type": "code",
   "execution_count": 2,
   "metadata": {},
   "outputs": [],
   "source": [
    "import pandas as pd\n",
    "import numpy as np\n",
    "import pickle"
   ]
  },
  {
   "cell_type": "code",
   "execution_count": 4,
   "metadata": {},
   "outputs": [],
   "source": [
    "with open('clean_data.pk', 'rb') as handle:\n",
    "    data = pickle.load(handle)"
   ]
  },
  {
   "cell_type": "code",
   "execution_count": 5,
   "metadata": {},
   "outputs": [
    {
     "output_type": "execute_result",
     "data": {
      "text/plain": [
       "                                                MeetTijd  \\\n",
       "0      [15:03:40, 15:04:40, 15:05:41, 15:06:41, 15:07...   \n",
       "1      [15:32:32, 15:33:32, 15:34:33, 15:35:33, 15:36...   \n",
       "2      [08:45:22, 08:46:23, 08:47:23, 08:48:24, 08:49...   \n",
       "3      [08:40:08, 08:41:08, 08:42:09, 08:43:09, 08:44...   \n",
       "4      [09:09:53, 09:10:53, 09:11:54, 09:12:54, 09:13...   \n",
       "...                                                  ...   \n",
       "12732  [15:19:57, 15:20:27, 15:20:57, 15:21:27, 15:21...   \n",
       "12733  [19:14:19, 19:14:49, 19:15:19, 19:15:49, 19:16...   \n",
       "12734  [15:17:54, 15:18:24, 15:18:54, 15:19:00, 15:20...   \n",
       "12735  [17:39:54, 17:40:24, 17:40:54, 17:41:24, 17:41...   \n",
       "12736  [19:24:26, 19:24:56, 19:25:25, 19:25:56, 19:26...   \n",
       "\n",
       "                                                 HR(bpm)  \\\n",
       "0      [nan, nan, nan, nan, nan, nan, nan, nan, nan, ...   \n",
       "1      [51, 49, 57, 49, 55, 50, 56, 49, 50, 49, 54, 4...   \n",
       "2      [79, 75, 71, 88, 88, 84, 66, 66, 76, 78, 79, 8...   \n",
       "3      [102, 99, 99, 101, 96, 101, 99, 79, 75, 80, 76...   \n",
       "4      [56, 57, 56, 58, 58, 57, 57, 63, 59, 55, 59, 5...   \n",
       "...                                                  ...   \n",
       "12732  [nan, 69, 66, 66, 67, 66, 68, 68, 67, 66, 69, ...   \n",
       "12733  [nan, 80, 81, 76, 83, 84, 79, 88, 82, 81, 80, ...   \n",
       "12734  [67, nan, 68, 68, 68, 68, 71, 67, 67, 66, 66, ...   \n",
       "12735  [100, 103, 97, 101, 100, 106, 107, 106, 107, 1...   \n",
       "12736  [74, 75, 75, 74, 69, 73, 73, 72, 73, 79, 75, 7...   \n",
       "\n",
       "                                                 SpO2(%)  \\\n",
       "0      [nan, nan, nan, nan, nan, nan, nan, nan, nan, ...   \n",
       "1      [92, 92, 87.5, 93, 93, 93, 92, 95, 93, 92, 93,...   \n",
       "2      [98, 98, 98, nan, nan, 96, 98, 98, 97, 97, 96,...   \n",
       "3      [93, 95.58, 96.16, 96.08, 97.83, 96.66, 97.75,...   \n",
       "4      [97, 97, 98, 97, 98, 98, 97.5, 98, 98, 98, 98,...   \n",
       "...                                                  ...   \n",
       "12732  [100, 100, 100, 100, 100, 98, 99, 98, 100, 99,...   \n",
       "12733  [100, 100, 100, 100, 100, 100, 100, 100, 100, ...   \n",
       "12734  [97, 98, 98, 97, 95, 91, 98, 98, 98, 98, 98, 9...   \n",
       "12735  [99, 99, 99, 99, 99, 99, 100, 99, 99, 100, 99,...   \n",
       "12736  [98, 98, 96, 96, 97, 98, 98, 98, 99, 98, 100, ...   \n",
       "\n",
       "                                              NIBP(mmHg)  IcNaOk  \\\n",
       "0      [143, 143, 143, 143, 143, 143, 143, 143, 143, ...     0.0   \n",
       "1      [118, 118, 118, 120, 120, 120, 120, 120, 120, ...     0.0   \n",
       "2      [129, 129, 129, 129, nan, nan, nan, 145, 145, ...     0.0   \n",
       "3      [150, 158, 2, 151, 2, 2, 152, 152, 2, 100, 1, ...     0.0   \n",
       "4      [136, 131, 131, 131, 131, 131, 144, 144, 144, ...     0.0   \n",
       "...                                                  ...     ...   \n",
       "12732  [nan, nan, 203, nan, nan, nan, nan, nan, nan, ...     0.0   \n",
       "12733  [nan, 123, nan, nan, nan, nan, nan, nan, nan, ...     0.0   \n",
       "12734  [nan, nan, nan, nan, 115, nan, nan, nan, nan, ...     0.0   \n",
       "12735  [nan, nan, nan, nan, nan, nan, nan, nan, nan, ...     0.0   \n",
       "12736  [178, nan, nan, nan, nan, nan, nan, 185, nan, ...     1.0   \n",
       "\n",
       "       Length_MeetTijd  \n",
       "0                   89  \n",
       "1                  146  \n",
       "2                  200  \n",
       "3                  178  \n",
       "4                   75  \n",
       "...                ...  \n",
       "12732              158  \n",
       "12733              357  \n",
       "12734              427  \n",
       "12735              243  \n",
       "12736              134  \n",
       "\n",
       "[12735 rows x 6 columns]"
      ],
      "text/html": "<div>\n<style scoped>\n    .dataframe tbody tr th:only-of-type {\n        vertical-align: middle;\n    }\n\n    .dataframe tbody tr th {\n        vertical-align: top;\n    }\n\n    .dataframe thead th {\n        text-align: right;\n    }\n</style>\n<table border=\"1\" class=\"dataframe\">\n  <thead>\n    <tr style=\"text-align: right;\">\n      <th></th>\n      <th>MeetTijd</th>\n      <th>HR(bpm)</th>\n      <th>SpO2(%)</th>\n      <th>NIBP(mmHg)</th>\n      <th>IcNaOk</th>\n      <th>Length_MeetTijd</th>\n    </tr>\n  </thead>\n  <tbody>\n    <tr>\n      <th>0</th>\n      <td>[15:03:40, 15:04:40, 15:05:41, 15:06:41, 15:07...</td>\n      <td>[nan, nan, nan, nan, nan, nan, nan, nan, nan, ...</td>\n      <td>[nan, nan, nan, nan, nan, nan, nan, nan, nan, ...</td>\n      <td>[143, 143, 143, 143, 143, 143, 143, 143, 143, ...</td>\n      <td>0.0</td>\n      <td>89</td>\n    </tr>\n    <tr>\n      <th>1</th>\n      <td>[15:32:32, 15:33:32, 15:34:33, 15:35:33, 15:36...</td>\n      <td>[51, 49, 57, 49, 55, 50, 56, 49, 50, 49, 54, 4...</td>\n      <td>[92, 92, 87.5, 93, 93, 93, 92, 95, 93, 92, 93,...</td>\n      <td>[118, 118, 118, 120, 120, 120, 120, 120, 120, ...</td>\n      <td>0.0</td>\n      <td>146</td>\n    </tr>\n    <tr>\n      <th>2</th>\n      <td>[08:45:22, 08:46:23, 08:47:23, 08:48:24, 08:49...</td>\n      <td>[79, 75, 71, 88, 88, 84, 66, 66, 76, 78, 79, 8...</td>\n      <td>[98, 98, 98, nan, nan, 96, 98, 98, 97, 97, 96,...</td>\n      <td>[129, 129, 129, 129, nan, nan, nan, 145, 145, ...</td>\n      <td>0.0</td>\n      <td>200</td>\n    </tr>\n    <tr>\n      <th>3</th>\n      <td>[08:40:08, 08:41:08, 08:42:09, 08:43:09, 08:44...</td>\n      <td>[102, 99, 99, 101, 96, 101, 99, 79, 75, 80, 76...</td>\n      <td>[93, 95.58, 96.16, 96.08, 97.83, 96.66, 97.75,...</td>\n      <td>[150, 158, 2, 151, 2, 2, 152, 152, 2, 100, 1, ...</td>\n      <td>0.0</td>\n      <td>178</td>\n    </tr>\n    <tr>\n      <th>4</th>\n      <td>[09:09:53, 09:10:53, 09:11:54, 09:12:54, 09:13...</td>\n      <td>[56, 57, 56, 58, 58, 57, 57, 63, 59, 55, 59, 5...</td>\n      <td>[97, 97, 98, 97, 98, 98, 97.5, 98, 98, 98, 98,...</td>\n      <td>[136, 131, 131, 131, 131, 131, 144, 144, 144, ...</td>\n      <td>0.0</td>\n      <td>75</td>\n    </tr>\n    <tr>\n      <th>...</th>\n      <td>...</td>\n      <td>...</td>\n      <td>...</td>\n      <td>...</td>\n      <td>...</td>\n      <td>...</td>\n    </tr>\n    <tr>\n      <th>12732</th>\n      <td>[15:19:57, 15:20:27, 15:20:57, 15:21:27, 15:21...</td>\n      <td>[nan, 69, 66, 66, 67, 66, 68, 68, 67, 66, 69, ...</td>\n      <td>[100, 100, 100, 100, 100, 98, 99, 98, 100, 99,...</td>\n      <td>[nan, nan, 203, nan, nan, nan, nan, nan, nan, ...</td>\n      <td>0.0</td>\n      <td>158</td>\n    </tr>\n    <tr>\n      <th>12733</th>\n      <td>[19:14:19, 19:14:49, 19:15:19, 19:15:49, 19:16...</td>\n      <td>[nan, 80, 81, 76, 83, 84, 79, 88, 82, 81, 80, ...</td>\n      <td>[100, 100, 100, 100, 100, 100, 100, 100, 100, ...</td>\n      <td>[nan, 123, nan, nan, nan, nan, nan, nan, nan, ...</td>\n      <td>0.0</td>\n      <td>357</td>\n    </tr>\n    <tr>\n      <th>12734</th>\n      <td>[15:17:54, 15:18:24, 15:18:54, 15:19:00, 15:20...</td>\n      <td>[67, nan, 68, 68, 68, 68, 71, 67, 67, 66, 66, ...</td>\n      <td>[97, 98, 98, 97, 95, 91, 98, 98, 98, 98, 98, 9...</td>\n      <td>[nan, nan, nan, nan, 115, nan, nan, nan, nan, ...</td>\n      <td>0.0</td>\n      <td>427</td>\n    </tr>\n    <tr>\n      <th>12735</th>\n      <td>[17:39:54, 17:40:24, 17:40:54, 17:41:24, 17:41...</td>\n      <td>[100, 103, 97, 101, 100, 106, 107, 106, 107, 1...</td>\n      <td>[99, 99, 99, 99, 99, 99, 100, 99, 99, 100, 99,...</td>\n      <td>[nan, nan, nan, nan, nan, nan, nan, nan, nan, ...</td>\n      <td>0.0</td>\n      <td>243</td>\n    </tr>\n    <tr>\n      <th>12736</th>\n      <td>[19:24:26, 19:24:56, 19:25:25, 19:25:56, 19:26...</td>\n      <td>[74, 75, 75, 74, 69, 73, 73, 72, 73, 79, 75, 7...</td>\n      <td>[98, 98, 96, 96, 97, 98, 98, 98, 99, 98, 100, ...</td>\n      <td>[178, nan, nan, nan, nan, nan, nan, 185, nan, ...</td>\n      <td>1.0</td>\n      <td>134</td>\n    </tr>\n  </tbody>\n</table>\n<p>12735 rows × 6 columns</p>\n</div>"
     },
     "metadata": {},
     "execution_count": 5
    }
   ],
   "source": [
    "data"
   ]
  },
  {
   "cell_type": "code",
   "execution_count": 44,
   "metadata": {},
   "outputs": [
    {
     "output_type": "stream",
     "name": "stderr",
     "text": [
      "<ipython-input-44-4ff0a15d0aba>:1: RuntimeWarning: Mean of empty slice\n",
      "  data['Mean hearthrate'] = data['HR(bpm)'].apply(lambda x: np.nanmean(x.astype(float)))\n",
      "/Library/Frameworks/Python.framework/Versions/3.8/lib/python3.8/site-packages/numpy/lib/nanfunctions.py:1664: RuntimeWarning: Degrees of freedom <= 0 for slice.\n",
      "  var = nanvar(a, axis=axis, dtype=dtype, out=out, ddof=ddof,\n",
      "<ipython-input-44-4ff0a15d0aba>:3: RuntimeWarning: All-NaN slice encountered\n",
      "  data['Max hearthrate'] = data['HR(bpm)'].apply(lambda x: np.nanmax(x.astype(float)))\n",
      "<ipython-input-44-4ff0a15d0aba>:4: RuntimeWarning: All-NaN slice encountered\n",
      "  data['Min hearthrate'] = data['HR(bpm)'].apply(lambda x: np.nanmin(x.astype(float)))\n"
     ]
    }
   ],
   "source": [
    "data['Mean hearthrate'] = data['HR(bpm)'].apply(lambda x: np.nanmean(x.astype(float)))\n",
    "data['Std hearthrate'] = data['HR(bpm)'].apply(lambda x: np.nanstd(x.astype(float)))\n",
    "data['Max hearthrate'] = data['HR(bpm)'].apply(lambda x: np.nanmax(x.astype(float)))\n",
    "data['Min hearthrate'] = data['HR(bpm)'].apply(lambda x: np.nanmin(x.astype(float)))\n"
   ]
  },
  {
   "cell_type": "code",
   "execution_count": 18,
   "metadata": {},
   "outputs": [
    {
     "output_type": "execute_result",
     "data": {
      "text/plain": [
       "Empty DataFrame\n",
       "Columns: [MeetTijd, HR(bpm), SpO2(%), NIBP(mmHg), IcNaOk, Length_MeetTijd, Mean hearthrate, Std hearthrate, Min hearthrate, Max hearthrate]\n",
       "Index: []"
      ],
      "text/html": "<div>\n<style scoped>\n    .dataframe tbody tr th:only-of-type {\n        vertical-align: middle;\n    }\n\n    .dataframe tbody tr th {\n        vertical-align: top;\n    }\n\n    .dataframe thead th {\n        text-align: right;\n    }\n</style>\n<table border=\"1\" class=\"dataframe\">\n  <thead>\n    <tr style=\"text-align: right;\">\n      <th></th>\n      <th>MeetTijd</th>\n      <th>HR(bpm)</th>\n      <th>SpO2(%)</th>\n      <th>NIBP(mmHg)</th>\n      <th>IcNaOk</th>\n      <th>Length_MeetTijd</th>\n      <th>Mean hearthrate</th>\n      <th>Std hearthrate</th>\n      <th>Min hearthrate</th>\n      <th>Max hearthrate</th>\n    </tr>\n  </thead>\n  <tbody>\n  </tbody>\n</table>\n</div>"
     },
     "metadata": {},
     "execution_count": 18
    }
   ],
   "source": [
    "data[data['Mean hearthrate']==np.nan]"
   ]
  },
  {
   "cell_type": "code",
   "execution_count": 32,
   "metadata": {},
   "outputs": [],
   "source": [
    "data['Percentage HR nan'] = data['HR(bpm)'].apply(lambda x: np.isnan(x.astype(float)).sum()/len(x))"
   ]
  },
  {
   "cell_type": "code",
   "execution_count": 49,
   "metadata": {},
   "outputs": [
    {
     "output_type": "execute_result",
     "data": {
      "text/plain": [
       "                                                MeetTijd  \\\n",
       "4472   [12:49:54, 12:50:55, 12:51:56, 12:52:57, 12:53...   \n",
       "3846   [12:35:46, 12:36:47, 12:37:48, 12:38:49, 12:39...   \n",
       "1471   [15:19:11, 15:20:12, 15:21:12, 15:22:13, 15:23...   \n",
       "7807   [10:10:52, 10:11:23, 10:11:53, 10:12:24, 10:12...   \n",
       "3188   [08:28:01, 08:29:02, 08:30:03, 08:31:04, 08:32...   \n",
       "...                                                  ...   \n",
       "12110  [11:38:00, 12:40:00, 12:41:00, 12:42:02, 12:42...   \n",
       "12184  [14:30:31, 14:31:01, 14:31:31, 14:32:01, 14:32...   \n",
       "12209  [13:55:00, 13:55:30, 13:56:00, 13:56:30, 13:57...   \n",
       "12214  [14:11:31, 14:12:01, 14:12:31, 14:13:01, 14:13...   \n",
       "12267  [13:21:26, 13:21:57, 13:22:27, 13:22:57, 13:23...   \n",
       "\n",
       "                                                 HR(bpm)  \\\n",
       "4472   [67, 65, 69, 141, 75, 79, 158, 67, 63, 70, 81,...   \n",
       "3846   [64, 98, 85, 93, 99, 122, 114, 105, 100, 105, ...   \n",
       "1471   [97, 100, 97, 99, 96, 96, 104, 84, 86, 83, 98,...   \n",
       "7807   [73, 72, 71, 67, 76, 76, 79, 77, 72, 76, 75, 6...   \n",
       "3188   [71, 68, 70, 135, 69, 69, 168, 169, 71, 149, 1...   \n",
       "...                                                  ...   \n",
       "12110  [nan, nan, nan, nan, nan, nan, nan, nan, nan, ...   \n",
       "12184  [nan, nan, nan, nan, nan, nan, nan, nan, nan, ...   \n",
       "12209  [nan, nan, nan, nan, nan, nan, nan, nan, nan, ...   \n",
       "12214  [nan, nan, nan, nan, nan, nan, nan, nan, nan, ...   \n",
       "12267  [nan, nan, nan, nan, nan, nan, nan, nan, nan, ...   \n",
       "\n",
       "                                                 SpO2(%)  \\\n",
       "4472   [94, 97, 96, 97.5, 99, nan, 99, 99, 99, 99, 99...   \n",
       "3846   [87.26, 99.94, 95.71, 97.61, 99.36, 99.9, 98.9...   \n",
       "1471   [95.19, 95.1, 94.52, 95.23, 95, 95.33, 99.97, ...   \n",
       "7807   [96, 97, 96, 97, 97, 96, 97, 97, 96, 98, 96, 9...   \n",
       "3188   [96, 97, 97, 97, 97, 98, nan, 97, 97, 97, 98, ...   \n",
       "...                                                  ...   \n",
       "12110  [nan, 99, 99, 100, 100, 100, 100, 100, 100, 10...   \n",
       "12184  [100, 100, 100, 100, 100, 100, 95, 96, 95, 95,...   \n",
       "12209  [100, 100, 100, 100, 100, 100, 100, 100, 100, ...   \n",
       "12214  [100, 100, 100, 100, 100, 100, 100, 100, 100, ...   \n",
       "12267  [99, 99, 98, 98, 98, 97, 100, 100, 99, 98, 100...   \n",
       "\n",
       "                                              NIBP(mmHg)  IcNaOk  \\\n",
       "4472   [151, 151, 151, 151, 121, 121, 84, 84, 85, 85,...     0.0   \n",
       "3846   [nan, nan, 116, 113, 113, 113, 160, 160, 160, ...     0.0   \n",
       "1471   [nan, nan, 214, 210, 210, 210, 210, 210, 210, ...     0.0   \n",
       "7807   [nan, 151, 151, 151, 151, 151, 151, 140, 140, ...     0.0   \n",
       "3188   [nan, 169, 161, 161, 161, 149, 149, 149, 159, ...     0.0   \n",
       "...                                                  ...     ...   \n",
       "12110  [138, nan, nan, nan, nan, nan, nan, nan, nan, ...     0.0   \n",
       "12184  [nan, nan, nan, 105, nan, nan, 104, nan, nan, ...     0.0   \n",
       "12209  [nan, nan, nan, nan, nan, 133, nan, nan, nan, ...     0.0   \n",
       "12214  [130, nan, nan, nan, nan, nan, 147, nan, nan, ...     0.0   \n",
       "12267  [nan, nan, nan, 140, nan, nan, nan, nan, nan, ...     0.0   \n",
       "\n",
       "       Length_MeetTijd  Mean hearthrate  Std hearthrate  Min hearthrate  \\\n",
       "4472               135        70.335821       20.298498             0.0   \n",
       "3846               172        84.725610       17.128398             0.0   \n",
       "1471               127        97.244094       15.967347             0.0   \n",
       "7807               213        66.658416       17.067053             0.0   \n",
       "3188               268        67.850746       26.499932             0.0   \n",
       "...                ...              ...             ...             ...   \n",
       "12110               69              NaN             NaN             NaN   \n",
       "12184              101              NaN             NaN             NaN   \n",
       "12209               94              NaN             NaN             NaN   \n",
       "12214               91              NaN             NaN             NaN   \n",
       "12267               84              NaN             NaN             NaN   \n",
       "\n",
       "       Max hearthrate  Percentage HR nan  \n",
       "4472            241.0           0.007407  \n",
       "3846            191.0           0.046512  \n",
       "1471            132.0           0.000000  \n",
       "7807             95.0           0.051643  \n",
       "3188            186.0           0.000000  \n",
       "...               ...                ...  \n",
       "12110             NaN           1.000000  \n",
       "12184             NaN           1.000000  \n",
       "12209             NaN           1.000000  \n",
       "12214             NaN           1.000000  \n",
       "12267             NaN           1.000000  \n",
       "\n",
       "[12735 rows x 11 columns]"
      ],
      "text/html": "<div>\n<style scoped>\n    .dataframe tbody tr th:only-of-type {\n        vertical-align: middle;\n    }\n\n    .dataframe tbody tr th {\n        vertical-align: top;\n    }\n\n    .dataframe thead th {\n        text-align: right;\n    }\n</style>\n<table border=\"1\" class=\"dataframe\">\n  <thead>\n    <tr style=\"text-align: right;\">\n      <th></th>\n      <th>MeetTijd</th>\n      <th>HR(bpm)</th>\n      <th>SpO2(%)</th>\n      <th>NIBP(mmHg)</th>\n      <th>IcNaOk</th>\n      <th>Length_MeetTijd</th>\n      <th>Mean hearthrate</th>\n      <th>Std hearthrate</th>\n      <th>Min hearthrate</th>\n      <th>Max hearthrate</th>\n      <th>Percentage HR nan</th>\n    </tr>\n  </thead>\n  <tbody>\n    <tr>\n      <th>4472</th>\n      <td>[12:49:54, 12:50:55, 12:51:56, 12:52:57, 12:53...</td>\n      <td>[67, 65, 69, 141, 75, 79, 158, 67, 63, 70, 81,...</td>\n      <td>[94, 97, 96, 97.5, 99, nan, 99, 99, 99, 99, 99...</td>\n      <td>[151, 151, 151, 151, 121, 121, 84, 84, 85, 85,...</td>\n      <td>0.0</td>\n      <td>135</td>\n      <td>70.335821</td>\n      <td>20.298498</td>\n      <td>0.0</td>\n      <td>241.0</td>\n      <td>0.007407</td>\n    </tr>\n    <tr>\n      <th>3846</th>\n      <td>[12:35:46, 12:36:47, 12:37:48, 12:38:49, 12:39...</td>\n      <td>[64, 98, 85, 93, 99, 122, 114, 105, 100, 105, ...</td>\n      <td>[87.26, 99.94, 95.71, 97.61, 99.36, 99.9, 98.9...</td>\n      <td>[nan, nan, 116, 113, 113, 113, 160, 160, 160, ...</td>\n      <td>0.0</td>\n      <td>172</td>\n      <td>84.725610</td>\n      <td>17.128398</td>\n      <td>0.0</td>\n      <td>191.0</td>\n      <td>0.046512</td>\n    </tr>\n    <tr>\n      <th>1471</th>\n      <td>[15:19:11, 15:20:12, 15:21:12, 15:22:13, 15:23...</td>\n      <td>[97, 100, 97, 99, 96, 96, 104, 84, 86, 83, 98,...</td>\n      <td>[95.19, 95.1, 94.52, 95.23, 95, 95.33, 99.97, ...</td>\n      <td>[nan, nan, 214, 210, 210, 210, 210, 210, 210, ...</td>\n      <td>0.0</td>\n      <td>127</td>\n      <td>97.244094</td>\n      <td>15.967347</td>\n      <td>0.0</td>\n      <td>132.0</td>\n      <td>0.000000</td>\n    </tr>\n    <tr>\n      <th>7807</th>\n      <td>[10:10:52, 10:11:23, 10:11:53, 10:12:24, 10:12...</td>\n      <td>[73, 72, 71, 67, 76, 76, 79, 77, 72, 76, 75, 6...</td>\n      <td>[96, 97, 96, 97, 97, 96, 97, 97, 96, 98, 96, 9...</td>\n      <td>[nan, 151, 151, 151, 151, 151, 151, 140, 140, ...</td>\n      <td>0.0</td>\n      <td>213</td>\n      <td>66.658416</td>\n      <td>17.067053</td>\n      <td>0.0</td>\n      <td>95.0</td>\n      <td>0.051643</td>\n    </tr>\n    <tr>\n      <th>3188</th>\n      <td>[08:28:01, 08:29:02, 08:30:03, 08:31:04, 08:32...</td>\n      <td>[71, 68, 70, 135, 69, 69, 168, 169, 71, 149, 1...</td>\n      <td>[96, 97, 97, 97, 97, 98, nan, 97, 97, 97, 98, ...</td>\n      <td>[nan, 169, 161, 161, 161, 149, 149, 149, 159, ...</td>\n      <td>0.0</td>\n      <td>268</td>\n      <td>67.850746</td>\n      <td>26.499932</td>\n      <td>0.0</td>\n      <td>186.0</td>\n      <td>0.000000</td>\n    </tr>\n    <tr>\n      <th>...</th>\n      <td>...</td>\n      <td>...</td>\n      <td>...</td>\n      <td>...</td>\n      <td>...</td>\n      <td>...</td>\n      <td>...</td>\n      <td>...</td>\n      <td>...</td>\n      <td>...</td>\n      <td>...</td>\n    </tr>\n    <tr>\n      <th>12110</th>\n      <td>[11:38:00, 12:40:00, 12:41:00, 12:42:02, 12:42...</td>\n      <td>[nan, nan, nan, nan, nan, nan, nan, nan, nan, ...</td>\n      <td>[nan, 99, 99, 100, 100, 100, 100, 100, 100, 10...</td>\n      <td>[138, nan, nan, nan, nan, nan, nan, nan, nan, ...</td>\n      <td>0.0</td>\n      <td>69</td>\n      <td>NaN</td>\n      <td>NaN</td>\n      <td>NaN</td>\n      <td>NaN</td>\n      <td>1.000000</td>\n    </tr>\n    <tr>\n      <th>12184</th>\n      <td>[14:30:31, 14:31:01, 14:31:31, 14:32:01, 14:32...</td>\n      <td>[nan, nan, nan, nan, nan, nan, nan, nan, nan, ...</td>\n      <td>[100, 100, 100, 100, 100, 100, 95, 96, 95, 95,...</td>\n      <td>[nan, nan, nan, 105, nan, nan, 104, nan, nan, ...</td>\n      <td>0.0</td>\n      <td>101</td>\n      <td>NaN</td>\n      <td>NaN</td>\n      <td>NaN</td>\n      <td>NaN</td>\n      <td>1.000000</td>\n    </tr>\n    <tr>\n      <th>12209</th>\n      <td>[13:55:00, 13:55:30, 13:56:00, 13:56:30, 13:57...</td>\n      <td>[nan, nan, nan, nan, nan, nan, nan, nan, nan, ...</td>\n      <td>[100, 100, 100, 100, 100, 100, 100, 100, 100, ...</td>\n      <td>[nan, nan, nan, nan, nan, 133, nan, nan, nan, ...</td>\n      <td>0.0</td>\n      <td>94</td>\n      <td>NaN</td>\n      <td>NaN</td>\n      <td>NaN</td>\n      <td>NaN</td>\n      <td>1.000000</td>\n    </tr>\n    <tr>\n      <th>12214</th>\n      <td>[14:11:31, 14:12:01, 14:12:31, 14:13:01, 14:13...</td>\n      <td>[nan, nan, nan, nan, nan, nan, nan, nan, nan, ...</td>\n      <td>[100, 100, 100, 100, 100, 100, 100, 100, 100, ...</td>\n      <td>[130, nan, nan, nan, nan, nan, 147, nan, nan, ...</td>\n      <td>0.0</td>\n      <td>91</td>\n      <td>NaN</td>\n      <td>NaN</td>\n      <td>NaN</td>\n      <td>NaN</td>\n      <td>1.000000</td>\n    </tr>\n    <tr>\n      <th>12267</th>\n      <td>[13:21:26, 13:21:57, 13:22:27, 13:22:57, 13:23...</td>\n      <td>[nan, nan, nan, nan, nan, nan, nan, nan, nan, ...</td>\n      <td>[99, 99, 98, 98, 98, 97, 100, 100, 99, 98, 100...</td>\n      <td>[nan, nan, nan, 140, nan, nan, nan, nan, nan, ...</td>\n      <td>0.0</td>\n      <td>84</td>\n      <td>NaN</td>\n      <td>NaN</td>\n      <td>NaN</td>\n      <td>NaN</td>\n      <td>1.000000</td>\n    </tr>\n  </tbody>\n</table>\n<p>12735 rows × 11 columns</p>\n</div>"
     },
     "metadata": {},
     "execution_count": 49
    }
   ],
   "source": [
    "data.sort_values(by=['Min hearthrate'], ascending=True)"
   ]
  },
  {
   "cell_type": "code",
   "execution_count": 40,
   "metadata": {},
   "outputs": [
    {
     "output_type": "execute_result",
     "data": {
      "text/plain": [
       "11899"
      ]
     },
     "metadata": {},
     "execution_count": 40
    }
   ],
   "source": [
    "len(data[data['Percentage HR nan']<0.05])"
   ]
  },
  {
   "cell_type": "code",
   "execution_count": 31,
   "metadata": {},
   "outputs": [
    {
     "output_type": "execute_result",
     "data": {
      "text/plain": [
       "0.2"
      ]
     },
     "metadata": {},
     "execution_count": 31
    }
   ],
   "source": [
    "np.isnan(np.array([1,1,1,1,np.nan])).sum()/5"
   ]
  },
  {
   "cell_type": "code",
   "execution_count": 43,
   "metadata": {},
   "outputs": [
    {
     "output_type": "execute_result",
     "data": {
      "text/plain": [
       "230.4246564585787"
      ]
     },
     "metadata": {},
     "execution_count": 43
    }
   ],
   "source": [
    "data['Length_MeetTijd'].mean()"
   ]
  },
  {
   "cell_type": "code",
   "execution_count": 51,
   "metadata": {},
   "outputs": [
    {
     "output_type": "execute_result",
     "data": {
      "text/plain": [
       "array(['67', '65', '69', '141', '75', '79', '158', '67', '63', '70', '81',\n",
       "       '0', '52', '61', '61', '87', '62', '63', '66', '67', '64', '65',\n",
       "       '61', '65', '63', '60', '58', '66', 'nan', '60', '66', '73', '66',\n",
       "       '71', '70', '241', '128', '91', '66', '73', '65', '70', '70', '67',\n",
       "       '67', '68', '67', '63', '69', '69', '71', '76', '106', '67', '76',\n",
       "       '67', '76', '75', '66', '76', '71', '70', '68', '69', '69', '69',\n",
       "       '68', '71', '70', '70', '70', '70', '76', '71', '72', '68', '69',\n",
       "       '69', '68', '67', '67', '69', '66', '68', '65', '66', '68', '66',\n",
       "       '66', '65', '65', '66', '65', '67', '65', '65', '66', '64', '67',\n",
       "       '64', '66', '64', '65', '64', '66', '66', '65', '66', '65', '65',\n",
       "       '67', '66', '65', '67', '67', '68', '66', '67', '67', '65', '64',\n",
       "       '63', '66', '66', '66', '68', '66', '67', '66', '67', '69', '67',\n",
       "       '67', '67', '72'], dtype='<U32')"
      ]
     },
     "metadata": {},
     "execution_count": 51
    }
   ],
   "source": [
    "data.iloc[4472]['HR(bpm)']"
   ]
  },
  {
   "cell_type": "code",
   "execution_count": null,
   "metadata": {},
   "outputs": [],
   "source": []
  }
 ]
}