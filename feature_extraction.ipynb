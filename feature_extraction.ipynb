{
 "metadata": {
  "language_info": {
   "codemirror_mode": {
    "name": "ipython",
    "version": 3
   },
   "file_extension": ".py",
   "mimetype": "text/x-python",
   "name": "python",
   "nbconvert_exporter": "python",
   "pygments_lexer": "ipython3",
   "version": "3.8.8-final"
  },
  "orig_nbformat": 2,
  "kernelspec": {
   "name": "python3",
   "display_name": "Python 3",
   "language": "python"
  }
 },
 "nbformat": 4,
 "nbformat_minor": 2,
 "cells": [
  {
   "source": [
    "Note: first run preprocessing.ipynb to add required file to "
   ],
   "cell_type": "markdown",
   "metadata": {}
  },
  {
   "cell_type": "code",
   "execution_count": 1,
   "metadata": {},
   "outputs": [],
   "source": [
    "import pandas as pd\n",
    "import numpy as np\n",
    "import pickle\n",
    "from scipy import stats\n",
    "from datetime import datetime"
   ]
  },
  {
   "cell_type": "code",
   "execution_count": 2,
   "metadata": {},
   "outputs": [],
   "source": [
    "vitals = ['HR(bpm)','SpO2(%)','NIBP(mmHg)','HR*Sp','HR*NIBP','Sp*NIBP','HR*Sp*NIBP']"
   ]
  },
  {
   "cell_type": "code",
   "execution_count": 3,
   "metadata": {},
   "outputs": [],
   "source": [
    "def extract_fe(data,quantiles):\n",
    "    for vital in vitals:\n",
    "        data['Mean {}'.format(vital)] = data['{}'.format(vital)].apply(lambda x: np.mean(x.astype(float)))\n",
    "        data['Std {}'.format(vital)] = data['{}'.format(vital)].apply(lambda x: np.std(x.astype(float)))\n",
    "        data['Max {}'.format(vital)] = data['{}'.format(vital)].apply(lambda x: np.max(x.astype(float)))\n",
    "        data['Min {}'.format(vital)] = data['{}'.format(vital)].apply(lambda x: np.min(x.astype(float)))\n",
    "        data['Mode {}'.format(vital)] = data['{}'.format(vital)].apply(lambda x: stats.mode(x.astype(float))[0][0])\n",
    "        data['Median {}'.format(vital)] = data['{}'.format(vital)].apply(lambda x: np.median(x.astype(float)))\n",
    "        if(quantiles):\n",
    "            for i in range(1,100):\n",
    "                data['Quantile {} {}'.format(i,vital)] = data['{}'.format(vital)].apply(lambda x: np.quantile(x.astype(float),i/100))\n",
    "            "
   ]
  },
  {
   "cell_type": "code",
   "execution_count": 4,
   "metadata": {},
   "outputs": [],
   "source": [
    "with open('interpolated.pk', 'rb') as handle:\n",
    "    no_quantiles = pickle.load(handle)"
   ]
  },
  {
   "cell_type": "code",
   "execution_count": 5,
   "metadata": {},
   "outputs": [],
   "source": [
    "no_quantiles['HR*Sp'] = no_quantiles['HR(bpm)']*no_quantiles['SpO2(%)']\n",
    "no_quantiles['HR*NIBP'] = no_quantiles['HR(bpm)']*no_quantiles['NIBP(mmHg)']\n",
    "no_quantiles['Sp*NIBP'] = no_quantiles['SpO2(%)']*no_quantiles['NIBP(mmHg)']\n",
    "no_quantiles['HR*Sp*NIBP'] = no_quantiles['SpO2(%)']*no_quantiles['NIBP(mmHg)']*no_quantiles['HR(bpm)']"
   ]
  },
  {
   "cell_type": "code",
   "execution_count": 6,
   "metadata": {},
   "outputs": [],
   "source": [
    "extract_fe(no_quantiles,False)"
   ]
  },
  {
   "cell_type": "code",
   "execution_count": 7,
   "metadata": {},
   "outputs": [],
   "source": [
    "no_quantiles = no_quantiles.drop(columns=vitals)"
   ]
  },
  {
   "cell_type": "code",
   "execution_count": 8,
   "metadata": {},
   "outputs": [],
   "source": [
    "no_quantiles = no_quantiles.drop(['MeetTijd'], axis = 1)"
   ]
  },
  {
   "cell_type": "code",
   "execution_count": 9,
   "metadata": {},
   "outputs": [
    {
     "output_type": "execute_result",
     "data": {
      "text/plain": [
       "       IcNaOk  MeetTijd in seconds  Mean HR(bpm)  Std HR(bpm)  Max HR(bpm)  \\\n",
       "25207     0.0               8760.0     57.500000    24.779369        174.0   \n",
       "25232     0.0              12200.0     63.892500     7.198242         88.0   \n",
       "25280     0.0              10680.0     91.977528    12.881463        111.0   \n",
       "25287     0.0               4500.0     62.293333     6.050396         85.0   \n",
       "25295     0.0              10004.0     81.326220     8.733799        159.0   \n",
       "...       ...                  ...           ...          ...          ...   \n",
       "39071     1.0               3780.0     66.238095     6.738221         86.0   \n",
       "39073     1.0               5700.0     81.768421    12.354908        122.0   \n",
       "39075     1.0               5487.0     71.553672     8.028107        101.0   \n",
       "39080     1.0               5456.0    109.176136    11.665689        146.0   \n",
       "39105     0.0               7347.0     68.677215     5.036808         84.0   \n",
       "\n",
       "       Min HR(bpm)  Mode HR(bpm)  Median HR(bpm)  Mean SpO2(%)  Std SpO2(%)  \\\n",
       "25207         40.0          42.0            49.0     97.725342     1.971794   \n",
       "25232         53.0          60.0            62.0     98.263300     1.040258   \n",
       "25280         64.0         101.0            96.5     96.926966     1.891091   \n",
       "25287         55.0          58.0            61.0     97.746533     0.846885   \n",
       "25295         67.0          79.0            80.0     96.242744     1.966169   \n",
       "...            ...           ...             ...           ...          ...   \n",
       "39071         54.0          62.0            65.0     99.968254     0.175323   \n",
       "39073         65.0          79.0            79.0     98.655263     2.078929   \n",
       "39075         57.0          72.0            71.0    100.000000     0.000000   \n",
       "39080         91.0         104.0           105.5     99.636364     0.937621   \n",
       "39105         60.0          67.0            67.0     98.814346     1.001752   \n",
       "\n",
       "       ...  Max Sp*NIBP  Min Sp*NIBP  Mode Sp*NIBP  Median Sp*NIBP  \\\n",
       "25207  ...     16632.00        96.75       10791.0         11524.0   \n",
       "25232  ...     14210.00        91.66       12870.0         12642.0   \n",
       "25280  ...     15101.64        98.08         189.6         10539.0   \n",
       "25287  ...     14308.00        97.00       14210.0         13266.0   \n",
       "25295  ...     19602.00        96.83          97.0         12625.5   \n",
       "...    ...          ...          ...           ...             ...   \n",
       "39071  ...     13900.00      7700.00        8200.0          9600.0   \n",
       "39073  ...     13700.00      7553.00        9009.0          9300.0   \n",
       "39075  ...     18300.00      8000.00       15300.0         13300.0   \n",
       "39080  ...     12700.00      7200.00        8800.0          9000.0   \n",
       "39105  ...     16800.00      8600.00       12936.0         12936.0   \n",
       "\n",
       "       Mean HR*Sp*NIBP  Std HR*Sp*NIBP  Max HR*Sp*NIBP  Min HR*Sp*NIBP  \\\n",
       "25207     6.789329e+05   342024.534142    2.711016e+06         4837.50   \n",
       "25232     8.019443e+05   142301.070715    1.131387e+06         5591.26   \n",
       "25280     9.306489e+05   459618.748634    1.528065e+06         7029.00   \n",
       "25287     7.934117e+05   204817.738412    1.170875e+06         5432.00   \n",
       "25295     9.928339e+05   413845.971067    2.990790e+06         6499.00   \n",
       "...                ...             ...             ...             ...   \n",
       "39071     6.582175e+05   150988.591756    1.076400e+06       459200.00   \n",
       "39073     8.200066e+05   227118.813510    1.520700e+06       543816.00   \n",
       "39075     9.442232e+05   273738.823264    1.706900e+06       456000.00   \n",
       "39080     1.032183e+06   232209.369087    1.790700e+06       755300.00   \n",
       "39105     8.809028e+05   134548.800100    1.164400e+06       524600.00   \n",
       "\n",
       "       Mode HR*Sp*NIBP  Median HR*Sp*NIBP  \n",
       "25207         442431.0           579868.0  \n",
       "25232         716184.0           785070.0  \n",
       "25280          19149.6           872486.0  \n",
       "25287         795760.0           822492.0  \n",
       "25295           6790.0           991025.5  \n",
       "...                ...                ...  \n",
       "39071         607600.0           607600.0  \n",
       "39073         594594.0           737946.0  \n",
       "39075        1706900.0           931300.0  \n",
       "39080         936000.0           950400.0  \n",
       "39105         935550.0           874000.0  \n",
       "\n",
       "[6125 rows x 44 columns]"
      ],
      "text/html": "<div>\n<style scoped>\n    .dataframe tbody tr th:only-of-type {\n        vertical-align: middle;\n    }\n\n    .dataframe tbody tr th {\n        vertical-align: top;\n    }\n\n    .dataframe thead th {\n        text-align: right;\n    }\n</style>\n<table border=\"1\" class=\"dataframe\">\n  <thead>\n    <tr style=\"text-align: right;\">\n      <th></th>\n      <th>IcNaOk</th>\n      <th>MeetTijd in seconds</th>\n      <th>Mean HR(bpm)</th>\n      <th>Std HR(bpm)</th>\n      <th>Max HR(bpm)</th>\n      <th>Min HR(bpm)</th>\n      <th>Mode HR(bpm)</th>\n      <th>Median HR(bpm)</th>\n      <th>Mean SpO2(%)</th>\n      <th>Std SpO2(%)</th>\n      <th>...</th>\n      <th>Max Sp*NIBP</th>\n      <th>Min Sp*NIBP</th>\n      <th>Mode Sp*NIBP</th>\n      <th>Median Sp*NIBP</th>\n      <th>Mean HR*Sp*NIBP</th>\n      <th>Std HR*Sp*NIBP</th>\n      <th>Max HR*Sp*NIBP</th>\n      <th>Min HR*Sp*NIBP</th>\n      <th>Mode HR*Sp*NIBP</th>\n      <th>Median HR*Sp*NIBP</th>\n    </tr>\n  </thead>\n  <tbody>\n    <tr>\n      <th>25207</th>\n      <td>0.0</td>\n      <td>8760.0</td>\n      <td>57.500000</td>\n      <td>24.779369</td>\n      <td>174.0</td>\n      <td>40.0</td>\n      <td>42.0</td>\n      <td>49.0</td>\n      <td>97.725342</td>\n      <td>1.971794</td>\n      <td>...</td>\n      <td>16632.00</td>\n      <td>96.75</td>\n      <td>10791.0</td>\n      <td>11524.0</td>\n      <td>6.789329e+05</td>\n      <td>342024.534142</td>\n      <td>2.711016e+06</td>\n      <td>4837.50</td>\n      <td>442431.0</td>\n      <td>579868.0</td>\n    </tr>\n    <tr>\n      <th>25232</th>\n      <td>0.0</td>\n      <td>12200.0</td>\n      <td>63.892500</td>\n      <td>7.198242</td>\n      <td>88.0</td>\n      <td>53.0</td>\n      <td>60.0</td>\n      <td>62.0</td>\n      <td>98.263300</td>\n      <td>1.040258</td>\n      <td>...</td>\n      <td>14210.00</td>\n      <td>91.66</td>\n      <td>12870.0</td>\n      <td>12642.0</td>\n      <td>8.019443e+05</td>\n      <td>142301.070715</td>\n      <td>1.131387e+06</td>\n      <td>5591.26</td>\n      <td>716184.0</td>\n      <td>785070.0</td>\n    </tr>\n    <tr>\n      <th>25280</th>\n      <td>0.0</td>\n      <td>10680.0</td>\n      <td>91.977528</td>\n      <td>12.881463</td>\n      <td>111.0</td>\n      <td>64.0</td>\n      <td>101.0</td>\n      <td>96.5</td>\n      <td>96.926966</td>\n      <td>1.891091</td>\n      <td>...</td>\n      <td>15101.64</td>\n      <td>98.08</td>\n      <td>189.6</td>\n      <td>10539.0</td>\n      <td>9.306489e+05</td>\n      <td>459618.748634</td>\n      <td>1.528065e+06</td>\n      <td>7029.00</td>\n      <td>19149.6</td>\n      <td>872486.0</td>\n    </tr>\n    <tr>\n      <th>25287</th>\n      <td>0.0</td>\n      <td>4500.0</td>\n      <td>62.293333</td>\n      <td>6.050396</td>\n      <td>85.0</td>\n      <td>55.0</td>\n      <td>58.0</td>\n      <td>61.0</td>\n      <td>97.746533</td>\n      <td>0.846885</td>\n      <td>...</td>\n      <td>14308.00</td>\n      <td>97.00</td>\n      <td>14210.0</td>\n      <td>13266.0</td>\n      <td>7.934117e+05</td>\n      <td>204817.738412</td>\n      <td>1.170875e+06</td>\n      <td>5432.00</td>\n      <td>795760.0</td>\n      <td>822492.0</td>\n    </tr>\n    <tr>\n      <th>25295</th>\n      <td>0.0</td>\n      <td>10004.0</td>\n      <td>81.326220</td>\n      <td>8.733799</td>\n      <td>159.0</td>\n      <td>67.0</td>\n      <td>79.0</td>\n      <td>80.0</td>\n      <td>96.242744</td>\n      <td>1.966169</td>\n      <td>...</td>\n      <td>19602.00</td>\n      <td>96.83</td>\n      <td>97.0</td>\n      <td>12625.5</td>\n      <td>9.928339e+05</td>\n      <td>413845.971067</td>\n      <td>2.990790e+06</td>\n      <td>6499.00</td>\n      <td>6790.0</td>\n      <td>991025.5</td>\n    </tr>\n    <tr>\n      <th>...</th>\n      <td>...</td>\n      <td>...</td>\n      <td>...</td>\n      <td>...</td>\n      <td>...</td>\n      <td>...</td>\n      <td>...</td>\n      <td>...</td>\n      <td>...</td>\n      <td>...</td>\n      <td>...</td>\n      <td>...</td>\n      <td>...</td>\n      <td>...</td>\n      <td>...</td>\n      <td>...</td>\n      <td>...</td>\n      <td>...</td>\n      <td>...</td>\n      <td>...</td>\n      <td>...</td>\n    </tr>\n    <tr>\n      <th>39071</th>\n      <td>1.0</td>\n      <td>3780.0</td>\n      <td>66.238095</td>\n      <td>6.738221</td>\n      <td>86.0</td>\n      <td>54.0</td>\n      <td>62.0</td>\n      <td>65.0</td>\n      <td>99.968254</td>\n      <td>0.175323</td>\n      <td>...</td>\n      <td>13900.00</td>\n      <td>7700.00</td>\n      <td>8200.0</td>\n      <td>9600.0</td>\n      <td>6.582175e+05</td>\n      <td>150988.591756</td>\n      <td>1.076400e+06</td>\n      <td>459200.00</td>\n      <td>607600.0</td>\n      <td>607600.0</td>\n    </tr>\n    <tr>\n      <th>39073</th>\n      <td>1.0</td>\n      <td>5700.0</td>\n      <td>81.768421</td>\n      <td>12.354908</td>\n      <td>122.0</td>\n      <td>65.0</td>\n      <td>79.0</td>\n      <td>79.0</td>\n      <td>98.655263</td>\n      <td>2.078929</td>\n      <td>...</td>\n      <td>13700.00</td>\n      <td>7553.00</td>\n      <td>9009.0</td>\n      <td>9300.0</td>\n      <td>8.200066e+05</td>\n      <td>227118.813510</td>\n      <td>1.520700e+06</td>\n      <td>543816.00</td>\n      <td>594594.0</td>\n      <td>737946.0</td>\n    </tr>\n    <tr>\n      <th>39075</th>\n      <td>1.0</td>\n      <td>5487.0</td>\n      <td>71.553672</td>\n      <td>8.028107</td>\n      <td>101.0</td>\n      <td>57.0</td>\n      <td>72.0</td>\n      <td>71.0</td>\n      <td>100.000000</td>\n      <td>0.000000</td>\n      <td>...</td>\n      <td>18300.00</td>\n      <td>8000.00</td>\n      <td>15300.0</td>\n      <td>13300.0</td>\n      <td>9.442232e+05</td>\n      <td>273738.823264</td>\n      <td>1.706900e+06</td>\n      <td>456000.00</td>\n      <td>1706900.0</td>\n      <td>931300.0</td>\n    </tr>\n    <tr>\n      <th>39080</th>\n      <td>1.0</td>\n      <td>5456.0</td>\n      <td>109.176136</td>\n      <td>11.665689</td>\n      <td>146.0</td>\n      <td>91.0</td>\n      <td>104.0</td>\n      <td>105.5</td>\n      <td>99.636364</td>\n      <td>0.937621</td>\n      <td>...</td>\n      <td>12700.00</td>\n      <td>7200.00</td>\n      <td>8800.0</td>\n      <td>9000.0</td>\n      <td>1.032183e+06</td>\n      <td>232209.369087</td>\n      <td>1.790700e+06</td>\n      <td>755300.00</td>\n      <td>936000.0</td>\n      <td>950400.0</td>\n    </tr>\n    <tr>\n      <th>39105</th>\n      <td>0.0</td>\n      <td>7347.0</td>\n      <td>68.677215</td>\n      <td>5.036808</td>\n      <td>84.0</td>\n      <td>60.0</td>\n      <td>67.0</td>\n      <td>67.0</td>\n      <td>98.814346</td>\n      <td>1.001752</td>\n      <td>...</td>\n      <td>16800.00</td>\n      <td>8600.00</td>\n      <td>12936.0</td>\n      <td>12936.0</td>\n      <td>8.809028e+05</td>\n      <td>134548.800100</td>\n      <td>1.164400e+06</td>\n      <td>524600.00</td>\n      <td>935550.0</td>\n      <td>874000.0</td>\n    </tr>\n  </tbody>\n</table>\n<p>6125 rows × 44 columns</p>\n</div>"
     },
     "metadata": {},
     "execution_count": 9
    }
   ],
   "source": [
    "no_quantiles"
   ]
  },
  {
   "cell_type": "code",
   "execution_count": 10,
   "metadata": {},
   "outputs": [],
   "source": [
    "pickle.dump(no_quantiles, open(\"features.pk\", \"wb\"))"
   ]
  },
  {
   "cell_type": "code",
   "execution_count": 11,
   "metadata": {},
   "outputs": [],
   "source": [
    "#from tsfresh import extract_features\n",
    "#from tsfresh.feature_extraction import extract_features, EfficientFCParameters, MinimalFCParameters\n",
    "\n",
    "#test = interpol_data['HR(bpm)'].iloc[0:10]\n",
    "#test = pd.DataFrame(test.iloc[0])\n",
    "#test['index']=0\n",
    "#test"
   ]
  },
  {
   "cell_type": "code",
   "execution_count": 12,
   "metadata": {},
   "outputs": [],
   "source": [
    "#a = iter(range(0,len(test)))"
   ]
  },
  {
   "cell_type": "code",
   "execution_count": 13,
   "metadata": {},
   "outputs": [],
   "source": [
    "#test = test.apply(lambda x: pd.DataFrame(data={'value':x,'index':next(a)}))"
   ]
  },
  {
   "cell_type": "code",
   "execution_count": 14,
   "metadata": {},
   "outputs": [],
   "source": [
    "#test.iloc[0]"
   ]
  },
  {
   "cell_type": "code",
   "execution_count": 15,
   "metadata": {},
   "outputs": [],
   "source": [
    "#test = interpol_data['HR(bpm)'].iloc[0:10]\n",
    "#a = iter(range(0,len(test)))\n",
    "#test = test.apply(lambda x: pd.DataFrame(data={'value':x,'index':next(a)}))\n",
    "#results = test.apply(lambda x: extract_features(x,column_id='index',default_fc_parameters=MinimalFCParameters()))"
   ]
  },
  {
   "cell_type": "code",
   "execution_count": 16,
   "metadata": {},
   "outputs": [],
   "source": [
    "#results = test.apply(lambda x: extract_features(x,column_id='index',default_fc_parameters=MinimalFCParameters()))"
   ]
  },
  {
   "cell_type": "code",
   "execution_count": 17,
   "metadata": {},
   "outputs": [],
   "source": [
    "#X2 = extract_relevant_features(a, column_id='index',y=)"
   ]
  }
 ]
}