{
 "metadata": {
  "language_info": {
   "codemirror_mode": {
    "name": "ipython",
    "version": 3
   },
   "file_extension": ".py",
   "mimetype": "text/x-python",
   "name": "python",
   "nbconvert_exporter": "python",
   "pygments_lexer": "ipython3",
   "version": "3.8.8-final"
  },
  "orig_nbformat": 2,
  "kernelspec": {
   "name": "python3",
   "display_name": "Python 3",
   "language": "python"
  }
 },
 "nbformat": 4,
 "nbformat_minor": 2,
 "cells": [
  {
   "cell_type": "code",
   "execution_count": 1,
   "metadata": {},
   "outputs": [],
   "source": [
    "import pandas as pd\n",
    "import numpy as np\n",
    "import pickle"
   ]
  },
  {
   "cell_type": "code",
   "execution_count": 2,
   "metadata": {},
   "outputs": [],
   "source": [
    "high_MeetTijd = 2000\n",
    "low_MeetTijd = 3\n",
    "high_HR = 300\n",
    "low_HR = 0\n",
    "high_SpO2 = 100\n",
    "low_SpO2 = 80\n",
    "high_NIBP = 300\n",
    "low_NIBP = 0"
   ]
  },
  {
   "cell_type": "code",
   "execution_count": 3,
   "metadata": {},
   "outputs": [
    {
     "output_type": "execute_result",
     "data": {
      "text/plain": [
       "       Unnamed: 0                                           MeetTijd  \\\n",
       "0               0                                               ['']   \n",
       "1               1                                               ['']   \n",
       "2               2                                               ['']   \n",
       "3               3                                               ['']   \n",
       "4               4                                               ['']   \n",
       "...           ...                                                ...   \n",
       "45537       45537  ['19:14:19', '19:14:49', '19:15:19', '19:15:49...   \n",
       "45538       45538  ['15:17:54', '15:18:24', '15:18:54', '15:19:00...   \n",
       "45539       45539  ['17:39:54', '17:40:24', '17:40:54', '17:41:24...   \n",
       "45540       45540  ['19:24:26', '19:24:56', '19:25:25', '19:25:56...   \n",
       "45541       45541  ['0', '0', '0', '0', '0', '0', '0', '0', '0', ...   \n",
       "\n",
       "                                                 HR(bpm)  \\\n",
       "0                                                   ['']   \n",
       "1                                                   ['']   \n",
       "2                                                   ['']   \n",
       "3                                                   ['']   \n",
       "4                                                   ['']   \n",
       "...                                                  ...   \n",
       "45537  ['', '80', '81', '76', '83', '84', '79', '88',...   \n",
       "45538  ['67', '', '68', '68', '68', '68', '71', '67',...   \n",
       "45539  ['100', '103', '97', '101', '100', '106', '107...   \n",
       "45540  ['74', '75', '75', '74', '69', '73', '73', '72...   \n",
       "45541  ['', '', '', '', '', '', '', '', '', '', '', '...   \n",
       "\n",
       "                                                 SpO2(%)  \\\n",
       "0                                                   ['']   \n",
       "1                                                   ['']   \n",
       "2                                                   ['']   \n",
       "3                                                   ['']   \n",
       "4                                                   ['']   \n",
       "...                                                  ...   \n",
       "45537  ['100', '100', '100', '100', '100', '100', '10...   \n",
       "45538  ['97', '98', '98', '97', '95', '91', '98', '98...   \n",
       "45539  ['99', '99', '99', '99', '99', '99', '100', '9...   \n",
       "45540  ['98', '98', '96', '96', '97', '98', '98', '98...   \n",
       "45541  ['', '', '', '', '', '', '', '', '', '', '', '...   \n",
       "\n",
       "                                              NIBP(mmHg)  IcNaOk  \n",
       "0                                                   ['']     0.0  \n",
       "1                                                   ['']     0.0  \n",
       "2                                                   ['']     0.0  \n",
       "3                                                   ['']     0.0  \n",
       "4                                                   ['']     0.0  \n",
       "...                                                  ...     ...  \n",
       "45537  ['', '123', '', '', '', '', '', '', '', '', ''...     0.0  \n",
       "45538  ['', '', '', '', '115', '', '', '', '', '113',...     0.0  \n",
       "45539  ['', '', '', '', '', '', '', '', '', '', '', '...     0.0  \n",
       "45540  ['178', '', '', '', '', '', '', '185', '', '',...     1.0  \n",
       "45541  ['', '', '', '', '', '', '', '', '', '', '', '...     NaN  \n",
       "\n",
       "[45542 rows x 6 columns]"
      ],
      "text/html": "<div>\n<style scoped>\n    .dataframe tbody tr th:only-of-type {\n        vertical-align: middle;\n    }\n\n    .dataframe tbody tr th {\n        vertical-align: top;\n    }\n\n    .dataframe thead th {\n        text-align: right;\n    }\n</style>\n<table border=\"1\" class=\"dataframe\">\n  <thead>\n    <tr style=\"text-align: right;\">\n      <th></th>\n      <th>Unnamed: 0</th>\n      <th>MeetTijd</th>\n      <th>HR(bpm)</th>\n      <th>SpO2(%)</th>\n      <th>NIBP(mmHg)</th>\n      <th>IcNaOk</th>\n    </tr>\n  </thead>\n  <tbody>\n    <tr>\n      <th>0</th>\n      <td>0</td>\n      <td>['']</td>\n      <td>['']</td>\n      <td>['']</td>\n      <td>['']</td>\n      <td>0.0</td>\n    </tr>\n    <tr>\n      <th>1</th>\n      <td>1</td>\n      <td>['']</td>\n      <td>['']</td>\n      <td>['']</td>\n      <td>['']</td>\n      <td>0.0</td>\n    </tr>\n    <tr>\n      <th>2</th>\n      <td>2</td>\n      <td>['']</td>\n      <td>['']</td>\n      <td>['']</td>\n      <td>['']</td>\n      <td>0.0</td>\n    </tr>\n    <tr>\n      <th>3</th>\n      <td>3</td>\n      <td>['']</td>\n      <td>['']</td>\n      <td>['']</td>\n      <td>['']</td>\n      <td>0.0</td>\n    </tr>\n    <tr>\n      <th>4</th>\n      <td>4</td>\n      <td>['']</td>\n      <td>['']</td>\n      <td>['']</td>\n      <td>['']</td>\n      <td>0.0</td>\n    </tr>\n    <tr>\n      <th>...</th>\n      <td>...</td>\n      <td>...</td>\n      <td>...</td>\n      <td>...</td>\n      <td>...</td>\n      <td>...</td>\n    </tr>\n    <tr>\n      <th>45537</th>\n      <td>45537</td>\n      <td>['19:14:19', '19:14:49', '19:15:19', '19:15:49...</td>\n      <td>['', '80', '81', '76', '83', '84', '79', '88',...</td>\n      <td>['100', '100', '100', '100', '100', '100', '10...</td>\n      <td>['', '123', '', '', '', '', '', '', '', '', ''...</td>\n      <td>0.0</td>\n    </tr>\n    <tr>\n      <th>45538</th>\n      <td>45538</td>\n      <td>['15:17:54', '15:18:24', '15:18:54', '15:19:00...</td>\n      <td>['67', '', '68', '68', '68', '68', '71', '67',...</td>\n      <td>['97', '98', '98', '97', '95', '91', '98', '98...</td>\n      <td>['', '', '', '', '115', '', '', '', '', '113',...</td>\n      <td>0.0</td>\n    </tr>\n    <tr>\n      <th>45539</th>\n      <td>45539</td>\n      <td>['17:39:54', '17:40:24', '17:40:54', '17:41:24...</td>\n      <td>['100', '103', '97', '101', '100', '106', '107...</td>\n      <td>['99', '99', '99', '99', '99', '99', '100', '9...</td>\n      <td>['', '', '', '', '', '', '', '', '', '', '', '...</td>\n      <td>0.0</td>\n    </tr>\n    <tr>\n      <th>45540</th>\n      <td>45540</td>\n      <td>['19:24:26', '19:24:56', '19:25:25', '19:25:56...</td>\n      <td>['74', '75', '75', '74', '69', '73', '73', '72...</td>\n      <td>['98', '98', '96', '96', '97', '98', '98', '98...</td>\n      <td>['178', '', '', '', '', '', '', '185', '', '',...</td>\n      <td>1.0</td>\n    </tr>\n    <tr>\n      <th>45541</th>\n      <td>45541</td>\n      <td>['0', '0', '0', '0', '0', '0', '0', '0', '0', ...</td>\n      <td>['', '', '', '', '', '', '', '', '', '', '', '...</td>\n      <td>['', '', '', '', '', '', '', '', '', '', '', '...</td>\n      <td>['', '', '', '', '', '', '', '', '', '', '', '...</td>\n      <td>NaN</td>\n    </tr>\n  </tbody>\n</table>\n<p>45542 rows × 6 columns</p>\n</div>"
     },
     "metadata": {},
     "execution_count": 3
    }
   ],
   "source": [
    "data = pd.read_csv('pdmssetw.csv')\n",
    "data"
   ]
  },
  {
   "cell_type": "code",
   "execution_count": 4,
   "metadata": {},
   "outputs": [],
   "source": [
    "data = data.drop(columns=['Unnamed: 0'])"
   ]
  },
  {
   "cell_type": "code",
   "execution_count": 5,
   "metadata": {},
   "outputs": [
    {
     "output_type": "execute_result",
     "data": {
      "text/plain": [
       "0.08104606736638707"
      ]
     },
     "metadata": {},
     "execution_count": 5
    }
   ],
   "source": [
    "np.nansum(data['IcNaOk'])/len(data)"
   ]
  },
  {
   "cell_type": "code",
   "execution_count": 6,
   "metadata": {},
   "outputs": [],
   "source": [
    "import ast\n",
    "data.MeetTijd = data.MeetTijd.apply(ast.literal_eval)\n",
    "data['HR(bpm)'] = data['HR(bpm)'].apply(ast.literal_eval).apply(lambda x: np.array(x))\n",
    "data['SpO2(%)'] = data['SpO2(%)'].apply(ast.literal_eval).apply(lambda x: np.array(x))\n",
    "data['NIBP(mmHg)'] = data['NIBP(mmHg)'].apply(ast.literal_eval).apply(lambda x: np.array(x))"
   ]
  },
  {
   "cell_type": "code",
   "execution_count": 7,
   "metadata": {},
   "outputs": [],
   "source": [
    "data['HR(bpm)'] = data['HR(bpm)'].apply(lambda x: np.where(x=='', np.nan, x))\n",
    "data['SpO2(%)'] = data['SpO2(%)'].apply(lambda x: np.where(x=='', np.nan, x))\n",
    "data['NIBP(mmHg)'] = data['NIBP(mmHg)'].apply(lambda x: np.where(x=='', np.nan, x))"
   ]
  },
  {
   "cell_type": "code",
   "execution_count": 8,
   "metadata": {},
   "outputs": [],
   "source": [
    "data = data.dropna().reset_index(drop=True)\n",
    "data['HR(bpm)'] = data['HR(bpm)'].apply(lambda x: np.where((np.array(x,dtype=float)>high_HR) | (np.array(x,dtype=float)<low_HR),np.nan,x))\n",
    "data['SpO2(%)'] = data['SpO2(%)'].apply(lambda x: np.where((np.array(x,dtype=float)>high_SpO2) | (np.array(x,dtype=float)<low_SpO2),np.nan,x))\n",
    "data['NIBP(mmHg)'] = data['NIBP(mmHg)'].apply(lambda x: np.where((np.array(x,dtype=float)>high_NIBP) | (np.array(x,dtype=float)<low_NIBP),np.nan,x))"
   ]
  },
  {
   "cell_type": "code",
   "execution_count": 9,
   "metadata": {},
   "outputs": [],
   "source": [
    "data['Length_MeetTijd'] = data['MeetTijd'].apply(lambda x: len(x))\n",
    "data = data[(data['Length_MeetTijd']>3) & (data['Length_MeetTijd']<2000)]"
   ]
  },
  {
   "cell_type": "code",
   "execution_count": 10,
   "metadata": {},
   "outputs": [],
   "source": [
    "from datetime import datetime\n",
    "\n",
    "def time_diff(x):\n",
    "    diff = (datetime.strptime(x[1],'%H:%M:%S')-datetime.strptime(x[0],'%H:%M:%S')).total_seconds()\n",
    "    if (diff<0 or diff>90):\n",
    "        diff = (datetime.strptime(x[2],'%H:%M:%S')-datetime.strptime(x[1],'%H:%M:%S')).total_seconds()\n",
    "    return diff*len(x)\n",
    "\n",
    "data['MeetTijd in seconds'] = data['MeetTijd'].apply(lambda x: time_diff(x))"
   ]
  },
  {
   "cell_type": "code",
   "execution_count": 11,
   "metadata": {},
   "outputs": [],
   "source": [
    "data = data[(data['MeetTijd in seconds']>0) & (data['MeetTijd in seconds']<100000)]"
   ]
  },
  {
   "cell_type": "code",
   "execution_count": 12,
   "metadata": {},
   "outputs": [],
   "source": [
    "data['Percentage HR nan'] = data['HR(bpm)'].apply(lambda x: np.isnan(x.astype(float)).sum()/len(x))\n",
    "data['Percentage SpO2 nan'] = data['SpO2(%)'].apply(lambda x: np.isnan(x.astype(float)).sum()/len(x))\n",
    "data['Percentage NIBP nan'] = data['NIBP(mmHg)'].apply(lambda x: np.isnan(x.astype(float)).sum()/len(x))"
   ]
  },
  {
   "cell_type": "code",
   "execution_count": 13,
   "metadata": {},
   "outputs": [],
   "source": [
    "data90 = data[(data['Percentage HR nan']<0.10) & (data['Percentage SpO2 nan']<0.10) & (data['Percentage NIBP nan']<0.10)]\n",
    "data95 = data[(data['Percentage HR nan']<0.05) & (data['Percentage SpO2 nan']<0.05) & (data['Percentage NIBP nan']<0.05)]\n",
    "data99 = data[(data['Percentage HR nan']<0.01) & (data['Percentage SpO2 nan']<0.01) & (data['Percentage NIBP nan']<0.01)]\n",
    "data100 = data[(data['Percentage HR nan']==0) & (data['Percentage SpO2 nan']==0) & (data['Percentage NIBP nan']==0)]"
   ]
  },
  {
   "cell_type": "code",
   "execution_count": 14,
   "metadata": {},
   "outputs": [],
   "source": [
    "#pickle.dump(data, open(\"clean_data.pk\", \"wb\"))\n",
    "#pickle.dump(data100, open(\"data100.pk\", \"wb\"))"
   ]
  },
  {
   "cell_type": "code",
   "execution_count": 15,
   "metadata": {},
   "outputs": [
    {
     "output_type": "stream",
     "name": "stderr",
     "text": [
      "<ipython-input-15-c1fb62223757>:1: SettingWithCopyWarning: \n",
      "A value is trying to be set on a copy of a slice from a DataFrame.\n",
      "Try using .loc[row_indexer,col_indexer] = value instead\n",
      "\n",
      "See the caveats in the documentation: https://pandas.pydata.org/pandas-docs/stable/user_guide/indexing.html#returning-a-view-versus-a-copy\n",
      "  data90['HR(bpm)'] = data90['HR(bpm)'].apply(lambda x: np.array(pd.Series(x,dtype=float).interpolate().fillna(method='bfill').fillna(method='ffill')))\n",
      "<ipython-input-15-c1fb62223757>:2: SettingWithCopyWarning: \n",
      "A value is trying to be set on a copy of a slice from a DataFrame.\n",
      "Try using .loc[row_indexer,col_indexer] = value instead\n",
      "\n",
      "See the caveats in the documentation: https://pandas.pydata.org/pandas-docs/stable/user_guide/indexing.html#returning-a-view-versus-a-copy\n",
      "  data90['SpO2(%)'] = data90['SpO2(%)'].apply(lambda x: np.array(pd.Series(x,dtype=float).interpolate().fillna(method='bfill').fillna(method='ffill')))\n",
      "<ipython-input-15-c1fb62223757>:3: SettingWithCopyWarning: \n",
      "A value is trying to be set on a copy of a slice from a DataFrame.\n",
      "Try using .loc[row_indexer,col_indexer] = value instead\n",
      "\n",
      "See the caveats in the documentation: https://pandas.pydata.org/pandas-docs/stable/user_guide/indexing.html#returning-a-view-versus-a-copy\n",
      "  data90['NIBP(mmHg)'] = data90['NIBP(mmHg)'].apply(lambda x: np.array(pd.Series(x,dtype=float).interpolate().fillna(method='bfill').fillna(method='ffill')))\n"
     ]
    }
   ],
   "source": [
    "data90['HR(bpm)'] = data90['HR(bpm)'].apply(lambda x: np.array(pd.Series(x,dtype=float).interpolate().fillna(method='bfill').fillna(method='ffill')))\n",
    "data90['SpO2(%)'] = data90['SpO2(%)'].apply(lambda x: np.array(pd.Series(x,dtype=float).interpolate().fillna(method='bfill').fillna(method='ffill')))\n",
    "data90['NIBP(mmHg)'] = data90['NIBP(mmHg)'].apply(lambda x: np.array(pd.Series(x,dtype=float).interpolate().fillna(method='bfill').fillna(method='ffill')))"
   ]
  },
  {
   "cell_type": "code",
   "execution_count": 16,
   "metadata": {},
   "outputs": [],
   "source": [
    "data90 = data90.drop(columns=['Percentage HR nan','Percentage SpO2 nan','Percentage NIBP nan','Length_MeetTijd'])"
   ]
  },
  {
   "cell_type": "code",
   "execution_count": 17,
   "metadata": {},
   "outputs": [],
   "source": [
    "pickle.dump(data90, open(\"interpolated.pk\", \"wb\"))"
   ]
  },
  {
   "cell_type": "code",
   "execution_count": null,
   "metadata": {},
   "outputs": [],
   "source": []
  }
 ]
}