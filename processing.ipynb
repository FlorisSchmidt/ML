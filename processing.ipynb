{
 "metadata": {
  "language_info": {
   "codemirror_mode": {
    "name": "ipython",
    "version": 3
   },
   "file_extension": ".py",
   "mimetype": "text/x-python",
   "name": "python",
   "nbconvert_exporter": "python",
   "pygments_lexer": "ipython3",
   "version": "3.9.2-final"
  },
  "orig_nbformat": 2,
  "kernelspec": {
   "name": "python3",
   "display_name": "Python 3.9.2 64-bit",
   "metadata": {
    "interpreter": {
     "hash": "9a9f2e8c25ada81fcd2a0c009587f3c2a316a07879a174614aa85fbc74856c69"
    }
   }
  }
 },
 "nbformat": 4,
 "nbformat_minor": 2,
 "cells": [
  {
   "cell_type": "code",
   "execution_count": 1,
   "metadata": {},
   "outputs": [],
   "source": [
    "import pandas as pd\n",
    "import numpy as np\n",
    "import pickle"
   ]
  },
  {
   "cell_type": "code",
   "execution_count": 2,
   "metadata": {},
   "outputs": [
    {
     "output_type": "execute_result",
     "data": {
      "text/plain": [
       "       Unnamed: 0                                           MeetTijd  \\\n",
       "0               0                                               ['']   \n",
       "1               1                                               ['']   \n",
       "2               2                                               ['']   \n",
       "3               3                                               ['']   \n",
       "4               4                                               ['']   \n",
       "...           ...                                                ...   \n",
       "45537       45537  ['19:14:19', '19:14:49', '19:15:19', '19:15:49...   \n",
       "45538       45538  ['15:17:54', '15:18:24', '15:18:54', '15:19:00...   \n",
       "45539       45539  ['17:39:54', '17:40:24', '17:40:54', '17:41:24...   \n",
       "45540       45540  ['19:24:26', '19:24:56', '19:25:25', '19:25:56...   \n",
       "45541       45541  ['0', '0', '0', '0', '0', '0', '0', '0', '0', ...   \n",
       "\n",
       "                                                 HR(bpm)  \\\n",
       "0                                                   ['']   \n",
       "1                                                   ['']   \n",
       "2                                                   ['']   \n",
       "3                                                   ['']   \n",
       "4                                                   ['']   \n",
       "...                                                  ...   \n",
       "45537  ['', '80', '81', '76', '83', '84', '79', '88',...   \n",
       "45538  ['67', '', '68', '68', '68', '68', '71', '67',...   \n",
       "45539  ['100', '103', '97', '101', '100', '106', '107...   \n",
       "45540  ['74', '75', '75', '74', '69', '73', '73', '72...   \n",
       "45541  ['', '', '', '', '', '', '', '', '', '', '', '...   \n",
       "\n",
       "                                                 SpO2(%)  \\\n",
       "0                                                   ['']   \n",
       "1                                                   ['']   \n",
       "2                                                   ['']   \n",
       "3                                                   ['']   \n",
       "4                                                   ['']   \n",
       "...                                                  ...   \n",
       "45537  ['100', '100', '100', '100', '100', '100', '10...   \n",
       "45538  ['97', '98', '98', '97', '95', '91', '98', '98...   \n",
       "45539  ['99', '99', '99', '99', '99', '99', '100', '9...   \n",
       "45540  ['98', '98', '96', '96', '97', '98', '98', '98...   \n",
       "45541  ['', '', '', '', '', '', '', '', '', '', '', '...   \n",
       "\n",
       "                                              NIBP(mmHg)  IcNaOk  \n",
       "0                                                   ['']     0.0  \n",
       "1                                                   ['']     0.0  \n",
       "2                                                   ['']     0.0  \n",
       "3                                                   ['']     0.0  \n",
       "4                                                   ['']     0.0  \n",
       "...                                                  ...     ...  \n",
       "45537  ['', '123', '', '', '', '', '', '', '', '', ''...     0.0  \n",
       "45538  ['', '', '', '', '115', '', '', '', '', '113',...     0.0  \n",
       "45539  ['', '', '', '', '', '', '', '', '', '', '', '...     0.0  \n",
       "45540  ['178', '', '', '', '', '', '', '185', '', '',...     1.0  \n",
       "45541  ['', '', '', '', '', '', '', '', '', '', '', '...     NaN  \n",
       "\n",
       "[45542 rows x 6 columns]"
      ],
      "text/html": "<div>\n<style scoped>\n    .dataframe tbody tr th:only-of-type {\n        vertical-align: middle;\n    }\n\n    .dataframe tbody tr th {\n        vertical-align: top;\n    }\n\n    .dataframe thead th {\n        text-align: right;\n    }\n</style>\n<table border=\"1\" class=\"dataframe\">\n  <thead>\n    <tr style=\"text-align: right;\">\n      <th></th>\n      <th>Unnamed: 0</th>\n      <th>MeetTijd</th>\n      <th>HR(bpm)</th>\n      <th>SpO2(%)</th>\n      <th>NIBP(mmHg)</th>\n      <th>IcNaOk</th>\n    </tr>\n  </thead>\n  <tbody>\n    <tr>\n      <th>0</th>\n      <td>0</td>\n      <td>['']</td>\n      <td>['']</td>\n      <td>['']</td>\n      <td>['']</td>\n      <td>0.0</td>\n    </tr>\n    <tr>\n      <th>1</th>\n      <td>1</td>\n      <td>['']</td>\n      <td>['']</td>\n      <td>['']</td>\n      <td>['']</td>\n      <td>0.0</td>\n    </tr>\n    <tr>\n      <th>2</th>\n      <td>2</td>\n      <td>['']</td>\n      <td>['']</td>\n      <td>['']</td>\n      <td>['']</td>\n      <td>0.0</td>\n    </tr>\n    <tr>\n      <th>3</th>\n      <td>3</td>\n      <td>['']</td>\n      <td>['']</td>\n      <td>['']</td>\n      <td>['']</td>\n      <td>0.0</td>\n    </tr>\n    <tr>\n      <th>4</th>\n      <td>4</td>\n      <td>['']</td>\n      <td>['']</td>\n      <td>['']</td>\n      <td>['']</td>\n      <td>0.0</td>\n    </tr>\n    <tr>\n      <th>...</th>\n      <td>...</td>\n      <td>...</td>\n      <td>...</td>\n      <td>...</td>\n      <td>...</td>\n      <td>...</td>\n    </tr>\n    <tr>\n      <th>45537</th>\n      <td>45537</td>\n      <td>['19:14:19', '19:14:49', '19:15:19', '19:15:49...</td>\n      <td>['', '80', '81', '76', '83', '84', '79', '88',...</td>\n      <td>['100', '100', '100', '100', '100', '100', '10...</td>\n      <td>['', '123', '', '', '', '', '', '', '', '', ''...</td>\n      <td>0.0</td>\n    </tr>\n    <tr>\n      <th>45538</th>\n      <td>45538</td>\n      <td>['15:17:54', '15:18:24', '15:18:54', '15:19:00...</td>\n      <td>['67', '', '68', '68', '68', '68', '71', '67',...</td>\n      <td>['97', '98', '98', '97', '95', '91', '98', '98...</td>\n      <td>['', '', '', '', '115', '', '', '', '', '113',...</td>\n      <td>0.0</td>\n    </tr>\n    <tr>\n      <th>45539</th>\n      <td>45539</td>\n      <td>['17:39:54', '17:40:24', '17:40:54', '17:41:24...</td>\n      <td>['100', '103', '97', '101', '100', '106', '107...</td>\n      <td>['99', '99', '99', '99', '99', '99', '100', '9...</td>\n      <td>['', '', '', '', '', '', '', '', '', '', '', '...</td>\n      <td>0.0</td>\n    </tr>\n    <tr>\n      <th>45540</th>\n      <td>45540</td>\n      <td>['19:24:26', '19:24:56', '19:25:25', '19:25:56...</td>\n      <td>['74', '75', '75', '74', '69', '73', '73', '72...</td>\n      <td>['98', '98', '96', '96', '97', '98', '98', '98...</td>\n      <td>['178', '', '', '', '', '', '', '185', '', '',...</td>\n      <td>1.0</td>\n    </tr>\n    <tr>\n      <th>45541</th>\n      <td>45541</td>\n      <td>['0', '0', '0', '0', '0', '0', '0', '0', '0', ...</td>\n      <td>['', '', '', '', '', '', '', '', '', '', '', '...</td>\n      <td>['', '', '', '', '', '', '', '', '', '', '', '...</td>\n      <td>['', '', '', '', '', '', '', '', '', '', '', '...</td>\n      <td>NaN</td>\n    </tr>\n  </tbody>\n</table>\n<p>45542 rows × 6 columns</p>\n</div>"
     },
     "metadata": {},
     "execution_count": 2
    }
   ],
   "source": [
    "data = pd.read_csv('pdmssetw.csv')\n",
    "data"
   ]
  },
  {
   "cell_type": "code",
   "execution_count": 3,
   "metadata": {},
   "outputs": [],
   "source": [
    "data = data.drop(columns=['Unnamed: 0'])"
   ]
  },
  {
   "cell_type": "code",
   "execution_count": 4,
   "metadata": {},
   "outputs": [
    {
     "output_type": "execute_result",
     "data": {
      "text/plain": [
       "0.08104606736638707"
      ]
     },
     "metadata": {},
     "execution_count": 4
    }
   ],
   "source": [
    "np.nansum(data['IcNaOk'])/len(data)"
   ]
  },
  {
   "cell_type": "code",
   "execution_count": 5,
   "metadata": {},
   "outputs": [],
   "source": [
    "import ast\n",
    "data.MeetTijd = data.MeetTijd.apply(ast.literal_eval)\n",
    "data['HR(bpm)'] = data['HR(bpm)'].apply(ast.literal_eval).apply(lambda x: np.array(x))\n",
    "data['SpO2(%)'] = data['SpO2(%)'].apply(ast.literal_eval).apply(lambda x: np.array(x))\n",
    "data['NIBP(mmHg)'] = data['NIBP(mmHg)'].apply(ast.literal_eval).apply(lambda x: np.array(x))"
   ]
  },
  {
   "cell_type": "code",
   "execution_count": 6,
   "metadata": {},
   "outputs": [],
   "source": [
    "data['Length_MeetTijd'] = data['MeetTijd'].apply(lambda x: len(x))"
   ]
  },
  {
   "cell_type": "code",
   "execution_count": 7,
   "metadata": {},
   "outputs": [],
   "source": [
    "data = data[data['Length_MeetTijd'] > 3]\n",
    "data = data.dropna()"
   ]
  },
  {
   "cell_type": "code",
   "execution_count": 8,
   "metadata": {},
   "outputs": [],
   "source": [
    "data = data.reset_index(drop=True)"
   ]
  },
  {
   "source": [
    "data = data[data['Length_MeetTijd'] <2000]"
   ],
   "cell_type": "code",
   "metadata": {},
   "execution_count": 9,
   "outputs": []
  },
  {
   "cell_type": "code",
   "execution_count": 10,
   "metadata": {},
   "outputs": [],
   "source": [
    "data['HR(bpm)'] = data['HR(bpm)'].apply(lambda x: np.where(x=='', np.nan, x))\n",
    "data['SpO2(%)'] = data['SpO2(%)'].apply(lambda x: np.where(x=='', np.nan, x))\n",
    "data['NIBP(mmHg)'] = data['NIBP(mmHg)'].apply(lambda x: np.where(x=='', np.nan, x))"
   ]
  },
  {
   "cell_type": "code",
   "execution_count": 11,
   "metadata": {},
   "outputs": [],
   "source": [
    "data['Percentage HR nan'] = data['HR(bpm)'].apply(lambda x: np.isnan(x.astype(float)).sum()/len(x))\n",
    "data['Percentage SpO2 nan'] = data['SpO2(%)'].apply(lambda x: np.isnan(x.astype(float)).sum()/len(x))\n",
    "data['Percentage NIBP nan'] = data['NIBP(mmHg)'].apply(lambda x: np.isnan(x.astype(float)).sum()/len(x))"
   ]
  },
  {
   "cell_type": "code",
   "execution_count": 12,
   "metadata": {},
   "outputs": [],
   "source": [
    "data90 = data[(data['Percentage HR nan']<0.10) & (data['Percentage SpO2 nan']<0.10) & (data['Percentage NIBP nan']<0.10)]\n",
    "data95 = data[(data['Percentage HR nan']<0.05) & (data['Percentage SpO2 nan']<0.05) & (data['Percentage NIBP nan']<0.05)]\n",
    "data99 = data[(data['Percentage HR nan']<0.01) & (data['Percentage SpO2 nan']<0.01) & (data['Percentage NIBP nan']<0.01)]\n",
    "data100 = data[(data['Percentage HR nan']==0) & (data['Percentage SpO2 nan']==0) & (data['Percentage NIBP nan']==0)]"
   ]
  },
  {
   "cell_type": "code",
   "execution_count": 13,
   "metadata": {},
   "outputs": [],
   "source": [
    "pickle.dump(data, open(\"clean_data.pk\", \"wb\"))\n",
    "pickle.dump(data100, open(\"data100.pk\", \"wb\"))"
   ]
  },
  {
   "cell_type": "code",
   "execution_count": 148,
   "metadata": {},
   "outputs": [
    {
     "output_type": "stream",
     "name": "stderr",
     "text": [
      "<ipython-input-148-c1fb62223757>:1: SettingWithCopyWarning: \n",
      "A value is trying to be set on a copy of a slice from a DataFrame.\n",
      "Try using .loc[row_indexer,col_indexer] = value instead\n",
      "\n",
      "See the caveats in the documentation: https://pandas.pydata.org/pandas-docs/stable/user_guide/indexing.html#returning-a-view-versus-a-copy\n",
      "  data90['HR(bpm)'] = data90['HR(bpm)'].apply(lambda x: np.array(pd.Series(x,dtype=float).interpolate().fillna(method='bfill').fillna(method='ffill')))\n",
      "<ipython-input-148-c1fb62223757>:2: SettingWithCopyWarning: \n",
      "A value is trying to be set on a copy of a slice from a DataFrame.\n",
      "Try using .loc[row_indexer,col_indexer] = value instead\n",
      "\n",
      "See the caveats in the documentation: https://pandas.pydata.org/pandas-docs/stable/user_guide/indexing.html#returning-a-view-versus-a-copy\n",
      "  data90['SpO2(%)'] = data90['SpO2(%)'].apply(lambda x: np.array(pd.Series(x,dtype=float).interpolate().fillna(method='bfill').fillna(method='ffill')))\n",
      "<ipython-input-148-c1fb62223757>:3: SettingWithCopyWarning: \n",
      "A value is trying to be set on a copy of a slice from a DataFrame.\n",
      "Try using .loc[row_indexer,col_indexer] = value instead\n",
      "\n",
      "See the caveats in the documentation: https://pandas.pydata.org/pandas-docs/stable/user_guide/indexing.html#returning-a-view-versus-a-copy\n",
      "  data90['NIBP(mmHg)'] = data90['NIBP(mmHg)'].apply(lambda x: np.array(pd.Series(x,dtype=float).interpolate().fillna(method='bfill').fillna(method='ffill')))\n"
     ]
    }
   ],
   "source": [
    "data90['HR(bpm)'] = data90['HR(bpm)'].apply(lambda x: np.array(pd.Series(x,dtype=float).interpolate().fillna(method='bfill').fillna(method='ffill')))\n",
    "data90['SpO2(%)'] = data90['SpO2(%)'].apply(lambda x: np.array(pd.Series(x,dtype=float).interpolate().fillna(method='bfill').fillna(method='ffill')))\n",
    "data90['NIBP(mmHg)'] = data90['NIBP(mmHg)'].apply(lambda x: np.array(pd.Series(x,dtype=float).interpolate().fillna(method='bfill').fillna(method='ffill')))"
   ]
  },
  {
   "cell_type": "code",
   "execution_count": 151,
   "metadata": {},
   "outputs": [
    {
     "output_type": "stream",
     "name": "stderr",
     "text": [
      "<ipython-input-151-a52c673fd8a8>:1: SettingWithCopyWarning: \nA value is trying to be set on a copy of a slice from a DataFrame.\nTry using .loc[row_indexer,col_indexer] = value instead\n\nSee the caveats in the documentation: https://pandas.pydata.org/pandas-docs/stable/user_guide/indexing.html#returning-a-view-versus-a-copy\n  data90['Percentage HR nan'] = data90['HR(bpm)'].apply(lambda x: np.isnan(x.astype(float)).sum()/len(x))\n<ipython-input-151-a52c673fd8a8>:2: SettingWithCopyWarning: \nA value is trying to be set on a copy of a slice from a DataFrame.\nTry using .loc[row_indexer,col_indexer] = value instead\n\nSee the caveats in the documentation: https://pandas.pydata.org/pandas-docs/stable/user_guide/indexing.html#returning-a-view-versus-a-copy\n  data90['Percentage SpO2 nan'] = data90['SpO2(%)'].apply(lambda x: np.isnan(x.astype(float)).sum()/len(x))\n<ipython-input-151-a52c673fd8a8>:3: SettingWithCopyWarning: \nA value is trying to be set on a copy of a slice from a DataFrame.\nTry using .loc[row_indexer,col_indexer] = value instead\n\nSee the caveats in the documentation: https://pandas.pydata.org/pandas-docs/stable/user_guide/indexing.html#returning-a-view-versus-a-copy\n  data90['Percentage NIBP nan'] = data90['NIBP(mmHg)'].apply(lambda x: np.isnan(x.astype(float)).sum()/len(x))\n"
     ]
    }
   ],
   "source": [
    "data90['Percentage HR nan'] = data90['HR(bpm)'].apply(lambda x: np.isnan(x.astype(float)).sum()/len(x))\n",
    "data90['Percentage SpO2 nan'] = data90['SpO2(%)'].apply(lambda x: np.isnan(x.astype(float)).sum()/len(x))\n",
    "data90['Percentage NIBP nan'] = data90['NIBP(mmHg)'].apply(lambda x: np.isnan(x.astype(float)).sum()/len(x))"
   ]
  },
  {
   "cell_type": "code",
   "execution_count": 152,
   "metadata": {},
   "outputs": [
    {
     "output_type": "execute_result",
     "data": {
      "text/plain": [
       "                                               MeetTijd  \\\n",
       "1     [15:32:32, 15:33:32, 15:34:33, 15:35:33, 15:36...   \n",
       "2     [08:45:22, 08:46:23, 08:47:23, 08:48:24, 08:49...   \n",
       "3     [08:40:08, 08:41:08, 08:42:09, 08:43:09, 08:44...   \n",
       "4     [09:09:53, 09:10:53, 09:11:54, 09:12:54, 09:13...   \n",
       "5     [13:45:16, 13:46:17, 13:47:17, 13:48:18, 13:49...   \n",
       "...                                                 ...   \n",
       "8327  [13:56:40, 13:57:10, 13:57:40, 13:58:11, 13:58...   \n",
       "8329  [17:26:10, 17:26:40, 17:27:11, 17:27:41, 17:28...   \n",
       "8331  [22:36:56, 22:37:27, 22:37:57, 22:38:27, 22:38...   \n",
       "8333  [19:53:44, 19:54:15, 19:54:45, 19:55:16, 19:55...   \n",
       "8350  [15:22:23, 15:22:54, 15:23:24, 15:23:55, 15:24...   \n",
       "\n",
       "                                                HR(bpm)  \\\n",
       "1     [51.0, 49.0, 57.0, 49.0, 55.0, 50.0, 56.0, 49....   \n",
       "2     [79.0, 75.0, 71.0, 88.0, 88.0, 84.0, 66.0, 66....   \n",
       "3     [102.0, 99.0, 99.0, 101.0, 96.0, 101.0, 99.0, ...   \n",
       "4     [56.0, 57.0, 56.0, 58.0, 58.0, 57.0, 57.0, 63....   \n",
       "5     [79.0, 84.0, 78.0, 78.0, 79.0, 79.0, 81.0, 79....   \n",
       "...                                                 ...   \n",
       "8327  [71.0, 71.0, 71.0, 71.0, 71.0, 71.0, 78.0, 75....   \n",
       "8329  [80.0, 80.0, 80.0, 78.0, 82.0, 79.0, 77.0, 78....   \n",
       "8331  [72.0, 71.0, 70.0, 70.0, 68.0, 68.0, 67.0, 66....   \n",
       "8333  [125.0, 131.0, 128.0, 125.0, 126.0, 123.0, 128...   \n",
       "8350  [73.0, 73.0, 74.0, 73.0, 73.0, 74.0, 75.0, 76....   \n",
       "\n",
       "                                                SpO2(%)  \\\n",
       "1     [92.0, 92.0, 87.5, 93.0, 93.0, 93.0, 92.0, 95....   \n",
       "2     [98.0, 98.0, 98.0, 97.33333333333333, 96.66666...   \n",
       "3     [93.0, 95.58, 96.16, 96.08, 97.83, 96.66, 97.7...   \n",
       "4     [97.0, 97.0, 98.0, 97.0, 98.0, 98.0, 97.5, 98....   \n",
       "5     [97.0, 97.0, 97.0, 97.0, 97.0, 97.0, 97.0, 97....   \n",
       "...                                                 ...   \n",
       "8327  [100.0, 100.0, 99.0, 100.0, 100.0, 100.0, 100....   \n",
       "8329  [99.0, 100.0, 99.0, 99.0, 99.0, 99.0, 99.0, 99...   \n",
       "8331  [100.0, 100.0, 100.0, 100.0, 100.0, 100.0, 100...   \n",
       "8333  [97.0, 97.0, 98.0, 98.0, 98.0, 97.0, 97.0, 98....   \n",
       "8350  [99.0, 99.0, 99.0, 99.0, 99.0, 99.0, 99.0, 99....   \n",
       "\n",
       "                                             NIBP(mmHg)  IcNaOk  \\\n",
       "1     [118.0, 118.0, 118.0, 120.0, 120.0, 120.0, 120...     0.0   \n",
       "2     [129.0, 129.0, 129.0, 129.0, 133.0, 137.0, 141...     0.0   \n",
       "3     [150.0, 158.0, 2.0, 151.0, 2.0, 2.0, 152.0, 15...     0.0   \n",
       "4     [136.0, 131.0, 131.0, 131.0, 131.0, 131.0, 144...     0.0   \n",
       "5     [115.0, 113.0, 113.0, 113.0, 108.0, 108.0, 108...     0.0   \n",
       "...                                                 ...     ...   \n",
       "8327  [138.0, 138.0, 138.0, 138.0, 138.0, 138.0, 138...     1.0   \n",
       "8329  [90.0, 90.0, 94.0, 94.0, 94.0, 94.0, 94.0, 94....     1.0   \n",
       "8331  [160.0, 124.0, 124.0, 124.0, 124.0, 124.0, 124...     1.0   \n",
       "8333  [119.0, 119.0, 119.0, 119.0, 119.0, 119.0, 119...     1.0   \n",
       "8350  [138.0, 138.0, 138.0, 138.0, 138.0, 138.0, 115...     0.0   \n",
       "\n",
       "      Length_MeetTijd  Percentage HR nan  Percentage SpO2 nan  \\\n",
       "1                 146                0.0                  0.0   \n",
       "2                 200                0.0                  0.0   \n",
       "3                 178                0.0                  0.0   \n",
       "4                  75                0.0                  0.0   \n",
       "5                 164                0.0                  0.0   \n",
       "...               ...                ...                  ...   \n",
       "8327              126                0.0                  0.0   \n",
       "8329              190                0.0                  0.0   \n",
       "8331              177                0.0                  0.0   \n",
       "8333              176                0.0                  0.0   \n",
       "8350              237                0.0                  0.0   \n",
       "\n",
       "      Percentage NIBP nan  \n",
       "1                     0.0  \n",
       "2                     0.0  \n",
       "3                     0.0  \n",
       "4                     0.0  \n",
       "5                     0.0  \n",
       "...                   ...  \n",
       "8327                  0.0  \n",
       "8329                  0.0  \n",
       "8331                  0.0  \n",
       "8333                  0.0  \n",
       "8350                  0.0  \n",
       "\n",
       "[6142 rows x 9 columns]"
      ],
      "text/html": "<div>\n<style scoped>\n    .dataframe tbody tr th:only-of-type {\n        vertical-align: middle;\n    }\n\n    .dataframe tbody tr th {\n        vertical-align: top;\n    }\n\n    .dataframe thead th {\n        text-align: right;\n    }\n</style>\n<table border=\"1\" class=\"dataframe\">\n  <thead>\n    <tr style=\"text-align: right;\">\n      <th></th>\n      <th>MeetTijd</th>\n      <th>HR(bpm)</th>\n      <th>SpO2(%)</th>\n      <th>NIBP(mmHg)</th>\n      <th>IcNaOk</th>\n      <th>Length_MeetTijd</th>\n      <th>Percentage HR nan</th>\n      <th>Percentage SpO2 nan</th>\n      <th>Percentage NIBP nan</th>\n    </tr>\n  </thead>\n  <tbody>\n    <tr>\n      <th>1</th>\n      <td>[15:32:32, 15:33:32, 15:34:33, 15:35:33, 15:36...</td>\n      <td>[51.0, 49.0, 57.0, 49.0, 55.0, 50.0, 56.0, 49....</td>\n      <td>[92.0, 92.0, 87.5, 93.0, 93.0, 93.0, 92.0, 95....</td>\n      <td>[118.0, 118.0, 118.0, 120.0, 120.0, 120.0, 120...</td>\n      <td>0.0</td>\n      <td>146</td>\n      <td>0.0</td>\n      <td>0.0</td>\n      <td>0.0</td>\n    </tr>\n    <tr>\n      <th>2</th>\n      <td>[08:45:22, 08:46:23, 08:47:23, 08:48:24, 08:49...</td>\n      <td>[79.0, 75.0, 71.0, 88.0, 88.0, 84.0, 66.0, 66....</td>\n      <td>[98.0, 98.0, 98.0, 97.33333333333333, 96.66666...</td>\n      <td>[129.0, 129.0, 129.0, 129.0, 133.0, 137.0, 141...</td>\n      <td>0.0</td>\n      <td>200</td>\n      <td>0.0</td>\n      <td>0.0</td>\n      <td>0.0</td>\n    </tr>\n    <tr>\n      <th>3</th>\n      <td>[08:40:08, 08:41:08, 08:42:09, 08:43:09, 08:44...</td>\n      <td>[102.0, 99.0, 99.0, 101.0, 96.0, 101.0, 99.0, ...</td>\n      <td>[93.0, 95.58, 96.16, 96.08, 97.83, 96.66, 97.7...</td>\n      <td>[150.0, 158.0, 2.0, 151.0, 2.0, 2.0, 152.0, 15...</td>\n      <td>0.0</td>\n      <td>178</td>\n      <td>0.0</td>\n      <td>0.0</td>\n      <td>0.0</td>\n    </tr>\n    <tr>\n      <th>4</th>\n      <td>[09:09:53, 09:10:53, 09:11:54, 09:12:54, 09:13...</td>\n      <td>[56.0, 57.0, 56.0, 58.0, 58.0, 57.0, 57.0, 63....</td>\n      <td>[97.0, 97.0, 98.0, 97.0, 98.0, 98.0, 97.5, 98....</td>\n      <td>[136.0, 131.0, 131.0, 131.0, 131.0, 131.0, 144...</td>\n      <td>0.0</td>\n      <td>75</td>\n      <td>0.0</td>\n      <td>0.0</td>\n      <td>0.0</td>\n    </tr>\n    <tr>\n      <th>5</th>\n      <td>[13:45:16, 13:46:17, 13:47:17, 13:48:18, 13:49...</td>\n      <td>[79.0, 84.0, 78.0, 78.0, 79.0, 79.0, 81.0, 79....</td>\n      <td>[97.0, 97.0, 97.0, 97.0, 97.0, 97.0, 97.0, 97....</td>\n      <td>[115.0, 113.0, 113.0, 113.0, 108.0, 108.0, 108...</td>\n      <td>0.0</td>\n      <td>164</td>\n      <td>0.0</td>\n      <td>0.0</td>\n      <td>0.0</td>\n    </tr>\n    <tr>\n      <th>...</th>\n      <td>...</td>\n      <td>...</td>\n      <td>...</td>\n      <td>...</td>\n      <td>...</td>\n      <td>...</td>\n      <td>...</td>\n      <td>...</td>\n      <td>...</td>\n    </tr>\n    <tr>\n      <th>8327</th>\n      <td>[13:56:40, 13:57:10, 13:57:40, 13:58:11, 13:58...</td>\n      <td>[71.0, 71.0, 71.0, 71.0, 71.0, 71.0, 78.0, 75....</td>\n      <td>[100.0, 100.0, 99.0, 100.0, 100.0, 100.0, 100....</td>\n      <td>[138.0, 138.0, 138.0, 138.0, 138.0, 138.0, 138...</td>\n      <td>1.0</td>\n      <td>126</td>\n      <td>0.0</td>\n      <td>0.0</td>\n      <td>0.0</td>\n    </tr>\n    <tr>\n      <th>8329</th>\n      <td>[17:26:10, 17:26:40, 17:27:11, 17:27:41, 17:28...</td>\n      <td>[80.0, 80.0, 80.0, 78.0, 82.0, 79.0, 77.0, 78....</td>\n      <td>[99.0, 100.0, 99.0, 99.0, 99.0, 99.0, 99.0, 99...</td>\n      <td>[90.0, 90.0, 94.0, 94.0, 94.0, 94.0, 94.0, 94....</td>\n      <td>1.0</td>\n      <td>190</td>\n      <td>0.0</td>\n      <td>0.0</td>\n      <td>0.0</td>\n    </tr>\n    <tr>\n      <th>8331</th>\n      <td>[22:36:56, 22:37:27, 22:37:57, 22:38:27, 22:38...</td>\n      <td>[72.0, 71.0, 70.0, 70.0, 68.0, 68.0, 67.0, 66....</td>\n      <td>[100.0, 100.0, 100.0, 100.0, 100.0, 100.0, 100...</td>\n      <td>[160.0, 124.0, 124.0, 124.0, 124.0, 124.0, 124...</td>\n      <td>1.0</td>\n      <td>177</td>\n      <td>0.0</td>\n      <td>0.0</td>\n      <td>0.0</td>\n    </tr>\n    <tr>\n      <th>8333</th>\n      <td>[19:53:44, 19:54:15, 19:54:45, 19:55:16, 19:55...</td>\n      <td>[125.0, 131.0, 128.0, 125.0, 126.0, 123.0, 128...</td>\n      <td>[97.0, 97.0, 98.0, 98.0, 98.0, 97.0, 97.0, 98....</td>\n      <td>[119.0, 119.0, 119.0, 119.0, 119.0, 119.0, 119...</td>\n      <td>1.0</td>\n      <td>176</td>\n      <td>0.0</td>\n      <td>0.0</td>\n      <td>0.0</td>\n    </tr>\n    <tr>\n      <th>8350</th>\n      <td>[15:22:23, 15:22:54, 15:23:24, 15:23:55, 15:24...</td>\n      <td>[73.0, 73.0, 74.0, 73.0, 73.0, 74.0, 75.0, 76....</td>\n      <td>[99.0, 99.0, 99.0, 99.0, 99.0, 99.0, 99.0, 99....</td>\n      <td>[138.0, 138.0, 138.0, 138.0, 138.0, 138.0, 115...</td>\n      <td>0.0</td>\n      <td>237</td>\n      <td>0.0</td>\n      <td>0.0</td>\n      <td>0.0</td>\n    </tr>\n  </tbody>\n</table>\n<p>6142 rows × 9 columns</p>\n</div>"
     },
     "metadata": {},
     "execution_count": 152
    }
   ],
   "source": [
    "data90"
   ]
  },
  {
   "cell_type": "code",
   "execution_count": null,
   "metadata": {},
   "outputs": [],
   "source": []
  }
 ]
}