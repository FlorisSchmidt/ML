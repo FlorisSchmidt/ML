{
 "metadata": {
  "language_info": {
   "codemirror_mode": {
    "name": "ipython",
    "version": 3
   },
   "file_extension": ".py",
   "mimetype": "text/x-python",
   "name": "python",
   "nbconvert_exporter": "python",
   "pygments_lexer": "ipython3",
   "version": "3.9.2-final"
  },
  "orig_nbformat": 2,
  "kernelspec": {
   "name": "python3",
   "display_name": "Python 3.9.2 64-bit",
   "metadata": {
    "interpreter": {
     "hash": "9a9f2e8c25ada81fcd2a0c009587f3c2a316a07879a174614aa85fbc74856c69"
    }
   }
  }
 },
 "nbformat": 4,
 "nbformat_minor": 2,
 "cells": [
  {
   "source": [
    "Note: first run preprocessing.ipynb to add required file to "
   ],
   "cell_type": "markdown",
   "metadata": {}
  },
  {
   "cell_type": "code",
<<<<<<< HEAD
   "execution_count": 12,
=======
   "execution_count": 13,
>>>>>>> 4807b655fb2e3f47e38da746ece6685e069b0212
   "metadata": {},
   "outputs": [],
   "source": [
    "import pandas as pd\n",
    "import numpy as np\n",
    "import pickle"
   ]
  },
  {
   "cell_type": "code",
<<<<<<< HEAD
   "execution_count": 2,
=======
   "execution_count": 14,
>>>>>>> 4807b655fb2e3f47e38da746ece6685e069b0212
   "metadata": {},
   "outputs": [
    {
     "output_type": "execute_result",
     "data": {
      "text/plain": [
       "       Unnamed: 0                                           MeetTijd  \\\n",
       "0               0                                               ['']   \n",
       "1               1                                               ['']   \n",
       "2               2                                               ['']   \n",
       "3               3                                               ['']   \n",
       "4               4                                               ['']   \n",
       "...           ...                                                ...   \n",
       "45537       45537  ['19:14:19', '19:14:49', '19:15:19', '19:15:49...   \n",
       "45538       45538  ['15:17:54', '15:18:24', '15:18:54', '15:19:00...   \n",
       "45539       45539  ['17:39:54', '17:40:24', '17:40:54', '17:41:24...   \n",
       "45540       45540  ['19:24:26', '19:24:56', '19:25:25', '19:25:56...   \n",
       "45541       45541  ['0', '0', '0', '0', '0', '0', '0', '0', '0', ...   \n",
       "\n",
       "                                                 HR(bpm)  \\\n",
       "0                                                   ['']   \n",
       "1                                                   ['']   \n",
       "2                                                   ['']   \n",
       "3                                                   ['']   \n",
       "4                                                   ['']   \n",
       "...                                                  ...   \n",
       "45537  ['', '80', '81', '76', '83', '84', '79', '88',...   \n",
       "45538  ['67', '', '68', '68', '68', '68', '71', '67',...   \n",
       "45539  ['100', '103', '97', '101', '100', '106', '107...   \n",
       "45540  ['74', '75', '75', '74', '69', '73', '73', '72...   \n",
       "45541  ['', '', '', '', '', '', '', '', '', '', '', '...   \n",
       "\n",
       "                                                 SpO2(%)  \\\n",
       "0                                                   ['']   \n",
       "1                                                   ['']   \n",
       "2                                                   ['']   \n",
       "3                                                   ['']   \n",
       "4                                                   ['']   \n",
       "...                                                  ...   \n",
       "45537  ['100', '100', '100', '100', '100', '100', '10...   \n",
       "45538  ['97', '98', '98', '97', '95', '91', '98', '98...   \n",
       "45539  ['99', '99', '99', '99', '99', '99', '100', '9...   \n",
       "45540  ['98', '98', '96', '96', '97', '98', '98', '98...   \n",
       "45541  ['', '', '', '', '', '', '', '', '', '', '', '...   \n",
       "\n",
       "                                              NIBP(mmHg)  IcNaOk  \n",
       "0                                                   ['']     0.0  \n",
       "1                                                   ['']     0.0  \n",
       "2                                                   ['']     0.0  \n",
       "3                                                   ['']     0.0  \n",
       "4                                                   ['']     0.0  \n",
       "...                                                  ...     ...  \n",
       "45537  ['', '123', '', '', '', '', '', '', '', '', ''...     0.0  \n",
       "45538  ['', '', '', '', '115', '', '', '', '', '113',...     0.0  \n",
       "45539  ['', '', '', '', '', '', '', '', '', '', '', '...     0.0  \n",
       "45540  ['178', '', '', '', '', '', '', '185', '', '',...     1.0  \n",
       "45541  ['', '', '', '', '', '', '', '', '', '', '', '...     NaN  \n",
       "\n",
       "[45542 rows x 6 columns]"
      ],
      "text/html": "<div>\n<style scoped>\n    .dataframe tbody tr th:only-of-type {\n        vertical-align: middle;\n    }\n\n    .dataframe tbody tr th {\n        vertical-align: top;\n    }\n\n    .dataframe thead th {\n        text-align: right;\n    }\n</style>\n<table border=\"1\" class=\"dataframe\">\n  <thead>\n    <tr style=\"text-align: right;\">\n      <th></th>\n      <th>Unnamed: 0</th>\n      <th>MeetTijd</th>\n      <th>HR(bpm)</th>\n      <th>SpO2(%)</th>\n      <th>NIBP(mmHg)</th>\n      <th>IcNaOk</th>\n    </tr>\n  </thead>\n  <tbody>\n    <tr>\n      <th>0</th>\n      <td>0</td>\n      <td>['']</td>\n      <td>['']</td>\n      <td>['']</td>\n      <td>['']</td>\n      <td>0.0</td>\n    </tr>\n    <tr>\n      <th>1</th>\n      <td>1</td>\n      <td>['']</td>\n      <td>['']</td>\n      <td>['']</td>\n      <td>['']</td>\n      <td>0.0</td>\n    </tr>\n    <tr>\n      <th>2</th>\n      <td>2</td>\n      <td>['']</td>\n      <td>['']</td>\n      <td>['']</td>\n      <td>['']</td>\n      <td>0.0</td>\n    </tr>\n    <tr>\n      <th>3</th>\n      <td>3</td>\n      <td>['']</td>\n      <td>['']</td>\n      <td>['']</td>\n      <td>['']</td>\n      <td>0.0</td>\n    </tr>\n    <tr>\n      <th>4</th>\n      <td>4</td>\n      <td>['']</td>\n      <td>['']</td>\n      <td>['']</td>\n      <td>['']</td>\n      <td>0.0</td>\n    </tr>\n    <tr>\n      <th>...</th>\n      <td>...</td>\n      <td>...</td>\n      <td>...</td>\n      <td>...</td>\n      <td>...</td>\n      <td>...</td>\n    </tr>\n    <tr>\n      <th>45537</th>\n      <td>45537</td>\n      <td>['19:14:19', '19:14:49', '19:15:19', '19:15:49...</td>\n      <td>['', '80', '81', '76', '83', '84', '79', '88',...</td>\n      <td>['100', '100', '100', '100', '100', '100', '10...</td>\n      <td>['', '123', '', '', '', '', '', '', '', '', ''...</td>\n      <td>0.0</td>\n    </tr>\n    <tr>\n      <th>45538</th>\n      <td>45538</td>\n      <td>['15:17:54', '15:18:24', '15:18:54', '15:19:00...</td>\n      <td>['67', '', '68', '68', '68', '68', '71', '67',...</td>\n      <td>['97', '98', '98', '97', '95', '91', '98', '98...</td>\n      <td>['', '', '', '', '115', '', '', '', '', '113',...</td>\n      <td>0.0</td>\n    </tr>\n    <tr>\n      <th>45539</th>\n      <td>45539</td>\n      <td>['17:39:54', '17:40:24', '17:40:54', '17:41:24...</td>\n      <td>['100', '103', '97', '101', '100', '106', '107...</td>\n      <td>['99', '99', '99', '99', '99', '99', '100', '9...</td>\n      <td>['', '', '', '', '', '', '', '', '', '', '', '...</td>\n      <td>0.0</td>\n    </tr>\n    <tr>\n      <th>45540</th>\n      <td>45540</td>\n      <td>['19:24:26', '19:24:56', '19:25:25', '19:25:56...</td>\n      <td>['74', '75', '75', '74', '69', '73', '73', '72...</td>\n      <td>['98', '98', '96', '96', '97', '98', '98', '98...</td>\n      <td>['178', '', '', '', '', '', '', '185', '', '',...</td>\n      <td>1.0</td>\n    </tr>\n    <tr>\n      <th>45541</th>\n      <td>45541</td>\n      <td>['0', '0', '0', '0', '0', '0', '0', '0', '0', ...</td>\n      <td>['', '', '', '', '', '', '', '', '', '', '', '...</td>\n      <td>['', '', '', '', '', '', '', '', '', '', '', '...</td>\n      <td>['', '', '', '', '', '', '', '', '', '', '', '...</td>\n      <td>NaN</td>\n    </tr>\n  </tbody>\n</table>\n<p>45542 rows × 6 columns</p>\n</div>"
     },
     "metadata": {},
<<<<<<< HEAD
     "execution_count": 2
=======
     "execution_count": 14
>>>>>>> 4807b655fb2e3f47e38da746ece6685e069b0212
    }
   ],
   "source": [
    "data = pd.read_csv('pdmssetw.csv')\n",
    "data"
   ]
  },
  {
   "cell_type": "code",
<<<<<<< HEAD
   "execution_count": 3,
=======
   "execution_count": 15,
>>>>>>> 4807b655fb2e3f47e38da746ece6685e069b0212
   "metadata": {},
   "outputs": [],
   "source": [
    "data = data.drop(columns=['Unnamed: 0'])"
   ]
  },
  {
   "cell_type": "code",
<<<<<<< HEAD
   "execution_count": 4,
=======
   "execution_count": 16,
>>>>>>> 4807b655fb2e3f47e38da746ece6685e069b0212
   "metadata": {},
   "outputs": [],
   "source": [
    "import ast\n",
    "data.MeetTijd = data.MeetTijd.apply(ast.literal_eval)\n",
    "data['HR(bpm)'] = data['HR(bpm)'].apply(ast.literal_eval).apply(lambda x: np.array(x))\n",
    "data['SpO2(%)'] = data['SpO2(%)'].apply(ast.literal_eval).apply(lambda x: np.array(x))\n",
    "data['NIBP(mmHg)'] = data['NIBP(mmHg)'].apply(ast.literal_eval).apply(lambda x: np.array(x))"
   ]
  },
  {
   "cell_type": "code",
<<<<<<< HEAD
   "execution_count": 5,
=======
   "execution_count": 17,
>>>>>>> 4807b655fb2e3f47e38da746ece6685e069b0212
   "metadata": {},
   "outputs": [],
   "source": [
    "data['Length_MeetTijd'] = data['MeetTijd'].apply(lambda x: len(x))"
   ]
  },
  {
   "cell_type": "code",
<<<<<<< HEAD
   "execution_count": 6,
=======
   "execution_count": 18,
>>>>>>> 4807b655fb2e3f47e38da746ece6685e069b0212
   "metadata": {},
   "outputs": [],
   "source": [
    "data = data[data['Length_MeetTijd'] > 3]\n",
    "data = data.dropna()"
   ]
  },
  {
   "cell_type": "code",
<<<<<<< HEAD
   "execution_count": 7,
=======
   "execution_count": 19,
>>>>>>> 4807b655fb2e3f47e38da746ece6685e069b0212
   "metadata": {},
   "outputs": [],
   "source": [
    "data = data.reset_index(drop=True)"
   ]
  },
  {
   "cell_type": "code",
<<<<<<< HEAD
   "execution_count": 8,
=======
   "execution_count": 20,
>>>>>>> 4807b655fb2e3f47e38da746ece6685e069b0212
   "metadata": {},
   "outputs": [],
   "source": [
    "data = data[data['Length_MeetTijd'] <2000]"
   ]
  },
  {
   "cell_type": "code",
<<<<<<< HEAD
   "execution_count": 9,
=======
   "execution_count": 21,
>>>>>>> 4807b655fb2e3f47e38da746ece6685e069b0212
   "metadata": {},
   "outputs": [],
   "source": [
    "data['HR(bpm)'] = data['HR(bpm)'].apply(lambda x: np.where(x=='', np.nan, x))\n",
    "data['SpO2(%)'] = data['SpO2(%)'].apply(lambda x: np.where(x=='', np.nan, x))\n",
    "data['NIBP(mmHg)'] = data['NIBP(mmHg)'].apply(lambda x: np.where(x=='', np.nan, x))"
   ]
  },
  {
   "cell_type": "code",
<<<<<<< HEAD
   "execution_count": 10,
=======
   "execution_count": 22,
   "metadata": {},
   "outputs": [],
   "source": [
    "data['Percentage HR nan'] = data['HR(bpm)'].apply(lambda x: np.isnan(x.astype(float)).sum()/len(x))\n",
    "data['Percentage SpO2 nan'] = data['SpO2(%)'].apply(lambda x: np.isnan(x.astype(float)).sum()/len(x))\n",
    "data['Percentage NIBP nan'] = data['NIBP(mmHg)'].apply(lambda x: np.isnan(x.astype(float)).sum()/len(x))"
   ]
  },
  {
   "cell_type": "code",
   "execution_count": 23,
>>>>>>> 4807b655fb2e3f47e38da746ece6685e069b0212
   "metadata": {},
   "outputs": [],
   "source": [
    "data['Percentage HR nan'] = data['HR(bpm)'].apply(lambda x: np.isnan(x.astype(float)).sum()/len(x))\n",
    "data['Percentage SpO2 nan'] = data['SpO2(%)'].apply(lambda x: np.isnan(x.astype(float)).sum()/len(x))\n",
    "data['Percentage NIBP nan'] = data['NIBP(mmHg)'].apply(lambda x: np.isnan(x.astype(float)).sum()/len(x))"
   ]
  },
  {
   "cell_type": "code",
   "execution_count": null,
   "metadata": {},
   "outputs": [],
   "source": [
    "data90 = data[(data['Percentage HR nan']<0.10) & (data['Percentage SpO2 nan']<0.10) & (data['Percentage NIBP nan']<0.10)]\n",
    "data95 = data[(data['Percentage HR nan']<0.05) & (data['Percentage SpO2 nan']<0.05) & (data['Percentage NIBP nan']<0.05)]\n",
    "data99 = data[(data['Percentage HR nan']<0.01) & (data['Percentage SpO2 nan']<0.01) & (data['Percentage NIBP nan']<0.01)]\n",
    "data100 = data[(data['Percentage HR nan']==0) & (data['Percentage SpO2 nan']==0) & (data['Percentage NIBP nan']==0)]"
   ]
  },
  {
   "cell_type": "code",
   "execution_count": 23,
   "metadata": {},
   "outputs": [],
   "source": [
    "pickle.dump(data, open(\"clean_data.pk\", \"wb\"))\n",
    "pickle.dump(data100, open(\"data100.pk\", \"wb\"))"
   ]
  }
 ]
}