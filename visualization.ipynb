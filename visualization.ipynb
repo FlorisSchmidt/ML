{
 "metadata": {
  "language_info": {
   "codemirror_mode": {
    "name": "ipython",
    "version": 3
   },
   "file_extension": ".py",
   "mimetype": "text/x-python",
   "name": "python",
   "nbconvert_exporter": "python",
   "pygments_lexer": "ipython3",
   "version": "3.8.3-final"
  },
  "orig_nbformat": 2,
  "kernelspec": {
   "name": "python3",
   "display_name": "Python 3.8.3 64-bit",
   "metadata": {
    "interpreter": {
     "hash": "082e9a3bcad0a290d0001e938aa60b99250c6c2ef33a923c00b70f9826caf4b7"
    }
   }
  }
 },
 "nbformat": 4,
 "nbformat_minor": 2,
 "cells": [
  {
   "cell_type": "code",
   "execution_count": 11,
   "metadata": {},
   "outputs": [],
   "source": [
    "import pandas as pd\n",
    "import numpy as np"
   ]
  },
  {
   "cell_type": "code",
   "execution_count": 12,
   "metadata": {},
   "outputs": [],
   "source": [
    "data = pd.read_csv('pdmssetw.csv')"
   ]
  },
  {
   "cell_type": "code",
   "execution_count": 13,
   "metadata": {},
   "outputs": [
    {
     "output_type": "execute_result",
     "data": {
      "text/plain": [
       "  MeetTijd HR(bpm) SpO2(%) NIBP(mmHg)  IcNaOk\n",
       "0     ['']    ['']    ['']       ['']     0.0\n",
       "1     ['']    ['']    ['']       ['']     0.0\n",
       "2     ['']    ['']    ['']       ['']     0.0\n",
       "3     ['']    ['']    ['']       ['']     0.0\n",
       "4     ['']    ['']    ['']       ['']     0.0"
      ],
      "text/html": "<div>\n<style scoped>\n    .dataframe tbody tr th:only-of-type {\n        vertical-align: middle;\n    }\n\n    .dataframe tbody tr th {\n        vertical-align: top;\n    }\n\n    .dataframe thead th {\n        text-align: right;\n    }\n</style>\n<table border=\"1\" class=\"dataframe\">\n  <thead>\n    <tr style=\"text-align: right;\">\n      <th></th>\n      <th>MeetTijd</th>\n      <th>HR(bpm)</th>\n      <th>SpO2(%)</th>\n      <th>NIBP(mmHg)</th>\n      <th>IcNaOk</th>\n    </tr>\n  </thead>\n  <tbody>\n    <tr>\n      <th>0</th>\n      <td>['']</td>\n      <td>['']</td>\n      <td>['']</td>\n      <td>['']</td>\n      <td>0.0</td>\n    </tr>\n    <tr>\n      <th>1</th>\n      <td>['']</td>\n      <td>['']</td>\n      <td>['']</td>\n      <td>['']</td>\n      <td>0.0</td>\n    </tr>\n    <tr>\n      <th>2</th>\n      <td>['']</td>\n      <td>['']</td>\n      <td>['']</td>\n      <td>['']</td>\n      <td>0.0</td>\n    </tr>\n    <tr>\n      <th>3</th>\n      <td>['']</td>\n      <td>['']</td>\n      <td>['']</td>\n      <td>['']</td>\n      <td>0.0</td>\n    </tr>\n    <tr>\n      <th>4</th>\n      <td>['']</td>\n      <td>['']</td>\n      <td>['']</td>\n      <td>['']</td>\n      <td>0.0</td>\n    </tr>\n  </tbody>\n</table>\n</div>"
     },
     "metadata": {},
     "execution_count": 13
    }
   ],
   "source": [
    "data = data.drop(columns=['Unnamed: 0'])\n",
    "data.head()"
   ]
  },
  {
   "cell_type": "code",
   "execution_count": 14,
   "metadata": {},
   "outputs": [
    {
     "output_type": "execute_result",
     "data": {
      "text/plain": [
       "3691.0"
      ]
     },
     "metadata": {},
     "execution_count": 14
    }
   ],
   "source": [
    "data['IcNaOk'].sum()"
   ]
  },
  {
   "cell_type": "code",
   "execution_count": 15,
   "metadata": {},
   "outputs": [],
   "source": [
    "import ast\n",
    "data.MeetTijd = data.MeetTijd.apply(ast.literal_eval)\n",
    "data['HR(bpm)'] = data['HR(bpm)'].apply(ast.literal_eval)"
   ]
  },
  {
   "cell_type": "code",
   "execution_count": 16,
   "metadata": {},
   "outputs": [
    {
     "output_type": "execute_result",
     "data": {
      "text/plain": [
       "  MeetTijd HR(bpm) SpO2(%) NIBP(mmHg)  IcNaOk\n",
       "0       []      []    ['']       ['']     0.0\n",
       "1       []      []    ['']       ['']     0.0\n",
       "2       []      []    ['']       ['']     0.0\n",
       "3       []      []    ['']       ['']     0.0\n",
       "4       []      []    ['']       ['']     0.0\n",
       "5       []      []    ['']       ['']     0.0\n",
       "6       []      []    ['']       ['']     0.0\n",
       "7       []      []    ['']       ['']     0.0\n",
       "8       []      []    ['']       ['']     0.0\n",
       "9       []      []    ['']       ['']     0.0"
      ],
      "text/html": "<div>\n<style scoped>\n    .dataframe tbody tr th:only-of-type {\n        vertical-align: middle;\n    }\n\n    .dataframe tbody tr th {\n        vertical-align: top;\n    }\n\n    .dataframe thead th {\n        text-align: right;\n    }\n</style>\n<table border=\"1\" class=\"dataframe\">\n  <thead>\n    <tr style=\"text-align: right;\">\n      <th></th>\n      <th>MeetTijd</th>\n      <th>HR(bpm)</th>\n      <th>SpO2(%)</th>\n      <th>NIBP(mmHg)</th>\n      <th>IcNaOk</th>\n    </tr>\n  </thead>\n  <tbody>\n    <tr>\n      <th>0</th>\n      <td>[]</td>\n      <td>[]</td>\n      <td>['']</td>\n      <td>['']</td>\n      <td>0.0</td>\n    </tr>\n    <tr>\n      <th>1</th>\n      <td>[]</td>\n      <td>[]</td>\n      <td>['']</td>\n      <td>['']</td>\n      <td>0.0</td>\n    </tr>\n    <tr>\n      <th>2</th>\n      <td>[]</td>\n      <td>[]</td>\n      <td>['']</td>\n      <td>['']</td>\n      <td>0.0</td>\n    </tr>\n    <tr>\n      <th>3</th>\n      <td>[]</td>\n      <td>[]</td>\n      <td>['']</td>\n      <td>['']</td>\n      <td>0.0</td>\n    </tr>\n    <tr>\n      <th>4</th>\n      <td>[]</td>\n      <td>[]</td>\n      <td>['']</td>\n      <td>['']</td>\n      <td>0.0</td>\n    </tr>\n    <tr>\n      <th>5</th>\n      <td>[]</td>\n      <td>[]</td>\n      <td>['']</td>\n      <td>['']</td>\n      <td>0.0</td>\n    </tr>\n    <tr>\n      <th>6</th>\n      <td>[]</td>\n      <td>[]</td>\n      <td>['']</td>\n      <td>['']</td>\n      <td>0.0</td>\n    </tr>\n    <tr>\n      <th>7</th>\n      <td>[]</td>\n      <td>[]</td>\n      <td>['']</td>\n      <td>['']</td>\n      <td>0.0</td>\n    </tr>\n    <tr>\n      <th>8</th>\n      <td>[]</td>\n      <td>[]</td>\n      <td>['']</td>\n      <td>['']</td>\n      <td>0.0</td>\n    </tr>\n    <tr>\n      <th>9</th>\n      <td>[]</td>\n      <td>[]</td>\n      <td>['']</td>\n      <td>['']</td>\n      <td>0.0</td>\n    </tr>\n  </tbody>\n</table>\n</div>"
     },
     "metadata": {},
     "execution_count": 16
    }
   ],
   "source": [
    "data.head(10)"
   ]
  },
  {
   "cell_type": "code",
   "execution_count": 17,
   "metadata": {},
   "outputs": [],
   "source": [
    "data['Length MeetTijd'] = data['MeetTijd'].apply(lambda x: len(x))"
   ]
  },
  {
   "cell_type": "code",
   "execution_count": 18,
   "metadata": {},
   "outputs": [],
   "source": [
    "data = data[data['Length MeetTijd'] > 3]\n",
    "data = data.dropna()"
   ]
  },
  {
   "cell_type": "code",
   "execution_count": 19,
   "metadata": {},
   "outputs": [],
   "source": [
    "data_backup = data"
   ]
  },
  {
   "cell_type": "code",
   "execution_count": 20,
   "metadata": {},
   "outputs": [],
   "source": [
    "data = data_backup"
   ]
  },
  {
   "cell_type": "code",
   "execution_count": 21,
   "metadata": {},
   "outputs": [],
   "source": [
    "data = data.reset_index(drop=True)"
   ]
  },
  {
   "cell_type": "code",
   "execution_count": 22,
   "metadata": {},
   "outputs": [
    {
     "output_type": "execute_result",
     "data": {
      "text/plain": [
       "                                                MeetTijd  \\\n",
       "0      [15:03:40, 15:04:40, 15:05:41, 15:06:41, 15:07...   \n",
       "1      [15:32:32, 15:33:32, 15:34:33, 15:35:33, 15:36...   \n",
       "2      [08:45:22, 08:46:23, 08:47:23, 08:48:24, 08:49...   \n",
       "3      [08:40:08, 08:41:08, 08:42:09, 08:43:09, 08:44...   \n",
       "4      [09:09:53, 09:10:53, 09:11:54, 09:12:54, 09:13...   \n",
       "...                                                  ...   \n",
       "12732  [15:19:57, 15:20:27, 15:20:57, 15:21:27, 15:21...   \n",
       "12733  [19:14:19, 19:14:49, 19:15:19, 19:15:49, 19:16...   \n",
       "12734  [15:17:54, 15:18:24, 15:18:54, 15:19:00, 15:20...   \n",
       "12735  [17:39:54, 17:40:24, 17:40:54, 17:41:24, 17:41...   \n",
       "12736  [19:24:26, 19:24:56, 19:25:25, 19:25:56, 19:26...   \n",
       "\n",
       "                                                 HR(bpm)  \\\n",
       "0      [, , , , , , , , , , , , , , , , 78, 81, 78, 8...   \n",
       "1      [51, 49, 57, 49, 55, 50, 56, 49, 50, 49, 54, 4...   \n",
       "2      [79, 75, 71, 88, 88, 84, 66, 66, 76, 78, 79, 8...   \n",
       "3      [102, 99, 99, 101, 96, 101, 99, 79, 75, 80, 76...   \n",
       "4      [56, 57, 56, 58, 58, 57, 57, 63, 59, 55, 59, 5...   \n",
       "...                                                  ...   \n",
       "12732  [, 69, 66, 66, 67, 66, 68, 68, 67, 66, 69, 72,...   \n",
       "12733  [, 80, 81, 76, 83, 84, 79, 88, 82, 81, 80, 79,...   \n",
       "12734  [67, , 68, 68, 68, 68, 71, 67, 67, 66, 66, 66,...   \n",
       "12735  [100, 103, 97, 101, 100, 106, 107, 106, 107, 1...   \n",
       "12736  [74, 75, 75, 74, 69, 73, 73, 72, 73, 79, 75, 7...   \n",
       "\n",
       "                                                 SpO2(%)  \\\n",
       "0      ['', '', '', '', '', '', '', '', '', '', '', '...   \n",
       "1      ['92', '92', '87.5', '93', '93', '93', '92', '...   \n",
       "2      ['98', '98', '98', '', '', '96', '98', '98', '...   \n",
       "3      ['93', '95.58', '96.16', '96.08', '97.83', '96...   \n",
       "4      ['97', '97', '98', '97', '98', '98', '97.5', '...   \n",
       "...                                                  ...   \n",
       "12732  ['100', '100', '100', '100', '100', '98', '99'...   \n",
       "12733  ['100', '100', '100', '100', '100', '100', '10...   \n",
       "12734  ['97', '98', '98', '97', '95', '91', '98', '98...   \n",
       "12735  ['99', '99', '99', '99', '99', '99', '100', '9...   \n",
       "12736  ['98', '98', '96', '96', '97', '98', '98', '98...   \n",
       "\n",
       "                                              NIBP(mmHg)  IcNaOk  \\\n",
       "0      ['143', '143', '143', '143', '143', '143', '14...     0.0   \n",
       "1      ['118', '118', '118', '120', '120', '120', '12...     0.0   \n",
       "2      ['129', '129', '129', '129', '', '', '', '145'...     0.0   \n",
       "3      ['150', '158', '2', '151', '2', '2', '152', '1...     0.0   \n",
       "4      ['136', '131', '131', '131', '131', '131', '14...     0.0   \n",
       "...                                                  ...     ...   \n",
       "12732  ['', '', '203', '', '', '', '', '', '', '', ''...     0.0   \n",
       "12733  ['', '123', '', '', '', '', '', '', '', '', ''...     0.0   \n",
       "12734  ['', '', '', '', '115', '', '', '', '', '113',...     0.0   \n",
       "12735  ['', '', '', '', '', '', '', '', '', '', '', '...     0.0   \n",
       "12736  ['178', '', '', '', '', '', '', '185', '', '',...     1.0   \n",
       "\n",
       "       Length MeetTijd  \n",
       "0                   89  \n",
       "1                  146  \n",
       "2                  200  \n",
       "3                  178  \n",
       "4                   75  \n",
       "...                ...  \n",
       "12732              158  \n",
       "12733              357  \n",
       "12734              427  \n",
       "12735              243  \n",
       "12736              134  \n",
       "\n",
       "[12737 rows x 6 columns]"
      ],
      "text/html": "<div>\n<style scoped>\n    .dataframe tbody tr th:only-of-type {\n        vertical-align: middle;\n    }\n\n    .dataframe tbody tr th {\n        vertical-align: top;\n    }\n\n    .dataframe thead th {\n        text-align: right;\n    }\n</style>\n<table border=\"1\" class=\"dataframe\">\n  <thead>\n    <tr style=\"text-align: right;\">\n      <th></th>\n      <th>MeetTijd</th>\n      <th>HR(bpm)</th>\n      <th>SpO2(%)</th>\n      <th>NIBP(mmHg)</th>\n      <th>IcNaOk</th>\n      <th>Length MeetTijd</th>\n    </tr>\n  </thead>\n  <tbody>\n    <tr>\n      <th>0</th>\n      <td>[15:03:40, 15:04:40, 15:05:41, 15:06:41, 15:07...</td>\n      <td>[, , , , , , , , , , , , , , , , 78, 81, 78, 8...</td>\n      <td>['', '', '', '', '', '', '', '', '', '', '', '...</td>\n      <td>['143', '143', '143', '143', '143', '143', '14...</td>\n      <td>0.0</td>\n      <td>89</td>\n    </tr>\n    <tr>\n      <th>1</th>\n      <td>[15:32:32, 15:33:32, 15:34:33, 15:35:33, 15:36...</td>\n      <td>[51, 49, 57, 49, 55, 50, 56, 49, 50, 49, 54, 4...</td>\n      <td>['92', '92', '87.5', '93', '93', '93', '92', '...</td>\n      <td>['118', '118', '118', '120', '120', '120', '12...</td>\n      <td>0.0</td>\n      <td>146</td>\n    </tr>\n    <tr>\n      <th>2</th>\n      <td>[08:45:22, 08:46:23, 08:47:23, 08:48:24, 08:49...</td>\n      <td>[79, 75, 71, 88, 88, 84, 66, 66, 76, 78, 79, 8...</td>\n      <td>['98', '98', '98', '', '', '96', '98', '98', '...</td>\n      <td>['129', '129', '129', '129', '', '', '', '145'...</td>\n      <td>0.0</td>\n      <td>200</td>\n    </tr>\n    <tr>\n      <th>3</th>\n      <td>[08:40:08, 08:41:08, 08:42:09, 08:43:09, 08:44...</td>\n      <td>[102, 99, 99, 101, 96, 101, 99, 79, 75, 80, 76...</td>\n      <td>['93', '95.58', '96.16', '96.08', '97.83', '96...</td>\n      <td>['150', '158', '2', '151', '2', '2', '152', '1...</td>\n      <td>0.0</td>\n      <td>178</td>\n    </tr>\n    <tr>\n      <th>4</th>\n      <td>[09:09:53, 09:10:53, 09:11:54, 09:12:54, 09:13...</td>\n      <td>[56, 57, 56, 58, 58, 57, 57, 63, 59, 55, 59, 5...</td>\n      <td>['97', '97', '98', '97', '98', '98', '97.5', '...</td>\n      <td>['136', '131', '131', '131', '131', '131', '14...</td>\n      <td>0.0</td>\n      <td>75</td>\n    </tr>\n    <tr>\n      <th>...</th>\n      <td>...</td>\n      <td>...</td>\n      <td>...</td>\n      <td>...</td>\n      <td>...</td>\n      <td>...</td>\n    </tr>\n    <tr>\n      <th>12732</th>\n      <td>[15:19:57, 15:20:27, 15:20:57, 15:21:27, 15:21...</td>\n      <td>[, 69, 66, 66, 67, 66, 68, 68, 67, 66, 69, 72,...</td>\n      <td>['100', '100', '100', '100', '100', '98', '99'...</td>\n      <td>['', '', '203', '', '', '', '', '', '', '', ''...</td>\n      <td>0.0</td>\n      <td>158</td>\n    </tr>\n    <tr>\n      <th>12733</th>\n      <td>[19:14:19, 19:14:49, 19:15:19, 19:15:49, 19:16...</td>\n      <td>[, 80, 81, 76, 83, 84, 79, 88, 82, 81, 80, 79,...</td>\n      <td>['100', '100', '100', '100', '100', '100', '10...</td>\n      <td>['', '123', '', '', '', '', '', '', '', '', ''...</td>\n      <td>0.0</td>\n      <td>357</td>\n    </tr>\n    <tr>\n      <th>12734</th>\n      <td>[15:17:54, 15:18:24, 15:18:54, 15:19:00, 15:20...</td>\n      <td>[67, , 68, 68, 68, 68, 71, 67, 67, 66, 66, 66,...</td>\n      <td>['97', '98', '98', '97', '95', '91', '98', '98...</td>\n      <td>['', '', '', '', '115', '', '', '', '', '113',...</td>\n      <td>0.0</td>\n      <td>427</td>\n    </tr>\n    <tr>\n      <th>12735</th>\n      <td>[17:39:54, 17:40:24, 17:40:54, 17:41:24, 17:41...</td>\n      <td>[100, 103, 97, 101, 100, 106, 107, 106, 107, 1...</td>\n      <td>['99', '99', '99', '99', '99', '99', '100', '9...</td>\n      <td>['', '', '', '', '', '', '', '', '', '', '', '...</td>\n      <td>0.0</td>\n      <td>243</td>\n    </tr>\n    <tr>\n      <th>12736</th>\n      <td>[19:24:26, 19:24:56, 19:25:25, 19:25:56, 19:26...</td>\n      <td>[74, 75, 75, 74, 69, 73, 73, 72, 73, 79, 75, 7...</td>\n      <td>['98', '98', '96', '96', '97', '98', '98', '98...</td>\n      <td>['178', '', '', '', '', '', '', '185', '', '',...</td>\n      <td>1.0</td>\n      <td>134</td>\n    </tr>\n  </tbody>\n</table>\n<p>12737 rows × 6 columns</p>\n</div>"
     },
     "metadata": {},
     "execution_count": 22
    }
   ],
   "source": [
    "data"
   ]
  },
  {
   "cell_type": "code",
   "execution_count": null,
   "metadata": {},
   "outputs": [],
   "source": []
  }
 ]
}